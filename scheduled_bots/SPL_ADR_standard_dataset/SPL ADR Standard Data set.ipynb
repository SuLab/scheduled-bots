{
 "cells": [
  {
   "cell_type": "markdown",
   "metadata": {},
   "source": [
    "## A dataset of 200 structured product labels annotated for adverse drug reactions\n",
    "The annotations were performed by Dina Demner-Fushman's team in order to create a standard set to encourage the development of NLP tools for ADR annotation from FDA Structured Product labels.\n",
    "\n",
    "The publication can be found here: https://www.nature.com/articles/sdata20181\n",
    "\n",
    "We have been given explicit permission to import this data set so long as we make it clear that it is not an NLM-sanctioned gold standard database and that the curation was done by a small team of biocurators to the best of their ability and not by experts verse in pharmacology.\n",
    "\n",
    "It should be noted that the dataset is not expected to change in the future; however, coverage of corresponding entries in Wikidata may grow over time so re-running the dataset on a schedule may help to improve representation of the dataset in Wikidata over time."
   ]
  },
  {
   "cell_type": "code",
   "execution_count": 1,
   "metadata": {},
   "outputs": [],
   "source": [
    "from wikidataintegrator import wdi_core, wdi_login, wdi_helpers\n",
    "from wikidataintegrator.ref_handlers import update_retrieved_if_new_multiple_refs\n",
    "import pandas as pd\n",
    "from pandas import read_csv\n",
    "import requests\n",
    "from tqdm.notebook import trange, tqdm\n",
    "import ipywidgets \n",
    "import widgetsnbextension\n",
    "import time\n",
    "\n",
    "datasrc = 'data/FinalReferenceStandard200Labels.csv'\n",
    "exppath = 'results/'"
   ]
  },
  {
   "cell_type": "code",
   "execution_count": null,
   "metadata": {},
   "outputs": [],
   "source": [
    "print(\"Logging in...\")\n",
    "import wdi_user_config ## Credentials stored in a wdi_user_config file\n",
    "login_dict = wdi_user_config.get_credentials()\n",
    "login = wdi_login.WDLogin(login_dict['WDUSER'], login_dict['WDPASS'])"
   ]
  },
  {
   "cell_type": "code",
   "execution_count": 2,
   "metadata": {},
   "outputs": [
    {
     "name": "stdout",
     "output_type": "stream",
     "text": [
      "   Index                               Drug ID Drug Name Section LOINC  \\\n",
      "0      1  00a8921e-46a6-4df1-a744-9e532b6fb06f   NUCYNTA       34084-4   \n",
      "1      2  00a8921e-46a6-4df1-a744-9e532b6fb06f   NUCYNTA       34084-4   \n",
      "\n",
      "  Section Display Name             MedDRA PT     PT ID            MedDRA LLT  \\\n",
      "0    ADVERSE REACTIONS  Abdominal discomfort  10000059  Abdominal discomfort   \n",
      "1    ADVERSE REACTIONS       Abnormal dreams  10000125       Abnormal dreams   \n",
      "\n",
      "     LLT ID       Matching String  UMLS CUI         UMLS PrefName Flag 1  \\\n",
      "0  10000059  abdominal discomfort  C0232487  Abdominal discomfort   None   \n",
      "1  10000125       abnormal dreams  C0234458        Dream disorder   None   \n",
      "\n",
      "  Flag 2  \n",
      "0   None  \n",
      "1   None  \n"
     ]
    }
   ],
   "source": [
    "spl_adr_raw = read_csv(datasrc, delimiter=\"|\", header=0, dtype={'Index':int,'PT ID':str,'LLT ID':str}).fillna('None')\n",
    "print(spl_adr_raw.head(n=2))"
   ]
  },
  {
   "cell_type": "markdown",
   "metadata": {},
   "source": [
    "## Retrieve and map WDIDs\n",
    "The Risk Factor property is how adverse effects appear to currently be modeled in Wikidata. The disease entity is the subject, with risk factor as a predicate and the drug as the object. The diseases in this data set appear to be normalized to UMLS CUIs which aren't great due to one-to-many and many-to-one mappings, but we can filter those out and limit our dataset to just the ones that are unique.\n",
    "\n",
    "Unfortunately, the DailyMed drug ID's don't appear to be in use in Wikidata yet, which means that the drugs will still need to be mapped to some extent. That said, there were only 200 drug labels that were annotated in this data set, so manual mapping is entirely not unreasonable. We'll try mapping via sparql query which can be quite stringent, and then attempt to manually map anything that fails."
   ]
  },
  {
   "cell_type": "code",
   "execution_count": 3,
   "metadata": {},
   "outputs": [],
   "source": [
    "## Retrieve the QIDs for each UMLS CUI ID (The property for UMLS CUI IDs is P2892)\n",
    "sparqlQuery = \"SELECT * WHERE {?topic wdt:P2892 ?CUI}\"\n",
    "result = wdi_core.WDItemEngine.execute_sparql_query(sparqlQuery)\n",
    "\n",
    "## Format the data for analysis\n",
    "wdmap = []\n",
    "i=0\n",
    "while i < len(result[\"results\"][\"bindings\"]):\n",
    "    umls_qid = result[\"results\"][\"bindings\"][i][\"topic\"][\"value\"].replace(\"http://www.wikidata.org/entity/\", \"\")\n",
    "    cui_id = result[\"results\"][\"bindings\"][i][\"CUI\"][\"value\"]\n",
    "    tmpdict = {'UMLS CUI':cui_id,'disease_WDID':umls_qid}\n",
    "    wdmap.append(tmpdict)\n",
    "    i=i+1\n",
    "\n",
    "wdid_umls_all = pd.DataFrame(wdmap)\n",
    "\n",
    "## Drop any entries that are not of interest\n",
    "umls_cui_list = spl_adr_raw['UMLS CUI'].unique().tolist()\n",
    "wdid_umls_df = wdid_umls_all.loc[wdid_umls_all['UMLS CUI'].isin(umls_cui_list)]\n",
    "wdid_umls_df.to_csv(exppath+'cui_wdid_xref.tsv',sep='\\t',header=True)"
   ]
  },
  {
   "cell_type": "code",
   "execution_count": null,
   "metadata": {},
   "outputs": [],
   "source": [
    "wdid_umls_df = read_csv(exppath+'cui_wdid_xref.tsv',delimiter='\\t',header=0,index_col=0)"
   ]
  },
  {
   "cell_type": "code",
   "execution_count": 4,
   "metadata": {},
   "outputs": [
    {
     "name": "stdout",
     "output_type": "stream",
     "text": [
      "initial mapping table size:  1013  de-duplicated:  918\n"
     ]
    }
   ],
   "source": [
    "## Exclude entities with one to many OR many to one mappings\n",
    "\n",
    "wdid_umls_df_unique = wdid_umls_df.drop_duplicates(subset='disease_WDID').copy()\n",
    "wdid_umls_df_unique.drop_duplicates(subset='UMLS CUI',inplace=True)\n",
    "\n",
    "print(\"initial mapping table size: \",len(wdid_umls_df), \" de-duplicated: \",len(wdid_umls_df_unique))"
   ]
  },
  {
   "cell_type": "code",
   "execution_count": 5,
   "metadata": {},
   "outputs": [
    {
     "name": "stdout",
     "output_type": "stream",
     "text": [
      "14487 14487\n"
     ]
    }
   ],
   "source": [
    "## Merge the mapping table to the original table\n",
    "spl_with_disease_wdids = spl_adr_raw.merge(wdid_umls_df_unique, on='UMLS CUI', how='left')\n",
    "print(len(spl_adr_raw),len(spl_with_disease_wdids))"
   ]
  },
  {
   "cell_type": "markdown",
   "metadata": {},
   "source": [
    "## Query Wikidata for instances of drugs whose names match to product label names\n",
    "We can limit the query by selecting for instances of Pharmaceutical products, medications, or chemical compounds. The queries should be run in that order...only search for medications of a label doesn't match a pharmaceutical product. Only search for chemical compounds if a label doesn't match a medication OR pharmaceutical product:\n",
    "\n",
    "* pharm_wid = 'Q28885102'\n",
    "* chem_wdid = 'Q11173'\n",
    "* medi_wdid = 'Q12140'"
   ]
  },
  {
   "cell_type": "code",
   "execution_count": null,
   "metadata": {},
   "outputs": [],
   "source": [
    "\"\"\"\n",
    "## Unit test\n",
    "query_start = 'SELECT ?item ?itemLabel WHERE {?item wdt:P31 wd:Q28885102; rdfs:label ?itemLabel. FILTER(CONTAINS(LCASE(?itemLabel), \"'\n",
    "query_subject = 'NUCYNTA'\n",
    "query_end = '\"@en)).}'\n",
    "sparqlQuery = query_start+query_subject.lower()+query_end\n",
    "result = wdi_core.WDItemEngine.execute_sparql_query(sparqlQuery)\n",
    "drug_qid = result[\"results\"][\"bindings\"][0][\"item\"][\"value\"].replace(\"http://www.wikidata.org/entity/\", \"\")\n",
    "drug_label = result[\"results\"][\"bindings\"][0][\"itemLabel\"][\"value\"]\n",
    "print(drug_qid, drug_label)\n",
    "print(len(result[\"results\"][\"bindings\"]))\n",
    "\"\"\""
   ]
  },
  {
   "cell_type": "code",
   "execution_count": null,
   "metadata": {},
   "outputs": [],
   "source": [
    "#drug_list = ['NUCYNTA','Natazia','EDURANT'] ## Loop test\n",
    "drug_list = spl_with_disease_wdids['Drug Name'].unique().tolist()\n",
    "\n",
    "pharm_start = 'SELECT ?item ?itemLabel WHERE {?item wdt:P31 wd:Q28885102; rdfs:label ?itemLabel. FILTER(CONTAINS(LCASE(?itemLabel), \"'\n",
    "med_start = 'SELECT ?item ?itemLabel WHERE {?item wdt:P31 wd:Q12140; rdfs:label ?itemLabel. FILTER(CONTAINS(LCASE(?itemLabel), \"'\n",
    "chem_start = 'SELECT ?item ?itemLabel WHERE {?item wdt:P31 wd:Q11173; rdfs:label ?itemLabel. FILTER(CONTAINS(LCASE(?itemLabel), \"'\n",
    "query_end = '\"@en)).}'\n",
    "drug_wdid_list = []\n",
    "drug_match_failed = []\n",
    "\n",
    "for i in tqdm(range(len(drug_list))):\n",
    "    query_subject = drug_list[i].lower()\n",
    "    try:\n",
    "        sparqlQuery = pharm_start+query_subject+query_end\n",
    "        result = wdi_core.WDItemEngine.execute_sparql_query(sparqlQuery)\n",
    "        drug_qid = result[\"results\"][\"bindings\"][0][\"item\"][\"value\"].replace(\"http://www.wikidata.org/entity/\", \"\")\n",
    "        drug_label = result[\"results\"][\"bindings\"][0][\"itemLabel\"][\"value\"]\n",
    "        drug_wdid_list.append({'Drug Name':drug_list[i],'drug_WDID':drug_qid,'drug_wd_label':drug_label,'instance_of':'pharmaceutical product'})\n",
    "    except:\n",
    "        try:\n",
    "            sparqlQuery = med_start+query_subject+query_end\n",
    "            result = wdi_core.WDItemEngine.execute_sparql_query(sparqlQuery)\n",
    "            drug_qid = result[\"results\"][\"bindings\"][0][\"item\"][\"value\"].replace(\"http://www.wikidata.org/entity/\", \"\")\n",
    "            drug_label = result[\"results\"][\"bindings\"][0][\"itemLabel\"][\"value\"]\n",
    "            drug_wdid_list.append({'Drug Name':drug_list[i],'drug_WDID':drug_qid,'drug_wd_label':drug_label,'instance_of':'medication'})\n",
    "        except:\n",
    "            try:\n",
    "                sparqlQuery = chem_start+query_subject+query_end\n",
    "                result = wdi_core.WDItemEngine.execute_sparql_query(sparqlQuery)\n",
    "                drug_qid = result[\"results\"][\"bindings\"][0][\"item\"][\"value\"].replace(\"http://www.wikidata.org/entity/\", \"\")\n",
    "                drug_label = result[\"results\"][\"bindings\"][0][\"itemLabel\"][\"value\"]\n",
    "                drug_wdid_list.append({'Drug Name':drug_list[i],'drug_WDID':drug_qid,'drug_wd_label':drug_label,'instance_of':'chemical'}) \n",
    "            except:\n",
    "                drug_match_failed.append(drug_list[i])\n",
    "\n",
    "drug_wdid_df = pd.DataFrame(drug_wdid_list)\n",
    "drug_wdid_df.to_csv(exppath+'drug_wdid_df.tsv',sep='\\t',header=True)\n",
    "print(i)"
   ]
  },
  {
   "cell_type": "code",
   "execution_count": null,
   "metadata": {},
   "outputs": [],
   "source": [
    "print(drug_match_failed)"
   ]
  },
  {
   "cell_type": "code",
   "execution_count": null,
   "metadata": {},
   "outputs": [],
   "source": [
    "## In the future, consider only running these\n",
    "with open(exppath+'drug_match_failed.txt','w') as store_it:\n",
    "    for eachfailure in drug_match_failed:\n",
    "        store_it.write(eachfailure+'\\n')"
   ]
  },
  {
   "cell_type": "code",
   "execution_count": 6,
   "metadata": {},
   "outputs": [],
   "source": [
    "drug_match_failed = []\n",
    "with open(exppath+'drug_match_failed.txt','r') as stored_it:\n",
    "    for eachline in stored_it:\n",
    "        drug_match_failed.append(eachline.strip())"
   ]
  },
  {
   "cell_type": "code",
   "execution_count": 7,
   "metadata": {},
   "outputs": [],
   "source": [
    "drug_wdid_df = read_csv(exppath+'drug_wdid_df.tsv',delimiter='\\t',header=0, index_col=0)"
   ]
  },
  {
   "cell_type": "code",
   "execution_count": null,
   "metadata": {},
   "outputs": [],
   "source": [
    "print(drug_wdid_df.head(n=2))\n",
    "print(drug_match_failed)\n",
    "print(len(drug_wdid_df)+len(drug_match_failed))"
   ]
  },
  {
   "cell_type": "markdown",
   "metadata": {},
   "source": [
    "## Merge tables to convert drug names to WDID products\n",
    "Filter out the entries that could not be mapped to Wikidata."
   ]
  },
  {
   "cell_type": "code",
   "execution_count": 8,
   "metadata": {},
   "outputs": [
    {
     "name": "stdout",
     "output_type": "stream",
     "text": [
      "14487\n",
      "7047\n",
      "   Index                               Drug ID Drug Name Section LOINC  \\\n",
      "5      6  00a8921e-46a6-4df1-a744-9e532b6fb06f   NUCYNTA       34084-4   \n",
      "\n",
      "  Section Display Name              MedDRA PT     PT ID   MedDRA LLT  \\\n",
      "5    ADVERSE REACTIONS  Anaphylactic reaction  10002198  Anaphylaxis   \n",
      "\n",
      "     LLT ID Matching String  UMLS CUI UMLS PrefName Flag 1 Flag 2  \\\n",
      "5  10002218     anaphylaxis  C0002792   anaphylaxis   None   None   \n",
      "\n",
      "  disease_WDID  drug_WDID drug_wd_label             instance_of  \n",
      "5      Q168800  Q47521917       Nucynta  pharmaceutical product  \n"
     ]
    }
   ],
   "source": [
    "df_to_write = spl_with_disease_wdids.merge(drug_wdid_df, on='Drug Name',how = 'left')\n",
    "print(len(df_to_write))\n",
    "\n",
    "all_data_available = df_to_write.loc[(~df_to_write['disease_WDID'].isnull()) & \n",
    "                                     (~df_to_write['drug_WDID'].isnull())]\n",
    "\n",
    "not_attempted = df_to_write.loc[(df_to_write['disease_WDID'].isnull()) | \n",
    "                                     (df_to_write['drug_WDID'].isnull())]\n",
    "print(len(all_data_available))\n",
    "#print(not_attempted.head(n=2))\n",
    "print(all_data_available.head(n=1))\n",
    "\n",
    "## Save the Failures\n",
    "not_attempted.to_csv(exppath+'qid_missing_not_attempted.tsv',sep='\\t',header=True)"
   ]
  },
  {
   "cell_type": "markdown",
   "metadata": {},
   "source": [
    "## Convert triples to WD statements\n",
    "\n",
    "The Adverse Effect of \"lactic acidosis\" from metformin use was modeled on the Risk Factor property page and discussed there. These adverse effects can be expected to modeled similarly. \n",
    "\n",
    "We can use rank as a means to indicate severity of the warning. For example, a Black Box Warning would get a higher priority rank than text mined from 'adverse effect'. Alternatively, we can try to include a reference statement that would indicate where the ADR was derived.\n",
    "Eg- using \"P958\" Paragraph/section/clause\n",
    "in conjunction with:\n",
    "* Q879952 (Boxed Warning)\n",
    "* Q45959 (Adverse Drug Reactions)\n",
    "* Q21010924 (Safety Precautions)\n",
    "\n",
    "edit--P958 takes a string as an input instead of a QID, so the source can be directly added"
   ]
  },
  {
   "cell_type": "code",
   "execution_count": null,
   "metadata": {},
   "outputs": [],
   "source": [
    "from datetime import datetime\n",
    "import copy\n",
    "def create_reference(spl_url,source_type):\n",
    "    timeStringNow = datetime.now().strftime(\"+%Y-%m-%dT00:00:00Z\")\n",
    "    archived_date = datetime.strptime('9/29/2015','%m/%d/%Y').strftime(\"+%Y-%m-%dT00:00:00Z\")\n",
    "    refStatedIn = wdi_core.WDItemID(value=\"Q73670648\", prop_nr=\"P248\", is_reference=True)\n",
    "    refRetrieved = wdi_core.WDTime(timeStringNow, prop_nr=\"P813\", is_reference=True)\n",
    "    refRetrieved2 = wdi_core.WDTime(archived_date, prop_nr=\"P2960\", is_reference=True)\n",
    "    refURL = wdi_core.WDUrl(value=spl_url, prop_nr=\"P854\", is_reference=True)\n",
    "    reftype = wdi_core.WDString(value=source_type, prop_nr=\"P958\", is_reference=True)\n",
    "    return [refStatedIn, refRetrieved, refRetrieved2, refURL, reftype]\n"
   ]
  },
  {
   "cell_type": "code",
   "execution_count": null,
   "metadata": {},
   "outputs": [],
   "source": [
    "## Unit test -- write a statement\n",
    "fda_base_spl_url = 'https://dailymed.nlm.nih.gov/dailymed/drugInfo.cfm?setid='\n",
    "\n",
    "i=0\n",
    "drug_qid = all_data_available.iloc[i]['drug_WDID']\n",
    "#disease_qid = all_data_available.iloc[i]['disease_WDID']\n",
    "disease_qid = 'Q4115189' #sandbox run\n",
    "spl_drug_id = all_data_available.iloc[i]['Drug ID']\n",
    "spl_url = fda_base_spl_url+spl_drug_id\n",
    "source_type = all_data_available.iloc[i]['Section Display Name']\n",
    "reference = create_reference(spl_url,source_type)\n",
    "\n",
    "statement = [wdi_core.WDItemID(value=drug_qid, prop_nr=\"P5642\", \n",
    "                               references=[copy.deepcopy(reference)])]\n",
    "wikidata_item = wdi_core.WDItemEngine(wd_item_id=disease_qid, data=statement, append_value=\"P5642\",\n",
    "                       global_ref_mode='CUSTOM', ref_handler=update_retrieved_if_new_multiple_refs)\n",
    "\n",
    "#wikidata_item.get_wd_json_representation()\n",
    "wikidata_item.write(login)\n",
    "print(i,disease_qid,drug_qid)"
   ]
  },
  {
   "cell_type": "code",
   "execution_count": null,
   "metadata": {},
   "outputs": [],
   "source": [
    "wd_revision_list = []\n",
    "run_list = all_data_available[0:3] ## test run\n",
    "#run_list = all_data_available\n",
    "\n",
    "while i < len(run_list):\n",
    "    drug_qid = all_data_available.iloc[i]['drug_WDID']\n",
    "    disease_qid = all_data_available.iloc[i]['disease_WDID']\n",
    "    spl_drug_id = all_data_available.iloc[i]['Drug ID']\n",
    "    spl_url = fda_base_spl_url+spl_drug_id\n",
    "    source_type = all_data_available.iloc[i]['Section Display Name']\n",
    "    reference = create_reference(spl_url,source_type)\n",
    "\n",
    "    statement = [wdi_core.WDItemID(value=drug_qid, prop_nr=\"P5642\", references=[copy.deepcopy(reference)])]\n",
    "    wikidata_item = wdi_core.WDItemEngine(wd_item_id=disease_qid, data=statement, append_value=\"P5642\",\n",
    "                           global_ref_mode='CUSTOM', ref_handler=update_retrieved_if_new_multiple_refs)\n",
    "    wikidata_item.write(login, edit_summary='added ADR relationship from FDA SPLs')  \n",
    "    wd_revision_list.append({'drug':drug_qid,'disease':disease_qid,'wd_revid':wikidata_item.lastrevid})\n",
    "    i=i+1\n",
    "\n",
    "wd_edit_results = pd.DataFrame(wd_revision_list)\n",
    "print(wd_edit_results)\n",
    "wd_edit_results.to_csv(exppath+'run_results.tsv',sep='\\t',header=True)"
   ]
  },
  {
   "cell_type": "code",
   "execution_count": null,
   "metadata": {},
   "outputs": [],
   "source": []
  }
 ],
 "metadata": {
  "kernelspec": {
   "display_name": "Python 3",
   "language": "python",
   "name": "python3"
  },
  "language_info": {
   "codemirror_mode": {
    "name": "ipython",
    "version": 3
   },
   "file_extension": ".py",
   "mimetype": "text/x-python",
   "name": "python",
   "nbconvert_exporter": "python",
   "pygments_lexer": "ipython3",
   "version": "3.6.2"
  }
 },
 "nbformat": 4,
 "nbformat_minor": 2
}
