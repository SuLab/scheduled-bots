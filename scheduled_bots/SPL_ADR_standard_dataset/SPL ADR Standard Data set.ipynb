{
 "cells": [
  {
   "cell_type": "markdown",
   "metadata": {},
   "source": [
    "## A dataset of 200 structured product labels annotated for adverse drug reactions\n",
    "The annotations were performed by Dina Demner-Fushman's team in order to create a standard set to encourage the development of NLP tools for ADR annotation from FDA Structured Product labels.\n",
    "\n",
    "The publication can be found here: https://www.nature.com/articles/sdata20181\n",
    "\n",
    "We have been given explicit permission to import this data set so long as we make it clear that it is not an NLM-sanctioned gold standard database and that the curation was done by a small team of biocurators to the best of their ability and not by experts verse in pharmacology.\n",
    "\n",
    "It should be noted that the dataset is not expected to change in the future; however, coverage of corresponding entries in Wikidata may grow over time so re-running the dataset on a schedule may help to improve representation of the dataset in Wikidata over time."
   ]
  },
  {
   "cell_type": "code",
   "execution_count": 1,
   "metadata": {},
   "outputs": [],
   "source": [
    "from wikidataintegrator import wdi_core, wdi_login, wdi_helpers\n",
    "from wikidataintegrator.ref_handlers import update_retrieved_if_new_multiple_refs\n",
    "import pandas as pd\n",
    "from pandas import read_csv\n",
    "import requests\n",
    "from tqdm.notebook import trange, tqdm\n",
    "import ipywidgets \n",
    "import widgetsnbextension\n",
    "import time\n",
    "\n",
    "datasrc = 'data/FinalReferenceStandard200Labels.csv'\n",
    "exppath = 'results/'"
   ]
  },
  {
   "cell_type": "code",
   "execution_count": null,
   "metadata": {},
   "outputs": [],
   "source": [
    "## Login for Scheduled bot\n",
    "\"\"\"\n",
    "print(\"Logging in...\")\n",
    "try:\n",
    "    from scheduled_bots.local import WDUSER, WDPASS\n",
    "except ImportError:\n",
    "    if \"WDUSER\" in os.environ and \"WDPASS\" in os.environ:\n",
    "        WDUSER = os.environ['WDUSER']\n",
    "        WDPASS = os.environ['WDPASS']\n",
    "    else:\n",
    "        raise ValueError(\"WDUSER and WDPASS must be specified in local.py or as environment variables\")\n",
    "\"\"\""
   ]
  },
  {
   "cell_type": "code",
   "execution_count": 10,
   "metadata": {},
   "outputs": [
    {
     "name": "stdout",
     "output_type": "stream",
     "text": [
      "Logging in...\n",
      "https://www.wikidata.org/w/api.php\n",
      "Successfully logged in as Gtsulab\n"
     ]
    }
   ],
   "source": [
    "\n",
    "print(\"Logging in...\")\n",
    "import wdi_user_config ## Credentials stored in a wdi_user_config file\n",
    "login_dict = wdi_user_config.get_credentials()\n",
    "login = wdi_login.WDLogin(login_dict['WDUSER'], login_dict['WDPASS'])\n"
   ]
  },
  {
   "cell_type": "code",
   "execution_count": 2,
   "metadata": {},
   "outputs": [
    {
     "name": "stdout",
     "output_type": "stream",
     "text": [
      "   Index                               Drug ID Drug Name Section LOINC  \\\n",
      "0      1  00a8921e-46a6-4df1-a744-9e532b6fb06f   NUCYNTA       34084-4   \n",
      "1      2  00a8921e-46a6-4df1-a744-9e532b6fb06f   NUCYNTA       34084-4   \n",
      "\n",
      "  Section Display Name             MedDRA PT     PT ID            MedDRA LLT  \\\n",
      "0    ADVERSE REACTIONS  Abdominal discomfort  10000059  Abdominal discomfort   \n",
      "1    ADVERSE REACTIONS       Abnormal dreams  10000125       Abnormal dreams   \n",
      "\n",
      "     LLT ID       Matching String  UMLS CUI         UMLS PrefName Flag 1  \\\n",
      "0  10000059  abdominal discomfort  C0232487  Abdominal discomfort   None   \n",
      "1  10000125       abnormal dreams  C0234458        Dream disorder   None   \n",
      "\n",
      "  Flag 2  \n",
      "0   None  \n",
      "1   None  \n"
     ]
    }
   ],
   "source": [
    "spl_adr_raw = read_csv(datasrc, delimiter=\"|\", header=0, dtype={'Index':int,'PT ID':str,'LLT ID':str}).fillna('None')\n",
    "print(spl_adr_raw.head(n=2))"
   ]
  },
  {
   "cell_type": "markdown",
   "metadata": {},
   "source": [
    "## Retrieve and map WDIDs\n",
    "The Risk Factor property is how adverse effects appear to currently be modeled in Wikidata. The disease entity is the subject, with risk factor as a predicate and the drug as the object. The diseases in this data set appear to be normalized to UMLS CUIs which aren't great due to one-to-many and many-to-one mappings, but we can filter those out and limit our dataset to just the ones that are unique.\n",
    "\n",
    "Unfortunately, the DailyMed drug ID's don't appear to be in use in Wikidata yet, which means that the drugs will still need to be mapped to some extent. That said, there were only 200 drug labels that were annotated in this data set, so manual mapping is entirely not unreasonable. We'll try mapping via sparql query which can be quite stringent, and then attempt to manually map anything that fails."
   ]
  },
  {
   "cell_type": "code",
   "execution_count": null,
   "metadata": {},
   "outputs": [],
   "source": [
    "# Retrieve the QIDs for each UMLS CUI ID (The property for Orphanet IDs is P2892)\n",
    "umls_cui_list = spl_adr_raw['UMLS CUI'].unique().tolist()\n",
    "#umls_cui_list = ['C0002792', 'C0002994', 'C0003467'] ##test list\n",
    "\n",
    "i=0\n",
    "wdmap = []\n",
    "wdmapfail = []\n",
    "for i in tqdm(range(len(umls_cui_list))):\n",
    "    cui_id = umls_cui_list[i]\n",
    "    try:\n",
    "        sparqlQuery = \"SELECT * WHERE {?topic wdt:P2892 \\\"\"+cui_id+\"\\\"}\"\n",
    "        result = wdi_core.WDItemEngine.execute_sparql_query(sparqlQuery)\n",
    "        k=0\n",
    "        while k < len(result[\"results\"][\"bindings\"]): ## Take into account that there may be one to many mappings\n",
    "            umls_qid = result[\"results\"][\"bindings\"][k][\"topic\"][\"value\"].replace(\"http://www.wikidata.org/entity/\", \"\")\n",
    "            tmpdict = {'UMLS CUI':cui_id,'disease_WDID':umls_qid}\n",
    "            wdmap.append(tmpdict)\n",
    "            k=k+1\n",
    "    except:\n",
    "        wdmapfail.append(cui_id)\n",
    "    i=i+1\n",
    "\n",
    "## Inspect the results for mapping or coverage issues\n",
    "wdid_umls_df = pd.DataFrame(wdmap)\n",
    "print(\"resulting mapping table has: \",len(wdid_umls_df),\" rows.\")\n",
    "\n",
    "# Store the data to minimize having to run the sparql query again within a short period of time\n",
    "wdid_umls_df.to_csv(exppath+'cui_wdid_xref.tsv',sep='\\t',header=True)"
   ]
  },
  {
   "cell_type": "code",
   "execution_count": 3,
   "metadata": {},
   "outputs": [],
   "source": [
    "wdid_umls_df = read_csv(exppath+'cui_wdid_xref.tsv',delimiter='\\t',header=0,index_col=0)"
   ]
  },
  {
   "cell_type": "code",
   "execution_count": 4,
   "metadata": {},
   "outputs": [
    {
     "name": "stdout",
     "output_type": "stream",
     "text": [
      "initial mapping table size:  1013  de-duplicated:  921\n"
     ]
    }
   ],
   "source": [
    "## Exclude entities with one to many OR many to one mappings\n",
    "\n",
    "wdid_umls_df_unique = wdid_umls_df.drop_duplicates(subset='disease_WDID').copy()\n",
    "wdid_umls_df_unique.drop_duplicates(subset='UMLS CUI',inplace=True)\n",
    "\n",
    "print(\"initial mapping table size: \",len(wdid_umls_df), \" de-duplicated: \",len(wdid_umls_df_unique))"
   ]
  },
  {
   "cell_type": "code",
   "execution_count": 5,
   "metadata": {},
   "outputs": [
    {
     "name": "stdout",
     "output_type": "stream",
     "text": [
      "14487 14487\n"
     ]
    }
   ],
   "source": [
    "## Merge the mapping table to the original table\n",
    "spl_with_disease_wdids = spl_adr_raw.merge(wdid_umls_df_unique, on='UMLS CUI', how='left')\n",
    "print(len(spl_adr_raw),len(spl_with_disease_wdids))"
   ]
  },
  {
   "cell_type": "markdown",
   "metadata": {},
   "source": [
    "## Query Wikidata for instances of drugs whose names match to product label names\n",
    "We can limit the query by selecting for instances of Pharmaceutical products, medications, or chemical compounds. The queries should be run in that order...only search for medications of a label doesn't match a pharmaceutical product. Only search for chemical compounds if a label doesn't match a medication OR pharmaceutical product:\n",
    "\n",
    "* pharm_wid = 'Q28885102'\n",
    "* chem_wdid = 'Q11173'\n",
    "* medi_wdid = 'Q12140'"
   ]
  },
  {
   "cell_type": "code",
   "execution_count": null,
   "metadata": {},
   "outputs": [],
   "source": [
    "\"\"\"\n",
    "## Unit test\n",
    "query_start = 'SELECT ?item ?itemLabel WHERE {?item wdt:P31 wd:Q28885102; rdfs:label ?itemLabel. FILTER(CONTAINS(LCASE(?itemLabel), \"'\n",
    "query_subject = 'NUCYNTA'\n",
    "query_end = '\"@en)).}'\n",
    "sparqlQuery = query_start+query_subject.lower()+query_end\n",
    "result = wdi_core.WDItemEngine.execute_sparql_query(sparqlQuery)\n",
    "drug_qid = result[\"results\"][\"bindings\"][0][\"item\"][\"value\"].replace(\"http://www.wikidata.org/entity/\", \"\")\n",
    "drug_label = result[\"results\"][\"bindings\"][0][\"itemLabel\"][\"value\"]\n",
    "print(drug_qid, drug_label)\n",
    "print(len(result[\"results\"][\"bindings\"]))\n",
    "\"\"\""
   ]
  },
  {
   "cell_type": "code",
   "execution_count": null,
   "metadata": {},
   "outputs": [],
   "source": [
    "#drug_list = ['NUCYNTA','Natazia','EDURANT'] ## Loop test\n",
    "drug_list = spl_with_disease_wdids['Drug Name'].unique().tolist()\n",
    "\n",
    "pharm_start = 'SELECT ?item ?itemLabel WHERE {?item wdt:P31 wd:Q28885102; rdfs:label ?itemLabel. FILTER(CONTAINS(LCASE(?itemLabel), \"'\n",
    "med_start = 'SELECT ?item ?itemLabel WHERE {?item wdt:P31 wd:Q12140; rdfs:label ?itemLabel. FILTER(CONTAINS(LCASE(?itemLabel), \"'\n",
    "chem_start = 'SELECT ?item ?itemLabel WHERE {?item wdt:P31 wd:Q11173; rdfs:label ?itemLabel. FILTER(CONTAINS(LCASE(?itemLabel), \"'\n",
    "query_end = '\"@en)).}'\n",
    "drug_wdid_list = []\n",
    "drug_match_failed = []\n",
    "\n",
    "for i in tqdm(range(len(drug_list))):\n",
    "    query_subject = drug_list[i].lower()\n",
    "    try:\n",
    "        sparqlQuery = pharm_start+query_subject+query_end\n",
    "        result = wdi_core.WDItemEngine.execute_sparql_query(sparqlQuery)\n",
    "        drug_qid = result[\"results\"][\"bindings\"][0][\"item\"][\"value\"].replace(\"http://www.wikidata.org/entity/\", \"\")\n",
    "        drug_label = result[\"results\"][\"bindings\"][0][\"itemLabel\"][\"value\"]\n",
    "        drug_wdid_list.append({'Drug Name':drug_list[i],'drug_WDID':drug_qid,'drug_wd_label':drug_label,'instance_of':'pharmaceutical product'})\n",
    "        time.sleep(1)\n",
    "    except:\n",
    "        try:\n",
    "            sparqlQuery = med_start+query_subject+query_end\n",
    "            result = wdi_core.WDItemEngine.execute_sparql_query(sparqlQuery)\n",
    "            drug_qid = result[\"results\"][\"bindings\"][0][\"item\"][\"value\"].replace(\"http://www.wikidata.org/entity/\", \"\")\n",
    "            drug_label = result[\"results\"][\"bindings\"][0][\"itemLabel\"][\"value\"]\n",
    "            drug_wdid_list.append({'Drug Name':drug_list[i],'drug_WDID':drug_qid,'drug_wd_label':drug_label,'instance_of':'medication'})\n",
    "            time.sleep(1)\n",
    "        except:\n",
    "            try:\n",
    "                sparqlQuery = chem_start+query_subject+query_end\n",
    "                result = wdi_core.WDItemEngine.execute_sparql_query(sparqlQuery)\n",
    "                drug_qid = result[\"results\"][\"bindings\"][0][\"item\"][\"value\"].replace(\"http://www.wikidata.org/entity/\", \"\")\n",
    "                drug_label = result[\"results\"][\"bindings\"][0][\"itemLabel\"][\"value\"]\n",
    "                drug_wdid_list.append({'Drug Name':drug_list[i],'drug_WDID':drug_qid,'drug_wd_label':drug_label,'instance_of':'chemical'}) \n",
    "                time.sleep(1)\n",
    "            except:\n",
    "                drug_match_failed.append(drug_list[i])\n",
    "\n",
    "drug_wdid_df = pd.DataFrame(drug_wdid_list)\n",
    "drug_wdid_df.to_csv(exppath+'drug_wdid_df.tsv',sep='\\t',header=True)\n",
    "print(i)"
   ]
  },
  {
   "cell_type": "code",
   "execution_count": 6,
   "metadata": {},
   "outputs": [],
   "source": [
    "drug_wdid_df = read_csv(exppath+'drug_wdid_df.tsv',delimiter='\\t',header=0, index_col=0)"
   ]
  },
  {
   "cell_type": "code",
   "execution_count": 7,
   "metadata": {},
   "outputs": [
    {
     "name": "stdout",
     "output_type": "stream",
     "text": [
      "  Drug Name  drug_WDID drug_wd_label             instance_of\n",
      "0   NUCYNTA  Q47521917       Nucynta  pharmaceutical product\n",
      "1   EDURANT  Q29005767       Edurant  pharmaceutical product\n"
     ]
    },
    {
     "ename": "NameError",
     "evalue": "name 'drug_match_failed' is not defined",
     "output_type": "error",
     "traceback": [
      "\u001b[1;31m---------------------------------------------------------------------------\u001b[0m",
      "\u001b[1;31mNameError\u001b[0m                                 Traceback (most recent call last)",
      "\u001b[1;32m<ipython-input-7-f06717579204>\u001b[0m in \u001b[0;36m<module>\u001b[1;34m\u001b[0m\n\u001b[0;32m      1\u001b[0m \u001b[0mprint\u001b[0m\u001b[1;33m(\u001b[0m\u001b[0mdrug_wdid_df\u001b[0m\u001b[1;33m.\u001b[0m\u001b[0mhead\u001b[0m\u001b[1;33m(\u001b[0m\u001b[0mn\u001b[0m\u001b[1;33m=\u001b[0m\u001b[1;36m2\u001b[0m\u001b[1;33m)\u001b[0m\u001b[1;33m)\u001b[0m\u001b[1;33m\u001b[0m\u001b[0m\n\u001b[1;32m----> 2\u001b[1;33m \u001b[0mprint\u001b[0m\u001b[1;33m(\u001b[0m\u001b[0mdrug_match_failed\u001b[0m\u001b[1;33m)\u001b[0m\u001b[1;33m\u001b[0m\u001b[0m\n\u001b[0m\u001b[0;32m      3\u001b[0m \u001b[0mprint\u001b[0m\u001b[1;33m(\u001b[0m\u001b[0mlen\u001b[0m\u001b[1;33m(\u001b[0m\u001b[0mdrug_wdid_df\u001b[0m\u001b[1;33m)\u001b[0m\u001b[1;33m+\u001b[0m\u001b[0mlen\u001b[0m\u001b[1;33m(\u001b[0m\u001b[0mdrug_match_failed\u001b[0m\u001b[1;33m)\u001b[0m\u001b[1;33m)\u001b[0m\u001b[1;33m\u001b[0m\u001b[0m\n",
      "\u001b[1;31mNameError\u001b[0m: name 'drug_match_failed' is not defined"
     ]
    }
   ],
   "source": [
    "print(drug_wdid_df.head(n=2))\n",
    "print(drug_match_failed)\n",
    "print(len(drug_wdid_df)+len(drug_match_failed))"
   ]
  },
  {
   "cell_type": "markdown",
   "metadata": {},
   "source": [
    "## Merge tables to convert drug names to WDID products\n",
    "Filter out the entries that could not be mapped to Wikidata."
   ]
  },
  {
   "cell_type": "code",
   "execution_count": 8,
   "metadata": {},
   "outputs": [
    {
     "name": "stdout",
     "output_type": "stream",
     "text": [
      "14487\n",
      "7127\n"
     ]
    }
   ],
   "source": [
    "df_to_write = spl_with_disease_wdids.merge(drug_wdid_df, on='Drug Name',how = 'left')\n",
    "print(len(df_to_write))\n",
    "\n",
    "all_data_available = df_to_write.loc[(~df_to_write['disease_WDID'].isnull()) & \n",
    "                                     (~df_to_write['drug_WDID'].isnull())]\n",
    "\n",
    "wdid_not_available = df_to_write.loc[(df_to_write['disease_WDID'].isnull()) | \n",
    "                                     (df_to_write['drug_WDID'].isnull())]\n",
    "print(len(all_data_available))\n",
    "#print(wdid_not_available.head(n=2))"
   ]
  },
  {
   "cell_type": "markdown",
   "metadata": {},
   "source": [
    "## Convert triples to WD statements\n",
    "\n",
    "The Adverse Effect of \"lactic acidosis\" from metformin use was modeled on the Risk Factor property page and discussed there. These adverse effects can be expected to modeled similarly. \n",
    "\n",
    "We can use rank as a means to indicate severity of the warning. For example, a Black Box Warning would get a higher priority rank than text mined from 'adverse effect'. Alternatively, we can try to include a qualifier that would indicate where the ADR was derived.\n",
    "Eg- using \"P958\" Paragraph/section/clause\n",
    "in conjunction with:\n",
    "* Q879952 (Boxed Warning)\n",
    "* Q45959 (Adverse Drug Reactions)\n",
    "* Q21010924 (Safety Precautions)\n"
   ]
  },
  {
   "cell_type": "code",
   "execution_count": 9,
   "metadata": {},
   "outputs": [],
   "source": [
    "from datetime import datetime\n",
    "import copy\n",
    "def create_reference(spl_url):\n",
    "    timeStringNow = datetime.now().strftime(\"+%Y-%m-%dT00:00:00Z\")\n",
    "    archived_date = datetime.strptime('9/29/2015','%m/%d/%Y').strftime(\"+%Y-%m-%dT00:00:00Z\")\n",
    "    refStatedIn = wdi_core.WDItemID(value=\"Q73670648\", prop_nr=\"P248\", is_reference=True)\n",
    "    refRetrieved = wdi_core.WDTime(timeStringNow, prop_nr=\"P813\", is_reference=True)\n",
    "    refRetrieved2 = wdi_core.WDTime(archived_date, prop_nr=\"P2960\", is_reference=True)\n",
    "    refURL = wdi_core.WDUrl(value=spl_url, prop_nr=\"P854\", is_reference=True)\n",
    "    return [refStatedIn, refRetrieved, refRetrieved2, refURL]\n"
   ]
  },
  {
   "cell_type": "markdown",
   "metadata": {},
   "source": [
    "## Unit TEST not complete\n",
    "--trying to use qualifier to model source of the data (boxed warning, etc)"
   ]
  },
  {
   "cell_type": "code",
   "execution_count": null,
   "metadata": {},
   "outputs": [],
   "source": [
    "## Unit test -- write a statement\n",
    "fda_base_spl_url = 'https://dailymed.nlm.nih.gov/dailymed/drugInfo.cfm?setid='\n",
    "\n",
    "i=0\n",
    "drug_qid = all_data_available.iloc[i]['drug_WDID']\n",
    "#disease_qid = all_data_available.iloc[i]['disease_WDID']\n",
    "disease_qid = 'Q4115189' #sandbox run\n",
    "spl_drug_id = all_data_available.iloc[i]['Drug ID']\n",
    "spl_url = fda_base_spl_url+spl_drug_id\n",
    "reference = create_reference(spl_url)\n",
    "source_qualifier = wdi_core.WDItemID('Q56478729', prop_nr='P2241', is_qualifier=True)\n",
    "\n",
    "statement = [wdi_core.WDItemID(value=drug_qid, prop_nr=\"P5642\", \n",
    "                               qualifiers=[source_qualifier],\n",
    "                               references=[copy.deepcopy(reference)])]\n",
    "wikidata_item = wdi_core.WDItemEngine(wd_item_id=disease_qid, data=statement, append_value=\"P5642\",\n",
    "                       global_ref_mode='CUSTOM', ref_handler=update_retrieved_if_new_multiple_refs)\n",
    "\n",
    "#wikidata_item.get_wd_json_representation()\n",
    "wikidata_item.write(login)\n",
    "print(i,disease_qid,drug_qid)"
   ]
  },
  {
   "cell_type": "code",
   "execution_count": null,
   "metadata": {},
   "outputs": [],
   "source": [
    "run_list = all_data_available[0:3] ## test run\n",
    "#run_list = all_data_available\n",
    "\n",
    "for i in tqdm(range(len(run_list))):\n",
    "    drug_qid = all_data_available.iloc[i]['drug_WDID']\n",
    "    disease_qid = all_data_available.iloc[i]['disease_WDID']\n",
    "    spl_drug_id = all_data_available.iloc[i]['Drug ID']\n",
    "    spl_url = fda_base_spl_url+spl_drug_id\n",
    "    reference = create_reference(spl_url)\n",
    "\n",
    "    statement = [wdi_core.WDItemID(value=drug_qid, prop_nr=\"P5642\", references=[copy.deepcopy(reference)])]\n",
    "    wikidata_item = wdi_core.WDItemEngine(wd_item_id=disease_qid, data=statement, append_value=\"P5642\",\n",
    "                           global_ref_mode='CUSTOM', ref_handler=update_retrieved_if_new_multiple_refs)\n",
    "    wikidata_item.write(login, edit_summary='added ADR relationship from FDA SPLs')    "
   ]
  },
  {
   "cell_type": "code",
   "execution_count": null,
   "metadata": {},
   "outputs": [],
   "source": [
    "fda_base_spl_url = 'Base url: https://dailymed.nlm.nih.gov/dailymed/drugInfo.cfm?setid='\n",
    "spl_sample_id = '00a8921e-46a6-4df1-a744-9e532b6fb06f'\n",
    "original_retrieval_date = 'September 29, 2015' ## Use 'P2960' (archived date)\n"
   ]
  }
 ],
 "metadata": {
  "kernelspec": {
   "display_name": "Python 3",
   "language": "python",
   "name": "python3"
  },
  "language_info": {
   "codemirror_mode": {
    "name": "ipython",
    "version": 3
   },
   "file_extension": ".py",
   "mimetype": "text/x-python",
   "name": "python",
   "nbconvert_exporter": "python",
   "pygments_lexer": "ipython3",
   "version": "3.6.2"
  }
 },
 "nbformat": 4,
 "nbformat_minor": 2
}
