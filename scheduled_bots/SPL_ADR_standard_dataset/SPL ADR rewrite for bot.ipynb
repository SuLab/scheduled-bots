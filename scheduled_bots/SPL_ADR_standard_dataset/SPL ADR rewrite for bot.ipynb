{
 "cells": [
  {
   "cell_type": "markdown",
   "metadata": {},
   "source": [
    "## A dataset of 200 structured product labels annotated for adverse drug reactions\n",
    "The annotations were performed by Dina Demner-Fushman's team in order to create a standard set to encourage the development of NLP tools for ADR annotation from FDA Structured Product labels.\n",
    "\n",
    "The publication can be found here: https://www.nature.com/articles/sdata20181\n",
    "\n",
    "We have been given explicit permission to import this data set so long as we make it clear that it is not an NLM-sanctioned gold standard database and that the curation was done by a small team of biocurators to the best of their ability and not by experts verse in pharmacology.\n",
    "\n",
    "It should be noted that the dataset is not expected to change in the future; however, coverage of corresponding entries in Wikidata may grow over time so re-running the dataset on a schedule may help to improve representation of the dataset in Wikidata over time."
   ]
  },
  {
   "cell_type": "code",
   "execution_count": 1,
   "metadata": {},
   "outputs": [],
   "source": [
    "from wikidataintegrator import wdi_core, wdi_login, wdi_helpers\n",
    "from wikidataintegrator.ref_handlers import update_retrieved_if_new_multiple_refs\n",
    "import pandas as pd\n",
    "from pandas import read_csv\n",
    "import requests\n",
    "from datetime import datetime\n",
    "import copy\n",
    "\n",
    "exppath = 'results/'"
   ]
  },
  {
   "cell_type": "code",
   "execution_count": 2,
   "metadata": {},
   "outputs": [
    {
     "name": "stdout",
     "output_type": "stream",
     "text": [
      "Logging in...\n",
      "https://www.wikidata.org/w/api.php\n",
      "Successfully logged in as Gtsulab\n"
     ]
    }
   ],
   "source": [
    "print(\"Logging in...\")\n",
    "import wdi_user_config ## Credentials stored in a wdi_user_config file\n",
    "login_dict = wdi_user_config.get_credentials()\n",
    "login = wdi_login.WDLogin(login_dict['WDUSER'], login_dict['WDPASS'])"
   ]
  },
  {
   "cell_type": "markdown",
   "metadata": {},
   "source": [
    "## Query Wikidata for instances of drugs whose names match to product label names\n",
    "We can limit the query by selecting for instances of Pharmaceutical products, medications, or chemical compounds. The queries should be run in that order...only search for medications of a label doesn't match a pharmaceutical product. Only search for chemical compounds if a label doesn't match a medication OR pharmaceutical product:\n",
    "* pharm_wid = 'Q28885102'\n",
    "* chem_wdid = 'Q11173'\n",
    "* medi_wdid = 'Q12140'"
   ]
  },
  {
   "cell_type": "code",
   "execution_count": 3,
   "metadata": {},
   "outputs": [],
   "source": [
    "def disease_search(spl_adr_raw):\n",
    "    ## Retrieve the QIDs for each UMLS CUI ID (The property for UMLS CUI IDs is P2892)\n",
    "    sparqlQuery = \"SELECT * WHERE {?topic wdt:P2892 ?CUI}\"\n",
    "    result = wdi_core.WDItemEngine.execute_sparql_query(sparqlQuery)\n",
    "\n",
    "    ## Format the data for analysis\n",
    "    wdmap = []\n",
    "    i=0\n",
    "    while i < len(result[\"results\"][\"bindings\"]):\n",
    "        umls_qid = result[\"results\"][\"bindings\"][i][\"topic\"][\"value\"].replace(\"http://www.wikidata.org/entity/\", \"\")\n",
    "        cui_id = result[\"results\"][\"bindings\"][i][\"CUI\"][\"value\"]\n",
    "        tmpdict = {'UMLS CUI':cui_id,'disease_WDID':umls_qid}\n",
    "        wdmap.append(tmpdict)\n",
    "        i=i+1\n",
    "\n",
    "    wdid_umls_all = pd.DataFrame(wdmap)\n",
    "\n",
    "    ## Drop any entries that are not of interest\n",
    "    umls_cui_list = spl_adr_raw['UMLS CUI'].unique().tolist()\n",
    "    wdid_umls_df = wdid_umls_all.loc[wdid_umls_all['UMLS CUI'].isin(umls_cui_list)]\n",
    "\n",
    "    ## Exclude entities with one to many OR many to one mappings\n",
    "    wdid_umls_df_unique = wdid_umls_df.drop_duplicates(subset='disease_WDID').copy()\n",
    "    wdid_umls_df_unique.drop_duplicates(subset='UMLS CUI',inplace=True)\n",
    "    \n",
    "    return wdid_umls_df_unique"
   ]
  },
  {
   "cell_type": "code",
   "execution_count": 4,
   "metadata": {},
   "outputs": [],
   "source": [
    "def drug_search(drug_list):\n",
    "    pharm_start = 'SELECT ?item ?itemLabel WHERE {?item wdt:P31 wd:Q28885102; rdfs:label ?itemLabel. FILTER(CONTAINS(LCASE(?itemLabel), \"'\n",
    "    med_start = 'SELECT ?item ?itemLabel WHERE {?item wdt:P31 wd:Q12140; rdfs:label ?itemLabel. FILTER(CONTAINS(LCASE(?itemLabel), \"'\n",
    "    chem_start = 'SELECT ?item ?itemLabel WHERE {?item wdt:P31 wd:Q11173; rdfs:label ?itemLabel. FILTER(CONTAINS(LCASE(?itemLabel), \"'\n",
    "    query_end = '\"@en)).}'\n",
    "    drug_wdid_list = []\n",
    "    drug_match_failed = []\n",
    "    i=0\n",
    "    while i < len(drug_list):\n",
    "        query_subject = drug_list[i].lower()\n",
    "        try:\n",
    "            sparqlQuery = pharm_start+query_subject+query_end\n",
    "            result = wdi_core.WDItemEngine.execute_sparql_query(sparqlQuery)\n",
    "            drug_qid = result[\"results\"][\"bindings\"][0][\"item\"][\"value\"].replace(\"http://www.wikidata.org/entity/\", \"\")\n",
    "            drug_label = result[\"results\"][\"bindings\"][0][\"itemLabel\"][\"value\"]\n",
    "            drug_wdid_list.append({'Drug Name':drug_list[i],'drug_WDID':drug_qid,'drug_wd_label':drug_label,'instance_of':'pharmaceutical product'})\n",
    "        except:\n",
    "            try:\n",
    "                sparqlQuery = med_start+query_subject+query_end\n",
    "                result = wdi_core.WDItemEngine.execute_sparql_query(sparqlQuery)\n",
    "                drug_qid = result[\"results\"][\"bindings\"][0][\"item\"][\"value\"].replace(\"http://www.wikidata.org/entity/\", \"\")\n",
    "                drug_label = result[\"results\"][\"bindings\"][0][\"itemLabel\"][\"value\"]\n",
    "                drug_wdid_list.append({'Drug Name':drug_list[i],'drug_WDID':drug_qid,'drug_wd_label':drug_label,'instance_of':'medication'})\n",
    "            except:\n",
    "                try:\n",
    "                    sparqlQuery = chem_start+query_subject+query_end\n",
    "                    result = wdi_core.WDItemEngine.execute_sparql_query(sparqlQuery)\n",
    "                    drug_qid = result[\"results\"][\"bindings\"][0][\"item\"][\"value\"].replace(\"http://www.wikidata.org/entity/\", \"\")\n",
    "                    drug_label = result[\"results\"][\"bindings\"][0][\"itemLabel\"][\"value\"]\n",
    "                    drug_wdid_list.append({'Drug Name':drug_list[i],'drug_WDID':drug_qid,'drug_wd_label':drug_label,'instance_of':'chemical'}) \n",
    "                except:\n",
    "                    drug_match_failed.append(drug_list[i])\n",
    "        i=i+1\n",
    "\n",
    "    drug_wdid_df = pd.DataFrame(drug_wdid_list)\n",
    "    \n",
    "    return drug_wdid_df, drug_match_failed"
   ]
  },
  {
   "cell_type": "code",
   "execution_count": 5,
   "metadata": {},
   "outputs": [],
   "source": [
    "def create_reference(spl_url,source_type):\n",
    "    timeStringNow = datetime.now().strftime(\"+%Y-%m-%dT00:00:00Z\")\n",
    "    archived_date = datetime.strptime('9/29/2015','%m/%d/%Y').strftime(\"+%Y-%m-%dT00:00:00Z\")\n",
    "    refStatedIn = wdi_core.WDItemID(value=\"Q73670648\", prop_nr=\"P248\", is_reference=True)\n",
    "    refRetrieved = wdi_core.WDTime(timeStringNow, prop_nr=\"P813\", is_reference=True)\n",
    "    refRetrieved2 = wdi_core.WDTime(archived_date, prop_nr=\"P2960\", is_reference=True)\n",
    "    refURL = wdi_core.WDUrl(value=spl_url, prop_nr=\"P854\", is_reference=True)\n",
    "    reftype = wdi_core.WDString(value=source_type, prop_nr=\"P958\", is_reference=True)\n",
    "    return [refStatedIn, refRetrieved, refRetrieved2, refURL, reftype]"
   ]
  },
  {
   "cell_type": "code",
   "execution_count": 10,
   "metadata": {},
   "outputs": [],
   "source": [
    "def write_adrs(run_list):\n",
    "    fda_base_spl_url = 'https://dailymed.nlm.nih.gov/dailymed/drugInfo.cfm?setid='\n",
    "    wd_revision_list = []\n",
    "    i=0\n",
    "    while i < len(run_list):\n",
    "        drug_qid = run_list.iloc[i]['drug_WDID']\n",
    "        disease_qid = run_list.iloc[i]['disease_WDID']\n",
    "        spl_drug_id = run_list.iloc[i]['Drug ID']\n",
    "        spl_url = fda_base_spl_url+spl_drug_id\n",
    "        source_type = run_list.iloc[i]['Section Display Name']\n",
    "        reference = create_reference(spl_url,source_type)\n",
    "\n",
    "        treat_qualifier = wdi_core.WDItemID(value=\"Q179661\", prop_nr=\"P1013\", is_qualifier=True)\n",
    "        effect_qualifier = wdi_core.WDItemID(value=\"Q217690\", prop_nr=\"P1542\", is_qualifier=True)\n",
    "        \n",
    "        statement = [wdi_core.WDItemID(value=drug_qid, prop_nr=\"P5642\", qualifiers=[treat_qualifier, effect_qualifier],\n",
    "                                       references=[copy.deepcopy(reference)])]\n",
    "        wikidata_item = wdi_core.WDItemEngine(wd_item_id=disease_qid, data=statement, append_value=\"P5642\",\n",
    "                                              global_ref_mode='CUSTOM', ref_handler=update_retrieved_if_new_multiple_refs)\n",
    "        \n",
    "        wikidata_item.write(login, edit_summary='added ADR relationship from FDA SPLs')  \n",
    "        wd_revision_list.append({'drug':drug_qid,'disease':disease_qid,'wd_revid':wikidata_item.lastrevid})\n",
    "        i=i+1\n",
    "\n",
    "    wd_edit_results = pd.DataFrame(wd_revision_list)\n",
    "    return wd_edit_results"
   ]
  },
  {
   "cell_type": "markdown",
   "metadata": {},
   "source": [
    "## Merge tables to convert drug names to WDID products\n",
    "Filter out the entries that could not be mapped to Wikidata."
   ]
  },
  {
   "cell_type": "code",
   "execution_count": 7,
   "metadata": {},
   "outputs": [
    {
     "name": "stdout",
     "output_type": "stream",
     "text": [
      "run started:  2019-11-19 08:45:52.561055\n"
     ]
    }
   ],
   "source": [
    "## Method\n",
    "print(\"run started: \",datetime.now())\n",
    "spl_adr_raw = read_csv(datasrc, delimiter=\"|\", header=0, dtype={'Index':int,'PT ID':str,'LLT ID':str}).fillna('None')\n",
    "\n",
    "## Pull QIDS using UMLS CUIS\n",
    "wdid_umls_df_unique = disease_search(spl_adr_raw)\n",
    "\n",
    "## Merge the mapping table to the original table\n",
    "spl_with_disease_wdids = spl_adr_raw.merge(wdid_umls_df_unique, on='UMLS CUI', how='left')\n",
    "\n",
    "## Pull QIDS using drug labels\n",
    "#drug_list = ['NUCYNTA','Natazia','EDURANT'] ## Loop test\n",
    "drug_list = spl_with_disease_wdids['Drug Name'].astype(str).str.lower().unique().tolist()\n",
    "drug_wdid_df, drug_match_failed = drug_search(drug_list)"
   ]
  },
  {
   "cell_type": "markdown",
   "metadata": {},
   "source": [
    "## Determine if it we can match labels more efficiently"
   ]
  },
  {
   "cell_type": "code",
   "execution_count": 30,
   "metadata": {},
   "outputs": [
    {
     "name": "stdout",
     "output_type": "stream",
     "text": [
      "       WDID     alias     label source\n",
      "0  Q2034113  No alias  Actrapid  pharm\n",
      "1  Q3494359  No alias  Q3494359  pharm\n",
      "2  Q5451187  No alias  Fioricet  pharm\n"
     ]
    }
   ],
   "source": [
    "sparqlQuery = 'SELECT ?item ?itemLabel ?alias WHERE {?item wdt:P31 wd:Q28885102. OPTIONAL {?item skos:altLabel ?alias FILTER (LANG (?alias) = \"en\").} SERVICE wikibase:label { bd:serviceParam wikibase:language \"[AUTO_LANGUAGE],en\". }}'\n",
    "pharm_list = wdi_core.WDItemEngine.execute_sparql_query(sparqlQuery)\n",
    "\n",
    "pharm_label_list = []\n",
    "\n",
    "for i in range(len(pharm_list[\"results\"][\"bindings\"])):\n",
    "    wdid = pharm_list[\"results\"][\"bindings\"][i][\"item\"][\"value\"].replace(\"http://www.wikidata.org/entity/\", \"\")\n",
    "    label = pharm_list[\"results\"][\"bindings\"][i][\"itemLabel\"][\"value\"]\n",
    "    try:\n",
    "        alias = pharm_list[\"results\"][\"bindings\"][i][\"alias\"][\"value\"]\n",
    "    except:\n",
    "        alias = \"No alias\"\n",
    "    pharm_label_list.append({'WDID':wdid,'label':label,'alias':alias})\n",
    "\n",
    "pharm_alias_in_wd = pd.DataFrame(pharm_label_list)\n",
    "pharm_alias_in_wd['source'] = \"pharm\"\n",
    "print(pharm_alias_in_wd.head(n=2))"
   ]
  },
  {
   "cell_type": "code",
   "execution_count": 31,
   "metadata": {},
   "outputs": [
    {
     "name": "stdout",
     "output_type": "stream",
     "text": [
      "      WDID                                              alias         label  \\\n",
      "0  Q285911  3-(alpha-L-rhamnopyranosyloxy)-1beta,5beta,11a...       ouabain   \n",
      "1  Q285911                                     g-strophanthin       ouabain   \n",
      "2  Q286846                                           Protonix  pantoprazole   \n",
      "\n",
      "  source  \n",
      "0    med  \n",
      "1    med  \n",
      "2    med  \n"
     ]
    }
   ],
   "source": [
    "sparqlQuery = 'SELECT ?item ?itemLabel ?alias WHERE {?item wdt:P31 wd:Q12140. OPTIONAL {?item skos:altLabel ?alias FILTER (LANG (?alias) = \"en\").} SERVICE wikibase:label { bd:serviceParam wikibase:language \"[AUTO_LANGUAGE],en\". }}'\n",
    "med_list = wdi_core.WDItemEngine.execute_sparql_query(sparqlQuery)\n",
    "\n",
    "med_label_list = []\n",
    "\n",
    "for i in range(len(med_list[\"results\"][\"bindings\"])):\n",
    "    wdid = med_list[\"results\"][\"bindings\"][i][\"item\"][\"value\"].replace(\"http://www.wikidata.org/entity/\", \"\")\n",
    "    label = med_list[\"results\"][\"bindings\"][i][\"itemLabel\"][\"value\"]\n",
    "    try:\n",
    "        alias = med_list[\"results\"][\"bindings\"][i][\"alias\"][\"value\"]\n",
    "    except:\n",
    "        alias = \"No alias\"\n",
    "    med_label_list.append({'WDID':wdid,'label':label,'alias':alias})\n",
    "\n",
    "med_alias_in_wd = pd.DataFrame(med_label_list)\n",
    "med_alias_in_wd['source'] = \"med\"\n",
    "print(med_alias_in_wd.head(n=2))"
   ]
  },
  {
   "cell_type": "code",
   "execution_count": 32,
   "metadata": {},
   "outputs": [
    {
     "name": "stdout",
     "output_type": "stream",
     "text": [
      "      WDID                                              alias         label  \\\n",
      "0  Q285911  3-(alpha-L-rhamnopyranosyloxy)-1beta,5beta,11a...       ouabain   \n",
      "1  Q285911                                     g-strophanthin       ouabain   \n",
      "2  Q286846                                           Protonix  pantoprazole   \n",
      "\n",
      "  source  \n",
      "0   chem  \n",
      "1   chem  \n",
      "2   chem  \n"
     ]
    }
   ],
   "source": [
    "sparqlQuery = 'SELECT ?item ?itemLabel ?alias WHERE {?item wdt:P31 wd:Q11173. OPTIONAL {?item skos:altLabel ?alias FILTER (LANG (?alias) = \"en\").} SERVICE wikibase:label { bd:serviceParam wikibase:language \"[AUTO_LANGUAGE],en\". }}'\n",
    "chem_list = wdi_core.WDItemEngine.execute_sparql_query(sparqlQuery)\n",
    "\n",
    "chem_label_list = []\n",
    "\n",
    "for i in range(len(chem_list[\"results\"][\"bindings\"])):\n",
    "    wdid = chem_list[\"results\"][\"bindings\"][i][\"item\"][\"value\"].replace(\"http://www.wikidata.org/entity/\", \"\")\n",
    "    label = chem_list[\"results\"][\"bindings\"][i][\"itemLabel\"][\"value\"]\n",
    "    try:\n",
    "        alias = chem_list[\"results\"][\"bindings\"][i][\"alias\"][\"value\"]\n",
    "    except:\n",
    "        alias = \"No alias\"\n",
    "    chem_label_list.append({'WDID':wdid,'label':label,'alias':alias})\n",
    "\n",
    "chem_alias_in_wd = pd.DataFrame(med_label_list)\n",
    "chem_alias_in_wd['source'] = \"chem\"\n",
    "print(chem_alias_in_wd.head(n=2))"
   ]
  },
  {
   "cell_type": "code",
   "execution_count": 33,
   "metadata": {},
   "outputs": [
    {
     "name": "stdout",
     "output_type": "stream",
     "text": [
      "50441\n"
     ]
    }
   ],
   "source": [
    "alias_list = pd.concat((pharm_alias_in_wd,med_alias_in_wd,chem_alias_in_wd), ignore_index=True)\n",
    "print(len(alias_list))\n",
    "\n",
    "potential_drugs = alias_list.loc[(alias_list['alias'].astype(str).str.lower().isin(drug_list)) | \n",
    "                                 (alias_list['label'].astype(str).str.lower().isin(drug_list))]\n",
    "\n",
    "print(len(potential_drugs))\n",
    "print(len(drug_wdid_df))"
   ]
  },
  {
   "cell_type": "markdown",
   "metadata": {},
   "source": [
    "## Bot for the run"
   ]
  },
  {
   "cell_type": "code",
   "execution_count": 14,
   "metadata": {},
   "outputs": [
    {
     "name": "stdout",
     "output_type": "stream",
     "text": [
      "run started:  2019-11-19 09:46:34.005333\n",
      "run completed:  2019-11-19 09:50:19.880253\n"
     ]
    }
   ],
   "source": [
    "with open('data/run_no.txt', 'r') as run_file:\n",
    "    for line in run_file:\n",
    "        run_number = int(line.strip())\n",
    "\n",
    "if run_number ==0:\n",
    "    datasrc = 'data/FinalReferenceStandard200Labels.csv'\n",
    "else:\n",
    "    datasrc = exppath+'qid_missing_not_attempted.tsv'\n",
    "\n",
    "print(\"run started: \",datetime.now())\n",
    "spl_adr_raw = read_csv(datasrc, delimiter=\"|\", header=0, dtype={'Index':int,'PT ID':str,'LLT ID':str}).fillna('None')\n",
    "\n",
    "## Pull QIDS using UMLS CUIS\n",
    "wdid_umls_df_unique = disease_search(spl_adr_raw)\n",
    "\n",
    "## Merge the mapping table to the original table\n",
    "spl_with_disease_wdids = spl_adr_raw.merge(wdid_umls_df_unique, on='UMLS CUI', how='left')\n",
    "\n",
    "## Pull QIDS using drug labels\n",
    "if run_number == 0:\n",
    "    drug_list = spl_with_disease_wdids['Drug Name'].unique().tolist()\n",
    "else:\n",
    "    drug_list = []\n",
    "    with open(exppath+'drug_match_failed.txt','r') as drug_match_failed:\n",
    "        for line in drug_match_failed:\n",
    "            drug_list.append(line+'\\n')\n",
    "\n",
    "drug_wdid_df, drug_match_failed = drug_search(drug_list)\n",
    "\n",
    "## Merge the results to generate the table of entries to write\n",
    "df_to_write = spl_with_disease_wdids.merge(drug_wdid_df, on='Drug Name',how = 'left')\n",
    "all_data_available = df_to_write.loc[(~df_to_write['disease_WDID'].isnull()) & \n",
    "                                     (~df_to_write['drug_WDID'].isnull())]\n",
    "\n",
    "not_attempted = df_to_write.loc[(df_to_write['disease_WDID'].isnull()) | \n",
    "                                     (df_to_write['drug_WDID'].isnull())]\n",
    "\n",
    "## Make the writes\n",
    "run_list = all_data_available[0:1] ## test run\n",
    "#run_list = all_data_available\n",
    "wd_edit_results = write_adrs(run_list)\n",
    "\n",
    "#### Export the results of the run\n",
    "\n",
    "## Results of the drug search\n",
    "drug_wdid_df.to_csv(exppath+'drug_wdid_df.tsv',sep='\\t',header=True)\n",
    "\n",
    "with open(exppath+'drug_match_failed.txt','w') as store_it:\n",
    "    for eachfailure in drug_match_failed:\n",
    "        store_it.write(eachfailure+'\\n')\n",
    "\n",
    "## Results of the actual run\n",
    "wd_edit_results.to_csv(exppath+'run_results.tsv',sep='\\t',header=True)\n",
    "\n",
    "## Failures to attempt in the future\n",
    "not_attempted.to_csv(exppath+'qid_missing_not_attempted.tsv',sep='\\t',header=True)\n",
    "\n",
    "print(\"run completed: \",datetime.now())\n",
    "run_number = run_number + 1\n",
    "\n",
    "with open('data/run_no.txt', 'w') as run_file:\n",
    "    run_file.write(str(run_number))"
   ]
  },
  {
   "cell_type": "code",
   "execution_count": null,
   "metadata": {},
   "outputs": [],
   "source": []
  }
 ],
 "metadata": {
  "kernelspec": {
   "display_name": "Python 3",
   "language": "python",
   "name": "python3"
  },
  "language_info": {
   "codemirror_mode": {
    "name": "ipython",
    "version": 3
   },
   "file_extension": ".py",
   "mimetype": "text/x-python",
   "name": "python",
   "nbconvert_exporter": "python",
   "pygments_lexer": "ipython3",
   "version": "3.6.2"
  }
 },
 "nbformat": 4,
 "nbformat_minor": 2
}
