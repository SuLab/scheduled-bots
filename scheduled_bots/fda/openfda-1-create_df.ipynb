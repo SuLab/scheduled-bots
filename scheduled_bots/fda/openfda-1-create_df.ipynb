{
 "cells": [
  {
   "cell_type": "code",
   "execution_count": 2,
   "metadata": {},
   "outputs": [],
   "source": [
    "import pandas as pd\n",
    "import json\n",
    "import gzip\n",
    "import os\n",
    "import requests\n",
    "import pickle\n",
    "from tqdm import tqdm\n",
    "from functools import lru_cache\n",
    "from collections import Counter\n",
    "from itertools import chain\n",
    "pd.set_option(\"display.max_columns\", 30)\n",
    "\n",
    "import sys, os\n",
    "sys.path.insert(0, \"/home/gstupp/projects/WikidataIntegrator\")\n",
    "sys.path.insert(0, \"/home/gstupp/projects/wikidata-biothings/scheduled_bots\")\n",
    "from wikidataintegrator import wdi_helpers"
   ]
  },
  {
   "cell_type": "code",
   "execution_count": 3,
   "metadata": {},
   "outputs": [],
   "source": [
    "f = gzip.open(\"openfda/openfda.json.gz\", 'rt', encoding='utf8')\n",
    "f = map(lambda x:json.loads(x), f)\n",
    "ds = [d for d in f if (\"product_type\" in d) and ('HUMAN PRESCRIPTION DRUG' in d['product_type'])]\n",
    "ds = [d for d in ds if (\"application_number\" in d) and any('NDA' in x for x in d['application_number'])]\n",
    "ds = [d for d in ds if \"unii\" in d and d['unii']]"
   ]
  },
  {
   "cell_type": "code",
   "execution_count": 4,
   "metadata": {},
   "outputs": [],
   "source": [
    "# make sure all docs have all keys\n",
    "keys = set(chain(*[d.keys() for d in ds]))\n",
    "for d in ds:\n",
    "    for key in keys:\n",
    "        if key not in d:\n",
    "            d[key] = []"
   ]
  },
  {
   "cell_type": "code",
   "execution_count": 5,
   "metadata": {},
   "outputs": [
    {
     "name": "stdout",
     "output_type": "stream",
     "text": [
      "{'manufacturer_name', 'spl_id', 'spl_set_id', 'brand_name', 'application_number', 'generic_name', 'product_type'}\n"
     ]
    }
   ],
   "source": [
    "# which keys are always one valued lists\n",
    "single = set()\n",
    "for key in keys:\n",
    "    if set([len(d[key]) for d in ds]) == {1}:\n",
    "        single.add(key)\n",
    "print(single)\n",
    "for key in single:\n",
    "    for d in ds:\n",
    "        d[key] = d[key][0].upper()\n",
    "for d in ds:\n",
    "    d['generic_name'] = d['generic_name'].upper()\n",
    "    d['substance_name'] = [x.strip().upper() for x in d['substance_name']]"
   ]
  },
  {
   "cell_type": "code",
   "execution_count": 6,
   "metadata": {},
   "outputs": [
    {
     "name": "stdout",
     "output_type": "stream",
     "text": [
      "30037\n",
      "6677\n",
      "6618\n",
      "6110\n"
     ]
    }
   ],
   "source": [
    "print(len(ds))\n",
    "# toss those where the brand_name == generic_name\n",
    "ds = [d for d in ds if d['brand_name'] != d['generic_name']]\n",
    "print(len(ds))\n",
    "# toss those in which the number of unii ids doesn't match the number of substances\n",
    "ds = [d for d in ds if len(d['substance_name']) == len(d['unii'])]\n",
    "print(len(ds))\n",
    "# toss those in which there are brand names that have different components (by their associated unii ids)\n",
    "df = pd.DataFrame(ds)\n",
    "bn_unii = df.groupby(\"brand_name\").agg({'unii': lambda x: set(frozenset(y) for y in x)})\n",
    "bn_unii = bn_unii[bn_unii.unii.apply(len)>1]\n",
    "df = df[~df.brand_name.isin(bn_unii.index)]\n",
    "print(len(df))"
   ]
  },
  {
   "cell_type": "code",
   "execution_count": 7,
   "metadata": {},
   "outputs": [
    {
     "data": {
      "text/plain": [
       "'282386'"
      ]
     },
     "execution_count": 7,
     "metadata": {},
     "output_type": "execute_result"
    }
   ],
   "source": [
    "@lru_cache(maxsize=100000)\n",
    "def get_rxcui_brandname(rxcui):\n",
    "    url = \"https://rxnav.nlm.nih.gov/REST/rxcui/{}/related.json?tty=BN\".format(rxcui)\n",
    "    d = requests.get(url).json()\n",
    "    ingredients = {x['tty']: x.get('conceptProperties', []) for x in d['relatedGroup']['conceptGroup'] if\n",
    "                   x['tty'] in {'BN'}}\n",
    "    if len(ingredients['BN']):\n",
    "        return ingredients['BN'][0]['rxcui']\n",
    "\n",
    "@lru_cache(maxsize=100000)\n",
    "def get_rxcui_ingredient(rxcui):\n",
    "    \"\"\"\n",
    "    Get from ingredient/dose/form to compound\n",
    "    example: rxcui: 1442407 (Camphor 48 MG/ML / Eucalyptus oil 12 MG/ML / Menthol 26 MG/ML Topical Cream)\n",
    "    to: 691178 (Camphor / Eucalyptus oil / Menthol)\n",
    "    https://rxnav.nlm.nih.gov/REST/rxcui/1442407/allrelated.json\n",
    "    http://bioportal.bioontology.org/ontologies/RXNORM?p=classes&conceptid=1442407\n",
    "\n",
    "    Look for MIN, PIN, or IN\n",
    "    types: https://www.nlm.nih.gov/research/umls/rxnorm/docs/2015/appendix5.html\n",
    "    api doc: https://rxnav.nlm.nih.gov/RxNormAPIs.html#uLink=RxNorm_REST_getAllRelatedInfo\n",
    "    :param rxcui:\n",
    "    :return:\n",
    "    \"\"\"\n",
    "    url = \"https://rxnav.nlm.nih.gov/REST/rxcui/{}/related.json?tty=MIN+PIN+IN\".format(rxcui)\n",
    "    d = requests.get(url).json()\n",
    "    ingredients = {x['tty']: x.get('conceptProperties', []) for x in d['relatedGroup']['conceptGroup'] if\n",
    "                   x['tty'] in {'MIN', 'PIN', 'IN'}}\n",
    "    if len(ingredients['MIN']):\n",
    "        return ingredients['MIN'][0]['rxcui']\n",
    "    elif len(ingredients['PIN']):\n",
    "        return ingredients['PIN'][0]['rxcui']\n",
    "    elif len(ingredients['IN']):\n",
    "        return ingredients['IN'][0]['rxcui']\n",
    "    else:\n",
    "        return None\n",
    "\n",
    "get_rxcui_ingredient(403878)\n",
    "get_rxcui_brandname(403878)"
   ]
  },
  {
   "cell_type": "code",
   "execution_count": null,
   "metadata": {},
   "outputs": [],
   "source": [
    "rxcuis = set(chain(*df.rxcui))\n",
    "rxcui_ingredient = dict()\n",
    "rxcui_brandname = dict()\n",
    "for rxcui in tqdm(rxcuis):\n",
    "    if rxcui not in rxcui_ingredient and rxcui not in rxcui_brandname:\n",
    "        rxcui_ingredient[rxcui] = get_rxcui_ingredient(rxcui)\n",
    "        rxcui_brandname[rxcui] = get_rxcui_brandname(rxcui)"
   ]
  },
  {
   "cell_type": "code",
   "execution_count": null,
   "metadata": {},
   "outputs": [],
   "source": [
    "df['rxcui_brandname'] = df.rxcui.apply(lambda x:[rxcui_brandname.get(y) for y in x])\n",
    "df['rxcui_ingredient'] = df.rxcui.apply(lambda x:[rxcui_ingredient.get(y) for y in x])"
   ]
  },
  {
   "cell_type": "code",
   "execution_count": null,
   "metadata": {},
   "outputs": [],
   "source": [
    "# df.to_csv(\"openfda.csv\")"
   ]
  },
  {
   "cell_type": "code",
   "execution_count": null,
   "metadata": {},
   "outputs": [],
   "source": [
    "# collapse duplicate brand_names\n",
    "gb = iter(df.groupby(\"brand_name\"))\n",
    "newdf = pd.DataFrame()\n",
    "\n",
    "for _, this_df in gb:\n",
    "    # there should be one brandname cui, one ingredient cui, can be more than one unii\n",
    "    rxcui_brandname = set(chain(*this_df.rxcui_brandname))\n",
    "    rxcui_ingredient = set(chain(*this_df.rxcui_ingredient))\n",
    "    unii = set(this_df.unii.apply(frozenset))\n",
    "    # in this_df, we want to make sure all rows have the same unii, rxcui_brandname, rxcui_ingredient\n",
    "    # if so, keep one row, otherwise, toss the whole thing\n",
    "    if (len(unii) == 1) and (len(rxcui_brandname) == 1) and (len(rxcui_ingredient) == 1):\n",
    "        this_df = this_df.iloc[0,]\n",
    "        newdf = newdf.append(this_df)"
   ]
  },
  {
   "cell_type": "code",
   "execution_count": null,
   "metadata": {},
   "outputs": [],
   "source": [
    "newdf.rxcui_brandname = newdf.rxcui_brandname.apply(lambda x:list(set(x))[0] if x else x)\n",
    "newdf.rxcui_ingredient = newdf.rxcui_ingredient.apply(lambda x:list(set(x))[0] if x else x)\n",
    "newdf = newdf.dropna(subset=[\"rxcui_brandname\", \"rxcui_ingredient\"])\n",
    "newdf"
   ]
  },
  {
   "cell_type": "code",
   "execution_count": null,
   "metadata": {},
   "outputs": [],
   "source": [
    "# newdf.to_csv(\"openfda_single.csv\")"
   ]
  }
 ],
 "metadata": {
  "kernelspec": {
   "display_name": "Python 3",
   "language": "python",
   "name": "python3"
  },
  "language_info": {
   "codemirror_mode": {
    "name": "ipython",
    "version": 3.0
   },
   "file_extension": ".py",
   "mimetype": "text/x-python",
   "name": "python",
   "nbconvert_exporter": "python",
   "pygments_lexer": "ipython3",
   "version": "3.5.2"
  }
 },
 "nbformat": 4,
 "nbformat_minor": 0
}