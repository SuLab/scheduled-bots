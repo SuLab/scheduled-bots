{
 "cells": [
  {
   "cell_type": "code",
   "execution_count": 63,
   "metadata": {},
   "outputs": [],
   "source": [
    "import pandas as pd\n",
    "import json\n",
    "import gzip\n",
    "import os\n",
    "import requests\n",
    "import pickle\n",
    "import time\n",
    "from tqdm import tqdm\n",
    "from functools import lru_cache\n",
    "from collections import Counter\n",
    "from itertools import chain\n",
    "pd.set_option(\"display.max_columns\", 30)\n",
    "\n",
    "import sys, os\n",
    "sys.path.insert(0, \"/home/gstupp/projects/WikidataIntegrator\")\n",
    "sys.path.insert(0, \"/home/gstupp/projects/wikidata-biothings/scheduled_bots\")\n",
    "from wikidataintegrator import wdi_helpers\n",
    "from scheduled_bots.drugs.chemlib import create_item\n",
    "from scheduled_bots.drugs.chemspider import ChemSpiderMolecule\n",
    "from scheduled_bots.drugs.unii import UNIIMolecule\n",
    "\n",
    "from wikidataintegrator import wdi_core, wdi_login"
   ]
  },
  {
   "cell_type": "code",
   "execution_count": 64,
   "metadata": {},
   "outputs": [
    {
     "name": "stdout",
     "output_type": "stream",
     "text": [
      "Successfully logged in as ProteinBoxBot\n"
     ]
    }
   ],
   "source": [
    "try:\n",
    "    from scheduled_bots.local import WDUSER, WDPASS\n",
    "except ImportError:\n",
    "    if \"WDUSER\" in os.environ and \"WDPASS\" in os.environ:\n",
    "        WDUSER = os.environ['WDUSER']\n",
    "        WDPASS = os.environ['WDPASS']\n",
    "    else:\n",
    "        raise ValueError(\"WDUSER and WDPASS must be specified in local.py or as environment variables\")\n",
    "\n",
    "login = wdi_login.WDLogin(user=WDUSER, pwd=WDPASS)"
   ]
  },
  {
   "cell_type": "code",
   "execution_count": 73,
   "metadata": {},
   "outputs": [
    {
     "data": {
      "text/html": [
       "<div>\n",
       "<table border=\"1\" class=\"dataframe\">\n",
       "  <thead>\n",
       "    <tr style=\"text-align: right;\">\n",
       "      <th></th>\n",
       "      <th>application_number</th>\n",
       "      <th>brand_name</th>\n",
       "      <th>generic_name</th>\n",
       "      <th>is_original_packager</th>\n",
       "      <th>manufacturer_name</th>\n",
       "      <th>nui</th>\n",
       "      <th>original_packager_product_ndc</th>\n",
       "      <th>package_ndc</th>\n",
       "      <th>pharm_class_cs</th>\n",
       "      <th>pharm_class_epc</th>\n",
       "      <th>pharm_class_moa</th>\n",
       "      <th>pharm_class_pe</th>\n",
       "      <th>product_ndc</th>\n",
       "      <th>product_type</th>\n",
       "      <th>route</th>\n",
       "      <th>rxcui</th>\n",
       "      <th>rxcui_brandname</th>\n",
       "      <th>rxcui_ingredient</th>\n",
       "      <th>spl_id</th>\n",
       "      <th>spl_set_id</th>\n",
       "      <th>substance_name</th>\n",
       "      <th>unii</th>\n",
       "      <th>upc</th>\n",
       "    </tr>\n",
       "  </thead>\n",
       "  <tbody>\n",
       "    <tr>\n",
       "      <th>3318</th>\n",
       "      <td>ANDA077844</td>\n",
       "      <td>ABACAVIR</td>\n",
       "      <td>ABACAVIR SULFATE</td>\n",
       "      <td>[]</td>\n",
       "      <td>AMERICAN HEALTH PACKAGING</td>\n",
       "      <td>[]</td>\n",
       "      <td>['65862-073']</td>\n",
       "      <td>['68084-021-21', '68084-021-11']</td>\n",
       "      <td>[]</td>\n",
       "      <td>[]</td>\n",
       "      <td>[]</td>\n",
       "      <td>[]</td>\n",
       "      <td>[68084-021]</td>\n",
       "      <td>HUMAN PRESCRIPTION DRUG</td>\n",
       "      <td>['ORAL']</td>\n",
       "      <td>['242679']</td>\n",
       "      <td>221017</td>\n",
       "      <td>190521</td>\n",
       "      <td>5CDBCF4A-4B9B-5549-E053-2991AA0A6550</td>\n",
       "      <td>01E46F58-8BDA-4FF3-AB21-57D5B540D440</td>\n",
       "      <td>['ABACAVIR SULFATE']</td>\n",
       "      <td>[J220T4J9Q2]</td>\n",
       "      <td>[]</td>\n",
       "    </tr>\n",
       "    <tr>\n",
       "      <th>5846</th>\n",
       "      <td>NDA021652</td>\n",
       "      <td>ABACAVIR AND LAMIVUDINE</td>\n",
       "      <td>ABACAVIR SULFATE AND LAMIVUDINE</td>\n",
       "      <td>[True]</td>\n",
       "      <td>PRASCO LABORATORIES</td>\n",
       "      <td>['N0000175459', 'N0000175656', 'N0000009947', ...</td>\n",
       "      <td>[]</td>\n",
       "      <td>['66993-482-30']</td>\n",
       "      <td>['Nucleoside Analog [Chemical/Ingredient]']</td>\n",
       "      <td>['Hepatitis B Virus Nucleoside Analog Reverse ...</td>\n",
       "      <td>['Nucleoside Reverse Transcriptase Inhibitors ...</td>\n",
       "      <td>[]</td>\n",
       "      <td>[66993-482]</td>\n",
       "      <td>HUMAN PRESCRIPTION DRUG</td>\n",
       "      <td>['ORAL']</td>\n",
       "      <td>['602393']</td>\n",
       "      <td>497184</td>\n",
       "      <td>614534</td>\n",
       "      <td>704ACC32-038D-4B75-907D-96E4F5839EA4</td>\n",
       "      <td>133490FC-26EB-4C92-A21D-52BE4C226B74</td>\n",
       "      <td>['LAMIVUDINE', 'ABACAVIR SULFATE']</td>\n",
       "      <td>[J220T4J9Q2, 2T8Q726O95]</td>\n",
       "      <td>[]</td>\n",
       "    </tr>\n",
       "    <tr>\n",
       "      <th>6415</th>\n",
       "      <td>ANDA202912</td>\n",
       "      <td>ABACAVIR, LAMIVUDINE AND ZIDOVUDINE</td>\n",
       "      <td>ABACAVIR , LAMIVUDINE AND ZIDOVUDINE</td>\n",
       "      <td>[True]</td>\n",
       "      <td>LUPIN PHARMACEUTICALS, INC.</td>\n",
       "      <td>['N0000175459', 'N0000175656', 'N0000009947', ...</td>\n",
       "      <td>[]</td>\n",
       "      <td>['68180-286-07', '68180-286-01', '68180-286-02']</td>\n",
       "      <td>['Nucleoside Analog [Chemical/Ingredient]']</td>\n",
       "      <td>['Hepatitis B Virus Nucleoside Analog Reverse ...</td>\n",
       "      <td>['Nucleoside Reverse Transcriptase Inhibitors ...</td>\n",
       "      <td>[]</td>\n",
       "      <td>[68180-286]</td>\n",
       "      <td>HUMAN PRESCRIPTION DRUG</td>\n",
       "      <td>['ORAL']</td>\n",
       "      <td>['307650']</td>\n",
       "      <td>284904</td>\n",
       "      <td>284620</td>\n",
       "      <td>E1E30726-5522-4214-B103-A016A08FDFCB</td>\n",
       "      <td>F5F7C0D9-A247-4308-8269-32ACCC490EA6</td>\n",
       "      <td>['LAMIVUDINE', 'ZIDOVUDINE', 'ABACAVIR SULFATE']</td>\n",
       "      <td>[J220T4J9Q2, 2T8Q726O95, 4B9XT59T7S]</td>\n",
       "      <td>[]</td>\n",
       "    </tr>\n",
       "    <tr>\n",
       "      <th>104</th>\n",
       "      <td>NDA021436</td>\n",
       "      <td>ABILIFY</td>\n",
       "      <td>ARIPIPRAZOLE</td>\n",
       "      <td>[]</td>\n",
       "      <td>TYA PHARMACEUTICALS</td>\n",
       "      <td>['N0000175430']</td>\n",
       "      <td>['59148-009']</td>\n",
       "      <td>['64725-0009-1']</td>\n",
       "      <td>[]</td>\n",
       "      <td>['Atypical Antipsychotic [EPC]']</td>\n",
       "      <td>[]</td>\n",
       "      <td>[]</td>\n",
       "      <td>[64725-0009]</td>\n",
       "      <td>HUMAN PRESCRIPTION DRUG</td>\n",
       "      <td>['ORAL']</td>\n",
       "      <td>['352308', '349490']</td>\n",
       "      <td>352393</td>\n",
       "      <td>89013</td>\n",
       "      <td>1C1E7873-4FBF-4033-94D7-9FD8416B828E</td>\n",
       "      <td>D0640208-44E9-4052-A56F-9A4CD9A5AAAB</td>\n",
       "      <td>['ARIPIPRAZOLE']</td>\n",
       "      <td>[82VFR53I78]</td>\n",
       "      <td>[]</td>\n",
       "    </tr>\n",
       "    <tr>\n",
       "      <th>3062</th>\n",
       "      <td>NDA022510</td>\n",
       "      <td>ABSTRAL</td>\n",
       "      <td>FENTANYL CITRATE</td>\n",
       "      <td>[True]</td>\n",
       "      <td>GALENA BIOPHARMA, INC.</td>\n",
       "      <td>[]</td>\n",
       "      <td>[]</td>\n",
       "      <td>['57881-334-04', '57881-333-32', '57881-332-32...</td>\n",
       "      <td>[]</td>\n",
       "      <td>[]</td>\n",
       "      <td>[]</td>\n",
       "      <td>[]</td>\n",
       "      <td>[57881-338, 57881-331, 57881-333, 57881-332, 5...</td>\n",
       "      <td>HUMAN PRESCRIPTION DRUG</td>\n",
       "      <td>['SUBLINGUAL']</td>\n",
       "      <td>['1053652', '1053651', '1053658', '1053657', '...</td>\n",
       "      <td>1053648</td>\n",
       "      <td>4337</td>\n",
       "      <td>621FD88B-B921-47A2-94BD-A778D6005353</td>\n",
       "      <td>F969E2BC-6297-4E29-89D3-A3685A2C7C6B</td>\n",
       "      <td>['FENTANYL CITRATE']</td>\n",
       "      <td>[MUN5LYG46H]</td>\n",
       "      <td>[]</td>\n",
       "    </tr>\n",
       "  </tbody>\n",
       "</table>\n",
       "</div>"
      ],
      "text/plain": [
       "     application_number                           brand_name  \\\n",
       "3318         ANDA077844                             ABACAVIR   \n",
       "5846          NDA021652              ABACAVIR AND LAMIVUDINE   \n",
       "6415         ANDA202912  ABACAVIR, LAMIVUDINE AND ZIDOVUDINE   \n",
       "104           NDA021436                              ABILIFY   \n",
       "3062          NDA022510                              ABSTRAL   \n",
       "\n",
       "                              generic_name is_original_packager  \\\n",
       "3318                      ABACAVIR SULFATE                   []   \n",
       "5846       ABACAVIR SULFATE AND LAMIVUDINE               [True]   \n",
       "6415  ABACAVIR , LAMIVUDINE AND ZIDOVUDINE               [True]   \n",
       "104                           ARIPIPRAZOLE                   []   \n",
       "3062                      FENTANYL CITRATE               [True]   \n",
       "\n",
       "                manufacturer_name  \\\n",
       "3318    AMERICAN HEALTH PACKAGING   \n",
       "5846          PRASCO LABORATORIES   \n",
       "6415  LUPIN PHARMACEUTICALS, INC.   \n",
       "104           TYA PHARMACEUTICALS   \n",
       "3062       GALENA BIOPHARMA, INC.   \n",
       "\n",
       "                                                    nui  \\\n",
       "3318                                                 []   \n",
       "5846  ['N0000175459', 'N0000175656', 'N0000009947', ...   \n",
       "6415  ['N0000175459', 'N0000175656', 'N0000009947', ...   \n",
       "104                                     ['N0000175430']   \n",
       "3062                                                 []   \n",
       "\n",
       "     original_packager_product_ndc  \\\n",
       "3318                 ['65862-073']   \n",
       "5846                            []   \n",
       "6415                            []   \n",
       "104                  ['59148-009']   \n",
       "3062                            []   \n",
       "\n",
       "                                            package_ndc  \\\n",
       "3318                   ['68084-021-21', '68084-021-11']   \n",
       "5846                                   ['66993-482-30']   \n",
       "6415   ['68180-286-07', '68180-286-01', '68180-286-02']   \n",
       "104                                    ['64725-0009-1']   \n",
       "3062  ['57881-334-04', '57881-333-32', '57881-332-32...   \n",
       "\n",
       "                                   pharm_class_cs  \\\n",
       "3318                                           []   \n",
       "5846  ['Nucleoside Analog [Chemical/Ingredient]']   \n",
       "6415  ['Nucleoside Analog [Chemical/Ingredient]']   \n",
       "104                                            []   \n",
       "3062                                           []   \n",
       "\n",
       "                                        pharm_class_epc  \\\n",
       "3318                                                 []   \n",
       "5846  ['Hepatitis B Virus Nucleoside Analog Reverse ...   \n",
       "6415  ['Hepatitis B Virus Nucleoside Analog Reverse ...   \n",
       "104                    ['Atypical Antipsychotic [EPC]']   \n",
       "3062                                                 []   \n",
       "\n",
       "                                        pharm_class_moa pharm_class_pe  \\\n",
       "3318                                                 []             []   \n",
       "5846  ['Nucleoside Reverse Transcriptase Inhibitors ...             []   \n",
       "6415  ['Nucleoside Reverse Transcriptase Inhibitors ...             []   \n",
       "104                                                  []             []   \n",
       "3062                                                 []             []   \n",
       "\n",
       "                                            product_ndc  \\\n",
       "3318                                        [68084-021]   \n",
       "5846                                        [66993-482]   \n",
       "6415                                        [68180-286]   \n",
       "104                                        [64725-0009]   \n",
       "3062  [57881-338, 57881-331, 57881-333, 57881-332, 5...   \n",
       "\n",
       "                 product_type           route  \\\n",
       "3318  HUMAN PRESCRIPTION DRUG        ['ORAL']   \n",
       "5846  HUMAN PRESCRIPTION DRUG        ['ORAL']   \n",
       "6415  HUMAN PRESCRIPTION DRUG        ['ORAL']   \n",
       "104   HUMAN PRESCRIPTION DRUG        ['ORAL']   \n",
       "3062  HUMAN PRESCRIPTION DRUG  ['SUBLINGUAL']   \n",
       "\n",
       "                                                  rxcui rxcui_brandname  \\\n",
       "3318                                         ['242679']          221017   \n",
       "5846                                         ['602393']          497184   \n",
       "6415                                         ['307650']          284904   \n",
       "104                                ['352308', '349490']          352393   \n",
       "3062  ['1053652', '1053651', '1053658', '1053657', '...         1053648   \n",
       "\n",
       "     rxcui_ingredient                                spl_id  \\\n",
       "3318           190521  5CDBCF4A-4B9B-5549-E053-2991AA0A6550   \n",
       "5846           614534  704ACC32-038D-4B75-907D-96E4F5839EA4   \n",
       "6415           284620  E1E30726-5522-4214-B103-A016A08FDFCB   \n",
       "104             89013  1C1E7873-4FBF-4033-94D7-9FD8416B828E   \n",
       "3062             4337  621FD88B-B921-47A2-94BD-A778D6005353   \n",
       "\n",
       "                                spl_set_id  \\\n",
       "3318  01E46F58-8BDA-4FF3-AB21-57D5B540D440   \n",
       "5846  133490FC-26EB-4C92-A21D-52BE4C226B74   \n",
       "6415  F5F7C0D9-A247-4308-8269-32ACCC490EA6   \n",
       "104   D0640208-44E9-4052-A56F-9A4CD9A5AAAB   \n",
       "3062  F969E2BC-6297-4E29-89D3-A3685A2C7C6B   \n",
       "\n",
       "                                        substance_name  \\\n",
       "3318                              ['ABACAVIR SULFATE']   \n",
       "5846                ['LAMIVUDINE', 'ABACAVIR SULFATE']   \n",
       "6415  ['LAMIVUDINE', 'ZIDOVUDINE', 'ABACAVIR SULFATE']   \n",
       "104                                   ['ARIPIPRAZOLE']   \n",
       "3062                              ['FENTANYL CITRATE']   \n",
       "\n",
       "                                      unii upc  \n",
       "3318                          [J220T4J9Q2]  []  \n",
       "5846              [J220T4J9Q2, 2T8Q726O95]  []  \n",
       "6415  [J220T4J9Q2, 2T8Q726O95, 4B9XT59T7S]  []  \n",
       "104                           [82VFR53I78]  []  \n",
       "3062                          [MUN5LYG46H]  []  "
      ]
     },
     "execution_count": 73,
     "metadata": {},
     "output_type": "execute_result"
    }
   ],
   "source": [
    "df = pd.read_csv(\"openfda_single.csv\", index_col=0)\n",
    "df.unii = df.unii.map(eval)\n",
    "df.product_ndc = df.product_ndc.map(eval)\n",
    "df.head()"
   ]
  },
  {
   "cell_type": "code",
   "execution_count": 155,
   "metadata": {
    "scrolled": true
   },
   "outputs": [
    {
     "name": "stderr",
     "output_type": "stream",
     "text": [
      "100%|██████████| 1513/1513 [03:40<00:00,  6.87it/s] \n"
     ]
    }
   ],
   "source": [
    "def get_label_from_rxcui(rxcui):\n",
    "    url = \"https://rxnav.nlm.nih.gov/REST/rxcui/{}/properties.json\".format(rxcui)\n",
    "    d = requests.get(url).json()\n",
    "    if d:\n",
    "        return d['properties']['name']\n",
    "# rxcui_label = dict()\n",
    "for rxcui in tqdm(set(df.rxcui_brandname)):\n",
    "    if rxcui not in rxcui_label:\n",
    "        rxcui_label[rxcui] = get_label_from_rxcui(rxcui)"
   ]
  },
  {
   "cell_type": "code",
   "execution_count": 156,
   "metadata": {},
   "outputs": [],
   "source": [
    "# get the rxnorm label for the brand_name, becuase often, the openfda version sucks\n",
    "# https://rxnav.nlm.nih.gov/REST/rxcui/497184/properties.json\n",
    "df['brand_name_rxnorm'] = df.rxcui_brandname.map(rxcui_label.get)"
   ]
  },
  {
   "cell_type": "code",
   "execution_count": 157,
   "metadata": {},
   "outputs": [],
   "source": [
    "rxnorm_qid = wdi_helpers.id_mapper(\"P3345\", return_as_set=True)\n",
    "rxnorm_qid = {k:list(v)[0] for k,v in rxnorm_qid.items() if len(v)==1}"
   ]
  },
  {
   "cell_type": "code",
   "execution_count": 158,
   "metadata": {},
   "outputs": [
    {
     "data": {
      "text/plain": [
       "2042"
      ]
     },
     "execution_count": 158,
     "metadata": {},
     "output_type": "execute_result"
    }
   ],
   "source": [
    "df['rxcui_brandname_qid'] = df.rxcui_brandname.map(rxnorm_qid.get)\n",
    "len(df['rxcui_brandname_qid'])"
   ]
  },
  {
   "cell_type": "code",
   "execution_count": 159,
   "metadata": {},
   "outputs": [
    {
     "data": {
      "text/plain": [
       "285"
      ]
     },
     "execution_count": 159,
     "metadata": {},
     "output_type": "execute_result"
    }
   ],
   "source": [
    "len(df['rxcui_brandname_qid'].dropna())"
   ]
  },
  {
   "cell_type": "code",
   "execution_count": 166,
   "metadata": {},
   "outputs": [],
   "source": [
    "def search_wikidata(s):\n",
    "    # search for a string\n",
    "    # https://www.wikidata.org/w/api.php?action=wbsearchentities&search=ABSTRAL&language=en&type=item&format=json\n",
    "    params = {'action': 'wbsearchentities',\n",
    "              'language': 'en',\n",
    "              'search': s,\n",
    "              'type': \"item\",\n",
    "              'format': 'json'}\n",
    "    r = requests.get(\"https://www.wikidata.org/w/api.php\", params=params)\n",
    "    r.raise_for_status()\n",
    "    d = r.json()\n",
    "    dataPage = d['search']\n",
    "    for item in dataPage:\n",
    "        item['id'] = \"wd:\" + item['id']\n",
    "        del item['repository']\n",
    "        del item['concepturi']\n",
    "    return dataPage\n",
    "\n",
    "def get_sitelink(qid):\n",
    "    # get sitelink\n",
    "    # https://www.wikidata.org/w/api.php?action=wbgetentities&ids=Q42&props=sitelinks&format=json&sitefilter=enwiki\n",
    "    params = {'action': 'wbgetentities',\n",
    "              'ids': qid,\n",
    "              'props': 'sitelinks',\n",
    "              'sitefilter': \"enwiki\",\n",
    "              'format': 'json'}\n",
    "    r = requests.get(\"https://www.wikidata.org/w/api.php\", params=params)\n",
    "    r.raise_for_status()\n",
    "    d = r.json()['entities'][qid]['sitelinks']\n",
    "    if 'enwiki' in d:\n",
    "        return d['enwiki']['title']"
   ]
  },
  {
   "cell_type": "code",
   "execution_count": 181,
   "metadata": {
    "scrolled": false
   },
   "outputs": [
    {
     "data": {
      "text/plain": [
       "application_number                                                       NDA020125\n",
       "brand_name                                                               ACCURETIC\n",
       "generic_name                       QUINAPRIL HYDROCHLORIDE AND HYDROCHLOROTHIAZIDE\n",
       "is_original_packager                                                        [True]\n",
       "manufacturer_name                                    PARKE-DAVIS DIV OF PFIZER INC\n",
       "nui                                  ['N0000166469', 'N0000175419', 'N0000175359']\n",
       "original_packager_product_ndc                                                   []\n",
       "package_ndc                       ['0071-0222-23', '0071-0223-23', '0071-0220-23']\n",
       "pharm_class_cs                                 ['Thiazides [Chemical/Ingredient]']\n",
       "pharm_class_epc                                        ['Thiazide Diuretic [EPC]']\n",
       "pharm_class_moa                                                                 []\n",
       "pharm_class_pe                                         ['Increased Diuresis [PE]']\n",
       "product_ndc                                      [0071-0220, 0071-0222, 0071-0223]\n",
       "product_type                                               HUMAN PRESCRIPTION DRUG\n",
       "route                                                                     ['ORAL']\n",
       "rxcui                            ['809858', '310796', '310797', '809854', '3108...\n",
       "rxcui_brandname                                                             151293\n",
       "rxcui_ingredient                                                            261417\n",
       "spl_id                                        D2A9BE08-66C2-4816-AB83-44597ACCAA34\n",
       "spl_set_id                                    80E9D61D-9674-4AC4-B84C-79A875D408DD\n",
       "substance_name                   ['QUINAPRIL HYDROCHLORIDE', 'HYDROCHLOROTHIAZI...\n",
       "unii                                                      [33067B3N2M, 0J48LPH2TH]\n",
       "upc                                                              ['0300710222236']\n",
       "rxcui_brandname_qid                                                           None\n",
       "brand_name_rxnorm                                                        Accuretic\n",
       "Name: 4964, dtype: object"
      ]
     },
     "execution_count": 181,
     "metadata": {},
     "output_type": "execute_result"
    }
   ],
   "source": [
    "row = df.iloc[11]\n",
    "row"
   ]
  },
  {
   "cell_type": "code",
   "execution_count": 182,
   "metadata": {},
   "outputs": [
    {
     "name": "stdout",
     "output_type": "stream",
     "text": [
      "Accuretic\n",
      "Accuretic\n"
     ]
    }
   ],
   "source": [
    "brand_name = row.brand_name_rxnorm\n",
    "rxcui = row.rxcui_brandname\n",
    "product_ndc = row.product_ndc[0]\n",
    "qid = row.rxcui_brandname_qid # qid from rxcui_brandname\n",
    "\n",
    "if not qid:\n",
    "    # maybe there is an existing item. search by brand name label\n",
    "    r = search_wikidata(brand_name)\n",
    "    if r:\n",
    "        r = r[0]\n",
    "        descr = r.get(\"description\")\n",
    "        print(brand_name)\n",
    "        print(r.get(\"label\"))\n",
    "        if brand_name.lower() == r.get(\"label\").lower():\n",
    "            if descr and descr not in {\"pharmaceutical product\"}:\n",
    "                print(descr)\n",
    "                cont=input()\n",
    "                if cont == \"y\":\n",
    "                    qid = r['title']\n",
    "                    row.rxcui_brandname_qid = qid\n",
    "            else:\n",
    "                qid = r['title']\n",
    "                row.rxcui_brandname_qid = qid"
   ]
  },
  {
   "cell_type": "code",
   "execution_count": 183,
   "metadata": {},
   "outputs": [
    {
     "data": {
      "text/plain": [
       "'Q4672916'"
      ]
     },
     "execution_count": 183,
     "metadata": {},
     "output_type": "execute_result"
    }
   ],
   "source": [
    "qid"
   ]
  },
  {
   "cell_type": "code",
   "execution_count": 184,
   "metadata": {},
   "outputs": [],
   "source": [
    "refs = [[\n",
    "    wdi_core.WDItemID(value='Q22907487', prop_nr='P248', is_reference=True),  # stated in OpenFDA\n",
    "    wdi_core.WDExternalID(value=product_ndc, prop_nr='P3640', is_reference=True),  # product_ndc\n",
    "    wdi_core.WDTime(time=time.strftime('+%Y-%m-%dT00:00:00Z'), prop_nr='P813', is_reference=True)  # retrieved\n",
    "]]\n",
    "# rxnorm\n",
    "data = [wdi_core.WDString(prop_nr=\"P3345\", value=rxcui, references=refs)]"
   ]
  },
  {
   "cell_type": "code",
   "execution_count": 185,
   "metadata": {
    "scrolled": false
   },
   "outputs": [],
   "source": [
    "if qid:\n",
    "    item = wdi_core.WDItemEngine(wd_item_id=qid, domain='drugs', data=data, append_value=['P31'])\n",
    "    if brand_name.lower() != item.get_label().lower() and brand_name.lower() not in map(str.lower, item.get_aliases()):\n",
    "        item.set_aliases([brand_name], append=True)\n",
    "else:\n",
    "    data.append(wdi_core.WDItemID(value='Q28885102', prop_nr='P31'))  # pharmaceutical product\n",
    "    item = wdi_core.WDItemEngine(item_name='drug', domain='drugs', data=data, append_value=['P31'])\n",
    "    item.set_label(brand_name)\n",
    "if not item.get_description():\n",
    "    item.set_description(\"pharmaceutical product\")"
   ]
  },
  {
   "cell_type": "code",
   "execution_count": 186,
   "metadata": {},
   "outputs": [
    {
     "data": {
      "text/plain": [
       "'Q4672916'"
      ]
     },
     "execution_count": 186,
     "metadata": {},
     "output_type": "execute_result"
    }
   ],
   "source": [
    "item.write(login)"
   ]
  },
  {
   "cell_type": "code",
   "execution_count": null,
   "metadata": {},
   "outputs": [],
   "source": []
  }
 ],
 "metadata": {
  "kernelspec": {
   "display_name": "Python 3",
   "language": "python",
   "name": "python3"
  },
  "language_info": {
   "codemirror_mode": {
    "name": "ipython",
    "version": 3
   },
   "file_extension": ".py",
   "mimetype": "text/x-python",
   "name": "python",
   "nbconvert_exporter": "python",
   "pygments_lexer": "ipython3",
   "version": "3.5.2"
  }
 },
 "nbformat": 4,
 "nbformat_minor": 2
}
