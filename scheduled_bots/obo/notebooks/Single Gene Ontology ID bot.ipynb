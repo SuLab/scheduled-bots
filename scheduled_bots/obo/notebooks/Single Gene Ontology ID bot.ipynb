{
 "cells": [
  {
   "cell_type": "code",
   "execution_count": 2,
   "id": "20646400",
   "metadata": {},
   "outputs": [],
   "source": [
    "%%capture\n",
    "!pip install wikidataintegrator"
   ]
  },
  {
   "cell_type": "code",
   "execution_count": 36,
   "id": "11a2446b",
   "metadata": {},
   "outputs": [],
   "source": [
    "from rdflib import Graph, URIRef\n",
    "from wikidataintegrator import wdi_core, wdi_login\n",
    "from datetime import datetime\n",
    "import copy\n",
    "import pandas as pd\n",
    "import getpass"
   ]
  },
  {
   "cell_type": "code",
   "execution_count": 37,
   "id": "f90873c7",
   "metadata": {},
   "outputs": [
    {
     "name": "stdout",
     "output_type": "stream",
     "text": [
      "username:\n",
      "andrawaag\n",
      "password:\n",
      "········\n"
     ]
    }
   ],
   "source": [
    "print(\"username:\")\n",
    "username = input()\n",
    "print(\"password:\")\n",
    "password = getpass.getpass()\n",
    "login = wdi_login.WDLogin(user=username, pwd=password)"
   ]
  },
  {
   "cell_type": "code",
   "execution_count": 32,
   "id": "6d8b55ba",
   "metadata": {},
   "outputs": [],
   "source": [
    "# functions\n",
    "def createOBOReference(doid):\n",
    "    statedin = wdi_core.WDItemID(obowditem, prop_nr=\"P248\", is_reference=True)\n",
    "    retrieved = datetime.now()\n",
    "    timeStringNow = retrieved.strftime(\"+%Y-%m-%dT00:00:00Z\")\n",
    "    refRetrieved = wdi_core.WDTime(timeStringNow, prop_nr=\"P813\", is_reference=True)\n",
    "    id = wdi_core.WDExternalID(oboid, prop_nr=oboidwdprop, is_reference=True)\n",
    "    return [statedin, refRetrieved, id]"
   ]
  },
  {
   "cell_type": "code",
   "execution_count": 34,
   "id": "12198dca",
   "metadata": {},
   "outputs": [
    {
     "name": "stdout",
     "output_type": "stream",
     "text": [
      "continue\n",
      "Q21111094\n"
     ]
    }
   ],
   "source": [
    "oboid = \"GO:0036310\"\n",
    "obouri = \"http://purl.obolibrary.org/obo/\"+oboid.replace(\":\", \"_\")\n",
    "obouri\n",
    "\n",
    "# wikidata\n",
    "obowditem = \"Q135085\" #Gene Ontology\n",
    "oboidwdprop = \"P686\" #gene ontology id\n",
    "oboontology = \"GO\"\n",
    "\n",
    "## Fetch the OBO ontology\n",
    "obog = Graph()\n",
    "obog.parse(f\"http://www.ontobee.org/ontology/rdf/{oboontology}?iri=\"+obouri, format=\"xml\")\n",
    "\n",
    "## Fetch Wikidata part of the OBO ontology\n",
    "query = f\"\"\"\n",
    "SELECT * WHERE {{?item wdt:{oboidwdprop} '{oboid}'}}\n",
    "\"\"\"\n",
    "qid = wdi_core.WDFunctionsEngine.execute_sparql_query(query, as_dataframe=True)\n",
    "if len(qid) >0:\n",
    "    qid = qid.iloc[0][\"item\"].replace(\"http://www.wikidata.org/entity/\", \"\")\n",
    "else:\n",
    "    qid = None\n",
    "\n",
    "# Bot\n",
    "## ShEx precheck\n",
    "\n",
    "if qid:\n",
    "    item = wdi_core.WDItemEngine(wd_item_id=qid) \n",
    "    # precheck = item.check_entity_schema(eid=\"E323\", output=\"result\")\n",
    "    #if not precheck[\"result\"]:\n",
    "    #    print(qid + \" needs fixing to conform to E323\")\n",
    "    #    quit()\n",
    "print(\"continue\")\n",
    "\n",
    "obo_reference = createOBOReference(oboid)\n",
    "\n",
    "# Statements build up\n",
    "## OBO ontology generic\n",
    "statements = []\n",
    "# OBO ID \n",
    "statements.append(wdi_core.WDString(value=oboid, prop_nr=oboidwdprop, references=[copy.deepcopy(obo_reference)]))\n",
    "# exact match (P2888)\n",
    "statements.append(wdi_core.WDUrl(value=obouri, prop_nr=\"P2888\", references=[copy.deepcopy(obo_reference)]))\n",
    "\n",
    "## OBO resource specific \n",
    "### Gene Ontology\n",
    "gotypes =  {\"biological_process\": \"Q2996394\", \n",
    " \"molecular_function\": \"Q14860489\", \n",
    " \"cellular_component\": \"Q5058355\",\n",
    "}\n",
    "\n",
    "for gotype in obog.objects(predicate=URIRef(\"http://www.geneontology.org/formats/oboInOwl#hasOBONamespace\")):\n",
    "    statements.append(wdi_core.WDItemID(gotypes[str(gotype)], prop_nr=\"P31\", references=[copy.deepcopy(obo_reference)]))\n",
    "\n",
    "#external identifiers based on skos:exactMatch\n",
    "for extID in obog.objects(predicate=URIRef(\"http://www.w3.org/2004/02/skos/core#exactMatch\")):\n",
    "    # if \"MESH:\" in extID:\n",
    "    #    statements.append(wdi_core.WDExternalID(row[\"exactMatch\"].replace(\"MESH:\", \"\"), prop_nr=\"P486\", references=[copy.deepcopy(do_reference)]))\n",
    "    if \"NCI:\" in extID:\n",
    "        statements.append(wdi_core.WDExternalID(row[\"exactMatch\"], prop_nr=\"P1748\", references=[copy.deepcopy(do_reference)]))\n",
    "    if \"ICD10CM:\" in extID:\n",
    "        statements.append(wdi_core.WDExternalID(row[\"exactMatch\"], prop_nr=\"P4229\", references=[copy.deepcopy(do_reference)]))\n",
    "    if \"UMLS_CUI:\" in extID:\n",
    "        statements.append(wdi_core.WDExternalID(row[\"exactMatch\"], prop_nr=\"P2892\", references=[copy.deepcopy(do_reference)]))\n",
    "item = wdi_core.WDItemEngine(data=statements, keep_good_ref_statements=True)\n",
    "print(item.write(login))\n"
   ]
  },
  {
   "cell_type": "code",
   "execution_count": null,
   "id": "55cb9694",
   "metadata": {},
   "outputs": [],
   "source": []
  }
 ],
 "metadata": {
  "kernelspec": {
   "display_name": "Python 3 (ipykernel)",
   "language": "python",
   "name": "python3"
  },
  "language_info": {
   "codemirror_mode": {
    "name": "ipython",
    "version": 3
   },
   "file_extension": ".py",
   "mimetype": "text/x-python",
   "name": "python",
   "nbconvert_exporter": "python",
   "pygments_lexer": "ipython3",
   "version": "3.8.10"
  }
 },
 "nbformat": 4,
 "nbformat_minor": 5
}
