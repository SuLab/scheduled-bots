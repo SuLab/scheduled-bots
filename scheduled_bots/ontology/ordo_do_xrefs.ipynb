{
 "cells": [
  {
   "cell_type": "code",
   "execution_count": 1,
   "metadata": {
    "collapsed": true
   },
   "outputs": [],
   "source": [
    "import sys, os\n",
    "sys.path.insert(0, \"/home/gstupp/projects/wikidata-biothings/scheduled_bots\")\n",
    "sys.path.insert(0, \"/home/gstupp/projects/WikidataIntegrator/\")"
   ]
  },
  {
   "cell_type": "code",
   "execution_count": 14,
   "metadata": {
    "collapsed": true
   },
   "outputs": [],
   "source": [
    "import json\n",
    "from collections import defaultdict\n",
    "import pytablewriter\n",
    "import pandas as pd\n",
    "pd.options.display.max_colwidth = 0\n",
    "from collections import OrderedDict\n",
    "from scheduled_bots.ontology.DOID_obographs_bot import *\n",
    "json_path='doid.json'"
   ]
  },
  {
   "cell_type": "code",
   "execution_count": 3,
   "metadata": {
    "collapsed": true
   },
   "outputs": [],
   "source": [
    "with open(json_path) as f:\n",
    "    d = json.load(f)\n",
    "graphs = {g['id']: g for g in d['graphs']}\n",
    "graph = graphs['http://purl.obolibrary.org/obo/doid.owl']\n",
    "do = DOGraph(graph, None, True)"
   ]
  },
  {
   "cell_type": "code",
   "execution_count": 4,
   "metadata": {
    "collapsed": true
   },
   "outputs": [],
   "source": [
    "d = defaultdict(set)\n",
    "for node in do.nodes.values():\n",
    "    for xref in node.xrefs:\n",
    "        d[xref].add(node.id)"
   ]
  },
  {
   "cell_type": "code",
   "execution_count": 5,
   "metadata": {},
   "outputs": [
    {
     "data": {
      "text/plain": [
       "1496"
      ]
     },
     "execution_count": 5,
     "metadata": {},
     "output_type": "execute_result"
    }
   ],
   "source": [
    "dupes = sorted({k:v for k,v in d.items() if len(v)>1}.items(), key=lambda x:len(x[1]), reverse=True)\n",
    "len(dupes)"
   ]
  },
  {
   "cell_type": "code",
   "execution_count": 6,
   "metadata": {
    "collapsed": true
   },
   "outputs": [],
   "source": [
    "dupe_key = defaultdict(dict)\n",
    "for k,v in dupes:\n",
    "    prefix, _id = k.split(\":\", 1)\n",
    "    dupe_key[prefix][_id] = v"
   ]
  },
  {
   "cell_type": "code",
   "execution_count": 7,
   "metadata": {},
   "outputs": [
    {
     "data": {
      "text/plain": [
       "{'CSP': 1,\n",
       " 'ICD10CM': 280,\n",
       " 'ICD9CM': 35,\n",
       " 'ICDCM10': 1,\n",
       " 'KEGG': 2,\n",
       " 'MESH': 200,\n",
       " 'NCI': 37,\n",
       " 'OMIM': 46,\n",
       " 'ORDO': 40,\n",
       " 'SNOMEDCT_US_2016_03_01': 803,\n",
       " 'UMLS_CUI': 51}"
      ]
     },
     "execution_count": 7,
     "metadata": {},
     "output_type": "execute_result"
    }
   ],
   "source": [
    "{k:len(v) for k,v in dupe_key.items()}"
   ]
  },
  {
   "cell_type": "code",
   "execution_count": 8,
   "metadata": {
    "scrolled": true
   },
   "outputs": [
    {
     "data": {
      "text/plain": [
       "{'101046': {'http://purl.obolibrary.org/obo/DOID_0060748',\n",
       "  'http://purl.obolibrary.org/obo/DOID_0060751',\n",
       "  'http://purl.obolibrary.org/obo/DOID_0060754'},\n",
       " '103908': {'http://purl.obolibrary.org/obo/DOID_0060777',\n",
       "  'http://purl.obolibrary.org/obo/DOID_0060781'},\n",
       " '137783': {'http://purl.obolibrary.org/obo/DOID_0060560',\n",
       "  'http://purl.obolibrary.org/obo/DOID_0060653'},\n",
       " '140957': {'http://purl.obolibrary.org/obo/DOID_0060691',\n",
       "  'http://purl.obolibrary.org/obo/DOID_0090102'},\n",
       " '1496': {'http://purl.obolibrary.org/obo/DOID_0060600',\n",
       "  'http://purl.obolibrary.org/obo/DOID_0090003'},\n",
       " '163717': {'http://purl.obolibrary.org/obo/DOID_0060749',\n",
       "  'http://purl.obolibrary.org/obo/DOID_0060750',\n",
       "  'http://purl.obolibrary.org/obo/DOID_0060752'},\n",
       " '169147': {'http://purl.obolibrary.org/obo/DOID_0060295',\n",
       "  'http://purl.obolibrary.org/obo/DOID_0060297',\n",
       "  'http://purl.obolibrary.org/obo/DOID_0060298'},\n",
       " '169150': {'http://purl.obolibrary.org/obo/DOID_0060299',\n",
       "  'http://purl.obolibrary.org/obo/DOID_0060301',\n",
       "  'http://purl.obolibrary.org/obo/DOID_0060302',\n",
       "  'http://purl.obolibrary.org/obo/DOID_0060303',\n",
       "  'http://purl.obolibrary.org/obo/DOID_8158'},\n",
       " '183666': {'http://purl.obolibrary.org/obo/DOID_0060758',\n",
       "  'http://purl.obolibrary.org/obo/DOID_0060759',\n",
       "  'http://purl.obolibrary.org/obo/DOID_0060760'},\n",
       " '1896': {'http://purl.obolibrary.org/obo/DOID_0060782',\n",
       "  'http://purl.obolibrary.org/obo/DOID_0060783',\n",
       "  'http://purl.obolibrary.org/obo/DOID_0060784'},\n",
       " '221061': {'http://purl.obolibrary.org/obo/DOID_0060670',\n",
       "  'http://purl.obolibrary.org/obo/DOID_0060671'},\n",
       " '2254': {'http://purl.obolibrary.org/obo/DOID_0060265',\n",
       "  'http://purl.obolibrary.org/obo/DOID_0060266'},\n",
       " '231183': {'http://purl.obolibrary.org/obo/DOID_0110828',\n",
       "  'http://purl.obolibrary.org/obo/DOID_0110829'},\n",
       " '2440': {'http://purl.obolibrary.org/obo/DOID_0090020',\n",
       "  'http://purl.obolibrary.org/obo/DOID_0090021',\n",
       "  'http://purl.obolibrary.org/obo/DOID_0090022',\n",
       "  'http://purl.obolibrary.org/obo/DOID_0090023',\n",
       "  'http://purl.obolibrary.org/obo/DOID_0090025',\n",
       "  'http://purl.obolibrary.org/obo/DOID_0090026',\n",
       "  'http://purl.obolibrary.org/obo/DOID_0090027'},\n",
       " '2524': {'http://purl.obolibrary.org/obo/DOID_0060267',\n",
       "  'http://purl.obolibrary.org/obo/DOID_0060268',\n",
       "  'http://purl.obolibrary.org/obo/DOID_0060269',\n",
       "  'http://purl.obolibrary.org/obo/DOID_0060270'},\n",
       " '2542': {'http://purl.obolibrary.org/obo/DOID_0060835',\n",
       "  'http://purl.obolibrary.org/obo/DOID_0060836',\n",
       "  'http://purl.obolibrary.org/obo/DOID_0060838',\n",
       "  'http://purl.obolibrary.org/obo/DOID_0060839',\n",
       "  'http://purl.obolibrary.org/obo/DOID_0060840',\n",
       "  'http://purl.obolibrary.org/obo/DOID_0060841',\n",
       "  'http://purl.obolibrary.org/obo/DOID_0060842'},\n",
       " '254913': {'http://purl.obolibrary.org/obo/DOID_0050768',\n",
       "  'http://purl.obolibrary.org/obo/DOID_0060332',\n",
       "  'http://purl.obolibrary.org/obo/DOID_0060333'},\n",
       " '256': {'http://purl.obolibrary.org/obo/DOID_0060730',\n",
       "  'http://purl.obolibrary.org/obo/DOID_0090058'},\n",
       " '280763': {'http://purl.obolibrary.org/obo/DOID_0110799',\n",
       "  'http://purl.obolibrary.org/obo/DOID_0110802',\n",
       "  'http://purl.obolibrary.org/obo/DOID_0110803',\n",
       "  'http://purl.obolibrary.org/obo/DOID_0110804'},\n",
       " '282': {'http://purl.obolibrary.org/obo/DOID_0060672',\n",
       "  'http://purl.obolibrary.org/obo/DOID_9255'},\n",
       " '3107': {'http://purl.obolibrary.org/obo/DOID_0060765',\n",
       "  'http://purl.obolibrary.org/obo/DOID_0060766',\n",
       "  'http://purl.obolibrary.org/obo/DOID_0060767'},\n",
       " '3152': {'http://purl.obolibrary.org/obo/DOID_0060251',\n",
       "  'http://purl.obolibrary.org/obo/DOID_0060756',\n",
       "  'http://purl.obolibrary.org/obo/DOID_0060757'},\n",
       " '3197': {'http://purl.obolibrary.org/obo/DOID_0060695',\n",
       "  'http://purl.obolibrary.org/obo/DOID_0060696',\n",
       "  'http://purl.obolibrary.org/obo/DOID_0060697',\n",
       "  'http://purl.obolibrary.org/obo/DOID_0060698'},\n",
       " '323': {'http://purl.obolibrary.org/obo/DOID_0060821',\n",
       "  'http://purl.obolibrary.org/obo/DOID_14711'},\n",
       " '33226': {'http://purl.obolibrary.org/obo/DOID_0050747',\n",
       "  'http://purl.obolibrary.org/obo/DOID_0060901'},\n",
       " '34527': {'http://purl.obolibrary.org/obo/DOID_0060882',\n",
       "  'http://purl.obolibrary.org/obo/DOID_0060884'},\n",
       " '391411': {'http://purl.obolibrary.org/obo/DOID_0060891',\n",
       "  'http://purl.obolibrary.org/obo/DOID_0060894'},\n",
       " '47045': {'http://purl.obolibrary.org/obo/DOID_0090061',\n",
       "  'http://purl.obolibrary.org/obo/DOID_0090062',\n",
       "  'http://purl.obolibrary.org/obo/DOID_0090065'},\n",
       " '478': {'http://purl.obolibrary.org/obo/DOID_0090070',\n",
       "  'http://purl.obolibrary.org/obo/DOID_3614'},\n",
       " '7': {'http://purl.obolibrary.org/obo/DOID_0060565',\n",
       "  'http://purl.obolibrary.org/obo/DOID_0060571',\n",
       "  'http://purl.obolibrary.org/obo/DOID_0060572'},\n",
       " '75376': {'http://purl.obolibrary.org/obo/DOID_0060745',\n",
       "  'http://purl.obolibrary.org/obo/DOID_0060746'},\n",
       " '756': {'http://purl.obolibrary.org/obo/DOID_0060854',\n",
       "  'http://purl.obolibrary.org/obo/DOID_0060855'},\n",
       " '768': {'http://purl.obolibrary.org/obo/DOID_0060173',\n",
       "  'http://purl.obolibrary.org/obo/DOID_2843'},\n",
       " '862': {'http://purl.obolibrary.org/obo/DOID_4890',\n",
       "  'http://purl.obolibrary.org/obo/DOID_4990'},\n",
       " '90636': {'http://purl.obolibrary.org/obo/DOID_0050565',\n",
       "  'http://purl.obolibrary.org/obo/DOID_0110489'},\n",
       " '97360': {'http://purl.obolibrary.org/obo/DOID_0060254',\n",
       "  'http://purl.obolibrary.org/obo/DOID_0060764',\n",
       "  'http://purl.obolibrary.org/obo/DOID_0060765',\n",
       "  'http://purl.obolibrary.org/obo/DOID_0060766',\n",
       "  'http://purl.obolibrary.org/obo/DOID_0060767'},\n",
       " '98809': {'http://purl.obolibrary.org/obo/DOID_0090053',\n",
       "  'http://purl.obolibrary.org/obo/DOID_0090054'},\n",
       " '98810': {'http://purl.obolibrary.org/obo/DOID_0090047',\n",
       "  'http://purl.obolibrary.org/obo/DOID_0090049'},\n",
       " '98819': {'http://purl.obolibrary.org/obo/DOID_0060753',\n",
       "  'http://purl.obolibrary.org/obo/DOID_0060755'},\n",
       " '99772': {'http://purl.obolibrary.org/obo/DOID_0110214',\n",
       "  'http://purl.obolibrary.org/obo/DOID_674'}}"
      ]
     },
     "execution_count": 8,
     "metadata": {},
     "output_type": "execute_result"
    }
   ],
   "source": [
    "dupe_key['ORDO']"
   ]
  },
  {
   "cell_type": "code",
   "execution_count": 23,
   "metadata": {},
   "outputs": [],
   "source": [
    "ordo_url = \"http://www.orpha.net/consor/cgi-bin/OC_Exp.php?lng=EN&Expert=\"\n",
    "df = pd.DataFrame([{'notes': '', 'ordo': ordo_url + k, \"do\": \"\\n\".join(\"{} ({})\".format(do.nodes[x].lbl,x) if x in do.nodes else \"*\" for x in v )} for k,v in dupe_key['ORDO'].items()])\n",
    "df = df[['ordo', 'do', 'notes']]"
   ]
  },
  {
   "cell_type": "code",
   "execution_count": 24,
   "metadata": {},
   "outputs": [
    {
     "name": "stdout",
     "output_type": "stream",
     "text": [
      "|                               ordo                                |                                                                                                                                                                                                                                                                           do                                                                                                                                                                                                                                                                           |notes|\n",
      "|-------------------------------------------------------------------|--------------------------------------------------------------------------------------------------------------------------------------------------------------------------------------------------------------------------------------------------------------------------------------------------------------------------------------------------------------------------------------------------------------------------------------------------------------------------------------------------------------------------------------------------------|-----|\n",
      "|http://www.orpha.net/consor/cgi-bin/OC_Exp.php?lng=EN&Expert=33226 |Waldenstroem's macroglobulinemia (http://purl.obolibrary.org/obo/DOID_0060901) lymphoplasmacytic lymphoma (http://purl.obolibrary.org/obo/DOID_0050747)                                                                                                                                                                                                                                                                                                                                                                                                 |     |\n",
      "|http://www.orpha.net/consor/cgi-bin/OC_Exp.php?lng=EN&Expert=103908|congenital secretory sodium diarrhea 8 (http://purl.obolibrary.org/obo/DOID_0060777) congenital secretory sodium diarrhea 3 (http://purl.obolibrary.org/obo/DOID_0060781)                                                                                                                                                                                                                                                                                                                                                                               |     |\n",
      "|http://www.orpha.net/consor/cgi-bin/OC_Exp.php?lng=EN&Expert=47045 |familial cold autoinflammatory syndrome 1 (http://purl.obolibrary.org/obo/DOID_0090062) familial cold autoinflammatory syndrome (http://purl.obolibrary.org/obo/DOID_0090061) familial cold autoinflammatory syndrome 4 (http://purl.obolibrary.org/obo/DOID_0090065)                                                                                                                                                                                                                                                                                   |     |\n",
      "|http://www.orpha.net/consor/cgi-bin/OC_Exp.php?lng=EN&Expert=98810 |paroxysmal nonkinesigenic dyskinesia 2 (http://purl.obolibrary.org/obo/DOID_0090047) paroxysmal nonkinesigenic dyskinesia 1 (http://purl.obolibrary.org/obo/DOID_0090049)                                                                                                                                                                                                                                                                                                                                                                               |     |\n",
      "|http://www.orpha.net/consor/cgi-bin/OC_Exp.php?lng=EN&Expert=280763|hereditary spastic paraplegia 50 (http://purl.obolibrary.org/obo/DOID_0110802) hereditary spastic paraplegia 52 (http://purl.obolibrary.org/obo/DOID_0110804) hereditary spastic paraplegia 51 (http://purl.obolibrary.org/obo/DOID_0110803) hereditary spastic paraplegia 47 (http://purl.obolibrary.org/obo/DOID_0110799)                                                                                                                                                                                                                             |     |\n",
      "|http://www.orpha.net/consor/cgi-bin/OC_Exp.php?lng=EN&Expert=98809 |episodic kinesigenic dyskinesia 2 (http://purl.obolibrary.org/obo/DOID_0090054) episodic kinesigenic dyskinesia 1 (http://purl.obolibrary.org/obo/DOID_0090053)                                                                                                                                                                                                                                                                                                                                                                                         |     |\n",
      "|http://www.orpha.net/consor/cgi-bin/OC_Exp.php?lng=EN&Expert=2254  |pontocerebellar hypoplasia type 1B (http://purl.obolibrary.org/obo/DOID_0060266) pontocerebellar hypoplasia type 1A (http://purl.obolibrary.org/obo/DOID_0060265)                                                                                                                                                                                                                                                                                                                                                                                       |     |\n",
      "|http://www.orpha.net/consor/cgi-bin/OC_Exp.php?lng=EN&Expert=3152  |sclerosteosis 1 (http://purl.obolibrary.org/obo/DOID_0060756) sclerosteosis 2 (http://purl.obolibrary.org/obo/DOID_0060757) sclerosteosis (http://purl.obolibrary.org/obo/DOID_0060251)                                                                                                                                                                                                                                                                                                                                                                 |     |\n",
      "|http://www.orpha.net/consor/cgi-bin/OC_Exp.php?lng=EN&Expert=231183|retinitis pigmentosa-deafness syndrome (http://purl.obolibrary.org/obo/DOID_0110829) Usher syndrome type 3 (http://purl.obolibrary.org/obo/DOID_0110828)                                                                                                                                                                                                                                                                                                                                                                                                |     |\n",
      "|http://www.orpha.net/consor/cgi-bin/OC_Exp.php?lng=EN&Expert=256   |torsion dystonia with onset in infancy (http://purl.obolibrary.org/obo/DOID_0090058) torsion dystonia 1 (http://purl.obolibrary.org/obo/DOID_0060730)                                                                                                                                                                                                                                                                                                                                                                                                   |     |\n",
      "|http://www.orpha.net/consor/cgi-bin/OC_Exp.php?lng=EN&Expert=101046|familial temporal lobe epilepsy 8 (http://purl.obolibrary.org/obo/DOID_0060754) familial temporal lobe epilepsy 1 (http://purl.obolibrary.org/obo/DOID_0060748) familial temporal lobe epilepsy 7 (http://purl.obolibrary.org/obo/DOID_0060751)                                                                                                                                                                                                                                                                                                         |     |\n",
      "|http://www.orpha.net/consor/cgi-bin/OC_Exp.php?lng=EN&Expert=282   |Grn-related frontotemporal lobar degeneration with Tdp43 inclusions (http://purl.obolibrary.org/obo/DOID_0060672) frontotemporal dementia (http://purl.obolibrary.org/obo/DOID_9255)                                                                                                                                                                                                                                                                                                                                                                    |     |\n",
      "|http://www.orpha.net/consor/cgi-bin/OC_Exp.php?lng=EN&Expert=391411|early-onset Parkinson disease (http://purl.obolibrary.org/obo/DOID_0060894) juvenile onset Parkinson disease 19A (http://purl.obolibrary.org/obo/DOID_0060891)                                                                                                                                                                                                                                                                                                                                                                                          |     |\n",
      "|http://www.orpha.net/consor/cgi-bin/OC_Exp.php?lng=EN&Expert=97360 |autosomal dominant Robinow syndrome 1 (http://purl.obolibrary.org/obo/DOID_0060766) autosomal dominant Robinow syndrome 3 (http://purl.obolibrary.org/obo/DOID_0060767) autosomal recessive Robinow syndrome (http://purl.obolibrary.org/obo/DOID_0060764) autosomal dominant Robinow syndrome 2 (http://purl.obolibrary.org/obo/DOID_0060765) Robinow syndrome (http://purl.obolibrary.org/obo/DOID_0060254)                                                                                                                                           |     |\n",
      "|http://www.orpha.net/consor/cgi-bin/OC_Exp.php?lng=EN&Expert=1496  |agenesis of the corpus callosum with peripheral neuropathy (http://purl.obolibrary.org/obo/DOID_0090003) hereditary motor and sensory neuropathy with agenesis of the corpus callosum (http://purl.obolibrary.org/obo/DOID_0060600)                                                                                                                                                                                                                                                                                                                     |     |\n",
      "|http://www.orpha.net/consor/cgi-bin/OC_Exp.php?lng=EN&Expert=137783|lethal congenital contracture syndrome 3 (http://purl.obolibrary.org/obo/DOID_0060653) lethal congenital contracture syndrome 2 (http://purl.obolibrary.org/obo/DOID_0060560)                                                                                                                                                                                                                                                                                                                                                                           |     |\n",
      "|http://www.orpha.net/consor/cgi-bin/OC_Exp.php?lng=EN&Expert=862   |juvenile myoclonic epilepsy (http://purl.obolibrary.org/obo/DOID_4890) essential tremor (http://purl.obolibrary.org/obo/DOID_4990)                                                                                                                                                                                                                                                                                                                                                                                                                      |     |\n",
      "|http://www.orpha.net/consor/cgi-bin/OC_Exp.php?lng=EN&Expert=3107  |autosomal dominant Robinow syndrome 1 (http://purl.obolibrary.org/obo/DOID_0060766) autosomal dominant Robinow syndrome 3 (http://purl.obolibrary.org/obo/DOID_0060767) autosomal dominant Robinow syndrome 2 (http://purl.obolibrary.org/obo/DOID_0060765)                                                                                                                                                                                                                                                                                             |     |\n",
      "|http://www.orpha.net/consor/cgi-bin/OC_Exp.php?lng=EN&Expert=169150|type I complement component 8 deficiency (http://purl.obolibrary.org/obo/DOID_0060301) complement component 9 deficiency (http://purl.obolibrary.org/obo/DOID_0060303) complement component 5 deficiency (http://purl.obolibrary.org/obo/DOID_8158) complement component 6 deficiency (http://purl.obolibrary.org/obo/DOID_0060299) type II complement component 8 deficiency (http://purl.obolibrary.org/obo/DOID_0060302)                                                                                                                             |     |\n",
      "|http://www.orpha.net/consor/cgi-bin/OC_Exp.php?lng=EN&Expert=1896  |ectrodactyly, ectodermal dysplasia, and cleft lip-palate syndrome 1 (http://purl.obolibrary.org/obo/DOID_0060784) EEC syndrome (http://purl.obolibrary.org/obo/DOID_0060782) ectrodactyly, ectodermal dysplasia, and cleft lip-palate syndrome 3 (http://purl.obolibrary.org/obo/DOID_0060783)                                                                                                                                                                                                                                                          |     |\n",
      "|http://www.orpha.net/consor/cgi-bin/OC_Exp.php?lng=EN&Expert=34527 |renal hypomagnesemia 6 (http://purl.obolibrary.org/obo/DOID_0060884) renal hypomagnesemia 4 (http://purl.obolibrary.org/obo/DOID_0060882)                                                                                                                                                                                                                                                                                                                                                                                                               |     |\n",
      "|http://www.orpha.net/consor/cgi-bin/OC_Exp.php?lng=EN&Expert=2542  |isolated microphthalmia 7 (http://purl.obolibrary.org/obo/DOID_0060838) isolated microphthalmia 1 (http://purl.obolibrary.org/obo/DOID_0060840) isolated microphthalmia 8 (http://purl.obolibrary.org/obo/DOID_0060841) isolated microphthalmia 4 (http://purl.obolibrary.org/obo/DOID_0060836) isolated microphthalmia 3 (http://purl.obolibrary.org/obo/DOID_0060842) isolated microphthalmia 2 (http://purl.obolibrary.org/obo/DOID_0060839) isolated microphthalmia 6 (http://purl.obolibrary.org/obo/DOID_0060835)                                 |     |\n",
      "|http://www.orpha.net/consor/cgi-bin/OC_Exp.php?lng=EN&Expert=3197  |hyperekplexia (http://purl.obolibrary.org/obo/DOID_0060695) hyperekplexia 3 (http://purl.obolibrary.org/obo/DOID_0060698) hyperekplexia 2 (http://purl.obolibrary.org/obo/DOID_0060697) hyperekplexia 1 (http://purl.obolibrary.org/obo/DOID_0060696)                                                                                                                                                                                                                                                                                                   |     |\n",
      "|http://www.orpha.net/consor/cgi-bin/OC_Exp.php?lng=EN&Expert=478   |hypogonadotropic hypogonadism (http://purl.obolibrary.org/obo/DOID_0090070) Kallmann syndrome (http://purl.obolibrary.org/obo/DOID_3614)                                                                                                                                                                                                                                                                                                                                                                                                                |     |\n",
      "|http://www.orpha.net/consor/cgi-bin/OC_Exp.php?lng=EN&Expert=163717|familial temporal lobe epilepsy 6 (http://purl.obolibrary.org/obo/DOID_0060749) familial temporal lobe epilepsy 5 (http://purl.obolibrary.org/obo/DOID_0060752) familial temporal lobe epilepsy 3 (http://purl.obolibrary.org/obo/DOID_0060750)                                                                                                                                                                                                                                                                                                         |     |\n",
      "|http://www.orpha.net/consor/cgi-bin/OC_Exp.php?lng=EN&Expert=2524  |pontocerebellar hypoplasia type 2B (http://purl.obolibrary.org/obo/DOID_0060268) pontocerebellar hypoplasia type 2C (http://purl.obolibrary.org/obo/DOID_0060269) pontocerebellar hypoplasia type 2D (http://purl.obolibrary.org/obo/DOID_0060270) pontocerebellar hypoplasia type 2A (http://purl.obolibrary.org/obo/DOID_0060267)                                                                                                                                                                                                                     |     |\n",
      "|http://www.orpha.net/consor/cgi-bin/OC_Exp.php?lng=EN&Expert=75376 |Doyne honeycomb retinal dystrophy (http://purl.obolibrary.org/obo/DOID_0060745) basal laminar drusen (http://purl.obolibrary.org/obo/DOID_0060746)                                                                                                                                                                                                                                                                                                                                                                                                      |     |\n",
      "|http://www.orpha.net/consor/cgi-bin/OC_Exp.php?lng=EN&Expert=254913|mitochondrial complex V (ATP synthase) deficiency nuclear type 4 (http://purl.obolibrary.org/obo/DOID_0060333) mitochondrial complex V (ATP synthase) deficiency, nuclear type 1 (http://purl.obolibrary.org/obo/DOID_0050768) mitochondrial complex V (ATP synthase) deficiency nuclear type 3 (http://purl.obolibrary.org/obo/DOID_0060332)                                                                                                                                                                                                           |     |\n",
      "|http://www.orpha.net/consor/cgi-bin/OC_Exp.php?lng=EN&Expert=140957|autosomal dominant macrothrombocytopenia TUBB1-related  (http://purl.obolibrary.org/obo/DOID_0090102) platelet-type bleeding disorder 16 (http://purl.obolibrary.org/obo/DOID_0060691)                                                                                                                                                                                                                                                                                                                                                                  |     |\n",
      "|http://www.orpha.net/consor/cgi-bin/OC_Exp.php?lng=EN&Expert=169147|complement component 2 deficiency (http://purl.obolibrary.org/obo/DOID_0060295) complement component 4b deficiency (http://purl.obolibrary.org/obo/DOID_0060298) complement component 4a deficiency (http://purl.obolibrary.org/obo/DOID_0060297)                                                                                                                                                                                                                                                                                                       |     |\n",
      "|http://www.orpha.net/consor/cgi-bin/OC_Exp.php?lng=EN&Expert=183666|immunodeficiency with hyper-IgM type 2 (http://purl.obolibrary.org/obo/DOID_0060758) immunodeficiency with hyper IgM type 5 (http://purl.obolibrary.org/obo/DOID_0060759) immunodeficiency with hyper-IgM type 4 (http://purl.obolibrary.org/obo/DOID_0060760)                                                                                                                                                                                                                                                                                          |     |\n",
      "|http://www.orpha.net/consor/cgi-bin/OC_Exp.php?lng=EN&Expert=756   |autosomal dominant pseudohypoaldosteronism type 1 (http://purl.obolibrary.org/obo/DOID_0060855) autosomal recessive pseudohypoaldosteronism type 1 (http://purl.obolibrary.org/obo/DOID_0060854)                                                                                                                                                                                                                                                                                                                                                        |     |\n",
      "|http://www.orpha.net/consor/cgi-bin/OC_Exp.php?lng=EN&Expert=98819 |familial temporal lobe epilepsy 4 (http://purl.obolibrary.org/obo/DOID_0060753) familial temporal lobe epilepsy 2 (http://purl.obolibrary.org/obo/DOID_0060755)                                                                                                                                                                                                                                                                                                                                                                                         |     |\n",
      "|http://www.orpha.net/consor/cgi-bin/OC_Exp.php?lng=EN&Expert=7     |Ritscher-Schinzel syndrome 1 (http://purl.obolibrary.org/obo/DOID_0060571) Ritscher-Schinzel syndrome (http://purl.obolibrary.org/obo/DOID_0060565) Ritscher-Schinzel syndrome 2 (http://purl.obolibrary.org/obo/DOID_0060572)                                                                                                                                                                                                                                                                                                                          |     |\n",
      "|http://www.orpha.net/consor/cgi-bin/OC_Exp.php?lng=EN&Expert=323   |syndromic X-linked intellectual disability 14 (http://purl.obolibrary.org/obo/DOID_0060821) FG syndrome (http://purl.obolibrary.org/obo/DOID_14711)                                                                                                                                                                                                                                                                                                                                                                                                     |     |\n",
      "|http://www.orpha.net/consor/cgi-bin/OC_Exp.php?lng=EN&Expert=768   |Timothy syndrome (http://purl.obolibrary.org/obo/DOID_0060173) long QT syndrome (http://purl.obolibrary.org/obo/DOID_2843)                                                                                                                                                                                                                                                                                                                                                                                                                              |     |\n",
      "|http://www.orpha.net/consor/cgi-bin/OC_Exp.php?lng=EN&Expert=99772 |cleft palate (http://purl.obolibrary.org/obo/DOID_674) cleft soft palate (http://purl.obolibrary.org/obo/DOID_0110214)                                                                                                                                                                                                                                                                                                                                                                                                                                  |     |\n",
      "|http://www.orpha.net/consor/cgi-bin/OC_Exp.php?lng=EN&Expert=90636 |autosomal recessive nonsyndromic deafness 30 (http://purl.obolibrary.org/obo/DOID_0110489) autosomal recessive nonsyndromic deafness (http://purl.obolibrary.org/obo/DOID_0050565)                                                                                                                                                                                                                                                                                                                                                                      |     |\n",
      "|http://www.orpha.net/consor/cgi-bin/OC_Exp.php?lng=EN&Expert=221061|cerebral cavernous malformation 2 (http://purl.obolibrary.org/obo/DOID_0060670) cerebral cavernous malformation 3 (http://purl.obolibrary.org/obo/DOID_0060671)                                                                                                                                                                                                                                                                                                                                                                                         |     |\n",
      "|http://www.orpha.net/consor/cgi-bin/OC_Exp.php?lng=EN&Expert=2440  |split hand-foot malformation 1 (http://purl.obolibrary.org/obo/DOID_0090021) split hand-foot malformation (http://purl.obolibrary.org/obo/DOID_0090020) split hand-foot malformation 5 (http://purl.obolibrary.org/obo/DOID_0090022) split hand-foot malformation 6 (http://purl.obolibrary.org/obo/DOID_0090026) split hand-foot malformation 3 (http://purl.obolibrary.org/obo/DOID_0090025) split hand-foot malformation 2 (http://purl.obolibrary.org/obo/DOID_0090027) split hand-foot malformation 4 (http://purl.obolibrary.org/obo/DOID_0090023)|     |\n",
      "\n"
     ]
    }
   ],
   "source": [
    "writer = pytablewriter.MarkdownTableWriter()\n",
    "writer.header_list = list(df.columns.values)\n",
    "writer.value_matrix = df.values.tolist()\n",
    "writer.write_table()"
   ]
  },
  {
   "cell_type": "code",
   "execution_count": null,
   "metadata": {
    "collapsed": true
   },
   "outputs": [],
   "source": [
    ""
   ]
  }
 ],
 "metadata": {
  "kernelspec": {
   "display_name": "Python 3",
   "language": "python",
   "name": "python3"
  },
  "language_info": {
   "codemirror_mode": {
    "name": "ipython",
    "version": 3.0
   },
   "file_extension": ".py",
   "mimetype": "text/x-python",
   "name": "python",
   "nbconvert_exporter": "python",
   "pygments_lexer": "ipython3",
   "version": "3.5.2"
  }
 },
 "nbformat": 4,
 "nbformat_minor": 0
}