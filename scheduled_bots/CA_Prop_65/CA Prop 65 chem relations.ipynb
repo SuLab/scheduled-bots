{
 "cells": [
  {
   "cell_type": "markdown",
   "metadata": {},
   "source": [
    "# CA Prop 65 Chemical categorization\n",
    "California Proposition 65 requires labeling for chemical acknowledged in the state of California as causing cancer or reproductive/developmental toxicity. This enables us to categorize the chemicals on the Prop 65 list as instances of 'carcinogen', 'reproductive toxicant', 'male reproductive toxicant', 'female reproductive toxicant', and 'developmental toxicant' in Wikidata adding some very basic (and somewhat indirect) chem-disease relationships\n",
    "\n",
    "Note that California's OEHHA allows users to download a pre-exported .csv file of chemicals listed under Prop 65 (does not include de-listed chemicals). Alternatively, users can export the complete list of chemicals from OEHHA which will include chemicals that are under consideration, currently listed, or formerly listed.\n",
    "\n",
    "This notebook partially explores both exports for the best way for loading the data into Wikidata. The final bot will likely NOT include both methods."
   ]
  },
  {
   "cell_type": "code",
   "execution_count": 1,
   "metadata": {},
   "outputs": [],
   "source": [
    "from wikidataintegrator import wdi_core, wdi_login, wdi_helpers\n",
    "from wikidataintegrator.ref_handlers import update_retrieved_if_new_multiple_refs\n",
    "import pandas as pd\n",
    "from pandas import read_csv\n",
    "import requests\n",
    "from tqdm.notebook import trange, tqdm\n",
    "import ipywidgets \n",
    "import widgetsnbextension\n",
    "import xml.etree.ElementTree as et \n",
    "import time\n"
   ]
  },
  {
   "cell_type": "code",
   "execution_count": null,
   "metadata": {},
   "outputs": [],
   "source": [
    "## Proposition 65 ID: P7524"
   ]
  },
  {
   "cell_type": "code",
   "execution_count": 2,
   "metadata": {},
   "outputs": [],
   "source": [
    "## Note that the property start date is used for list date.\n",
    "## When placed in the references, Deltabot moved it out as a qualifier\n",
    "\n",
    "from datetime import datetime\n",
    "import copy\n",
    "def create_reference(prop65_url):\n",
    "    refStatedIn = wdi_core.WDItemID(value=\"Q28455381\", prop_nr=\"P248\", is_reference=True)\n",
    "    timeStringNow = datetime.now().strftime(\"+%Y-%m-%dT00:00:00Z\")\n",
    "    refRetrieved = wdi_core.WDTime(timeStringNow, prop_nr=\"P813\", is_reference=True)\n",
    "    refURL = wdi_core.WDUrl(value=prop65_url, prop_nr=\"P854\", is_reference=True)\n",
    "    return [refStatedIn, refRetrieved, refURL]"
   ]
  },
  {
   "cell_type": "code",
   "execution_count": null,
   "metadata": {},
   "outputs": [],
   "source": [
    "\"\"\"\n",
    "## Login for Scheduled bot\n",
    "print(\"Logging in...\")\n",
    "try:\n",
    "    from scheduled_bots.local import WDUSER, WDPASS\n",
    "except ImportError:\n",
    "    if \"WDUSER\" in os.environ and \"WDPASS\" in os.environ:\n",
    "        WDUSER = os.environ['WDUSER']\n",
    "        WDPASS = os.environ['WDPASS']\n",
    "    else:\n",
    "        raise ValueError(\"WDUSER and WDPASS must be specified in local.py or as environment variables\")\n",
    "\"\"\""
   ]
  },
  {
   "cell_type": "code",
   "execution_count": 3,
   "metadata": {},
   "outputs": [
    {
     "name": "stdout",
     "output_type": "stream",
     "text": [
      "Logging in...\n",
      "https://www.wikidata.org/w/api.php\n",
      "Successfully logged in as Gtsulab\n"
     ]
    }
   ],
   "source": [
    "print(\"Logging in...\")\n",
    "import wdi_user_config ## Credentials stored in a wdi_user_config file\n",
    "login_dict = wdi_user_config.get_credentials()\n",
    "login = wdi_login.WDLogin(login_dict['WDUSER'], login_dict['WDPASS'])\n"
   ]
  },
  {
   "cell_type": "code",
   "execution_count": null,
   "metadata": {},
   "outputs": [],
   "source": [
    "## Set up logging\n",
    "\n",
    "wdi_core.WDItemEngine.setup_logging(header=json.dumps({'name': 'prop_65', \n",
    "                                                       'timestamp': str(datetime.now()), \n",
    "                                                       'run_id': str(datetime.now())}))"
   ]
  },
  {
   "cell_type": "markdown",
   "metadata": {},
   "source": [
    "# Get the most recent csv file and parse it\n",
    "\n",
    "## Prop 65 list method\n",
    "The updates appear to be posted on this site: https://oehha.ca.gov/proposition-65/proposition-65-list\n",
    "Since the updated data file name changes depending on the update date, it would be nice if the newer file name could be scraped from this page instead of being hard-coded in. It would be nice if date could also be scraped from this page and used for comparison to determine if changes were made and if an update is needed.\n",
    "\n",
    "Unfortunately, this page uses iframes and is protected from robots using captchas (Incapsula), so the csv should be manually downloaded to the data folder and named by the update date (YYYY-MM-DD.csv) prior to running the bot"
   ]
  },
  {
   "cell_type": "code",
   "execution_count": null,
   "metadata": {},
   "outputs": [],
   "source": [
    "datasrc = 'data/2019-09-13.csv'\n",
    "\n",
    "header_junk = 11 ## Note, the number of rows to skip may change\n",
    "tail_junk = 6\n",
    "\n",
    "chem_list = read_csv(datasrc, skiprows=header_junk, encoding = 'unicode_escape') \n",
    "chem_list.dropna(axis='columns', how='all',inplace=True)\n",
    "chem_list.fillna(\"None\", inplace=True)\n",
    "chem_list.drop_duplicates(keep='first',inplace=True)\n",
    "## Filter out blank entries\n",
    "chem_list_clean = chem_list.loc[(chem_list['Chemical']!=\"None\")].copy()\n",
    "chem_list_clean.drop(chem_list_clean.tail(tail_junk).index,inplace=True)\n",
    "print(chem_list_clean.tail(n=3))"
   ]
  },
  {
   "cell_type": "markdown",
   "metadata": {},
   "source": [
    "Note that the csv table has sub-entries which appear as seperate entries, but should retain the header entry data except for the last field.  These will need to be accounted for. As of the csv file dated from 2019.09.13, these entries are preceded with some spaces. Another way to filter for them is to pull entries which have \"None\" for everything but 'chemical name' and 'NSRL or MADL'"
   ]
  },
  {
   "cell_type": "code",
   "execution_count": null,
   "metadata": {},
   "outputs": [],
   "source": [
    "sub_entries = chem_list_clean.loc[(chem_list_clean['Chemical'].str.contains(\"  \")) &\n",
    "                                  (chem_list_clean['Type of Toxicity']==\"None\") &\n",
    "                                  (chem_list_clean['Listing Mechanism']==\"None\")]\n",
    "print(sub_entries.head(n=3))\n",
    "print(len(sub_entries))"
   ]
  },
  {
   "cell_type": "markdown",
   "metadata": {},
   "source": [
    "The actual toxicity information for these sub-entries can actually be found in the header entry.  To find these, obtain the index values for these entries. If entries are sequential, the header-entry should be 1 less the smallest index value. The values could be copied over, though the CAS number should not be copied over.\n",
    "\n",
    "Alternatively, entries without CAS numbers can be assumed to have sub-entries and can be ignored, but doing this will skip entries which do have profiles, but not CAS numbers. Eg- Alcoholic Beverages which doesn't have a CAS No. but will likely be appropriately matched via Mix N Match. As a result, we should be able to cover cases like this even if it doesn't have a CAS number.\n",
    "\n",
    "That said, aggregate entries only have 1 prop 65 page and multiple Wikidata pages, which would result in one to many mappings. Since it's unclear how these will be handled by the Mix N match community, the first pass should ignore the aggregate entries (which can be identified as mentioned above)"
   ]
  },
  {
   "cell_type": "markdown",
   "metadata": {},
   "source": [
    "### Chemical names to URL conversion\n",
    "The property in Wikidata uses the URL stub as ID so we'll need to convert the Chemical names to url stubs that work with prop65 website. The urls will then be mapped to Wikidata entries with the property that were added via Mix N match. Normally, urls can be tested, but CA Prop 65 website has captcha protection and blocks scrapers.\n",
    "\n",
    "Also, note that the items that have been de-listed have urls, but their urls are no longer readily available (ie- the urls work, but are not necessarily listed)\n",
    "\n",
    "Example conversion:\n",
    "* \"A-alpha-C (2-Amino-9H-pyrido[2,3-b]indole)\" --> \"alpha-c-2-amino-9h-pyrido23-bindole\"\n",
    "* \"Altretamine\" --> \"altretamine\"\n",
    "* \"Allyl chloride  Delisted October 29, 1999 [Click here for the basis for delisting]\" --> \"allyl-chloride\"\n",
    "* \"p-Aminoazobenzene\" --> \"p-aminoazobenzene\"\n",
    "* \"4-Aminobiphenyl (4-aminodiphenyl)\" --> \"4-aminobiphenyl-4-aminodiphenyl\"\n",
    "* \"2-Amino-5-(5-nitro-2-furyl)-1,3,4-thiadiazole\" --> \"2-amino-5-5-nitro-2-furyl-134-thiadiazole\"\n",
    "* \"?-Methyl styrene (alpha-Methylstyrene)\" --> \"methyl-styrene-alpha-methylstyrene\"\n",
    "* \"N,N'-Diacetylbenzidine\" --> \"nn-diacetylbenzidine\"\n",
    "* \"MeIQx (2-Amino-3,8-dimethylimidazo[4,5-f]quinoxaline)\" --> \"meiqx-2-amino-38-dimethylimidazo45-fquinoxaline\"\n",
    "* \"2?Mercaptobenzothiazole\" --> \"2-mercaptobenzothiazole\"\n",
    "* \"Trp-P-1 (Tryptophan-P-1)\" --> \"trp-p-1-tryptophan-p-1\"\n",
    "* \"Alcoholic beverages, when associated with alcohol abuse\" --> \"alcoholic-beverages\"\n",
    "* \"Aspirin (NOTE:  It is especially  important not to use aspirin during the last three months of pregnancy,  unless specifically directed to do so by a physician because it may cause  problems in the unborn child or  complications during delivery.)\" --> \"aspirin\""
   ]
  },
  {
   "cell_type": "markdown",
   "metadata": {},
   "source": [
    "Clean up miscellenous notes included in the chemical names such as 'delistings, delisting dates, changes in listings'. This should be added as deprecation of the statements. \n",
    "\n",
    "Because of all these issues, we'll work with the OEHHA list rather than the Prop 65 list"
   ]
  },
  {
   "cell_type": "markdown",
   "metadata": {},
   "source": [
    "## CA OEHHA clean up method\n",
    "The manually triggered export of chemical list from the OEHHA site has less header junk, random title notes, and other things that disrupt the structure which would make the name convers easier. Additionally, the data on the cancer, reproductive toxicity, etc. is more structured, and doesn't have random blank spaces"
   ]
  },
  {
   "cell_type": "code",
   "execution_count": 4,
   "metadata": {},
   "outputs": [
    {
     "name": "stdout",
     "output_type": "stream",
     "text": [
      "Index(['Title', 'CAS Number', 'Use(s)', 'Synonym(s)', 'Latest Criteria',\n",
      "       'Inhalation Unit Risk (Î¼g/cubic meter)-1',\n",
      "       'Inhalation Slope Factor (mg/kg-day)-1',\n",
      "       'Oral Slope Factor (mg/kg-day)-1', 'Last Cancer Potency Revision',\n",
      "       'Acute REL (Î¼g/m3)', 'Species', 'Acute REL Toxicologic Endpoint',\n",
      "       'Acute REL Target Organs', 'Severity', 'Last Acute REL Revision',\n",
      "       '8-Hour Inhalation REL (Î¼g/m3)', 'Last 8-Hour REL Revision',\n",
      "       'Chronic Inhalation REL (Î¼g/m3)', 'Chronic Toxicologic Endpoint',\n",
      "       'Chronic Target Organs', 'Human Data', 'Health Risk Category',\n",
      "       'Cancer Risk at PHG', 'MCL value (mg/L)', 'Cancer Risk at MCL',\n",
      "       'Notification Level (Î¼g/L)', 'Public Health Goal (mg/L)',\n",
      "       'Last PHG Revision', 'No Significant Risk Level (NSRL) - Inhalation',\n",
      "       'No Significant Risk Level (NSRL) - Oral',\n",
      "       'Maximum Allowable Dose Level (MADL) for chemicals causing reproductive toxicity - Inhalation',\n",
      "       'Maximum Allowable Dose Level (MADL) for chemicals causing reproductive toxicity - Oral',\n",
      "       'Last NSRL/MADL Revision', 'Cancer', 'Cancer - Listing Mechanism',\n",
      "       'Reproductive Toxicity',\n",
      "       'Chemical listed under Proposition 65 as causing',\n",
      "       'Developmental Toxicity - Date of Listing',\n",
      "       'Developmental Toxicity - Listing Mechanism',\n",
      "       'Female Reproductive Toxicity - Date of Listing',\n",
      "       'Female Reproductive Toxicity - Listing Mechanism',\n",
      "       'Male Reproductive Toxicity - Date of Listing',\n",
      "       'Male Reproductive Toxicity - Listing Mechanism',\n",
      "       'Child-specific refence dose (chRD) (mg/kg-day, unless noted)',\n",
      "       'Last chRD revision', 'CHHSL Commercial Non-volatile (mg/kg soil)',\n",
      "       'CHHSL Commercial Volatile, engineered fill (mcg/l soil gas)',\n",
      "       'CHHSL Commercial Volatile, no engineered fill (mcg/l soil gas)',\n",
      "       'CHHSL Residential Volatile, engineered fill (mcg/l soil gas)',\n",
      "       'CHHSL Residential Volatile, no engineered fill (mcg/l soil gas)',\n",
      "       'Soil/soil-gas screening number (CHHSL) Residential Non-volatile (mg/kg soil)'],\n",
      "      dtype='object')\n"
     ]
    }
   ],
   "source": [
    "datasrc = 'data/OEHHA-2019-11-1.csv'\n",
    "\n",
    "chem_list = read_csv(datasrc, encoding = 'unicode_escape', header=0) \n",
    "print(chem_list.columns)\n",
    "chem_list.dropna(axis='columns', how='all',inplace=True)\n",
    "chem_list.fillna(\"None\", inplace=True)\n",
    "#print(chem_list.columns.values)\n",
    "\n",
    "## Pull out only columns of interest for our task\n",
    "cols_of_interest = chem_list[['Title','CAS Number','Cancer','Cancer - Listing Mechanism',\n",
    "                          'Reproductive Toxicity','Chemical listed under Proposition 65 as causing',\n",
    "                          'Developmental Toxicity - Date of Listing','Developmental Toxicity - Listing Mechanism',\n",
    "                          'Female Reproductive Toxicity - Date of Listing',\n",
    "                          'Female Reproductive Toxicity - Listing Mechanism',\n",
    "                          'Male Reproductive Toxicity - Date of Listing',\n",
    "                          'Male Reproductive Toxicity - Listing Mechanism']]\n",
    "\n",
    "## Remove entries which are not relevant\n",
    "prop_65_irrelevant = cols_of_interest.loc[(cols_of_interest['Cancer'] == \"None\") & \n",
    "                                          (cols_of_interest['Reproductive Toxicity'] == \"None\") & \n",
    "                                          (cols_of_interest['Chemical listed under Proposition 65 as causing'] == \"None\")]\n",
    "non_prop_chems = prop_65_irrelevant['Title'].tolist()\n",
    "prop65_chems = cols_of_interest.loc[~cols_of_interest['Title'].isin(non_prop_chems)].copy()\n",
    "#print(prop65_chems.head(n=2))"
   ]
  },
  {
   "cell_type": "markdown",
   "metadata": {},
   "source": [
    "### Chemical names to URL conversion\n",
    "The property in Wikidata uses the URL stub as ID so we'll need to convert the Chemical names to url stubs that work with prop65 website. The urls will then be mapped to Wikidata entries with the property that were added via Mix N match. Normally, urls can be tested, but CA Prop 65 website has captcha protection and blocks scrapers.\n",
    "\n",
    "Example conversion:\n",
    "\"OEHHA listing\" --> \"OEHHA url\" | \"Prop 65 listing\" --> \"Prop 65 url\"\n",
    "* \"Amino-alpha-carboline\" --> \"amino-alpha-carboline\" | \"A-alpha-C (2-Amino-9H-pyrido[2,3-b]indole)\" --> \"alpha-c-2-amino-9h-pyrido23-bindole\"\n",
    "* \"Allyl Chloride\" --> \"allyl-chloride\" | not listed\n",
    "* \"alpha-Methylstyrene\" --> \"alpha-methylstyrene\" | \"?-Methyl styrene (alpha-Methylstyrene)\" --> \"methyl-styrene-alpha-methylstyrene\"\n",
    "* \"MeIQx (2-Amino-3,8-dimethylimidazo[4,5-f]quinoxaline)\" --> \"meiqx-2-amino-38-dimethylimidazo45-fquinoxaline\" | \"MeIQx (2-Amino-3,8-dimethylimidazo[4,5-f]quinoxaline)\" --> \"meiqx-2-amino-38-dimethylimidazo45-fquinoxaline\"\n",
    "* \"2-Mercaptobenzothiazole\" --> \"2-mercaptobenzothiazole\" | \"2?Mercaptobenzothiazole\" --> \"2-mercaptobenzothiazole\"\n",
    "* \"Trp-P-1 (Tryptophan-P-1)\" --> \"trp-p-1-tryptophan-p-1\" | \"Trp-P-1 (Tryptophan-P-1)\" --> \"trp-p-1-tryptophan-p-1\"\n",
    "* \"Alcoholic beverages, when associated with alcohol abuse\" --> \"alcoholic-beverages\" | \"Alcoholic beverages, when associated with alcohol abuse\" --> \"alcoholic-beverages\"\n",
    "* \"Aspirin\" --> \"aspirin\" | \"Aspirin (NOTE:  It is especially  important not to use aspirin during the last three months of pregnancy,  unless specifically directed to do so by a physician because it may cause  problems in the unborn child or  complications during delivery.)\" --> \"aspirin\""
   ]
  },
  {
   "cell_type": "code",
   "execution_count": 5,
   "metadata": {},
   "outputs": [
    {
     "name": "stdout",
     "output_type": "stream",
     "text": [
      "              Entry ID           Entry name   CAS Number  \\\n",
      "0  abiraterone-acetate  Abiraterone acetate  154229-18-2   \n",
      "2         acetaldehyde         Acetaldehyde      75-07-0   \n",
      "\n",
      "                              Entry description  \n",
      "0  Abiraterone acetate, CAS Number: 154229-18-2  \n",
      "2             Acetaldehyde, CAS Number: 75-07-0  \n"
     ]
    }
   ],
   "source": [
    "## To convert the title to a url stub, lower case it, strip out parenthesis, brackets, and commas, and replace spaces with dashes\n",
    "prop65_chems['url_stub'] = prop65_chems['Title'].str.lower().str.replace(\"[\",\"\").str.replace(\"]\",\"\").str.replace(\",\",\"\").str.replace(\"(\",\"\").str.replace(\")\",\"\").str.strip(\"]\").str.replace(\" \",\"-\")\n",
    "#print(prop65_chems.head())\n",
    "\n",
    "## Check the look of the url stub\n",
    "#print(prop65_chems.loc[prop65_chems['Title']==\"Allyl Chloride\"])\n",
    "#print(prop65_chems.loc[prop65_chems['Title']==\"Trp-P-1 (Tryptophan-P-1)\"])\n",
    "#print(prop65_chems.loc[prop65_chems['Title']==\"MeIQx (2-Amino-3,8-dimethylimidazo[4,5-f]quinoxaline)\"])\n",
    "#print(prop65_chems.head(n=2))\n",
    "\n",
    "#print(prop65_chems.head(n=2))\n",
    "mixnmatch_cat = prop65_chems[['url_stub','Title','CAS Number']].copy()\n",
    "mixnmatch_cat.rename(columns={'url_stub':'Entry ID','Title':'Entry name'}, inplace=True)\n",
    "mixnmatch_cat['Entry description'] = mixnmatch_cat['Entry name'].astype(str).str.cat(mixnmatch_cat['CAS Number'].astype(str),sep=\", CAS Number: \")\n",
    "#mixnmatch_cat.drop('CAS Number',axis=1,inplace=True)\n",
    "print(mixnmatch_cat.head(n=2))\n",
    "\n",
    "#mixnmatch_cat.to_csv('data/mixnmatch_cat.tsv',sep='\\t', header=True)"
   ]
  },
  {
   "cell_type": "markdown",
   "metadata": {},
   "source": [
    "### Mapping items to reduce Mix N Match need\n",
    "For entries that can be mapped via CAS ID go ahead and add the Prop65 ID"
   ]
  },
  {
   "cell_type": "code",
   "execution_count": 6,
   "metadata": {},
   "outputs": [
    {
     "name": "stdout",
     "output_type": "stream",
     "text": [
      "   CAS Number   WDID\n",
      "0  12385-13-6   Q556\n",
      "1  53850-35-4  Q1232\n"
     ]
    }
   ],
   "source": [
    "sparqlQuery = \"SELECT * WHERE {?item wdt:P231 ?CAS}\"\n",
    "result = wdi_core.WDItemEngine.execute_sparql_query(sparqlQuery)\n",
    "cas_in_wd_list = []\n",
    "\n",
    "i=0\n",
    "while i < len(result[\"results\"][\"bindings\"]):\n",
    "    cas_id = result[\"results\"][\"bindings\"][i][\"CAS\"][\"value\"]\n",
    "    wdid = result[\"results\"][\"bindings\"][i][\"item\"][\"value\"].replace(\"http://www.wikidata.org/entity/\", \"\")\n",
    "    cas_in_wd_list.append({'WDID':wdid,'CAS Number':cas_id})\n",
    "    i=i+1\n",
    "\n",
    "cas_in_wd = pd.DataFrame(cas_in_wd_list)\n",
    "cas_in_wd.drop_duplicates(subset='CAS Number',keep=False,inplace=True)\n",
    "cas_in_wd.drop_duplicates(subset='WDID',keep=False,inplace=True)\n",
    "print(cas_in_wd.head(n=2))"
   ]
  },
  {
   "cell_type": "code",
   "execution_count": 7,
   "metadata": {},
   "outputs": [
    {
     "name": "stdout",
     "output_type": "stream",
     "text": [
      "              Entry ID           Entry name   CAS Number  \\\n",
      "0  abiraterone-acetate  Abiraterone acetate  154229-18-2   \n",
      "1         acetaldehyde         Acetaldehyde      75-07-0   \n",
      "\n",
      "                              Entry description       WDID  \n",
      "0  Abiraterone acetate, CAS Number: 154229-18-2  Q27888393  \n",
      "1             Acetaldehyde, CAS Number: 75-07-0     Q61457  \n",
      "798\n"
     ]
    }
   ],
   "source": [
    "prop_65_matches = mixnmatch_cat.merge(cas_in_wd,on='CAS Number',how='inner')\n",
    "print(prop_65_matches.head(n=2))\n",
    "print(len(prop_65_matches))\n",
    "#prop_65_matches.to_csv('data/mixnmatch_cat_with_cas.tsv',sep='\\t', header=True)"
   ]
  },
  {
   "cell_type": "code",
   "execution_count": 8,
   "metadata": {},
   "outputs": [
    {
     "name": "stdout",
     "output_type": "stream",
     "text": [
      "107\n"
     ]
    }
   ],
   "source": [
    "## Pull things matched via mix n match\n",
    "sparqlQuery = \"SELECT ?item ?CA65 WHERE {?item wdt:P7524 ?CA65}\"\n",
    "result = wdi_core.WDItemEngine.execute_sparql_query(sparqlQuery)\n",
    "CA65_in_wd_list = []\n",
    "\n",
    "i=0\n",
    "while i < len(result[\"results\"][\"bindings\"]):\n",
    "    CA65_id = result[\"results\"][\"bindings\"][i][\"CA65\"][\"value\"]\n",
    "    wdid = result[\"results\"][\"bindings\"][i][\"item\"][\"value\"].replace(\"http://www.wikidata.org/entity/\", \"\")\n",
    "    CA65_in_wd_list.append({'WDID':wdid,'Entry ID':CA65_id})\n",
    "    i=i+1\n",
    "\n",
    "CA65_in_wd = pd.DataFrame(CA65_in_wd_list)\n",
    "print(len(CA65_in_wd))"
   ]
  },
  {
   "cell_type": "code",
   "execution_count": 9,
   "metadata": {},
   "outputs": [
    {
     "name": "stdout",
     "output_type": "stream",
     "text": [
      "     Entry ID Entry name  CAS Number                  Entry description  \\\n",
      "58   auramine   Auramine    492-80-8     Auramine, CAS Number: 492-80-8   \n",
      "59  auranofin  Auranofin  34031-32-8  Auranofin, CAS Number: 34031-32-8   \n",
      "\n",
      "         WDID  \n",
      "58  Q26840770  \n",
      "59    Q421230  \n"
     ]
    }
   ],
   "source": [
    "## Remove items matched via mix n match from update\n",
    "#print(CA65_in_wd.head(n=2))\n",
    "prop_65_less_mixnmatch = prop_65_matches.loc[~prop_65_matches['Entry ID'].isin(CA65_in_wd['Entry ID'].tolist())]\n",
    "print(prop_65_less_mixnmatch.head(n=2))"
   ]
  },
  {
   "cell_type": "code",
   "execution_count": null,
   "metadata": {},
   "outputs": [],
   "source": [
    "prop65_to_add = prop_65_less_mixnmatch[0:10]\n",
    "url_base = 'https://oehha.ca.gov/chemicals/'\n",
    "list_prop = \"P7524\" \n",
    "\n",
    "for i in tqdm(range(len(prop65_to_add))):\n",
    "    prop_65_qid = prop65_to_add.iloc[i]['WDID']\n",
    "    prop_65_id = prop65_to_add.iloc[i]['Entry ID']\n",
    "    prop_65_url = url_base+prop_65_id\n",
    "    reference = create_reference(prop_65_url)\n",
    "    prop65_statement = [wdi_core.WDString(value=prop_65_id, prop_nr=list_prop, \n",
    "                               references=[copy.deepcopy(reference)])]\n",
    "    item = wdi_core.WDItemEngine(wd_item_id=prop_65_qid, data=prop65_statement, append_value=list_prop,\n",
    "                               global_ref_mode='CUSTOM', ref_handler=update_retrieved_if_new_multiple_refs)\n",
    "    item.write(login, edit_summary=\"added CA prop 65 id\")\n",
    "    print(prop_65_id, prop_65_qid, prop_65_url)\n",
    "    "
   ]
  },
  {
   "cell_type": "markdown",
   "metadata": {},
   "source": [
    "# Clean up the data for Wikidata"
   ]
  },
  {
   "cell_type": "code",
   "execution_count": 10,
   "metadata": {},
   "outputs": [
    {
     "name": "stdout",
     "output_type": "stream",
     "text": [
      "resulting mapping table has:  107  rows.\n"
     ]
    }
   ],
   "source": [
    "## Run sparql query to pull all entities with Prop 65 ID (Read Only Run)\n",
    "sparqlQuery = \"SELECT ?item ?CA65 WHERE {?item wdt:P7524 ?CA65}\"\n",
    "result = wdi_core.WDItemEngine.execute_sparql_query(sparqlQuery)\n",
    "CA65_in_wd_list = []\n",
    "\n",
    "i=0\n",
    "while i < len(result[\"results\"][\"bindings\"]):\n",
    "    CA65_id = result[\"results\"][\"bindings\"][i][\"CA65\"][\"value\"]\n",
    "    wdid = result[\"results\"][\"bindings\"][i][\"item\"][\"value\"].replace(\"http://www.wikidata.org/entity/\", \"\")\n",
    "    CA65_in_wd_list.append({'WDID':wdid,'url_stub':CA65_id})\n",
    "    i=i+1\n",
    "\n",
    "## Inspect the results for mapping or coverage issues\n",
    "CA65_in_wd = pd.DataFrame(CA65_in_wd_list)\n",
    "print(\"resulting mapping table has: \",len(CA65_in_wd),\" rows.\")"
   ]
  },
  {
   "cell_type": "code",
   "execution_count": 11,
   "metadata": {},
   "outputs": [],
   "source": [
    "## Perform left merge for currently listed and partially delisted items\n",
    "prop_65_mapped = prop65_chems.merge(CA65_in_wd, on='url_stub', how='left')\n",
    "#print(prop_65_mapped.head(n=2))"
   ]
  },
  {
   "cell_type": "code",
   "execution_count": 12,
   "metadata": {},
   "outputs": [],
   "source": [
    "prop_65_mapped['Dev current'] = prop_65_mapped['Chemical listed under Proposition 65 as causing'].str.contains(\"Development\")\n",
    "prop_65_mapped['Male current'] = prop_65_mapped['Chemical listed under Proposition 65 as causing'].str.contains(\"Male\")\n",
    "prop_65_mapped['Female current'] = prop_65_mapped['Chemical listed under Proposition 65 as causing'].str.contains(\"Female\")\n",
    "prop_65_mapped['Cancer current'] = prop_65_mapped['Cancer'].str.contains(\"Current\")\n",
    "prop_65_mapped['Rep current'] = prop_65_mapped['Reproductive Toxicity'].str.contains(\"Current\")"
   ]
  },
  {
   "cell_type": "code",
   "execution_count": 13,
   "metadata": {},
   "outputs": [],
   "source": [
    "prop_65_mapped['Cancer delisted'] = prop_65_mapped['Cancer'].str.contains(\"Formerly\")\n",
    "prop_65_mapped['Rep delisted'] = prop_65_mapped['Reproductive Toxicity'].str.contains(\"Formerly\")\n",
    "prop_65_mapped.loc[(((prop_65_mapped['Developmental Toxicity - Date of Listing']!=\"None\")|\n",
    "        (prop_65_mapped['Developmental Toxicity - Listing Mechanism']!=\"None\"))&\n",
    "        (prop_65_mapped['Dev current']==False)), 'Dev delisted'] = True\n",
    "prop_65_mapped.loc[(((prop_65_mapped['Female Reproductive Toxicity - Date of Listing']!=\"None\")|\n",
    "        (prop_65_mapped['Female Reproductive Toxicity - Listing Mechanism']!=\"None\"))&\n",
    "        (prop_65_mapped['Female current']==False)), 'Female delisted'] = True\n",
    "prop_65_mapped.loc[(((prop_65_mapped['Male Reproductive Toxicity - Date of Listing']!=\"None\")|\n",
    "        (prop_65_mapped['Male Reproductive Toxicity - Listing Mechanism']!=\"None\"))&\n",
    "        (prop_65_mapped['Male current']==False)), 'Male delisted'] = True"
   ]
  },
  {
   "cell_type": "code",
   "execution_count": 14,
   "metadata": {},
   "outputs": [],
   "source": [
    "prop_65_mapped.fillna(False, inplace=True)"
   ]
  },
  {
   "cell_type": "code",
   "execution_count": 15,
   "metadata": {},
   "outputs": [
    {
     "name": "stdout",
     "output_type": "stream",
     "text": [
      "Title                                                                             Abiraterone acetate\n",
      "CAS Number                                                                                154229-18-2\n",
      "Cancer                                                                                           None\n",
      "Cancer - Listing Mechanism                                                                       None\n",
      "Reproductive Toxicity                                                                Currently listed\n",
      "Chemical listed under Proposition 65 as causing     Developmental Toxicity, Male Reproductive Toxi...\n",
      "Developmental Toxicity - Date of Listing                                                     4/8/2016\n",
      "Developmental Toxicity - Listing Mechanism                                                         FR\n",
      "Female Reproductive Toxicity - Date of Listing                                               4/8/2016\n",
      "Female Reproductive Toxicity - Listing Mechanism                                                   FR\n",
      "Male Reproductive Toxicity - Date of Listing                                                 4/8/2016\n",
      "Male Reproductive Toxicity - Listing Mechanism                                                     FR\n",
      "url_stub                                                                          abiraterone-acetate\n",
      "WDID                                                                                        Q27888393\n",
      "Dev current                                                                                      True\n",
      "Male current                                                                                     True\n",
      "Female current                                                                                   True\n",
      "Cancer current                                                                                  False\n",
      "Rep current                                                                                      True\n",
      "Cancer delisted                                                                                 False\n",
      "Rep delisted                                                                                    False\n",
      "Dev delisted                                                                                    False\n",
      "Female delisted                                                                                 False\n",
      "Male delisted                                                                                   False\n",
      "Name: 0, dtype: object\n"
     ]
    }
   ],
   "source": [
    "chem_info = prop_65_mapped.iloc[0]\n",
    "print(chem_info)"
   ]
  },
  {
   "cell_type": "code",
   "execution_count": null,
   "metadata": {},
   "outputs": [],
   "source": [
    "#### Query for instance of Carcinogen, reproductive toxicant, etc\n",
    "#### If statement exists, check if it needs to be updated (rank changed to deprecated)\n",
    "#### Else, make no change\n",
    "\n"
   ]
  },
  {
   "cell_type": "code",
   "execution_count": null,
   "metadata": {},
   "outputs": [],
   "source": [
    "## Check presence in Wikidata\n",
    "object_qid = {'femrep':'Q55427776',\n",
    "              'menrep': 'Q55427774',\n",
    "              'devtox': 'Q72941151',\n",
    "              'cancer': 'Q187661',\n",
    "              'reptox': 'Q55427767'}\n",
    "\n",
    "tmplist = []\n",
    "\n",
    "for eachentry in object_qid.keys():\n",
    "    sparqlQuery = \"SELECT ?item WHERE {?item wdt:P31 wd:\"+object_qid[eachentry]+\".}\"\n",
    "    result = wdi_core.WDItemEngine.execute_sparql_query(sparqlQuery)\n",
    "    \n",
    "    i=0\n",
    "    while i < len(result[\"results\"][\"bindings\"]):\n",
    "        wdid = result[\"results\"][\"bindings\"][i][\"item\"][\"value\"].replace(\"http://www.wikidata.org/entity/\", \"\")\n",
    "        tmplist.append({'WDID':wdid,'InstanceType':eachentry})\n",
    "        i=i+1\n",
    "\n",
    "instances_in_wd = pd.DataFrame(tmplist)\n",
    "    \n",
    "print(len(instances_in_wd))"
   ]
  },
  {
   "cell_type": "code",
   "execution_count": null,
   "metadata": {},
   "outputs": [],
   "source": []
  },
  {
   "cell_type": "code",
   "execution_count": null,
   "metadata": {},
   "outputs": [],
   "source": []
  },
  {
   "cell_type": "code",
   "execution_count": null,
   "metadata": {},
   "outputs": [],
   "source": []
  },
  {
   "cell_type": "markdown",
   "metadata": {},
   "source": [
    "# Creating and Writing WD statements"
   ]
  },
  {
   "cell_type": "markdown",
   "metadata": {},
   "source": [
    "## Delisted items\n",
    "\n",
    "After scanning the data, it appears that this table will allow us to easily identify entities which were 100% delisted, but it will require a bit more logic to identify entities that have been delisted for some conditions but not others.\n",
    "\n",
    "Some sample comparisons between the Prop 65 list and the OEHHA list:\n",
    "\n",
    "As seen in Prop 65 list, we can see that BPA was listed as causing female reproductive and developmental toxicity, but it's listing as a developmental toxicant was removed on April 19, 2013.\n",
    "* Bisphenol A (BPA)\tfemale\n",
    "* Bisphenol A (BPA)  Delisted April 19, 2013 developmental\n",
    "\n",
    "In contrast its (Bisphenol A) entry in the OEHHA list is illustrated as follows:\n",
    "* Reproductive Toxicity: Currently listed\n",
    "* Chemical listed under Proposition 65 as causing: Female Reproductive Toxicity\n",
    "* Developmental Toxicity - Date of Listing: 4/11/2013\n",
    "* Developmental Toxicity - Listing Mechanism: AB-NTP-CERHR\n",
    "* Female Reproductive Toxicity - Date of Listing:\t5/11/2015\n",
    "* Female Reproductive Toxicity - Listing Mechanism: SQE\n",
    "\n",
    "As seen above, the delisting as a developmental toxicity item has to be inferred based on it's listing as causing only Female Reproductive Toxicity event though it has entries for dates and mechanism for Developmental toxicity entries.\n",
    "\n",
    "Completely delisted entries are more straightforward as seen in the case of Allyl Chloride:\n",
    "This entity is not even listed in the Prop 65 list. In contrast, in the OEHHA list it appears as:\n",
    "* Cancer: Formerly listed\n",
    "* Cancer - Listing Mechanism: AB-US EPA \t\n",
    "\n",
    "Note that the prop_65 export csv will have the date listed for cancer, but the OEHHA export csv does not have cancer and reprotox date listed and delisted in the table even though this information may be available on the webpage for the chemical"
   ]
  },
  {
   "cell_type": "code",
   "execution_count": 18,
   "metadata": {},
   "outputs": [
    {
     "name": "stdout",
     "output_type": "stream",
     "text": [
      "Index(['Title', 'CAS Number', 'Cancer', 'Cancer - Listing Mechanism',\n",
      "       'Reproductive Toxicity',\n",
      "       'Chemical listed under Proposition 65 as causing',\n",
      "       'Developmental Toxicity - Date of Listing',\n",
      "       'Developmental Toxicity - Listing Mechanism',\n",
      "       'Female Reproductive Toxicity - Date of Listing',\n",
      "       'Female Reproductive Toxicity - Listing Mechanism',\n",
      "       'Male Reproductive Toxicity - Date of Listing',\n",
      "       'Male Reproductive Toxicity - Listing Mechanism', 'url_stub', 'WDID',\n",
      "       'Dev current', 'Male current', 'Female current', 'Cancer current',\n",
      "       'Rep current', 'Cancer delisted', 'Rep delisted', 'Dev delisted',\n",
      "       'Female delisted', 'Male delisted'],\n",
      "      dtype='object')\n"
     ]
    }
   ],
   "source": [
    "### Identify completely delisted items\n",
    "delisted_df = prop_65_mapped.loc[((prop_65_mapped['Cancer']==\"Formerly listed\") & (prop_65_mapped['Reproductive Toxicity']==\"None\"))|\n",
    "                               ((prop_65_mapped['Cancer']==\"None\") & (prop_65_mapped['Reproductive Toxicity']==\"Formerly listed\"))]\n",
    "delisted_titles = delisted_df['Title'].tolist()\n",
    "#print(delisted_df.head(n=5))\n",
    "\n",
    "delisted_in_wd = delisted_df.loc[~delisted_df['WDID'].isnull()]\n",
    "print(delisted_in_wd.columns)"
   ]
  },
  {
   "cell_type": "markdown",
   "metadata": {},
   "source": [
    "## CLEAN UP THE CODE\n",
    "\n",
    "There's a lot of unnecessary redundancy.  Rather than split up the list and then repeating the code over and over again, create a single code with functions that can handle the different conditions.\n",
    "\n",
    "Create a status flag which can be used to manipulate which functions are called. Eg- Having a Delisted flag will trigger the inclusion of the delisted qualifier statement\n"
   ]
  },
  {
   "cell_type": "code",
   "execution_count": 21,
   "metadata": {},
   "outputs": [],
   "source": [
    "object_qid = {'femrep':'Q55427776',\n",
    "              'menrep': 'Q55427774',\n",
    "              'devtox': 'Q72941151',\n",
    "              'cancer': 'Q187661',\n",
    "              'reptox': 'Q55427767'}\n",
    "\n",
    "list_date = {'femrep':'Female Reproductive Toxicity - Date of Listing',\n",
    "             'menrep':'Male Reproductive Toxicity - Date of Listing',\n",
    "             'devtox':'Male Reproductive Toxicity - Date of Listing',\n",
    "             'cancer': 'None',\n",
    "             'reptox': 'None'}\n",
    "\n",
    "url_base = 'https://oehha.ca.gov/chemicals/'\n",
    "list_prop = \"P31\""
   ]
  },
  {
   "cell_type": "code",
   "execution_count": 19,
   "metadata": {},
   "outputs": [],
   "source": [
    "def check_listing (chem_info):\n",
    "    runlist = []\n",
    "    if chem_info['Cancer']=='Currently listed':\n",
    "        runlist.append('cancer')\n",
    "    if chem_info['Reproductive Toxicity']=='Currently listed':\n",
    "        runlist.append('reptox')\n",
    "    if chem_info['Female current']==True:\n",
    "        runlist.append('femrep')     \n",
    "    if chem_info['Male current']==True:\n",
    "        runlist.append('menrep')\n",
    "    if chem_info['Dev current']==True:\n",
    "        runlist.append('devtox')\n",
    "    ### Create statement for most-specific reprotox type whenever possible\n",
    "    if ('femrep' in runlist) | ('menrep' in runlist) | ('devtox' in runlist):\n",
    "        runlist.remove('reptox')\n",
    "    \n",
    "    return(runlist)\n"
   ]
  },
  {
   "cell_type": "code",
   "execution_count": 20,
   "metadata": {},
   "outputs": [],
   "source": [
    "def check_delisting (chem_info):\n",
    "    delisted = []\n",
    "    if chem_info['Cancer delisted']==True:\n",
    "        delisted.append('cancer')\n",
    "    if chem_info['Rep delisted']==True:\n",
    "        delisted.append('reptox')\n",
    "    if chem_info['Dev delisted']==True:\n",
    "        delisted.append('devtox')\n",
    "    if chem_info['Female delisted']==True:\n",
    "        delisted.append('femrep')\n",
    "    if chem_info['Male delisted']==True:\n",
    "        delisted.append('menrep')\n",
    "        \n",
    "    return (delisted)     "
   ]
  },
  {
   "cell_type": "code",
   "execution_count": 22,
   "metadata": {},
   "outputs": [
    {
     "name": "stdout",
     "output_type": "stream",
     "text": [
      "['femrep', 'menrep', 'devtox']\n",
      "[]\n"
     ]
    }
   ],
   "source": [
    "## Compare runlist and check list to determine status\n",
    "runlist = check_listing(chem_info)\n",
    "print(runlist)\n",
    "\n",
    "delist_list = check_delisting(chem_info)\n",
    "print(delist_list)\n"
   ]
  },
  {
   "cell_type": "code",
   "execution_count": null,
   "metadata": {},
   "outputs": [],
   "source": []
  },
  {
   "cell_type": "code",
   "execution_count": null,
   "metadata": {},
   "outputs": [],
   "source": []
  },
  {
   "cell_type": "code",
   "execution_count": null,
   "metadata": {},
   "outputs": [],
   "source": []
  },
  {
   "cell_type": "code",
   "execution_count": 24,
   "metadata": {},
   "outputs": [
    {
     "name": "stdout",
     "output_type": "stream",
     "text": [
      "             Title CAS Number           Cancer Cancer - Listing Mechanism  \\\n",
      "20  Allyl Chloride   107-05-1  Formerly listed                  AB-US EPA   \n",
      "\n",
      "   Reproductive Toxicity Chemical listed under Proposition 65 as causing  \\\n",
      "20                  None                                            None   \n",
      "\n",
      "   Developmental Toxicity - Date of Listing  \\\n",
      "20                                     None   \n",
      "\n",
      "   Developmental Toxicity - Listing Mechanism  \\\n",
      "20                                       None   \n",
      "\n",
      "   Female Reproductive Toxicity - Date of Listing  \\\n",
      "20                                           None   \n",
      "\n",
      "   Female Reproductive Toxicity - Listing Mechanism      ...        \\\n",
      "20                                             None      ...         \n",
      "\n",
      "   Dev current Male current Female current Cancer current  Rep current  \\\n",
      "20       False        False          False          False        False   \n",
      "\n",
      "    Cancer delisted  Rep delisted  Dev delisted  Female delisted  \\\n",
      "20             True         False         False            False   \n",
      "\n",
      "    Male delisted  \n",
      "20          False  \n",
      "\n",
      "[1 rows x 24 columns]\n"
     ]
    }
   ],
   "source": [
    "print(delisted_in_wd[0:1])"
   ]
  },
  {
   "cell_type": "code",
   "execution_count": 26,
   "metadata": {},
   "outputs": [
    {
     "data": {
      "application/vnd.jupyter.widget-view+json": {
       "model_id": "595bbf8f8fc441d0959144d95a6cee11",
       "version_major": 2,
       "version_minor": 0
      },
      "text/plain": [
       "HBox(children=(IntProgress(value=0, max=1), HTML(value='')))"
      ]
     },
     "metadata": {},
     "output_type": "display_data"
    },
    {
     "ename": "NameError",
     "evalue": "name 'listed_edits' is not defined",
     "output_type": "error",
     "traceback": [
      "\u001b[1;31m---------------------------------------------------------------------------\u001b[0m",
      "\u001b[1;31mNameError\u001b[0m                                 Traceback (most recent call last)",
      "\u001b[1;32m<ipython-input-26-ccba89257700>\u001b[0m in \u001b[0;36m<module>\u001b[1;34m\u001b[0m\n\u001b[0;32m     26\u001b[0m                              global_ref_mode='CUSTOM', ref_handler=update_retrieved_if_new_multiple_refs)\n\u001b[0;32m     27\u001b[0m     \u001b[0mitem\u001b[0m\u001b[1;33m.\u001b[0m\u001b[0mwrite\u001b[0m\u001b[1;33m(\u001b[0m\u001b[0mlogin\u001b[0m\u001b[1;33m,\u001b[0m \u001b[0medit_summary\u001b[0m\u001b[1;33m=\u001b[0m\u001b[1;34m\"added data from corresponding CA prop 65 info page.\"\u001b[0m\u001b[1;33m)\u001b[0m\u001b[1;33m\u001b[0m\u001b[0m\n\u001b[1;32m---> 28\u001b[1;33m     \u001b[0mlisted_edits\u001b[0m\u001b[1;33m.\u001b[0m\u001b[0mappend\u001b[0m\u001b[1;33m(\u001b[0m\u001b[1;33m{\u001b[0m\u001b[1;34m'WDID'\u001b[0m\u001b[1;33m:\u001b[0m\u001b[0mprop_65_qid\u001b[0m\u001b[1;33m,\u001b[0m\u001b[1;34m'type'\u001b[0m\u001b[1;33m:\u001b[0m\u001b[1;34m'listed entry'\u001b[0m\u001b[1;33m,\u001b[0m\u001b[1;34m'revid'\u001b[0m\u001b[1;33m:\u001b[0m\u001b[0mitem\u001b[0m\u001b[1;33m.\u001b[0m\u001b[0mlastrevid\u001b[0m\u001b[1;33m}\u001b[0m\u001b[1;33m)\u001b[0m\u001b[1;33m\u001b[0m\u001b[0m\n\u001b[0m",
      "\u001b[1;31mNameError\u001b[0m: name 'listed_edits' is not defined"
     ]
    }
   ],
   "source": [
    "for i in tqdm(range(len(delisted_in_wd[0:1]))):\n",
    "    runlist = []\n",
    "    runurl = url_base+delisted_in_wd.iloc[i]['url_stub']\n",
    "    prop_65_qid = delisted_in_wd.iloc[i]['WDID']\n",
    "    if delisted_in_wd.iloc[i]['Cancer']=='Formerly listed':\n",
    "        runlist.append('cancer')\n",
    "    if delisted_in_wd.iloc[i]['Reproductive Toxicity']=='Formerly listed':\n",
    "        runlist.append('reptox')\n",
    "    statements_to_add = []\n",
    "    for j in range(len(runlist)):\n",
    "        run_type = runlist[j]\n",
    "        run_object_wdid = object_qid[run_type]\n",
    "        runlist_date = str(delisted_in_wd.iloc[i][list_date[run_type]])\n",
    "        print(runlist_date)\n",
    "        reference = create_reference(runurl)\n",
    "        if runlist_date!='None':\n",
    "            list_date = wdi_core.WDTime(datetime.strptime(list_date,'%m/%d/%Y').strftime(\"+%Y-%m-%dT00:00:00Z\"), prop_nr='P580', is_qualifier=True)\n",
    "        \n",
    "        delist_reason = wdi_core.WDItemID('Q56478729', prop_nr='P2241', is_qualifier=True)\n",
    "        \n",
    "        prop65_statement = wdi_core.WDItemID(value=run_object_wdid, prop_nr=list_prop,\n",
    "                                             qualifiers = [delist_reason],\n",
    "                                             references=[copy.deepcopy(reference)])\n",
    "        statements_to_add.append(prop65_statement)\n",
    "    item = wdi_core.WDItemEngine(wd_item_id=prop_65_qid, data=statements_to_add, append_value=list_prop,\n",
    "                             global_ref_mode='CUSTOM', ref_handler=update_retrieved_if_new_multiple_refs)\n",
    "    item.write(login, edit_summary=\"added data from corresponding CA prop 65 info page.\")\n",
    "    listed_edits.append({'WDID':prop_65_qid,'type':'listed entry','revid':item.lastrevid})"
   ]
  },
  {
   "cell_type": "code",
   "execution_count": null,
   "metadata": {},
   "outputs": [],
   "source": []
  },
  {
   "cell_type": "code",
   "execution_count": null,
   "metadata": {},
   "outputs": [],
   "source": []
  },
  {
   "cell_type": "code",
   "execution_count": null,
   "metadata": {},
   "outputs": [],
   "source": [
    "\n",
    "\n",
    "runlist = check_listing(chem_info)\n",
    "print(runlist)\n",
    "\n",
    "delist_list = check_delisting(chem_info)\n",
    "print(delist_list)\n",
    "\n",
    "if delist_list == None:\n",
    "    status = 'Currently Fully Listed'\n",
    "\n",
    "    \n",
    "    \n",
    "    "
   ]
  },
  {
   "cell_type": "code",
   "execution_count": null,
   "metadata": {},
   "outputs": [],
   "source": [
    "    if delisted_in_wd.iloc[i]['Cancer']=='Formerly listed':\n",
    "        runlist.append('cancer')\n",
    "    if delisted_in_wd.iloc[i]['Reproductive Toxicity']=='Formerly listed':\n",
    "        runlist.append('reptox')"
   ]
  },
  {
   "cell_type": "code",
   "execution_count": null,
   "metadata": {},
   "outputs": [],
   "source": [
    "part_delisted_dev_df = prop_65_listed.loc[(~prop_65_listed['Title'].isin(part_delisted_titles)) &\n",
    "                                            (((prop_65_listed['Developmental Toxicity - Date of Listing']!=\"None\")|\n",
    "                                             (prop_65_listed['Developmental Toxicity - Listing Mechanism']!=\"None\"))&\n",
    "                                             (prop_65_listed['Dev current']==False))]\n",
    "part_delisted_fem_df = prop_65_listed.loc[(~prop_65_listed['Title'].isin(part_delisted_titles)) &\n",
    "                                            (((prop_65_listed['Female Reproductive Toxicity - Date of Listing']!=\"None\")|\n",
    "                                             (prop_65_listed['Female Reproductive Toxicity - Listing Mechanism']!=\"None\"))&\n",
    "                                             (prop_65_listed['Female current']==False))]\n",
    "part_delisted_male_df = prop_65_listed.loc[(~prop_65_listed['Title'].isin(part_delisted_titles)) &\n",
    "                                            (((prop_65_listed['Male Reproductive Toxicity - Date of Listing']!=\"None\")|\n",
    "                                             (prop_65_listed['Male Reproductive Toxicity - Listing Mechanism']!=\"None\"))&\n",
    "                                             (prop_65_listed['Male current']==False))]   "
   ]
  },
  {
   "cell_type": "markdown",
   "metadata": {},
   "source": [
    "### Writing fully delisted entities as deprecated statements"
   ]
  },
  {
   "cell_type": "code",
   "execution_count": null,
   "metadata": {},
   "outputs": [],
   "source": [
    "object_qid = {'femrep':'Q55427776',\n",
    "              'menrep': 'Q55427774',\n",
    "              'devtox': 'Q72941151',\n",
    "              'cancer': 'Q187661',\n",
    "              'reptox': 'Q55427767'}\n",
    "\n",
    "list_date = {'femrep':'Female Reproductive Toxicity - Date of Listing',\n",
    "             'menrep':'Male Reproductive Toxicity - Date of Listing',\n",
    "             'devtox':'Male Reproductive Toxicity - Date of Listing',\n",
    "             'cancer': 'None',\n",
    "             'reptox': 'None'}\n",
    "\n",
    "url_base = 'https://oehha.ca.gov/chemicals/'\n",
    "list_prop = \"P31\""
   ]
  },
  {
   "cell_type": "code",
   "execution_count": null,
   "metadata": {},
   "outputs": [],
   "source": [
    "for i in tqdm(range(len(delisted_in_wd[0:1]))):\n",
    "    runlist = []\n",
    "    runurl = url_base+delisted_in_wd.iloc[i]['url_stub']\n",
    "    prop_65_qid = delisted_in_wd.iloc[i]['WDID']\n",
    "    if delisted_in_wd.iloc[i]['Cancer']=='Formerly listed':\n",
    "        runlist.append('cancer')\n",
    "    if delisted_in_wd.iloc[i]['Reproductive Toxicity']=='Formerly listed':\n",
    "        runlist.append('reptox')\n",
    "    statements_to_add = []\n",
    "    for j in range(len(runlist)):\n",
    "        run_type = runlist[j]\n",
    "        run_object_wdid = object_qid[run_type]\n",
    "        runlist_date = str(delisted_in_wd.iloc[i][list_date[run_type]])\n",
    "        reference = create_reference(runurl,runlist_date)\n",
    "        delist_reason = wdi_core.WDItemID('Q56478729', prop_nr='P2241', is_qualifier=True)\n",
    "        prop65_statement = wdi_core.WDItemID(value=run_object_wdid, prop_nr=list_prop,\n",
    "                                             qualifiers = [delist_reason],\n",
    "                                             references=[copy.deepcopy(reference)])\n",
    "        statements_to_add.append(prop65_statement)\n",
    "    item = wdi_core.WDItemEngine(wd_item_id=prop_65_qid, data=statements_to_add, append_value=list_prop,\n",
    "                             global_ref_mode='CUSTOM', ref_handler=update_retrieved_if_new_multiple_refs)\n",
    "    item.write(login, edit_summary=\"added data from corresponding CA prop 65 info page.\")\n",
    "    listed_edits.append({'WDID':prop_65_qid,'type':'listed entry','revid':item.lastrevid})"
   ]
  },
  {
   "cell_type": "code",
   "execution_count": null,
   "metadata": {},
   "outputs": [],
   "source": [
    "\"\"\"\n",
    "#### The above was created to avoid repeating the code for just a variable here and there\n",
    "\n",
    "\n",
    "#### Create and write statements\n",
    "\n",
    "delisted_edits = []\n",
    "\n",
    "##Instance of Carcinogen, rank is deprecated\n",
    "carcinogen_delisted = delisted_in_wd.loc[delisted_in_wd['Cancer']=='Formerly listed']\n",
    "carcinogen_qid = 'Q187661'\n",
    "for i in tqdm(range(len(carcinogen_delisted))):\n",
    "    prop_65_qid = carcinogen_delisted.iloc[i]['WDID']\n",
    "    prop_65_id = carcinogen_delisted.iloc[i]['url_stub']\n",
    "    prop_65_url = url_base+prop_65_id\n",
    "    reference = create_reference(prop_65_url)\n",
    "    delist_reason = wdi_core.WDItemID('Q56478729', prop_nr='P2241', is_qualifier=True)\n",
    "    prop65_statement = [wdi_core.WDItemID(value=carcinogen_qid, prop_nr=list_prop, rank='deprecated',\n",
    "                                qualifiers = [delist_reason], references=[copy.deepcopy(reference)])]\n",
    "    item = wdi_core.WDItemEngine(wd_item_id=prop_65_qid, data=prop65_statement, append_value=list_prop,\n",
    "                             global_ref_mode='CUSTOM', ref_handler=update_retrieved_if_new_multiple_refs)\n",
    "    item.write(login, edit_summary=\"added data from corresponding CA prop 65 info page.\")\n",
    "    delisted_edits.append({'WDID':prop_65_qid,'type':'delisted entry','revid':item.lastrevid})\n",
    "    \n",
    "##Instance of Reproductive toxin, rank is deprecated\n",
    "reprotox_delisted - delisted_in_wd.loc[delisted_in_wd['Reproductive Toxicity']=='Formerly listed']\n",
    "reprotox_qid = 'Q55427767'\n",
    "for i in tqdm(range(len(reprotox_delisted))):\n",
    "    prop_65_qid = reprotox_delisted.iloc[i]['WDID']\n",
    "    prop_65_id = reprotox_delisted.iloc[i]['url_stub']\n",
    "    prop_65_url = url_base+prop_65_id\n",
    "    reference = create_reference(prop_65_url)\n",
    "    delist_reason = wdi_core.WDItemID('Q56478729', prop_nr='P2241', is_qualifier=True)\n",
    "    prop65_statement = [wdi_core.WDItemID(value=reprotox_qid, prop_nr=list_prop, rank='deprecated',\n",
    "                                qualifiers = [delist_reason], references=[copy.deepcopy(reference)])]\n",
    "    item = wdi_core.WDItemEngine(wd_item_id=prop_65_qid, data=prop65_statement, append_value=list_prop,\n",
    "                             global_ref_mode='CUSTOM', ref_handler=update_retrieved_if_new_multiple_refs)\n",
    "    previous_revision = item.lastrevid\n",
    "    item.write(login, edit_summary=\"added data from corresponding CA prop 65 info page.\")\n",
    "    delisted_edits.append({WDID:prop_65_qid,'type':'delisted entry','revid':item.lastrevid})\n",
    "\"\"\""
   ]
  },
  {
   "cell_type": "code",
   "execution_count": null,
   "metadata": {},
   "outputs": [],
   "source": [
    "for i in tqdm(range(len(not_delisted[0:1]))):\n",
    "    runlist = []\n",
    "    runurl = url_base+not_delisted.iloc[i]['url_stub']\n",
    "    prop_65_qid = not_delisted.iloc[i]['WDID']\n",
    "    if not_delisted.iloc[i]['Cancer']=='Currently listed':\n",
    "        runlist.append('cancer')\n",
    "    if not_delisted.iloc[i]['Female current']==True:\n",
    "        runlist.append('femrep')\n",
    "    if not_delisted.iloc[i]['Male current']==True:\n",
    "        runlist.append('menrep')\n",
    "    if not_delisted.iloc[i]['Dev current']==True:\n",
    "        runlist.append('devtox')\n",
    "    statements_to_add = []\n",
    "    for j in range(len(runlist)):\n",
    "        run_type = runlist[j]\n",
    "        run_object_wdid = object_qid[run_type]\n",
    "        runlist_date = str(not_delisted.iloc[i][list_date[run_type]])\n",
    "        reference = create_reference(runurl,runlist_date) \n",
    "        prop65_statement = wdi_core.WDItemID(value=run_object_wdid, prop_nr=list_prop, \n",
    "                                              references=[copy.deepcopy(reference)])\n",
    "        statements_to_add.append(prop65_statement)\n",
    "    item = wdi_core.WDItemEngine(wd_item_id=prop_65_qid, data=statements_to_add, append_value=list_prop,\n",
    "                             global_ref_mode='CUSTOM', ref_handler=update_retrieved_if_new_multiple_refs)\n",
    "    item.write(login, edit_summary=\"added data from corresponding CA prop 65 info page.\")\n",
    "    listed_edits.append({'WDID':prop_65_qid,'type':'listed entry','revid':item.lastrevid})"
   ]
  },
  {
   "cell_type": "markdown",
   "metadata": {},
   "source": [
    "## Items under consideration or considered, but not listed\n",
    "We can pull these, but it's not clear how they should be included in Wikidata"
   ]
  },
  {
   "cell_type": "code",
   "execution_count": null,
   "metadata": {},
   "outputs": [],
   "source": [
    "### Identify items that were considered, but not listed\n",
    "considered_df = prop_65_mapped.loc[((prop_65_mapped['Cancer']==\"Considered, but not listed\") & (prop_65_mapped['Reproductive Toxicity']==\"None\"))|\n",
    "                               ((prop_65_mapped['Cancer']==\"None\") & (prop_65_mapped['Reproductive Toxicity']==\"Considered, but not listed\"))]\n",
    "considered_titles = considered_df['Title'].tolist()\n",
    "#print(considered_df.head(n=5))\n",
    "\n",
    "### Identify items that are under consideration\n",
    "considering_df = prop_65_mapped.loc[((prop65_chems['Cancer']==\"Under consideration\") & (prop_65_mapped['Reproductive Toxicity']==\"None\"))|\n",
    "                               ((prop_65_mapped['Cancer']==\"None\") & (prop_65_mapped['Reproductive Toxicity']==\"Under consideration\"))]\n",
    "considering_titles = considering_df['Title'].tolist()\n",
    "#print(considering_df.head(n=5))\n",
    "print(\"Considered, not listed: \",len(considered_df),\"Under consideration: \", len(considering_df))\n"
   ]
  },
  {
   "cell_type": "markdown",
   "metadata": {},
   "source": [
    "## Partially delisted items\n",
    "\n",
    "We can filter for these by removing items that were completely delisted, and items that were considered, or under consideration. Next, we'll need to count the number of entries under \"Chemical listed under Proposition 65 as causing\", and checking to see if the same number of columns are empty, or if there are more columns not empty than there are number of entries under \"Chemical listed under Proposition 65 as causing\"\n",
    "\n",
    "Or items which are delisted under either Cancer or Reproductive Toxicity but is NOT empty for the other item"
   ]
  },
  {
   "cell_type": "code",
   "execution_count": null,
   "metadata": {},
   "outputs": [],
   "source": [
    "### Remove entries which were completely delisted, are under consideration, or considered, and not listed\n",
    "prop_65_listed = prop_65_mapped.loc[~prop_65_mapped['Title'].isin(delisted_titles+considered_titles+considering_titles)].copy()\n",
    "print(\"Items currently listed under prop 65: \", len(prop_65_listed))\n",
    "\n",
    "### Identify cancer vs reproductive partially delisted items\n",
    "part_delisted_df = prop_65_listed.loc[((prop_65_listed['Cancer']==\"Formerly listed\") & (prop_65_listed['Reproductive Toxicity']==\"Currently listed\"))|\n",
    "                               ((prop_65_listed['Cancer']==\"Currently listed\") & (prop_65_listed['Reproductive Toxicity']==\"Formerly listed\"))]\n",
    "part_delisted_titles = part_delisted_df['Title'].tolist()\n",
    "#print(part_delisted_df.head(n=5))\n",
    "print(\"Items partially delisted for cancer or reproductive toxicity: \", len(part_delisted_df))"
   ]
  },
  {
   "cell_type": "code",
   "execution_count": null,
   "metadata": {},
   "outputs": [],
   "source": [
    "### Identify items that were partially delisted for one type of reproductive toxicity or another\n",
    "prop_65_listed['Dev current'] = prop_65_listed['Chemical listed under Proposition 65 as causing'].str.contains(\"Development\")\n",
    "prop_65_listed['Male current'] = prop_65_listed['Chemical listed under Proposition 65 as causing'].str.contains(\"Male\")\n",
    "prop_65_listed['Female current'] = prop_65_listed['Chemical listed under Proposition 65 as causing'].str.contains(\"Female\")\n",
    "\n",
    "#print(prop_65_listed.head(n=2))\n",
    "### These can be identified as items which are not none for date of list/listing mechanism \n",
    "### for a particular type of toxicity, but is listed as \"False\" for the corresponding toxicity\n",
    "part_delisted_dev_df = prop_65_listed.loc[(~prop_65_listed['Title'].isin(part_delisted_titles)) &\n",
    "                                            (((prop_65_listed['Developmental Toxicity - Date of Listing']!=\"None\")|\n",
    "                                             (prop_65_listed['Developmental Toxicity - Listing Mechanism']!=\"None\"))&\n",
    "                                             (prop_65_listed['Dev current']==False))]\n",
    "part_delisted_fem_df = prop_65_listed.loc[(~prop_65_listed['Title'].isin(part_delisted_titles)) &\n",
    "                                            (((prop_65_listed['Female Reproductive Toxicity - Date of Listing']!=\"None\")|\n",
    "                                             (prop_65_listed['Female Reproductive Toxicity - Listing Mechanism']!=\"None\"))&\n",
    "                                             (prop_65_listed['Female current']==False))]\n",
    "part_delisted_male_df = prop_65_listed.loc[(~prop_65_listed['Title'].isin(part_delisted_titles)) &\n",
    "                                            (((prop_65_listed['Male Reproductive Toxicity - Date of Listing']!=\"None\")|\n",
    "                                             (prop_65_listed['Male Reproductive Toxicity - Listing Mechanism']!=\"None\"))&\n",
    "                                             (prop_65_listed['Male current']==False))]   \n",
    "#print(part_delisted_dev_df.head(n=2))"
   ]
  },
  {
   "cell_type": "code",
   "execution_count": null,
   "metadata": {},
   "outputs": [],
   "source": [
    "### Identify items that have not been delisted at all\n",
    "part_delisted_dev_titles = part_delisted_dev_df['Title'].tolist()\n",
    "part_delisted_fem_titles = part_delisted_fem_df['Title'].tolist()\n",
    "part_delisted_male_titles = part_delisted_male_df['Title'].tolist()\n",
    "not_delisted = prop_65_listed.loc[(~prop_65_listed['Title'].isin(part_delisted_titles))&\n",
    "                                  (~prop_65_listed['Title'].isin(part_delisted_dev_titles))&\n",
    "                                  (~prop_65_listed['Title'].isin(part_delisted_fem_titles))&\n",
    "                                  (~prop_65_listed['Title'].isin(part_delisted_male_titles))]\n",
    "print(len(not_delisted))"
   ]
  },
  {
   "cell_type": "markdown",
   "metadata": {},
   "source": [
    "# Current Listings\n",
    "The initial run should write both the listed and delisted entities. The tables should be stored so that future exports can be compared prior runs to minimize the actual number of writes needed to keep the data up-to-date. The normalization of entities will depend on assignments by Mix N Match"
   ]
  },
  {
   "cell_type": "markdown",
   "metadata": {},
   "source": [
    "How to handle the listing and delisting dates via the references\n",
    "\n",
    "* Chemical causes cancer --> Instance (P31) of carcinogen\n",
    "* Chemical causes developmental toxicity --> Instance (P31) of developmental toxicant\n",
    "* Chemical causes reproductive toxicity --> Instance (P31) of reproductive toxicant\n",
    "* Statement date --> retrieved (P813) : access date \n",
    "* Date listed --> start time (P580) : from date \n",
    "* Date delisted --> end time (P582) : end date \n",
    "* Delisted --> reason for deprecation (P2241) in conjunction with disqualification (Q1229261)"
   ]
  },
  {
   "cell_type": "markdown",
   "metadata": {},
   "source": [
    "### Initial run for current listings"
   ]
  },
  {
   "cell_type": "code",
   "execution_count": null,
   "metadata": {},
   "outputs": [],
   "source": [
    "listed_edits = []\n",
    "\n",
    "for i in tqdm(range(len(not_delisted[0:1]))):\n",
    "    runlist = []\n",
    "    runurl = url_base+not_delisted.iloc[i]['url_stub']\n",
    "    prop_65_qid = not_delisted.iloc[i]['WDID']\n",
    "    if not_delisted.iloc[i]['Cancer']=='Currently listed':\n",
    "        runlist.append('cancer')\n",
    "    if not_delisted.iloc[i]['Female current']==True:\n",
    "        runlist.append('femrep')\n",
    "    if not_delisted.iloc[i]['Male current']==True:\n",
    "        runlist.append('menrep')\n",
    "    if not_delisted.iloc[i]['Dev current']==True:\n",
    "        runlist.append('devtox')\n",
    "    statements_to_add = []\n",
    "    for j in range(len(runlist)):\n",
    "        run_type = runlist[j]\n",
    "        run_object_wdid = object_qid[run_type]\n",
    "        runlist_date = str(not_delisted.iloc[i][list_date[run_type]])\n",
    "        reference = create_reference(runurl,runlist_date) \n",
    "        prop65_statement = wdi_core.WDItemID(value=run_object_wdid, prop_nr=list_prop, \n",
    "                                              references=[copy.deepcopy(reference)])\n",
    "        statements_to_add.append(prop65_statement)\n",
    "    item = wdi_core.WDItemEngine(wd_item_id=prop_65_qid, data=statements_to_add, append_value=list_prop,\n",
    "                             global_ref_mode='CUSTOM', ref_handler=update_retrieved_if_new_multiple_refs)\n",
    "    item.write(login, edit_summary=\"added data from corresponding CA prop 65 info page.\")\n",
    "    listed_edits.append({'WDID':prop_65_qid,'type':'listed entry','revid':item.lastrevid})\n",
    "\n",
    "##Successful run: https://www.wikidata.org/wiki/Q27888393"
   ]
  },
  {
   "cell_type": "markdown",
   "metadata": {},
   "source": [
    "### Initial run for partially delisted items"
   ]
  },
  {
   "cell_type": "code",
   "execution_count": null,
   "metadata": {},
   "outputs": [],
   "source": []
  },
  {
   "cell_type": "code",
   "execution_count": null,
   "metadata": {},
   "outputs": [],
   "source": []
  },
  {
   "cell_type": "markdown",
   "metadata": {},
   "source": [
    "### Export results for future investigations"
   ]
  },
  {
   "cell_type": "code",
   "execution_count": null,
   "metadata": {},
   "outputs": [],
   "source": []
  },
  {
   "cell_type": "markdown",
   "metadata": {},
   "source": [
    "# Scheduled Runs\n",
    "The maintenance runs should parse the data similar to the previous runs and compare the results to look for new entries to add and new delistings to deprecate."
   ]
  },
  {
   "cell_type": "code",
   "execution_count": null,
   "metadata": {},
   "outputs": [],
   "source": [
    "## Unit test\n",
    "\n",
    "\n",
    "carcinogen_qid = 'Q187661'\n",
    "devtox_qid = 'Q72941151'\n",
    "femreptox_qid = 'Q55427776'\n",
    "malereptox_qid = 'Q55427774'\n",
    "\n",
    "prop_65_url = 'https://oehha.ca.gov/proposition-65/chemicals/abiraterone-acetate'\n",
    "prop_65_id = 'abiraterone-acetate'\n",
    "prop_65_qid = 'Q4115189' #'Q27888393'\n",
    "reference = create_reference(ghr_url)\n",
    "list_prop = \"P31\" \n",
    "start_date = '04/08/2016'\n",
    "delist_date = '4/19/2013'\n",
    "\n",
    "list_qualifier = wdi_core.WDTime(datetime.strptime(start_date,'%m/%d/%Y').strftime(\"+%Y-%m-%dT00:00:00Z\"), prop_nr='P580', is_qualifier=True)\n",
    "dev_statement = [wdi_core.WDString(value=devtox_qid, prop_nr=list_prop, \n",
    "                               qualifiers=[list_qualifier],\n",
    "                               references=[copy.deepcopy(reference)])]\n",
    "\n",
    "item = wdi_core.WDItemEngine(wd_item_id=prop_65_qid, data=dev_statement, append_value=list_prop,\n",
    "                           global_ref_mode='CUSTOM', ref_handler=update_retrieved_if_new_multiple_refs)\n",
    "\n",
    "\n"
   ]
  },
  {
   "cell_type": "code",
   "execution_count": null,
   "metadata": {},
   "outputs": [],
   "source": [
    "\"\"\"\n",
    "## Unit test --  write a statement\n",
    "disease_qid = 'Q4115189' #'Q2703116'\n",
    "ghr_url = 'https://ghr.nlm.nih.gov/condition/15q11-q13-duplication-syndrome'\n",
    "ghr_id = '15q11-q13-duplication-syndrome'\n",
    "reference = create_reference(ghr_url)\n",
    "url_prop = \"P7464\" \n",
    "start_date = '4/11/2013'\n",
    "delist_date = '4/19/2013'\n",
    "\n",
    "\n",
    "list_qualifier = wdi_core.WDTime(datetime.strptime(start_date,'%m/%d/%Y').strftime(\"+%Y-%m-%dT00:00:00Z\"), prop_nr='P580', is_qualifier=True)\n",
    "delist_qualifier = wdi_core.WDTime(datetime.strptime(delist_date,'%m/%d/%Y').strftime(\"+%Y-%m-%dT00:00:00Z\"), prop_nr='P582', is_qualifier=True)\n",
    "delist_reason = wdi_core.WDItemID('Q56478729', prop_nr='P2241', is_qualifier=True)\n",
    "\n",
    "statement = [wdi_core.WDString(value=ghr_id, prop_nr=url_prop, rank='deprecated', \n",
    "                               qualifiers=[list_qualifier,delist_qualifier,delist_reason],\n",
    "                               references=[copy.deepcopy(reference)])]\n",
    "item = wdi_core.WDItemEngine(wd_item_id=disease_qid, data=statement, append_value=url_prop,\n",
    "                           global_ref_mode='CUSTOM', ref_handler=update_retrieved_if_new_multiple_refs)\n",
    "item.write(login)\n",
    "print(ghr_id, disease_qid, ghr_url)\n",
    "  \n",
    "\n",
    "\n",
    "\"\"\""
   ]
  },
  {
   "cell_type": "code",
   "execution_count": null,
   "metadata": {},
   "outputs": [],
   "source": [
    "### How deprecations are handled in Gene Bot (which uses WDI):\n",
    "\"\"\"\n",
    "def remove_deprecated_statements(qid, frc, releases, last_updated, props, login):\n",
    "\n",
    "#    :param qid: qid of item\n",
    "#    :param frc: a fastrun container\n",
    "#    :param releases: list of releases to remove (a statement that has a reference that is stated in one of these\n",
    "#            releases will be removed)\n",
    "#    :param last_updated: looks like {'Q20641742': datetime.date(2017,5,6)}. a statement that has a reference that is\n",
    "#            stated in Q20641742 (entrez) and was retrieved more than DAYS before 2017-5-6 will be removed\n",
    "#    :param props: look at these props\n",
    "#    :param login:\n",
    "#    :return:\n",
    "    for prop in props:\n",
    "        frc.write_required([wdi_core.WDString(\"fake value\", prop)])\n",
    "    orig_statements = frc.reconstruct_statements(qid)\n",
    "    releases = set(int(r[1:]) for r in releases)\n",
    "\n",
    "    s_dep = []\n",
    "    for s in orig_statements:\n",
    "        if any(any(x.get_prop_nr() == 'P248' and x.get_value() in releases for x in r) for r in s.get_references()):\n",
    "            setattr(s, 'remove', '')\n",
    "            s_dep.append(s)\n",
    "        else:\n",
    "            for r in s.get_references():\n",
    "                dbs = [x.get_value() for x in r if x.get_value() in last_updated]\n",
    "                if dbs:\n",
    "                    db = dbs[0]\n",
    "                    if any(x.get_prop_nr() == 'P813' and last_updated[db] - x.get_value() > DAYS for x in r):\n",
    "                        setattr(s, 'remove', '')\n",
    "                        s_dep.append(s)\n",
    "    if s_dep:\n",
    "        print(\"-----\")\n",
    "        print(qid)\n",
    "        print(len(s_dep))\n",
    "        print([(x.get_prop_nr(), x.value) for x in s_dep])\n",
    "        print([(x.get_references()[0]) for x in s_dep])\n",
    "        wd_item = wdi_core.WDItemEngine(wd_item_id=qid, data=s_dep, fast_run=False)\n",
    "        wdi_helpers.try_write(wd_item, '', '', login, edit_summary=\"remove deprecated statements\")\n",
    "\"\"\"\n",
    "\n",
    "### How to get rank using WDI\n",
    "\"\"\"\n",
    "item = wdi_core.WDItemEngine(wd_item_id=qid)\n",
    "new_ss = []\n",
    "for s in item.statements:  # type: wdi_core.WDBaseDataType\n",
    "    if s.get_rank() != \"normal\":\n",
    "        continue\n",
    "\"\"\"\n",
    "\n",
    "\n",
    "### How to handled deprecations using pywikibot\n",
    "\"\"\"\n",
    "https://doc.wikimedia.org/pywikibot/master/_modules/pywikibot/page.html#Claim.changeRank\n",
    "\"\"\"\n",
    "\n",
    "### WDI rank handling\n",
    "\"\"\"\n",
    "type rank: A string of one of three allowed values: 'normal', 'deprecated', 'preferred'\n",
    "\n",
    "\n",
    "    def get_rank(self):\n",
    "        if self.is_qualifier or self.is_reference:\n",
    "            return ''\n",
    "        else:\n",
    "            return self.rank\n",
    "\n",
    "    def set_rank(self, rank):\n",
    "        if self.is_qualifier or self.is_reference:\n",
    "            raise ValueError('References or qualifiers do not have ranks')\n",
    "\n",
    "        valid_ranks = ['normal', 'deprecated', 'preferred']\n",
    "\n",
    "        if rank not in valid_ranks:\n",
    "            raise ValueError('{} not a valid rank'.format(rank))\n",
    "\n",
    "        self.rank = rank\n",
    "\n",
    "\"\"\""
   ]
  },
  {
   "cell_type": "code",
   "execution_count": null,
   "metadata": {},
   "outputs": [],
   "source": [
    "def run_one(taxid, genbank_id):\n",
    "    # get the QID\n",
    "    taxid = str(taxid)\n",
    "    if taxid not in tax_qid_map:\n",
    "        msg = wdi_helpers.format_msg(genbank_id, PROPS['GenBank Assembly accession'], \"\",\n",
    "                               \"organism with taxid {} not found or skipped\".format(taxid))\n",
    "        wdi_core.WDItemEngine.log(\"WARNING\", msg)\n",
    "        return None\n",
    "    qid = tax_qid_map[taxid]\n",
    "    reference = create_reference(genbank_id)\n",
    "    genbank_statement = wdi_core.WDExternalID(genbank_id, PROPS['GenBank Assembly accession'], references=[reference])\n",
    "    \n",
    "    # create the item object, specifying the qid\n",
    "    item = wdi_core.WDItemEngine(data=[genbank_statement], wd_item_id=qid, fast_run=True, \n",
    "                                 fast_run_base_filter={PROPS['GenBank Assembly accession']: ''})\n",
    "\n",
    "    wdi_helpers.try_write(item, record_id=genbank_id, record_prop=PROPS['GenBank Assembly accession'],\n",
    "                          login=login, edit_summary=\"update GenBank Assembly accession\")\n",
    "    \n",
    "\n",
    "def run_one(taxid, genbank_id):\n",
    "    # create a statement for the ncbi tax id\n",
    "    ncbi_statement = wdi_core.WDExternalID(str(taxid), PROPS['NCBI Taxonomy ID'])\n",
    "    # we are going to retrieve the item to be modified based on the NCBI Taxonomy ID, which should already exist on all organisms.\n",
    "    try:\n",
    "        item = wdi_core.WDItemEngine(data=[ncbi_statement], domain=\"organism\", search_only=True, item_name=\"organism\")\n",
    "    except wdi_core.ManualInterventionReqException as e:\n",
    "        # if there are more than one items with this ncbi tax id, this will throw an error!\n",
    "        # instead, catch it and log the error\n",
    "        msg = wdi_helpers.format_msg(genbank_id, PROPS['GenBank Assembly accession'], \"\", str(e), type(e))\n",
    "        wdi_core.WDItemEngine.log(\"ERROR\", msg)\n",
    "        return\n",
    "    \n",
    "    if item.wd_item_id:\n",
    "        # if the item exists, create the genbank statement\n",
    "        reference = create_reference(genbank_id)\n",
    "        genbank_statement = wdi_core.WDExternalID(genbank_id, PROPS['GenBank Assembly accession'], references=[reference])\n",
    "        # create the item object, specifying the qid\n",
    "        item = wdi_core.WDItemEngine(data=[genbank_statement], wd_item_id=item.wd_item_id)\n",
    "        # use this helper method to perform the write. It automatically writes to a log file and captures errors\n",
    "        # wdi also has an automatic backoff and retry functionality\n",
    "        wdi_helpers.try_write(item, record_id=genbank_id, record_prop=PROPS['GenBank Assembly accession'],\n",
    "                              login=login, edit_summary=\"update GenBank Assembly accession\")\n",
    "    else:\n",
    "        # if the item doesn't exist, log it and skip\n",
    "        msg = wdi_helpers.format_msg(genbank_id, PROPS['GenBank Assembly accession'], \"\",\n",
    "                               \"No organism found with taxid {}\".format(taxid))\n",
    "        wdi_core.WDItemEngine.log(\"WARNING\", msg)"
   ]
  }
 ],
 "metadata": {
  "kernelspec": {
   "display_name": "Python 3",
   "language": "python",
   "name": "python3"
  },
  "language_info": {
   "codemirror_mode": {
    "name": "ipython",
    "version": 3
   },
   "file_extension": ".py",
   "mimetype": "text/x-python",
   "name": "python",
   "nbconvert_exporter": "python",
   "pygments_lexer": "ipython3",
   "version": "3.6.2"
  }
 },
 "nbformat": 4,
 "nbformat_minor": 2
}
