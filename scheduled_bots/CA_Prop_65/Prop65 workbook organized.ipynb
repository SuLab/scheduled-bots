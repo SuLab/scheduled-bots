{
 "cells": [
  {
   "cell_type": "markdown",
   "metadata": {},
   "source": [
    "# CA Prop 65 Chemical categorization\n",
    "California Proposition 65 requires labeling for chemical acknowledged in the state of California as causing cancer or reproductive/developmental toxicity. This enables us to categorize the chemicals on the Prop 65 list as instances of 'carcinogen', 'reproductive toxicant', 'male reproductive toxicant', 'female reproductive toxicant', and 'developmental toxicant' in Wikidata adding some very basic (and somewhat indirect) chem-disease relationships\n",
    "\n",
    "Note that California's OEHHA allows users to download a pre-exported .csv file of chemicals listed under Prop 65 (does not include de-listed chemicals). Alternatively, users can export the complete list of chemicals from OEHHA which will include chemicals that are under consideration, currently listed, or formerly listed.\n",
    "\n",
    "This notebook partially explores both exports for the best way for loading the data into Wikidata. The final bot will likely NOT include both methods."
   ]
  },
  {
   "cell_type": "code",
   "execution_count": 2,
   "metadata": {},
   "outputs": [],
   "source": [
    "from wikidataintegrator import wdi_core, wdi_login, wdi_helpers\n",
    "from wikidataintegrator.ref_handlers import update_retrieved_if_new_multiple_refs\n",
    "import pandas as pd\n",
    "from pandas import read_csv\n",
    "import requests\n",
    "from tqdm.notebook import trange, tqdm\n",
    "import ipywidgets \n",
    "import widgetsnbextension\n",
    "import xml.etree.ElementTree as et \n",
    "import time\n"
   ]
  },
  {
   "cell_type": "code",
   "execution_count": 3,
   "metadata": {},
   "outputs": [],
   "source": [
    "## Note that the property start date is used for list date.\n",
    "## When placed in the references, Deltabot moved it out as a qualifier\n",
    "\n",
    "from datetime import datetime\n",
    "import copy\n",
    "def create_reference(prop65_url):\n",
    "    refStatedIn = wdi_core.WDItemID(value=\"Q28455381\", prop_nr=\"P248\", is_reference=True)\n",
    "    timeStringNow = datetime.now().strftime(\"+%Y-%m-%dT00:00:00Z\")\n",
    "    refRetrieved = wdi_core.WDTime(timeStringNow, prop_nr=\"P813\", is_reference=True)\n",
    "    refURL = wdi_core.WDUrl(value=prop65_url, prop_nr=\"P854\", is_reference=True)\n",
    "    return [refStatedIn, refRetrieved, refURL]"
   ]
  },
  {
   "cell_type": "code",
   "execution_count": 4,
   "metadata": {},
   "outputs": [
    {
     "name": "stdout",
     "output_type": "stream",
     "text": [
      "Logging in...\n",
      "https://www.wikidata.org/w/api.php\n",
      "Successfully logged in as Gtsulab\n"
     ]
    }
   ],
   "source": [
    "print(\"Logging in...\")\n",
    "import wdi_user_config ## Credentials stored in a wdi_user_config file\n",
    "login_dict = wdi_user_config.get_credentials()\n",
    "login = wdi_login.WDLogin(login_dict['WDUSER'], login_dict['WDPASS'])\n"
   ]
  },
  {
   "cell_type": "markdown",
   "metadata": {},
   "source": [
    "# Get the most recent csv file and parse it\n",
    "\n",
    "## CA OEHHA clean up method\n",
    "The manually triggered export of chemical list from the OEHHA site has less header junk, random title notes, and other things that disrupt the structure which would make the name convers easier. Additionally, the data on the cancer, reproductive toxicity, etc. is more structured, and doesn't have random blank spaces"
   ]
  },
  {
   "cell_type": "code",
   "execution_count": 5,
   "metadata": {},
   "outputs": [
    {
     "name": "stdout",
     "output_type": "stream",
     "text": [
      "Index(['Title', 'CAS Number', 'Use(s)', 'Synonym(s)', 'Latest Criteria',\n",
      "       'Inhalation Unit Risk (Î¼g/cubic meter)-1',\n",
      "       'Inhalation Slope Factor (mg/kg-day)-1',\n",
      "       'Oral Slope Factor (mg/kg-day)-1', 'Last Cancer Potency Revision',\n",
      "       'Acute REL (Î¼g/m3)', 'Species', 'Acute REL Toxicologic Endpoint',\n",
      "       'Acute REL Target Organs', 'Severity', 'Last Acute REL Revision',\n",
      "       '8-Hour Inhalation REL (Î¼g/m3)', 'Last 8-Hour REL Revision',\n",
      "       'Chronic Inhalation REL (Î¼g/m3)', 'Chronic Toxicologic Endpoint',\n",
      "       'Chronic Target Organs', 'Human Data', 'Health Risk Category',\n",
      "       'Cancer Risk at PHG', 'MCL value (mg/L)', 'Cancer Risk at MCL',\n",
      "       'Notification Level (Î¼g/L)', 'Public Health Goal (mg/L)',\n",
      "       'Last PHG Revision', 'No Significant Risk Level (NSRL) - Inhalation',\n",
      "       'No Significant Risk Level (NSRL) - Oral',\n",
      "       'Maximum Allowable Dose Level (MADL) for chemicals causing reproductive toxicity - Inhalation',\n",
      "       'Maximum Allowable Dose Level (MADL) for chemicals causing reproductive toxicity - Oral',\n",
      "       'Last NSRL/MADL Revision', 'Cancer', 'Cancer - Listing Mechanism',\n",
      "       'Reproductive Toxicity',\n",
      "       'Chemical listed under Proposition 65 as causing',\n",
      "       'Developmental Toxicity - Date of Listing',\n",
      "       'Developmental Toxicity - Listing Mechanism',\n",
      "       'Female Reproductive Toxicity - Date of Listing',\n",
      "       'Female Reproductive Toxicity - Listing Mechanism',\n",
      "       'Male Reproductive Toxicity - Date of Listing',\n",
      "       'Male Reproductive Toxicity - Listing Mechanism',\n",
      "       'Child-specific refence dose (chRD) (mg/kg-day, unless noted)',\n",
      "       'Last chRD revision', 'CHHSL Commercial Non-volatile (mg/kg soil)',\n",
      "       'CHHSL Commercial Volatile, engineered fill (mcg/l soil gas)',\n",
      "       'CHHSL Commercial Volatile, no engineered fill (mcg/l soil gas)',\n",
      "       'CHHSL Residential Volatile, engineered fill (mcg/l soil gas)',\n",
      "       'CHHSL Residential Volatile, no engineered fill (mcg/l soil gas)',\n",
      "       'Soil/soil-gas screening number (CHHSL) Residential Non-volatile (mg/kg soil)'],\n",
      "      dtype='object')\n"
     ]
    }
   ],
   "source": [
    "datasrc = 'data/OEHHA-2019-11-1.csv'\n",
    "\n",
    "chem_list = read_csv(datasrc, encoding = 'unicode_escape', header=0) \n",
    "print(chem_list.columns)\n",
    "chem_list.dropna(axis='columns', how='all',inplace=True)\n",
    "chem_list.fillna(\"None\", inplace=True)\n",
    "#print(chem_list.columns.values)\n",
    "\n",
    "## Pull out only columns of interest for our task\n",
    "cols_of_interest = chem_list[['Title','CAS Number','Cancer','Cancer - Listing Mechanism',\n",
    "                          'Reproductive Toxicity','Chemical listed under Proposition 65 as causing',\n",
    "                          'Developmental Toxicity - Date of Listing','Developmental Toxicity - Listing Mechanism',\n",
    "                          'Female Reproductive Toxicity - Date of Listing',\n",
    "                          'Female Reproductive Toxicity - Listing Mechanism',\n",
    "                          'Male Reproductive Toxicity - Date of Listing',\n",
    "                          'Male Reproductive Toxicity - Listing Mechanism']]\n",
    "\n",
    "## Remove entries which are not relevant\n",
    "prop_65_irrelevant = cols_of_interest.loc[(cols_of_interest['Cancer'] == \"None\") & \n",
    "                                          (cols_of_interest['Reproductive Toxicity'] == \"None\") & \n",
    "                                          (cols_of_interest['Chemical listed under Proposition 65 as causing'] == \"None\")]\n",
    "non_prop_chems = prop_65_irrelevant['Title'].tolist()\n",
    "prop65_chems = cols_of_interest.loc[~cols_of_interest['Title'].isin(non_prop_chems)].copy()\n",
    "#print(prop65_chems.head(n=2))"
   ]
  },
  {
   "cell_type": "markdown",
   "metadata": {},
   "source": [
    "### Chemical names to URL conversion for mapping and/or mix n match\n",
    "The property in Wikidata uses the URL stub as ID so we'll need to convert the Chemical names to url stubs that work with prop65 website. The urls will then be mapped to Wikidata entries with the property that were added via Mix N match. Normally, urls can be tested, but CA Prop 65 website has captcha protection and blocks scrapers.\n",
    "\n",
    "Example conversion:\n",
    "\"OEHHA listing\" --> \"OEHHA url\" | \"Prop 65 listing\" --> \"Prop 65 url\"\n",
    "* \"Amino-alpha-carboline\" --> \"amino-alpha-carboline\" | \"A-alpha-C (2-Amino-9H-pyrido[2,3-b]indole)\" --> \"alpha-c-2-amino-9h-pyrido23-bindole\"\n",
    "* \"Allyl Chloride\" --> \"allyl-chloride\" | not listed\n",
    "* \"alpha-Methylstyrene\" --> \"alpha-methylstyrene\" | \"?-Methyl styrene (alpha-Methylstyrene)\" --> \"methyl-styrene-alpha-methylstyrene\"\n",
    "* \"MeIQx (2-Amino-3,8-dimethylimidazo[4,5-f]quinoxaline)\" --> \"meiqx-2-amino-38-dimethylimidazo45-fquinoxaline\" | \"MeIQx (2-Amino-3,8-dimethylimidazo[4,5-f]quinoxaline)\" --> \"meiqx-2-amino-38-dimethylimidazo45-fquinoxaline\"\n",
    "* \"2-Mercaptobenzothiazole\" --> \"2-mercaptobenzothiazole\" | \"2?Mercaptobenzothiazole\" --> \"2-mercaptobenzothiazole\"\n",
    "* \"Trp-P-1 (Tryptophan-P-1)\" --> \"trp-p-1-tryptophan-p-1\" | \"Trp-P-1 (Tryptophan-P-1)\" --> \"trp-p-1-tryptophan-p-1\"\n",
    "* \"Alcoholic beverages, when associated with alcohol abuse\" --> \"alcoholic-beverages\" | \"Alcoholic beverages, when associated with alcohol abuse\" --> \"alcoholic-beverages\"\n",
    "* \"Aspirin\" --> \"aspirin\" | \"Aspirin (NOTE:  It is especially  important not to use aspirin during the last three months of pregnancy,  unless specifically directed to do so by a physician because it may cause  problems in the unborn child or  complications during delivery.)\" --> \"aspirin\""
   ]
  },
  {
   "cell_type": "code",
   "execution_count": 6,
   "metadata": {},
   "outputs": [
    {
     "name": "stdout",
     "output_type": "stream",
     "text": [
      "              Entry ID           Entry name   CAS Number  \\\n",
      "0  abiraterone-acetate  Abiraterone acetate  154229-18-2   \n",
      "2         acetaldehyde         Acetaldehyde      75-07-0   \n",
      "\n",
      "                              Entry description  \n",
      "0  Abiraterone acetate, CAS Number: 154229-18-2  \n",
      "2             Acetaldehyde, CAS Number: 75-07-0  \n"
     ]
    }
   ],
   "source": [
    "## To convert the title to a url stub, lower case it, strip out parenthesis, brackets, and commas, and replace spaces with dashes\n",
    "prop65_chems['url_stub'] = prop65_chems['Title'].str.lower().str.replace(\"[\",\"\").str.replace(\"]\",\"\").str.replace(\",\",\"\").str.replace(\"(\",\"\").str.replace(\")\",\"\").str.strip(\"]\").str.replace(\" \",\"-\")\n",
    "#print(prop65_chems.head())\n",
    "\n",
    "## Check the look of the url stub\n",
    "#print(prop65_chems.loc[prop65_chems['Title']==\"Allyl Chloride\"])\n",
    "#print(prop65_chems.loc[prop65_chems['Title']==\"Trp-P-1 (Tryptophan-P-1)\"])\n",
    "#print(prop65_chems.loc[prop65_chems['Title']==\"MeIQx (2-Amino-3,8-dimethylimidazo[4,5-f]quinoxaline)\"])\n",
    "#print(prop65_chems.head(n=2))\n",
    "\n",
    "#print(prop65_chems.head(n=2))\n",
    "mixnmatch_cat = prop65_chems[['url_stub','Title','CAS Number']].copy()\n",
    "mixnmatch_cat.rename(columns={'url_stub':'Entry ID','Title':'Entry name'}, inplace=True)\n",
    "mixnmatch_cat['Entry description'] = mixnmatch_cat['Entry name'].astype(str).str.cat(mixnmatch_cat['CAS Number'].astype(str),sep=\", CAS Number: \")\n",
    "#mixnmatch_cat.drop('CAS Number',axis=1,inplace=True)\n",
    "print(mixnmatch_cat.head(n=2))\n",
    "\n",
    "#mixnmatch_cat.to_csv('data/mixnmatch_cat.tsv',sep='\\t', header=True)"
   ]
  },
  {
   "cell_type": "markdown",
   "metadata": {},
   "source": [
    "### Mapping Items to Wikidata based on CAS RN values\n",
    "For entries that can be mapped via CAS ID go ahead and add the Prop65 ID"
   ]
  },
  {
   "cell_type": "code",
   "execution_count": 7,
   "metadata": {},
   "outputs": [
    {
     "name": "stdout",
     "output_type": "stream",
     "text": [
      "   CAS Number   WDID\n",
      "0  12385-13-6   Q556\n",
      "1  53850-35-4  Q1232\n"
     ]
    }
   ],
   "source": [
    "sparqlQuery = \"SELECT * WHERE {?item wdt:P231 ?CAS}\"\n",
    "result = wdi_core.WDItemEngine.execute_sparql_query(sparqlQuery)\n",
    "cas_in_wd_list = []\n",
    "\n",
    "i=0\n",
    "while i < len(result[\"results\"][\"bindings\"]):\n",
    "    cas_id = result[\"results\"][\"bindings\"][i][\"CAS\"][\"value\"]\n",
    "    wdid = result[\"results\"][\"bindings\"][i][\"item\"][\"value\"].replace(\"http://www.wikidata.org/entity/\", \"\")\n",
    "    cas_in_wd_list.append({'WDID':wdid,'CAS Number':cas_id})\n",
    "    i=i+1\n",
    "\n",
    "cas_in_wd = pd.DataFrame(cas_in_wd_list)\n",
    "cas_in_wd.drop_duplicates(subset='CAS Number',keep=False,inplace=True)\n",
    "cas_in_wd.drop_duplicates(subset='WDID',keep=False,inplace=True)\n",
    "print(cas_in_wd.head(n=2))"
   ]
  },
  {
   "cell_type": "code",
   "execution_count": 8,
   "metadata": {},
   "outputs": [
    {
     "name": "stdout",
     "output_type": "stream",
     "text": [
      "              Entry ID           Entry name   CAS Number  \\\n",
      "0  abiraterone-acetate  Abiraterone acetate  154229-18-2   \n",
      "1         acetaldehyde         Acetaldehyde      75-07-0   \n",
      "\n",
      "                              Entry description       WDID  \n",
      "0  Abiraterone acetate, CAS Number: 154229-18-2  Q27888393  \n",
      "1             Acetaldehyde, CAS Number: 75-07-0     Q61457  \n",
      "798\n"
     ]
    }
   ],
   "source": [
    "prop_65_matches = mixnmatch_cat.merge(cas_in_wd,on='CAS Number',how='inner')\n",
    "print(prop_65_matches.head(n=2))\n",
    "print(len(prop_65_matches))\n",
    "#prop_65_matches.to_csv('data/mixnmatch_cat_with_cas.tsv',sep='\\t', header=True)"
   ]
  },
  {
   "cell_type": "code",
   "execution_count": 9,
   "metadata": {},
   "outputs": [
    {
     "name": "stdout",
     "output_type": "stream",
     "text": [
      "107\n"
     ]
    }
   ],
   "source": [
    "## Pull things matched via mix n match\n",
    "sparqlQuery = \"SELECT ?item ?CA65 WHERE {?item wdt:P7524 ?CA65}\"\n",
    "result = wdi_core.WDItemEngine.execute_sparql_query(sparqlQuery)\n",
    "CA65_in_wd_list = []\n",
    "\n",
    "i=0\n",
    "while i < len(result[\"results\"][\"bindings\"]):\n",
    "    CA65_id = result[\"results\"][\"bindings\"][i][\"CA65\"][\"value\"]\n",
    "    wdid = result[\"results\"][\"bindings\"][i][\"item\"][\"value\"].replace(\"http://www.wikidata.org/entity/\", \"\")\n",
    "    CA65_in_wd_list.append({'WDID':wdid,'Entry ID':CA65_id})\n",
    "    i=i+1\n",
    "\n",
    "CA65_in_wd = pd.DataFrame(CA65_in_wd_list)\n",
    "print(len(CA65_in_wd))"
   ]
  },
  {
   "cell_type": "code",
   "execution_count": 10,
   "metadata": {},
   "outputs": [
    {
     "name": "stdout",
     "output_type": "stream",
     "text": [
      "     Entry ID Entry name  CAS Number                  Entry description  \\\n",
      "58   auramine   Auramine    492-80-8     Auramine, CAS Number: 492-80-8   \n",
      "59  auranofin  Auranofin  34031-32-8  Auranofin, CAS Number: 34031-32-8   \n",
      "\n",
      "         WDID  \n",
      "58  Q26840770  \n",
      "59    Q421230  \n"
     ]
    }
   ],
   "source": [
    "## Remove items matched via mix n match from update\n",
    "#print(CA65_in_wd.head(n=2))\n",
    "prop_65_less_mixnmatch = prop_65_matches.loc[~prop_65_matches['Entry ID'].isin(CA65_in_wd['Entry ID'].tolist())]\n",
    "print(prop_65_less_mixnmatch.head(n=2))"
   ]
  },
  {
   "cell_type": "code",
   "execution_count": 11,
   "metadata": {},
   "outputs": [
    {
     "data": {
      "application/vnd.jupyter.widget-view+json": {
       "model_id": "7d7f2678925a426481c848f15a1cf729",
       "version_major": 2,
       "version_minor": 0
      },
      "text/plain": [
       "HBox(children=(IntProgress(value=0, max=10), HTML(value='')))"
      ]
     },
     "metadata": {},
     "output_type": "display_data"
    },
    {
     "name": "stdout",
     "output_type": "stream",
     "text": [
      "auramine Q26840770 https://oehha.ca.gov/chemicals/auramine\n",
      "auranofin Q421230 https://oehha.ca.gov/chemicals/auranofin\n",
      "avermectin-b1-abamectin Q305345 https://oehha.ca.gov/chemicals/avermectin-b1-abamectin\n",
      "azacitidine Q416451 https://oehha.ca.gov/chemicals/azacitidine\n",
      "azaserine Q4832281 https://oehha.ca.gov/chemicals/azaserine\n",
      "azathioprine Q18939 https://oehha.ca.gov/chemicals/azathioprine\n",
      "azobenzene Q8884513 https://oehha.ca.gov/chemicals/azobenzene\n",
      "benthiavalicarb-isopropyl Q27155585 https://oehha.ca.gov/chemicals/benthiavalicarb-isopropyl\n",
      "benzidine Q410066 https://oehha.ca.gov/chemicals/benzidine\n",
      "benzofuran Q410089 https://oehha.ca.gov/chemicals/benzofuran\n",
      "\n"
     ]
    }
   ],
   "source": [
    "prop65_to_add = prop_65_less_mixnmatch[0:10]\n",
    "url_base = 'https://oehha.ca.gov/chemicals/'\n",
    "list_prop = \"P7524\" \n",
    "\n",
    "for i in tqdm(range(len(prop65_to_add))):\n",
    "    prop_65_qid = prop65_to_add.iloc[i]['WDID']\n",
    "    prop_65_id = prop65_to_add.iloc[i]['Entry ID']\n",
    "    prop_65_url = url_base+prop_65_id\n",
    "    reference = create_reference(prop_65_url)\n",
    "    prop65_statement = [wdi_core.WDString(value=prop_65_id, prop_nr=list_prop, \n",
    "                               references=[copy.deepcopy(reference)])]\n",
    "    item = wdi_core.WDItemEngine(wd_item_id=prop_65_qid, data=prop65_statement, append_value=list_prop,\n",
    "                               global_ref_mode='CUSTOM', ref_handler=update_retrieved_if_new_multiple_refs)\n",
    "    item.write(login, edit_summary=\"added CA prop 65 id\")\n",
    "    print(prop_65_id, prop_65_qid, prop_65_url)\n",
    "    "
   ]
  },
  {
   "cell_type": "markdown",
   "metadata": {},
   "source": [
    "## Clean up the data for chemical typing (chem/disease relations)\n",
    "The addition of Prop 65 chemical to cancer and reproductive harm relationships depends on mappings based on the presence of the CA Prop 65 property and identifier."
   ]
  },
  {
   "cell_type": "code",
   "execution_count": 12,
   "metadata": {},
   "outputs": [
    {
     "name": "stdout",
     "output_type": "stream",
     "text": [
      "resulting mapping table has:  117  rows.\n"
     ]
    }
   ],
   "source": [
    "## Run sparql query to pull all entities with Prop 65 ID (Read Only Run)\n",
    "sparqlQuery = \"SELECT ?item ?CA65 WHERE {?item wdt:P7524 ?CA65}\"\n",
    "result = wdi_core.WDItemEngine.execute_sparql_query(sparqlQuery)\n",
    "CA65_in_wd_list = []\n",
    "\n",
    "i=0\n",
    "while i < len(result[\"results\"][\"bindings\"]):\n",
    "    CA65_id = result[\"results\"][\"bindings\"][i][\"CA65\"][\"value\"]\n",
    "    wdid = result[\"results\"][\"bindings\"][i][\"item\"][\"value\"].replace(\"http://www.wikidata.org/entity/\", \"\")\n",
    "    CA65_in_wd_list.append({'WDID':wdid,'url_stub':CA65_id})\n",
    "    i=i+1\n",
    "\n",
    "## Inspect the results for mapping or coverage issues\n",
    "CA65_in_wd = pd.DataFrame(CA65_in_wd_list)\n",
    "print(\"resulting mapping table has: \",len(CA65_in_wd),\" rows.\")"
   ]
  },
  {
   "cell_type": "code",
   "execution_count": 27,
   "metadata": {},
   "outputs": [],
   "source": [
    "## Perform left merge for currently listed and partially delisted items\n",
    "prop_65_mapped = prop65_chems.merge(CA65_in_wd, on='url_stub', how='left')\n",
    "#print(prop_65_mapped.head(n=2))"
   ]
  },
  {
   "cell_type": "code",
   "execution_count": 28,
   "metadata": {},
   "outputs": [],
   "source": [
    "prop_65_mapped['devtox current'] = prop_65_mapped['Chemical listed under Proposition 65 as causing'].str.contains(\"Development\")\n",
    "prop_65_mapped['menrep current'] = prop_65_mapped['Chemical listed under Proposition 65 as causing'].str.contains(\"Male\")\n",
    "prop_65_mapped['femrep current'] = prop_65_mapped['Chemical listed under Proposition 65 as causing'].str.contains(\"Female\")\n",
    "prop_65_mapped['cancer current'] = prop_65_mapped['Cancer'].str.contains(\"Current\")\n",
    "prop_65_mapped['reptox current'] = prop_65_mapped['Reproductive Toxicity'].str.contains(\"Current\")"
   ]
  },
  {
   "cell_type": "code",
   "execution_count": 30,
   "metadata": {},
   "outputs": [],
   "source": [
    "prop_65_mapped['cancer delisted'] = prop_65_mapped['Cancer'].str.contains(\"Formerly\")\n",
    "prop_65_mapped['reptox delisted'] = prop_65_mapped['Reproductive Toxicity'].str.contains(\"Formerly\")\n",
    "prop_65_mapped.loc[(((prop_65_mapped['Developmental Toxicity - Date of Listing']!=\"None\")|\n",
    "        (prop_65_mapped['Developmental Toxicity - Listing Mechanism']!=\"None\"))&\n",
    "        (prop_65_mapped['devtox current']==False)), 'devtox delisted'] = True\n",
    "prop_65_mapped.loc[(((prop_65_mapped['Female Reproductive Toxicity - Date of Listing']!=\"None\")|\n",
    "        (prop_65_mapped['Female Reproductive Toxicity - Listing Mechanism']!=\"None\"))&\n",
    "        (prop_65_mapped['femrep current']==False)), 'femrep delisted'] = True\n",
    "prop_65_mapped.loc[(((prop_65_mapped['Male Reproductive Toxicity - Date of Listing']!=\"None\")|\n",
    "        (prop_65_mapped['Male Reproductive Toxicity - Listing Mechanism']!=\"None\"))&\n",
    "        (prop_65_mapped['menrep current']==False)), 'menrep delisted'] = True\n",
    "\n",
    "prop_65_mapped.fillna(False, inplace=True)"
   ]
  },
  {
   "cell_type": "markdown",
   "metadata": {},
   "source": [
    "### Retrieve existing such statements in Wikidata including whether the statement is deprecated or not\n",
    "When using SPARQL queries, the 't' in 'wdt' represents 'truthy' and prioritizes higher ranks and non-deprecated items/statements. Since we're looking for statements which are deprecated, we'll use 'ps' (property statement) and 'pq' (property qualifier) for the sparql query involving deprecated items."
   ]
  },
  {
   "cell_type": "code",
   "execution_count": 21,
   "metadata": {},
   "outputs": [],
   "source": [
    "## Here are the object QIDs, assuming that a chemical is the subject\n",
    "object_qid = {'femrep':'Q55427776',\n",
    "              'menrep': 'Q55427774',\n",
    "              'devtox': 'Q72941151',\n",
    "              'cancer': 'Q187661',\n",
    "              'reptox': 'Q55427767'}"
   ]
  },
  {
   "cell_type": "code",
   "execution_count": 19,
   "metadata": {},
   "outputs": [
    {
     "name": "stdout",
     "output_type": "stream",
     "text": [
      "{'head': {'vars': ['item']}, 'results': {'bindings': [{'item': {'type': 'uri', 'value': 'http://www.wikidata.org/entity/statement/Q420473-13FC25E5-BBB9-4004-94B1-0974A51D2CAF'}}]}}\n"
     ]
    }
   ],
   "source": [
    "## Sample query for deprecated item\n",
    "\"\"\"\n",
    "#instances of carcinogen delisted\n",
    "SELECT ?item ?itemLabel {\n",
    "  ?item ps:P31 wd:Q187661 .\n",
    "  ?item pq:P2241 wd:Q56478729. \n",
    "  SERVICE wikibase:label {\n",
    "    bd:serviceParam wikibase:language \"en\" .\n",
    "   }\n",
    "\"\"\"\n",
    "\n",
    "sparqlQuery = \"SELECT ?item {?item ps:P31 wd:Q187661. ?item pq:P2241 wd:Q56478729. }\"\n",
    "result = wdi_core.WDItemEngine.execute_sparql_query(sparqlQuery)\n",
    "print(result)"
   ]
  },
  {
   "cell_type": "code",
   "execution_count": 34,
   "metadata": {},
   "outputs": [],
   "source": [
    "deprecated_results = []\n",
    "current_results = []\n",
    "\n",
    "for object_type in object_qid.keys():\n",
    "    deprecated_query = \"SELECT ?item {?item ps:P31 wd:\"+object_qid[object_type]+\". ?item pq:P2241 wd:Q56478729. }\"\n",
    "    depresult = wdi_core.WDItemEngine.execute_sparql_query(deprecated_query)\n",
    "    i=0\n",
    "    while i < len(depresult[\"results\"][\"bindings\"]):\n",
    "        wdi_uri = depresult[\"results\"][\"bindings\"][i][\"item\"][\"value\"].replace(\"http://www.wikidata.org/entity/statement/\", \"\")\n",
    "        tmp = wdi_uri.split('-')\n",
    "        WDID = tmp[0]\n",
    "        deprecated_results.append({'WDID':WDID,'deprecated_type':object_type+' delisted'})\n",
    "        i=i+1\n",
    "    \n",
    "    sparqlQuery = \"SELECT ?item WHERE {?item wdt:P31 wd:\"+object_qid[object_type]+\".}\"\n",
    "    result = wdi_core.WDItemEngine.execute_sparql_query(sparqlQuery)\n",
    "    j=0\n",
    "    while j < len(result[\"results\"][\"bindings\"]):\n",
    "        wdid = result[\"results\"][\"bindings\"][j][\"item\"][\"value\"].replace(\"http://www.wikidata.org/entity/\", \"\")\n",
    "        current_results.append({'WDID':wdid,'ObjectType':object_type+' current'})\n",
    "        j=j+1    \n"
   ]
  },
  {
   "cell_type": "code",
   "execution_count": 35,
   "metadata": {},
   "outputs": [
    {
     "name": "stdout",
     "output_type": "stream",
     "text": [
      "1 9\n",
      "      WDID  deprecated_type\n",
      "0  Q420473  cancer delisted\n",
      "       ObjectType       WDID\n",
      "0  femrep current  Q27888393\n",
      "1  menrep current  Q27888393\n",
      "2  devtox current  Q27888393\n",
      "3  cancer current     Q52822\n",
      "4  cancer current     Q61457\n",
      "5  cancer current    Q229922\n",
      "6  cancer current    Q410066\n",
      "7  cancer current  Q55427380\n",
      "8  cancer current  Q58622448\n"
     ]
    }
   ],
   "source": [
    "deprecated_df = pd.DataFrame(deprecated_results)\n",
    "current_df = pd.DataFrame(current_results)\n",
    "print(len(deprecated_df),len(current_df))\n",
    "print(deprecated_df)\n",
    "print(current_df)"
   ]
  },
  {
   "cell_type": "markdown",
   "metadata": {},
   "source": [
    "### Compare the data with retrieved results to determine what to ignore and what to write\n",
    "\n",
    "* Anything listed as delisted in CA and deprecated in WD should be ignored (no change needed)\n",
    "* Anything listed as delisted in CA but not deprecated in WD should have the rank updated (changed to deprecated due to new delisting)\n",
    "* Anything listed as current in CA and current in WD should be ignored (no change needed)\n",
    "* Anything listed as current in CA and not in WD should be written to WD (new CA entities)"
   ]
  },
  {
   "cell_type": "code",
   "execution_count": null,
   "metadata": {},
   "outputs": [],
   "source": [
    "### List of deprecated entities in Wikidata\n",
    "cancer_deprecated = deprecated_df.loc[deprecated_df['deprecated_type']=='cancer delisted'].tolist()\n",
    "reptox_deprecated = deprecated_df.loc[deprecated_df['deprecated_type']=='reptox delisted'].tolist()\n",
    "femrep_deprecated = deprecated_df.loc[deprecated_df['deprecated_type']=='femrep delisted'].tolist()\n",
    "menrep_deprecated = deprecated_df.loc[deprecated_df['deprecated_type']=='menrep delisted'].tolist()\n",
    "devtox_deprecated = deprecated_df.loc[deprecated_df['deprecated_type']=='devtox delisted'].tolist()\n",
    "\n",
    "### List of current entities in Wikidata\n",
    "cancer_current = current_df.loc[current_df['ObjectType']=='cancer current'].tolist()\n",
    "reptox_current = current_df.loc[current_df['ObjectType']=='reptox current'].tolist()\n",
    "femrep_current = current_df.loc[current_df['ObjectType']=='femrep current'].tolist()\n",
    "menrep_current = current_df.loc[current_df['ObjectType']=='menrep current'].tolist()\n",
    "devtox_current = current_df.loc[current_df['ObjectType']=='devtox current'].tolist()"
   ]
  },
  {
   "cell_type": "code",
   "execution_count": null,
   "metadata": {},
   "outputs": [],
   "source": [
    "## List of delisted entities to write\n",
    "cancer_delisted = prop_65_mapped['WDID'].loc[prop_65_mapped['cancer delisted']==True].tolist()\n",
    "reptox_delisted = prop_65_mapped['WDID'].loc[prop_65_mapped['reptox delisted']==True].tolist()\n",
    "femrep_delisted = prop_65_mapped['WDID'].loc[prop_65_mapped['femrep delisted']==True].tolist()\n",
    "menrep_delisted = prop_65_mapped['WDID'].loc[prop_65_mapped['menrep delisted']==True].tolist()\n",
    "devtox_delisted = prop_65_mapped['WDID'].loc[prop_65_mapped['devtox delisted']==True].tolist()\n",
    "\n",
    "## List of current entities to write\n",
    "cancer_current = prop_65_mapped['WDID'].loc[prop_65_mapped['cancer current']==True].tolist()\n",
    "reptox_current = prop_65_mapped['WDID'].loc[prop_65_mapped['reptox current']==True].tolist()\n",
    "femrep_current = prop_65_mapped['WDID'].loc[prop_65_mapped['femrep current']==True].tolist()\n",
    "menrep_current = prop_65_mapped['WDID'].loc[prop_65_mapped['menrep current']==True].tolist()\n",
    "devtox_current = prop_65_mapped['WDID'].loc[prop_65_mapped['devtox current']==True].tolist()"
   ]
  },
  {
   "cell_type": "code",
   "execution_count": null,
   "metadata": {},
   "outputs": [],
   "source": [
    "## all prop_65_CA WDIDs\n",
    "all_entities = prop_65_mapped['WDID'].tolist()"
   ]
  },
  {
   "cell_type": "code",
   "execution_count": null,
   "metadata": {},
   "outputs": [],
   "source": [
    "edit_log = []\n",
    "repcheck = ('femrep','menrep','devrep')\n",
    "for eachitem in all_entities:\n",
    "    new_statements = []\n",
    "    new_dep_states = []\n",
    "    rank_delist = []\n",
    "    rank_relist = []\n",
    "    for object_type in object_qid.keys():\n",
    "        ## If the item is delisted\n",
    "        if eachitem in prop_65_mapped['WDID'].loc[prop_65_mapped[object_type+' delisted']==True].tolist():\n",
    "            ## if true, check if it's in the deprecated list\n",
    "            if eachitem in deprecated_df['WDID'].loc[deprecated_df['deprecated_type']==object_type+' delisted'].tolist():\n",
    "                ## if true, no write is needed, note it in the log\n",
    "                edit_log.append{{'WDID':eachitem,object_type+' delisted':True,object_type+' current':False,'edits':'No Change'}}\n",
    "            ## Else if the item is in the current list of wd entities\n",
    "            elif eachitem in current_df['WDID'].loc[current_df['ObjectType']==object_type+' current'].tolist():\n",
    "                ## if true, rank change is needed, new statement not needed\n",
    "                rank_delist.append(object_type)\n",
    "            ## Else the item is delisted and not in WD as such\n",
    "            else:\n",
    "                ## if true, A new statement is needed which includes the deprecated rank\n",
    "                new_dep_states.append(object_type)\n",
    "                \n",
    "        ## If the item is current\n",
    "        if eachitem in prop_65_mapped['WDID'].loc[prop_65_mapped[object_type+' current']==True].tolist():\n",
    "            ## If the item is current, check if it's in the deprecated list\n",
    "            if eachitem in deprecated_df['WDID'].loc[deprecated_df['deprecated_type']==object_type+' delisted'].tolist():\n",
    "                ## if true, it appears to have been re-listed, rank change may be needed\n",
    "                rank_relist.append(object_type)\n",
    "            ## Else if the item is in the current list of wd entities\n",
    "            elif eachitem in current_df['WDID'].loc[current_df['ObjectType']==object_type+' current'].tolist():\n",
    "                ## if true, no change, no write and no new rank change needed\n",
    "                edit_log.append{{'WDID':eachitem,object_type+' delisted':False,object_type+' current':True,'edits':'No Change'}}\n",
    "            ## Else the item is currently listed, but not in WD as such\n",
    "            else:\n",
    "                ## if true, A new statement is needed \n",
    "                new_statements.append(object_type)\n",
    "        \n",
    "    ## Put in some logic for handling reptox vs femrep, menrep and devtox\n",
    "    if repcheck.intersection(set(new_statements)) >= 1 & 'reptox' in new_statements:\n",
    "        new_statements.remove('reptox')\n",
    "    if repcheck.intersection(set(new_dep_states)) >= 1 & 'reptox' in new_dep_states:\n",
    "        new_dep_states.remove('reptox')    \n",
    "    if repcheck.intersection(set(rank_delist)) >= 1 & 'reptox' in rank_delist:\n",
    "        rank_delist.remove('reptox')  \n",
    "    if repcheck.intersection(set(rank_relist)) >= 1 & 'reptox' in rank_relist:\n",
    "        rank_relist.remove('reptox')\n",
    "    \n",
    "    ## Generate new statements to write\n",
    "    \n",
    "    \n",
    "    ## Update Ranks in previous statements\n",
    "    \n",
    "        \n",
    "                                        "
   ]
  },
  {
   "cell_type": "code",
   "execution_count": null,
   "metadata": {},
   "outputs": [],
   "source": []
  },
  {
   "cell_type": "code",
   "execution_count": null,
   "metadata": {},
   "outputs": [],
   "source": []
  },
  {
   "cell_type": "code",
   "execution_count": 31,
   "metadata": {},
   "outputs": [
    {
     "name": "stdout",
     "output_type": "stream",
     "text": [
      "Index(['Title', 'CAS Number', 'Cancer', 'Cancer - Listing Mechanism',\n",
      "       'Reproductive Toxicity',\n",
      "       'Chemical listed under Proposition 65 as causing',\n",
      "       'Developmental Toxicity - Date of Listing',\n",
      "       'Developmental Toxicity - Listing Mechanism',\n",
      "       'Female Reproductive Toxicity - Date of Listing',\n",
      "       'Female Reproductive Toxicity - Listing Mechanism',\n",
      "       'Male Reproductive Toxicity - Date of Listing',\n",
      "       'Male Reproductive Toxicity - Listing Mechanism', 'url_stub', 'WDID',\n",
      "       'devtox current', 'menrep current', 'femrep current', 'cancer current',\n",
      "       'reptox current', 'cancer delisted', 'reptox delisted',\n",
      "       'devtox delisted', 'femrep delisted', 'menrep delisted'],\n",
      "      dtype='object')\n"
     ]
    }
   ],
   "source": [
    "print(prop_65_mapped.columns)"
   ]
  },
  {
   "cell_type": "code",
   "execution_count": null,
   "metadata": {},
   "outputs": [],
   "source": []
  }
 ],
 "metadata": {
  "kernelspec": {
   "display_name": "Python 3",
   "language": "python",
   "name": "python3"
  },
  "language_info": {
   "codemirror_mode": {
    "name": "ipython",
    "version": 3
   },
   "file_extension": ".py",
   "mimetype": "text/x-python",
   "name": "python",
   "nbconvert_exporter": "python",
   "pygments_lexer": "ipython3",
   "version": "3.6.2"
  }
 },
 "nbformat": 4,
 "nbformat_minor": 2
}
