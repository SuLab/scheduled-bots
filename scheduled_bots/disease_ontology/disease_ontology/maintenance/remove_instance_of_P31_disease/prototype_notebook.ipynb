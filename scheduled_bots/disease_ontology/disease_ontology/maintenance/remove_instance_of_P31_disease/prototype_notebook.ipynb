{
 "cells": [
  {
   "cell_type": "code",
   "execution_count": 1,
   "metadata": {},
   "outputs": [],
   "source": [
    "from wikidataintegrator import wdi_core, wdi_login"
   ]
  },
  {
   "cell_type": "code",
   "execution_count": 2,
   "metadata": {},
   "outputs": [],
   "source": [
    "WDUSER = \"\"\n",
    "WDPASS = \"\"\n",
    "\n",
    "login = wdi_login.WDLogin(WDUSER, WDPASS)"
   ]
  },
  {
   "cell_type": "code",
   "execution_count": 16,
   "metadata": {},
   "outputs": [],
   "source": [
    "def remove_disease(qid):\n",
    "    item = wdi_core.WDItemEngine(wd_item_id=qid)\n",
    "    json = item.get_wd_json_representation()\n",
    "\n",
    "    if \"P31\" in json[\"claims\"].keys():\n",
    "        for claim in json[\"claims\"][\"P31\"]: \n",
    "            print(claim[\"id\"])\n",
    "            for reference in claim[\"references\"]:\n",
    "                for snakP248 in reference[\"snaks\"][\"P248\"]:\n",
    "                    if snakP248[\"datavalue\"][\"value\"][\"id\"] == \"Q5282129\":\n",
    "                        wdi_core.WDItemEngine.delete_statement(statement_id=claim[\"id\"], revision=item.lastrevid, login=login)\n"
   ]
  },
  {
   "cell_type": "code",
   "execution_count": 19,
   "metadata": {},
   "outputs": [],
   "source": [
    "results = wdi_core.WDItemEngine.execute_sparql_query(\"SELECT * WHERE { ?disease p:P31 [ps:P31 wd:Q12136 ; prov:wasDerivedFrom [ pr:P248 wd:Q5282129 ; ]]}\")"
   ]
  },
  {
   "cell_type": "code",
   "execution_count": 20,
   "metadata": {},
   "outputs": [
    {
     "name": "stdout",
     "output_type": "stream",
     "text": [
      "Q1339466$A16D450D-B5DD-4C98-9611-A7F8A9A6F21E\n",
      "{'pageinfo': {'lastrevid': 1310822289}, 'success': 1, 'claims': ['Q1339466$A16D450D-B5DD-4C98-9611-A7F8A9A6F21E']}\n",
      "Q1339466$856319FD-E1F4-4E3B-807A-03673B3293EF\n"
     ]
    }
   ],
   "source": [
    "for result in results[\"results\"][\"bindings\"]:\n",
    "    remove_disease(result[\"disease\"][\"value\"].replace(\"http://www.wikidata.org/entity/\", \"\"))\n",
    "    break"
   ]
  },
  {
   "cell_type": "code",
   "execution_count": 18,
   "metadata": {},
   "outputs": [
    {
     "name": "stdout",
     "output_type": "stream",
     "text": [
      "Q1340774$66A7912C-7C22-4AD2-8A44-E46F775F7565\n",
      "{'pageinfo': {'lastrevid': 1310821009}, 'success': 1, 'claims': ['Q1340774$66A7912C-7C22-4AD2-8A44-E46F775F7565']}\n"
     ]
    }
   ],
   "source": [
    "remove_disease(\"Q1340774\")\n"
   ]
  },
  {
   "cell_type": "code",
   "execution_count": null,
   "metadata": {},
   "outputs": [],
   "source": []
  }
 ],
 "metadata": {
  "kernelspec": {
   "display_name": "Python 3",
   "language": "python",
   "name": "python3"
  },
  "language_info": {
   "codemirror_mode": {
    "name": "ipython",
    "version": 3
   },
   "file_extension": ".py",
   "mimetype": "text/x-python",
   "name": "python",
   "nbconvert_exporter": "python",
   "pygments_lexer": "ipython3",
   "version": "3.7.3"
  }
 },
 "nbformat": 4,
 "nbformat_minor": 1
}
