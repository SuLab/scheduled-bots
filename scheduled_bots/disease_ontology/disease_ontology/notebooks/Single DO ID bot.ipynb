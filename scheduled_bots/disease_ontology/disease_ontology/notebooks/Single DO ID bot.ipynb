{
 "cells": [
  {
   "cell_type": "code",
   "execution_count": 198,
   "id": "9d51fa52",
   "metadata": {},
   "outputs": [],
   "source": [
    "%%capture\n",
    "!pip install wikidataintegrator"
   ]
  },
  {
   "cell_type": "code",
   "execution_count": 199,
   "id": "1975e4e4",
   "metadata": {},
   "outputs": [],
   "source": [
    "from rdflib import Graph, URIRef\n",
    "from wikidataintegrator import wdi_core, wdi_login\n",
    "from datetime import datetime\n",
    "import copy\n",
    "import getpass"
   ]
  },
  {
   "cell_type": "code",
   "execution_count": 200,
   "id": "4182c332",
   "metadata": {},
   "outputs": [],
   "source": [
    "# functions\n",
    "def createDOReference(doid):\n",
    "    statedin = wdi_core.WDItemID(\"Q5282129\", prop_nr=\"P248\", is_reference=True)\n",
    "    retrieved = datetime.now()\n",
    "    timeStringNow = retrieved.strftime(\"+%Y-%m-%dT00:00:00Z\")\n",
    "    refRetrieved = wdi_core.WDTime(timeStringNow, prop_nr=\"P813\", is_reference=True)\n",
    "    doid = wdi_core.WDExternalID(doid, prop_nr=\"P699\", is_reference=True)\n",
    "    return [statedin, refRetrieved, doid]\n",
    "\n",
    "def createIORef():\n",
    "    statedin = wdi_core.WDItemID(\"Q16335166\", prop_nr=\"P248\", is_reference=True)\n",
    "    referenceURL = wdi_core.WDUrl(\"https://registry.identifiers.org/registry/doid\", prop_nr=\"P854\", is_reference=True)\n",
    "    return [statedin, referenceURL]"
   ]
  },
  {
   "cell_type": "code",
   "execution_count": 201,
   "id": "a9d29ebd",
   "metadata": {},
   "outputs": [
    {
     "name": "stdout",
     "output_type": "stream",
     "text": [
      "username:\n",
      "andrawaag\n",
      "password:\n",
      "········\n"
     ]
    }
   ],
   "source": [
    "print(\"username:\")\n",
    "username = input()\n",
    "print(\"password:\")\n",
    "password = getpass.getpass()\n",
    "login = wdi_login.WDLogin(user=username, pwd=password)"
   ]
  },
  {
   "cell_type": "code",
   "execution_count": 203,
   "id": "5f9b3219",
   "metadata": {},
   "outputs": [
    {
     "name": "stdout",
     "output_type": "stream",
     "text": [
      "http://purl.obolibrary.org/obo/DOID_0080972\n",
      "2022-02-22 19:13:58.425011: maxlag. sleeping for 107.41666666666667 seconds\n"
     ]
    },
    {
     "ename": "KeyboardInterrupt",
     "evalue": "",
     "output_type": "error",
     "traceback": [
      "\u001b[0;31m---------------------------------------------------------------------------\u001b[0m",
      "\u001b[0;31mKeyboardInterrupt\u001b[0m                         Traceback (most recent call last)",
      "Input \u001b[0;32mIn [203]\u001b[0m, in \u001b[0;36m<module>\u001b[0;34m\u001b[0m\n\u001b[1;32m     46\u001b[0m     item\u001b[38;5;241m.\u001b[39mset_label(\u001b[38;5;28mstr\u001b[39m(dog\u001b[38;5;241m.\u001b[39mvalue(URIRef(douri), URIRef(\u001b[38;5;124m\"\u001b[39m\u001b[38;5;124mhttp://www.w3.org/2000/01/rdf-schema#label\u001b[39m\u001b[38;5;124m\"\u001b[39m))), lang\u001b[38;5;241m=\u001b[39m\u001b[38;5;124m\"\u001b[39m\u001b[38;5;124men\u001b[39m\u001b[38;5;124m\"\u001b[39m)\n\u001b[1;32m     47\u001b[0m     item\u001b[38;5;241m.\u001b[39mget_description(\u001b[38;5;124m\"\u001b[39m\u001b[38;5;124mhuman disease\u001b[39m\u001b[38;5;124m\"\u001b[39m, lang\u001b[38;5;241m=\u001b[39m\u001b[38;5;124m\"\u001b[39m\u001b[38;5;124men\u001b[39m\u001b[38;5;124m\"\u001b[39m)\n\u001b[0;32m---> 49\u001b[0m \u001b[43mitem\u001b[49m\u001b[38;5;241;43m.\u001b[39;49m\u001b[43mwrite\u001b[49m\u001b[43m(\u001b[49m\u001b[43mlogin\u001b[49m\u001b[43m)\u001b[49m\n",
      "File \u001b[0;32m/srv/paws/lib/python3.8/site-packages/wikidataintegrator/wdi_core.py:1296\u001b[0m, in \u001b[0;36mWDItemEngine.write\u001b[0;34m(self, login, bot_account, edit_summary, entity_type, property_datatype, max_retries, retry_after)\u001b[0m\n\u001b[1;32m   1293\u001b[0m     payload\u001b[38;5;241m.\u001b[39mupdate({\u001b[38;5;124mu\u001b[39m\u001b[38;5;124m'\u001b[39m\u001b[38;5;124mid\u001b[39m\u001b[38;5;124m'\u001b[39m: \u001b[38;5;28mself\u001b[39m\u001b[38;5;241m.\u001b[39mwd_item_id})\n\u001b[1;32m   1295\u001b[0m \u001b[38;5;28;01mtry\u001b[39;00m:\n\u001b[0;32m-> 1296\u001b[0m     json_data \u001b[38;5;241m=\u001b[39m \u001b[38;5;28;43mself\u001b[39;49m\u001b[38;5;241;43m.\u001b[39;49m\u001b[43mmediawiki_api_call\u001b[49m\u001b[43m(\u001b[49m\u001b[38;5;124;43m'\u001b[39;49m\u001b[38;5;124;43mPOST\u001b[39;49m\u001b[38;5;124;43m'\u001b[39;49m\u001b[43m,\u001b[49m\u001b[43m \u001b[49m\u001b[38;5;28;43mself\u001b[39;49m\u001b[38;5;241;43m.\u001b[39;49m\u001b[43mmediawiki_api_url\u001b[49m\u001b[43m,\u001b[49m\u001b[43m \u001b[49m\u001b[43msession\u001b[49m\u001b[38;5;241;43m=\u001b[39;49m\u001b[43mlogin\u001b[49m\u001b[38;5;241;43m.\u001b[39;49m\u001b[43mget_session\u001b[49m\u001b[43m(\u001b[49m\u001b[43m)\u001b[49m\u001b[43m,\u001b[49m\n\u001b[1;32m   1297\u001b[0m \u001b[43m                                        \u001b[49m\u001b[43mmax_retries\u001b[49m\u001b[38;5;241;43m=\u001b[39;49m\u001b[43mmax_retries\u001b[49m\u001b[43m,\u001b[49m\u001b[43m \u001b[49m\u001b[43mretry_after\u001b[49m\u001b[38;5;241;43m=\u001b[39;49m\u001b[43mretry_after\u001b[49m\u001b[43m,\u001b[49m\n\u001b[1;32m   1298\u001b[0m \u001b[43m                                        \u001b[49m\u001b[43mheaders\u001b[49m\u001b[38;5;241;43m=\u001b[39;49m\u001b[43mheaders\u001b[49m\u001b[43m,\u001b[49m\u001b[43m \u001b[49m\u001b[43mdata\u001b[49m\u001b[38;5;241;43m=\u001b[39;49m\u001b[43mpayload\u001b[49m\u001b[43m)\u001b[49m\n\u001b[1;32m   1300\u001b[0m     \u001b[38;5;28;01mif\u001b[39;00m \u001b[38;5;124m'\u001b[39m\u001b[38;5;124merror\u001b[39m\u001b[38;5;124m'\u001b[39m \u001b[38;5;129;01min\u001b[39;00m json_data \u001b[38;5;129;01mand\u001b[39;00m \u001b[38;5;124m'\u001b[39m\u001b[38;5;124mmessages\u001b[39m\u001b[38;5;124m'\u001b[39m \u001b[38;5;129;01min\u001b[39;00m json_data[\u001b[38;5;124m'\u001b[39m\u001b[38;5;124merror\u001b[39m\u001b[38;5;124m'\u001b[39m]:\n\u001b[1;32m   1301\u001b[0m         error_msg_names \u001b[38;5;241m=\u001b[39m \u001b[38;5;28mset\u001b[39m(x\u001b[38;5;241m.\u001b[39mget(\u001b[38;5;124m'\u001b[39m\u001b[38;5;124mname\u001b[39m\u001b[38;5;124m'\u001b[39m) \u001b[38;5;28;01mfor\u001b[39;00m x \u001b[38;5;129;01min\u001b[39;00m json_data[\u001b[38;5;124m\"\u001b[39m\u001b[38;5;124merror\u001b[39m\u001b[38;5;124m\"\u001b[39m][\u001b[38;5;124m'\u001b[39m\u001b[38;5;124mmessages\u001b[39m\u001b[38;5;124m'\u001b[39m])\n",
      "File \u001b[0;32m/srv/paws/lib/python3.8/site-packages/wikidataintegrator/wdi_core.py:1407\u001b[0m, in \u001b[0;36mWDItemEngine.mediawiki_api_call\u001b[0;34m(method, mediawiki_api_url, session, max_retries, retry_after, **kwargs)\u001b[0m\n\u001b[1;32m   1405\u001b[0m     sleep_sec \u001b[38;5;241m=\u001b[39m json_data[\u001b[38;5;124m'\u001b[39m\u001b[38;5;124merror\u001b[39m\u001b[38;5;124m'\u001b[39m]\u001b[38;5;241m.\u001b[39mget(\u001b[38;5;124m'\u001b[39m\u001b[38;5;124mlag\u001b[39m\u001b[38;5;124m'\u001b[39m, retry_after)\n\u001b[1;32m   1406\u001b[0m     \u001b[38;5;28mprint\u001b[39m(\u001b[38;5;124m\"\u001b[39m\u001b[38;5;132;01m{}\u001b[39;00m\u001b[38;5;124m: maxlag. sleeping for \u001b[39m\u001b[38;5;132;01m{}\u001b[39;00m\u001b[38;5;124m seconds\u001b[39m\u001b[38;5;124m\"\u001b[39m\u001b[38;5;241m.\u001b[39mformat(datetime\u001b[38;5;241m.\u001b[39mdatetime\u001b[38;5;241m.\u001b[39mutcnow(), sleep_sec))\n\u001b[0;32m-> 1407\u001b[0m     \u001b[43mtime\u001b[49m\u001b[38;5;241;43m.\u001b[39;49m\u001b[43msleep\u001b[49m\u001b[43m(\u001b[49m\u001b[43msleep_sec\u001b[49m\u001b[43m)\u001b[49m\n\u001b[1;32m   1408\u001b[0m     \u001b[38;5;28;01mcontinue\u001b[39;00m\n\u001b[1;32m   1410\u001b[0m \u001b[38;5;66;03m# readonly\u001b[39;00m\n",
      "\u001b[0;31mKeyboardInterrupt\u001b[0m: "
     ]
    }
   ],
   "source": [
    "doid = \"DOID:0080972\"\n",
    "douri = \"http://purl.obolibrary.org/obo/\"+doid.replace(\":\", \"_\")\n",
    "print(douri)\n",
    "dog = Graph()\n",
    "dog.parse(\"http://www.ontobee.org/ontology/rdf/DOID?iri=\"+douri, format=\"xml\")\n",
    "query = f\"\"\"\n",
    "SELECT * WHERE {{?item wdt:P699 '{doid}'}}\n",
    "\"\"\"\n",
    "qid = wdi_core.WDFunctionsEngine.execute_sparql_query(query, as_dataframe=True)\n",
    "if len(qid) >0:\n",
    "    qid = qid.iloc[0][\"item\"].replace(\"http://www.wikidata.org/entity/\", \"\")\n",
    "else:\n",
    "    qid = None\n",
    "\n",
    "if qid:\n",
    "    item = wdi_core.WDItemEngine(wd_item_id=qid) \n",
    "    precheck = item.check_entity_schema(eid=\"E323\", output=\"result\")\n",
    "    if not precheck[\"result\"]:\n",
    "        print(qid + \" needs fixing to conform to E323\")\n",
    "        quit()\n",
    "\n",
    "do_reference = createDOReference(doid)\n",
    "identorg_reference = createIORef()\n",
    "\n",
    "statements = []\n",
    "# Disease Ontology ID (P31)\n",
    "statements.append(wdi_core.WDString(value=doid, prop_nr=\"P699\", references=[copy.deepcopy(do_reference)]))\n",
    "# exact match (P2888)\n",
    "statements.append(wdi_core.WDUrl(value=douri, prop_nr=\"P2888\", references=[copy.deepcopy(do_reference)]))\n",
    "# identifiers.org URI\n",
    "statements.append(wdi_core.WDUrl(\"http://identifiers.org/doid/\"+doid, prop_nr=\"P2888\", references=[copy.deepcopy(identorg_reference)]))\n",
    "\n",
    "#external identifiers based on skos:exactMatch\n",
    "for extID in dog.objects(predicate=URIRef(\"http://www.w3.org/2004/02/skos/core#exactMatch\")):\n",
    "    # if \"MESH:\" in extID:\n",
    "    #    statements.append(wdi_core.WDExternalID(row[\"exactMatch\"].replace(\"MESH:\", \"\"), prop_nr=\"P486\", references=[copy.deepcopy(do_reference)]))\n",
    "    if \"NCI:\" in extID:\n",
    "        statements.append(wdi_core.WDExternalID(row[\"exactMatch\"], prop_nr=\"P1748\", references=[copy.deepcopy(do_reference)]))\n",
    "    if \"ICD10CM:\" in extID:\n",
    "        statements.append(wdi_core.WDExternalID(row[\"exactMatch\"], prop_nr=\"P4229\", references=[copy.deepcopy(do_reference)]))\n",
    "    if \"UMLS_CUI:\" in extID:\n",
    "        statements.append(wdi_core.WDExternalID(row[\"exactMatch\"], prop_nr=\"P2892\", references=[copy.deepcopy(do_reference)]))\n",
    "item = wdi_core.WDItemEngine(data=statements, keep_good_ref_statements=True)\n",
    "\n",
    "if item.get_label(lang=\"en\") == \"\":\n",
    "    item.set_label(str(dog.value(URIRef(douri), URIRef(\"http://www.w3.org/2000/01/rdf-schema#label\"))), lang=\"en\")\n",
    "    item.get_description(\"human disease\", lang=\"en\")\n",
    "\n",
    "item.write(login)"
   ]
  }
 ],
 "metadata": {
  "kernelspec": {
   "display_name": "Python 3 (ipykernel)",
   "language": "python",
   "name": "python3"
  },
  "language_info": {
   "codemirror_mode": {
    "name": "ipython",
    "version": 3
   },
   "file_extension": ".py",
   "mimetype": "text/x-python",
   "name": "python",
   "nbconvert_exporter": "python",
   "pygments_lexer": "ipython3",
   "version": "3.8.10"
  }
 },
 "nbformat": 4,
 "nbformat_minor": 5
}
