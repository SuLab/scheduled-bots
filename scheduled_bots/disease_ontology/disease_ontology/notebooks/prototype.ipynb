{
 "cells": [
  {
   "cell_type": "markdown",
   "metadata": {},
   "source": [
    "# Libraries and function calls"
   ]
  },
  {
   "cell_type": "code",
   "execution_count": 1,
   "metadata": {},
   "outputs": [],
   "source": [
    "from wikidataintegrator import wdi_core, wdi_login\n",
    "import os\n",
    "from rdflib import Graph, URIRef\n",
    "import pandas as pd\n",
    "import copy\n",
    "from datetime import datetime"
   ]
  },
  {
   "cell_type": "code",
   "execution_count": 2,
   "metadata": {},
   "outputs": [],
   "source": [
    "def createDOReference(doid):\n",
    "    statedin = wdi_core.WDItemID(\"Q5282129\", prop_nr=\"P248\", is_reference=True)\n",
    "    retrieved = datetime.now()\n",
    "    timeStringNow = retrieved.strftime(\"+%Y-%m-%dT00:00:00Z\")\n",
    "    refRetrieved = wdi_core.WDTime(timeStringNow, prop_nr=\"P813\", is_reference=True)\n",
    "    doid = wdi_core.WDExternalID(doid, prop_nr=\"P699\", is_reference=True)\n",
    "    return [statedin, refRetrieved, doid]\n",
    "\n",
    "def createIORef():\n",
    "    statedin = wdi_core.WDItemID(\"Q16335166\", prop_nr=\"P248\", is_reference=True)\n",
    "    referenceURL = wdi_core.WDUrl(\"https://registry.identifiers.org/registry/doid\", prop_nr=\"P854\", is_reference=True)\n",
    "    return [statedin, referenceURL]"
   ]
  },
  {
   "cell_type": "markdown",
   "metadata": {},
   "source": [
    "# Loading the Disease Ontology from the source"
   ]
  },
  {
   "cell_type": "code",
   "execution_count": 3,
   "metadata": {},
   "outputs": [
    {
     "name": "stdout",
     "output_type": "stream",
     "text": [
      "\n",
      "Downloading the Disease Ontology...\n"
     ]
    },
    {
     "data": {
      "text/plain": "<Graph identifier=N4744de7d2bf044d8a3e50a64a8c62c74 (<class 'rdflib.graph.Graph'>)>"
     },
     "execution_count": 3,
     "metadata": {},
     "output_type": "execute_result"
    }
   ],
   "source": [
    "print(\"\\nDownloading the Disease Ontology...\")\n",
    "url = \"https://raw.githubusercontent.com/DiseaseOntology/HumanDiseaseOntology/main/src/ontology/releases/2020-11-11/doid.owl\"\n",
    "\n",
    "doGraph = Graph()\n",
    "doGraph.parse(url, format=\"xml\")"
   ]
  },
  {
   "cell_type": "code",
   "execution_count": 4,
   "metadata": {},
   "outputs": [],
   "source": [
    "df_doNative = pd.DataFrame(columns=[\"do_uri\", \"doid\", \"label\"])\n",
    "\n",
    "qres = doGraph.query(\n",
    "    \"\"\"\n",
    "       PREFIX obo: <http://www.geneontology.org/formats/oboInOwl#>\n",
    "       PREFIX rdfs: <http://www.w3.org/2000/01/rdf-schema#>\n",
    "       PREFIX oboInOwl: <http://www.geneontology.org/formats/oboInOwl#>\n",
    "\n",
    "       SELECT DISTINCT ?do_uri ?doid ?label \n",
    "       WHERE {\n",
    "          ?do_uri obo:id ?doid ;\n",
    "                  rdfs:label ?label .\n",
    "\n",
    "       } \"\"\")\n",
    "\n",
    "for row in qres:\n",
    "    df_doNative = df_doNative.append({\n",
    "     \"do_uri\": str(row[0]),\n",
    "     \"doid\": str(row[1]),\n",
    "     \"label\":  str(row[2]),\n",
    "      }, ignore_index=True)"
   ]
  },
  {
   "cell_type": "code",
   "execution_count": 5,
   "metadata": {},
   "outputs": [
    {
     "data": {
      "text/plain": "                                            do_uri          doid  \\\n0         http://purl.obolibrary.org/obo/DOID_1252     DOID:1252   \n1      http://purl.obolibrary.org/obo/DOID_0080400  DOID:0080400   \n2        http://purl.obolibrary.org/obo/DOID_10353    DOID:10353   \n3        http://purl.obolibrary.org/obo/DOID_14063    DOID:14063   \n4      http://purl.obolibrary.org/obo/DOID_0110638  DOID:0110638   \n...                                            ...           ...   \n12989     http://purl.obolibrary.org/obo/DOID_5138     DOID:5138   \n12990     http://purl.obolibrary.org/obo/DOID_7532     DOID:7532   \n12991     http://purl.obolibrary.org/obo/DOID_2602     DOID:2602   \n12992      http://purl.obolibrary.org/obo/DOID_891      DOID:891   \n12993     http://purl.obolibrary.org/obo/DOID_6271     DOID:6271   \n\n                                                   label  \n0                                           trichuriasis  \n1                                      orofacial cleft 7  \n2                               fibrosclerosis of breast  \n3      obsolete acute glomerulonephritis with lesion ...  \n4         congenital muscular dystrophy merosin-positive  \n...                                                  ...  \n12989                                     leiomyomatosis  \n12990                            squamous papillomatosis  \n12991                                          chondroma  \n12992                     progressive myoclonus epilepsy  \n12993                      gastric cardia adenocarcinoma  \n\n[12994 rows x 3 columns]",
      "text/html": "<div>\n<style scoped>\n    .dataframe tbody tr th:only-of-type {\n        vertical-align: middle;\n    }\n\n    .dataframe tbody tr th {\n        vertical-align: top;\n    }\n\n    .dataframe thead th {\n        text-align: right;\n    }\n</style>\n<table border=\"1\" class=\"dataframe\">\n  <thead>\n    <tr style=\"text-align: right;\">\n      <th></th>\n      <th>do_uri</th>\n      <th>doid</th>\n      <th>label</th>\n    </tr>\n  </thead>\n  <tbody>\n    <tr>\n      <th>0</th>\n      <td>http://purl.obolibrary.org/obo/DOID_1252</td>\n      <td>DOID:1252</td>\n      <td>trichuriasis</td>\n    </tr>\n    <tr>\n      <th>1</th>\n      <td>http://purl.obolibrary.org/obo/DOID_0080400</td>\n      <td>DOID:0080400</td>\n      <td>orofacial cleft 7</td>\n    </tr>\n    <tr>\n      <th>2</th>\n      <td>http://purl.obolibrary.org/obo/DOID_10353</td>\n      <td>DOID:10353</td>\n      <td>fibrosclerosis of breast</td>\n    </tr>\n    <tr>\n      <th>3</th>\n      <td>http://purl.obolibrary.org/obo/DOID_14063</td>\n      <td>DOID:14063</td>\n      <td>obsolete acute glomerulonephritis with lesion ...</td>\n    </tr>\n    <tr>\n      <th>4</th>\n      <td>http://purl.obolibrary.org/obo/DOID_0110638</td>\n      <td>DOID:0110638</td>\n      <td>congenital muscular dystrophy merosin-positive</td>\n    </tr>\n    <tr>\n      <th>...</th>\n      <td>...</td>\n      <td>...</td>\n      <td>...</td>\n    </tr>\n    <tr>\n      <th>12989</th>\n      <td>http://purl.obolibrary.org/obo/DOID_5138</td>\n      <td>DOID:5138</td>\n      <td>leiomyomatosis</td>\n    </tr>\n    <tr>\n      <th>12990</th>\n      <td>http://purl.obolibrary.org/obo/DOID_7532</td>\n      <td>DOID:7532</td>\n      <td>squamous papillomatosis</td>\n    </tr>\n    <tr>\n      <th>12991</th>\n      <td>http://purl.obolibrary.org/obo/DOID_2602</td>\n      <td>DOID:2602</td>\n      <td>chondroma</td>\n    </tr>\n    <tr>\n      <th>12992</th>\n      <td>http://purl.obolibrary.org/obo/DOID_891</td>\n      <td>DOID:891</td>\n      <td>progressive myoclonus epilepsy</td>\n    </tr>\n    <tr>\n      <th>12993</th>\n      <td>http://purl.obolibrary.org/obo/DOID_6271</td>\n      <td>DOID:6271</td>\n      <td>gastric cardia adenocarcinoma</td>\n    </tr>\n  </tbody>\n</table>\n<p>12994 rows × 3 columns</p>\n</div>"
     },
     "execution_count": 5,
     "metadata": {},
     "output_type": "execute_result"
    }
   ],
   "source": [
    "df_doNative"
   ]
  },
  {
   "cell_type": "markdown",
   "metadata": {},
   "source": [
    "# Loading Disease Ontology from Wikidata"
   ]
  },
  {
   "cell_type": "code",
   "execution_count": 6,
   "metadata": {},
   "outputs": [
    {
     "data": {
      "text/plain": "{'DOID:104': 'http://www.wikidata.org/entity/Q727028',\n 'DOID:11111': 'http://www.wikidata.org/entity/Q730877',\n 'DOID:2908': 'http://www.wikidata.org/entity/Q744790',\n 'DOID:2636': 'http://www.wikidata.org/entity/Q745550',\n 'DOID:13372': 'http://www.wikidata.org/entity/Q622437',\n 'DOID:2739': 'http://www.wikidata.org/entity/Q752216',\n 'DOID:1586': 'http://www.wikidata.org/entity/Q753904',\n 'DOID:2487': 'http://www.wikidata.org/entity/Q762713',\n 'DOID:9212': 'http://www.wikidata.org/entity/Q766856',\n 'DOID:12179': 'http://www.wikidata.org/entity/Q775927',\n 'DOID:0060130': 'http://www.wikidata.org/entity/Q784564',\n 'DOID:3341': 'http://www.wikidata.org/entity/Q799615',\n 'DOID:0060345': 'http://www.wikidata.org/entity/Q812671',\n 'DOID:1080': 'http://www.wikidata.org/entity/Q815753',\n 'DOID:4184': 'http://www.wikidata.org/entity/Q819207',\n 'DOID:13068': 'http://www.wikidata.org/entity/Q822598',\n 'DOID:2750': 'http://www.wikidata.org/entity/Q829150',\n 'DOID:10080': 'http://www.wikidata.org/entity/Q842169',\n 'DOID:9201': 'http://www.wikidata.org/entity/Q848371',\n 'DOID:10573': 'http://www.wikidata.org/entity/Q860395',\n 'DOID:2423': 'http://www.wikidata.org/entity/Q863857',\n 'DOID:10348': 'http://www.wikidata.org/entity/Q883850',\n 'DOID:529': 'http://www.wikidata.org/entity/Q883863',\n 'DOID:9278': 'http://www.wikidata.org/entity/Q890367',\n 'DOID:0050581': 'http://www.wikidata.org/entity/Q896643',\n 'DOID:543': 'http://www.wikidata.org/entity/Q906492',\n 'DOID:12705': 'http://www.wikidata.org/entity/Q913856',\n 'DOID:3323': 'http://www.wikidata.org/entity/Q917227',\n 'DOID:3948': 'http://www.wikidata.org/entity/Q918285',\n 'DOID:11896': 'http://www.wikidata.org/entity/Q922971',\n 'DOID:0050476': 'http://www.wikidata.org/entity/Q928424',\n 'DOID:3326': 'http://www.wikidata.org/entity/Q935293',\n 'DOID:9392': 'http://www.wikidata.org/entity/Q946278',\n 'DOID:146': 'http://www.wikidata.org/entity/Q953049',\n 'DOID:3401': 'http://www.wikidata.org/entity/Q959457',\n 'DOID:13777': 'http://www.wikidata.org/entity/Q974691',\n 'DOID:2272': 'http://www.wikidata.org/entity/Q977090',\n 'DOID:0060731': 'http://www.wikidata.org/entity/Q979129',\n 'DOID:9672': 'http://www.wikidata.org/entity/Q994794',\n 'DOID:13945': 'http://www.wikidata.org/entity/Q1022718',\n 'DOID:0050834': 'http://www.wikidata.org/entity/Q1023604',\n 'DOID:4734': 'http://www.wikidata.org/entity/Q1026326',\n 'DOID:5032': 'http://www.wikidata.org/entity/Q1047551',\n 'DOID:1768': 'http://www.wikidata.org/entity/Q1051355',\n 'DOID:12118': 'http://www.wikidata.org/entity/Q1052626',\n 'DOID:10300': 'http://www.wikidata.org/entity/Q1053824',\n 'DOID:3223': 'http://www.wikidata.org/entity/Q1066311',\n 'DOID:1762': 'http://www.wikidata.org/entity/Q1068997',\n 'DOID:12236': 'http://www.wikidata.org/entity/Q1072420',\n 'DOID:2769': 'http://www.wikidata.org/entity/Q1077139',\n 'DOID:5213': 'http://www.wikidata.org/entity/Q1088030',\n 'DOID:1040': 'http://www.wikidata.org/entity/Q1088156',\n 'DOID:4253': 'http://www.wikidata.org/entity/Q1127727',\n 'DOID:14115': 'http://www.wikidata.org/entity/Q1128440',\n 'DOID:4079': 'http://www.wikidata.org/entity/Q1130519',\n 'DOID:431': 'http://www.wikidata.org/entity/Q1132056',\n 'DOID:3803': 'http://www.wikidata.org/entity/Q1140000',\n 'DOID:583': 'http://www.wikidata.org/entity/Q1145668',\n 'DOID:9258': 'http://www.wikidata.org/entity/Q1151801',\n 'DOID:0050868': 'http://www.wikidata.org/entity/Q1172076',\n 'DOID:1062': 'http://www.wikidata.org/entity/Q1179460',\n 'DOID:4543': 'http://www.wikidata.org/entity/Q1193891',\n 'DOID:363': 'http://www.wikidata.org/entity/Q1209744',\n 'DOID:10075': 'http://www.wikidata.org/entity/Q1227160',\n 'DOID:11917': 'http://www.wikidata.org/entity/Q1243807',\n 'DOID:11721': 'http://www.wikidata.org/entity/Q1251847',\n 'DOID:0060171': 'http://www.wikidata.org/entity/Q1255956',\n 'DOID:0080422': 'http://www.wikidata.org/entity/Q1255956',\n 'DOID:10021': 'http://www.wikidata.org/entity/Q1266395',\n 'DOID:1934': 'http://www.wikidata.org/entity/Q1269307',\n 'DOID:6676': 'http://www.wikidata.org/entity/Q1276885',\n 'DOID:0080041': 'http://www.wikidata.org/entity/Q1283054',\n 'DOID:14705': 'http://www.wikidata.org/entity/Q1286848',\n 'DOID:0080551': 'http://www.wikidata.org/entity/Q1332565',\n 'DOID:3642': 'http://www.wikidata.org/entity/Q1339466',\n 'DOID:1002': 'http://www.wikidata.org/entity/Q1340774',\n 'DOID:3297': 'http://www.wikidata.org/entity/Q55013102',\n 'DOID:4794': 'http://www.wikidata.org/entity/Q1346721',\n 'DOID:11193': 'http://www.wikidata.org/entity/Q1360044',\n 'DOID:0060358': 'http://www.wikidata.org/entity/Q1403045',\n 'DOID:11042': 'http://www.wikidata.org/entity/Q1404470',\n 'DOID:13576': 'http://www.wikidata.org/entity/Q1409160',\n 'DOID:9113': 'http://www.wikidata.org/entity/Q1416773',\n 'DOID:10755': 'http://www.wikidata.org/entity/Q1419225',\n 'DOID:13711': 'http://www.wikidata.org/entity/Q1427959',\n 'DOID:1312': 'http://www.wikidata.org/entity/Q1435223',\n 'DOID:14190': 'http://www.wikidata.org/entity/Q1435409',\n 'DOID:1388': 'http://www.wikidata.org/entity/Q1442621',\n 'DOID:854': 'http://www.wikidata.org/entity/Q1446169',\n 'DOID:12053': 'http://www.wikidata.org/entity/Q1470140',\n 'DOID:321': 'http://www.wikidata.org/entity/Q1476361',\n 'DOID:3146': 'http://www.wikidata.org/entity/Q1476525',\n 'DOID:560': 'http://www.wikidata.org/entity/Q1476789',\n 'DOID:0080540': 'http://www.wikidata.org/entity/Q1491661',\n 'DOID:9410': 'http://www.wikidata.org/entity/Q1495797',\n 'DOID:3892': 'http://www.wikidata.org/entity/Q1501239',\n 'DOID:14223': 'http://www.wikidata.org/entity/Q1507609',\n 'DOID:0050561': 'http://www.wikidata.org/entity/Q1544884',\n 'DOID:606': 'http://www.wikidata.org/entity/Q88687150',\n 'DOID:0080100': 'http://www.wikidata.org/entity/Q112412',\n 'DOID:10939': 'http://www.wikidata.org/entity/Q118418',\n 'DOID:12713': 'http://www.wikidata.org/entity/Q119280',\n 'DOID:3482': 'http://www.wikidata.org/entity/Q133780',\n 'DOID:9383': 'http://www.wikidata.org/entity/Q145790',\n 'DOID:0050795': 'http://www.wikidata.org/entity/Q147270',\n 'DOID:2326': 'http://www.wikidata.org/entity/Q156103',\n 'DOID:14400': 'http://www.wikidata.org/entity/Q161964',\n 'DOID:8295': 'http://www.wikidata.org/entity/Q167178',\n 'DOID:11830': 'http://www.wikidata.org/entity/Q168403',\n 'DOID:2468': 'http://www.wikidata.org/entity/Q170082',\n 'DOID:0060249': 'http://www.wikidata.org/entity/Q174857',\n 'DOID:1485': 'http://www.wikidata.org/entity/Q178194',\n 'DOID:10923': 'http://www.wikidata.org/entity/Q185034',\n 'DOID:7148': 'http://www.wikidata.org/entity/Q187255',\n 'DOID:9675': 'http://www.wikidata.org/entity/Q188605',\n 'DOID:3324': 'http://www.wikidata.org/entity/Q188638',\n 'DOID:11335': 'http://www.wikidata.org/entity/Q193894',\n 'DOID:285': 'http://www.wikidata.org/entity/Q201299',\n 'DOID:9909': 'http://www.wikidata.org/entity/Q202173',\n 'DOID:0060340': 'http://www.wikidata.org/entity/Q203031',\n 'DOID:1235': 'http://www.wikidata.org/entity/Q207791',\n 'DOID:14323': 'http://www.wikidata.org/entity/Q208562',\n 'DOID:1793': 'http://www.wikidata.org/entity/Q212961',\n 'DOID:10773': 'http://www.wikidata.org/entity/Q217519',\n 'DOID:4952': 'http://www.wikidata.org/entity/Q220188',\n 'DOID:0050770': 'http://www.wikidata.org/entity/Q246002',\n 'DOID:2634': 'http://www.wikidata.org/entity/Q246070',\n 'DOID:13564': 'http://www.wikidata.org/entity/Q259626',\n 'DOID:0060713': 'http://www.wikidata.org/entity/Q266421',\n 'DOID:0050746': 'http://www.wikidata.org/entity/Q268713',\n 'DOID:14179': 'http://www.wikidata.org/entity/Q283108',\n 'DOID:10611': 'http://www.wikidata.org/entity/Q284070',\n 'DOID:6683': 'http://www.wikidata.org/entity/Q303123',\n 'DOID:11101': 'http://www.wikidata.org/entity/Q393477',\n 'DOID:1278': 'http://www.wikidata.org/entity/Q370066',\n 'DOID:1089': 'http://www.wikidata.org/entity/Q386346',\n 'DOID:12704': 'http://www.wikidata.org/entity/Q387082',\n 'DOID:5230': 'http://www.wikidata.org/entity/Q390791',\n 'DOID:8461': 'http://www.wikidata.org/entity/Q403463',\n 'DOID:227': 'http://www.wikidata.org/entity/Q418418',\n 'DOID:8866': 'http://www.wikidata.org/entity/Q422225',\n 'DOID:10907': 'http://www.wikidata.org/entity/Q431643',\n 'DOID:13911': 'http://www.wikidata.org/entity/Q432396',\n 'DOID:0050252': 'http://www.wikidata.org/entity/Q444662',\n 'DOID:1564': 'http://www.wikidata.org/entity/Q464067',\n 'DOID:4667': 'http://www.wikidata.org/entity/Q478389',\n 'DOID:615': 'http://www.wikidata.org/entity/Q496812',\n 'DOID:11054': 'http://www.wikidata.org/entity/Q504775',\n 'DOID:11132': 'http://www.wikidata.org/entity/Q506659',\n 'DOID:2883': 'http://www.wikidata.org/entity/Q32057211',\n 'DOID:5572': 'http://www.wikidata.org/entity/Q521863',\n 'DOID:0050328': 'http://www.wikidata.org/entity/Q531012',\n 'DOID:0050771': 'http://www.wikidata.org/entity/Q536269',\n 'DOID:13924': 'http://www.wikidata.org/entity/Q539465',\n 'DOID:3758': 'http://www.wikidata.org/entity/Q539465',\n 'DOID:12971': 'http://www.wikidata.org/entity/Q541244',\n 'DOID:2030': 'http://www.wikidata.org/entity/Q544006',\n 'DOID:322': 'http://www.wikidata.org/entity/Q551085',\n 'DOID:4760': 'http://www.wikidata.org/entity/Q552330',\n 'DOID:12269': 'http://www.wikidata.org/entity/Q552348',\n 'DOID:13593': 'http://www.wikidata.org/entity/Q552348',\n 'DOID:13223': 'http://www.wikidata.org/entity/Q556281',\n 'DOID:0060185': 'http://www.wikidata.org/entity/Q574905',\n 'DOID:12800': 'http://www.wikidata.org/entity/Q576109',\n 'DOID:883': 'http://www.wikidata.org/entity/Q578994',\n 'DOID:9565': 'http://www.wikidata.org/entity/Q579665',\n 'DOID:12328': 'http://www.wikidata.org/entity/Q582904',\n 'DOID:9912': 'http://www.wikidata.org/entity/Q584211',\n 'DOID:4540': 'http://www.wikidata.org/entity/Q584560',\n 'DOID:0050618': 'http://www.wikidata.org/entity/Q586009',\n 'DOID:0050909': 'http://www.wikidata.org/entity/Q591256',\n 'DOID:3933': 'http://www.wikidata.org/entity/Q595083',\n 'DOID:0050430': 'http://www.wikidata.org/entity/Q604075',\n 'DOID:3159': 'http://www.wikidata.org/entity/Q608085',\n 'DOID:0050787': 'http://www.wikidata.org/entity/Q609165',\n 'DOID:0050460': 'http://www.wikidata.org/entity/Q610075',\n 'DOID:8869': 'http://www.wikidata.org/entity/Q611458',\n 'DOID:2999': 'http://www.wikidata.org/entity/Q612093',\n 'DOID:2799': 'http://www.wikidata.org/entity/Q614750',\n 'DOID:8947': 'http://www.wikidata.org/entity/Q631361',\n 'DOID:11099': 'http://www.wikidata.org/entity/Q55011088',\n 'DOID:1709': 'http://www.wikidata.org/entity/Q646664',\n 'DOID:14221': 'http://www.wikidata.org/entity/Q657193',\n 'DOID:14040': 'http://www.wikidata.org/entity/Q675311',\n 'DOID:13096': 'http://www.wikidata.org/entity/Q684840',\n 'DOID:1556': 'http://www.wikidata.org/entity/Q712320',\n 'DOID:0050495': 'http://www.wikidata.org/entity/Q720032',\n 'DOID:2377': 'http://www.wikidata.org/entity/Q8277',\n 'DOID:437': 'http://www.wikidata.org/entity/Q8285',\n 'DOID:0050329': 'http://www.wikidata.org/entity/Q12135',\n 'DOID:150': 'http://www.wikidata.org/entity/Q12135',\n 'DOID:14351': 'http://www.wikidata.org/entity/Q16495',\n 'DOID:0050211': 'http://www.wikidata.org/entity/Q36855',\n 'DOID:1024': 'http://www.wikidata.org/entity/Q36956',\n 'DOID:1205': 'http://www.wikidata.org/entity/Q42982',\n 'DOID:11949': 'http://www.wikidata.org/entity/Q49989',\n 'DOID:4325': 'http://www.wikidata.org/entity/Q51993',\n 'DOID:1561': 'http://www.wikidata.org/entity/Q3065932',\n 'DOID:13620': 'http://www.wikidata.org/entity/Q3076802',\n 'DOID:7033': 'http://www.wikidata.org/entity/Q3091959',\n 'DOID:3481': 'http://www.wikidata.org/entity/Q3100117',\n 'DOID:1067': 'http://www.wikidata.org/entity/Q3108586',\n 'DOID:4330': 'http://www.wikidata.org/entity/Q3136521',\n 'DOID:0080156': 'http://www.wikidata.org/entity/Q3144300',\n 'DOID:0110031': 'http://www.wikidata.org/entity/Q3144945',\n 'DOID:1407': 'http://www.wikidata.org/entity/Q3154357',\n 'DOID:644': 'http://www.wikidata.org/entity/Q3237081',\n 'DOID:0040099': 'http://www.wikidata.org/entity/Q3257123',\n 'DOID:1602': 'http://www.wikidata.org/entity/Q3269466',\n 'DOID:14753': 'http://www.wikidata.org/entity/Q3278042',\n 'DOID:0090112': 'http://www.wikidata.org/entity/Q3281284',\n 'DOID:0060125': 'http://www.wikidata.org/entity/Q3281328',\n 'DOID:896': 'http://www.wikidata.org/entity/Q3281373',\n 'DOID:720': 'http://www.wikidata.org/entity/Q3299714',\n 'DOID:0090068': 'http://www.wikidata.org/entity/Q3338682',\n 'DOID:10017': 'http://www.wikidata.org/entity/Q3347154',\n 'DOID:5330': 'http://www.wikidata.org/entity/Q3368715',\n 'DOID:13760': 'http://www.wikidata.org/entity/Q3381802',\n 'DOID:2648': 'http://www.wikidata.org/entity/Q3384899',\n 'DOID:0110861': 'http://www.wikidata.org/entity/Q3395618',\n 'DOID:5928': 'http://www.wikidata.org/entity/Q3395618',\n 'DOID:3825': 'http://www.wikidata.org/entity/Q3454355',\n 'DOID:2257': 'http://www.wikidata.org/entity/Q3493588',\n 'DOID:0060703': 'http://www.wikidata.org/entity/Q3508679',\n 'DOID:2012': 'http://www.wikidata.org/entity/Q3508681',\n 'DOID:0111145': 'http://www.wikidata.org/entity/Q3508732',\n 'DOID:0050780': 'http://www.wikidata.org/entity/Q3508750',\n 'DOID:0090018': 'http://www.wikidata.org/entity/Q3512243',\n 'DOID:4424': 'http://www.wikidata.org/entity/Q3570558',\n 'DOID:2474': 'http://www.wikidata.org/entity/Q3686833',\n 'DOID:2444': 'http://www.wikidata.org/entity/Q3801524',\n 'DOID:14443': 'http://www.wikidata.org/entity/Q3820071',\n 'DOID:13641': 'http://www.wikidata.org/entity/Q3824795',\n 'DOID:10818': 'http://www.wikidata.org/entity/Q3854683',\n 'DOID:11575': 'http://www.wikidata.org/entity/Q61913711',\n 'DOID:10691': 'http://www.wikidata.org/entity/Q3874171',\n 'DOID:12309': 'http://www.wikidata.org/entity/Q3886247',\n 'DOID:11693': 'http://www.wikidata.org/entity/Q3896326',\n 'DOID:0060851': 'http://www.wikidata.org/entity/Q3899001',\n 'DOID:2964': 'http://www.wikidata.org/entity/Q3899850',\n 'DOID:2810': 'http://www.wikidata.org/entity/Q3961652',\n 'DOID:1930': 'http://www.wikidata.org/entity/Q3961678',\n 'DOID:0050616': 'http://www.wikidata.org/entity/Q4000420',\n 'DOID:252': 'http://www.wikidata.org/entity/Q4062514',\n 'DOID:0060524': 'http://www.wikidata.org/entity/Q4062593',\n 'DOID:9080': 'http://www.wikidata.org/entity/Q4118092',\n 'DOID:0060452': 'http://www.wikidata.org/entity/Q4183962',\n 'DOID:13689': 'http://www.wikidata.org/entity/Q4211671',\n 'DOID:11285': 'http://www.wikidata.org/entity/Q4223496',\n 'DOID:0060305': 'http://www.wikidata.org/entity/Q4286595',\n 'DOID:14731': 'http://www.wikidata.org/entity/Q4348144',\n 'DOID:0050576': 'http://www.wikidata.org/entity/Q4354267',\n 'DOID:9805': 'http://www.wikidata.org/entity/Q4366062',\n 'DOID:0111162': 'http://www.wikidata.org/entity/Q4454468',\n 'DOID:933': 'http://www.wikidata.org/entity/Q4505372',\n 'DOID:0090106': 'http://www.wikidata.org/entity/Q4641554',\n 'DOID:0060352': 'http://www.wikidata.org/entity/Q4646476',\n 'DOID:0070075': 'http://www.wikidata.org/entity/Q4646476',\n 'DOID:0110774': 'http://www.wikidata.org/entity/Q4664694',\n 'DOID:0050871': 'http://www.wikidata.org/entity/Q4667072',\n 'DOID:127': 'http://www.wikidata.org/entity/Q4667534',\n 'DOID:0060362': 'http://www.wikidata.org/entity/Q4675781',\n 'DOID:0060350': 'http://www.wikidata.org/entity/Q4682223',\n 'DOID:0050762': 'http://www.wikidata.org/entity/Q4682317',\n 'DOID:9553': 'http://www.wikidata.org/entity/Q4684717',\n 'DOID:0050741': 'http://www.wikidata.org/entity/Q4713263',\n 'DOID:0050634': 'http://www.wikidata.org/entity/Q4734616',\n 'DOID:4051': 'http://www.wikidata.org/entity/Q4737958',\n 'DOID:14308': 'http://www.wikidata.org/entity/Q4763278',\n 'DOID:8272': 'http://www.wikidata.org/entity/Q4771415',\n 'DOID:7305': 'http://www.wikidata.org/entity/Q4811532',\n 'DOID:0060689': 'http://www.wikidata.org/entity/Q4817548',\n 'DOID:4993': 'http://www.wikidata.org/entity/Q4818893',\n 'DOID:0080039': 'http://www.wikidata.org/entity/Q4830452',\n 'DOID:707': 'http://www.wikidata.org/entity/Q4833719',\n 'DOID:11164': 'http://www.wikidata.org/entity/Q4854239',\n 'DOID:0050278': 'http://www.wikidata.org/entity/Q4867062',\n 'DOID:11349': 'http://www.wikidata.org/entity/Q4898733',\n 'DOID:0050677': 'http://www.wikidata.org/entity/Q4919794',\n 'DOID:11897': 'http://www.wikidata.org/entity/Q4925474',\n 'DOID:0080001': 'http://www.wikidata.org/entity/Q4941552',\n 'DOID:1023': 'http://www.wikidata.org/entity/Q4944687',\n 'DOID:0060693': 'http://www.wikidata.org/entity/Q4979092',\n 'DOID:0080143': 'http://www.wikidata.org/entity/Q4990874',\n 'DOID:0060569': 'http://www.wikidata.org/entity/Q5034093',\n 'DOID:0090128': 'http://www.wikidata.org/entity/Q5047506',\n 'DOID:4446': 'http://www.wikidata.org/entity/Q5062119',\n 'DOID:0060337': 'http://www.wikidata.org/entity/Q5064098',\n 'DOID:13100': 'http://www.wikidata.org/entity/Q5064103',\n 'DOID:0060387': 'http://www.wikidata.org/entity/Q5104520',\n 'DOID:4468': 'http://www.wikidata.org/entity/Q5130800',\n 'DOID:0090118': 'http://www.wikidata.org/entity/Q5160405',\n 'DOID:7280': 'http://www.wikidata.org/entity/Q5160427',\n 'DOID:3157': 'http://www.wikidata.org/entity/Q5160447',\n 'DOID:0050279': 'http://www.wikidata.org/entity/Q5161045',\n 'DOID:14737': 'http://www.wikidata.org/entity/Q5182141',\n 'DOID:11729': 'http://www.wikidata.org/entity/Q201989',\n 'DOID:14181': 'http://www.wikidata.org/entity/Q1522871',\n 'DOID:5648': 'http://www.wikidata.org/entity/Q1524940',\n 'DOID:8553': 'http://www.wikidata.org/entity/Q1526459',\n 'DOID:0060473': 'http://www.wikidata.org/entity/Q1538227',\n 'DOID:2452': 'http://www.wikidata.org/entity/Q1570013',\n 'DOID:10273': 'http://www.wikidata.org/entity/Q1361515',\n 'DOID:2732': 'http://www.wikidata.org/entity/Q1583485',\n 'DOID:1829': 'http://www.wikidata.org/entity/Q1585753',\n 'DOID:11199': 'http://www.wikidata.org/entity/Q1586088',\n 'DOID:0050758': 'http://www.wikidata.org/entity/Q1598200',\n 'DOID:1398': 'http://www.wikidata.org/entity/Q1601794',\n 'DOID:3893': 'http://www.wikidata.org/entity/Q1617386',\n 'DOID:0080162': 'http://www.wikidata.org/entity/Q1621830',\n 'DOID:640': 'http://www.wikidata.org/entity/Q1634879',\n 'DOID:0050145': 'http://www.wikidata.org/entity/Q1640292',\n 'DOID:0050120': 'http://www.wikidata.org/entity/Q1642170',\n 'DOID:14276': 'http://www.wikidata.org/entity/Q1660341',\n 'DOID:1097': 'http://www.wikidata.org/entity/Q1679678',\n 'DOID:0060264': 'http://www.wikidata.org/entity/Q1698867',\n 'DOID:5374': 'http://www.wikidata.org/entity/Q1704531',\n 'DOID:14780': 'http://www.wikidata.org/entity/Q1718432',\n 'DOID:0060480': 'http://www.wikidata.org/entity/Q1725245',\n 'DOID:12904': 'http://www.wikidata.org/entity/Q1756640',\n 'DOID:12450': 'http://www.wikidata.org/entity/Q1757427',\n 'DOID:13884': 'http://www.wikidata.org/entity/Q1757915',\n 'DOID:13270': 'http://www.wikidata.org/entity/Q1759600',\n 'DOID:5425': 'http://www.wikidata.org/entity/Q1760461',\n 'DOID:0110635': 'http://www.wikidata.org/entity/Q1781515',\n 'DOID:13481': 'http://www.wikidata.org/entity/Q1787020',\n 'DOID:8929': 'http://www.wikidata.org/entity/Q1826391',\n 'DOID:4425': 'http://www.wikidata.org/entity/Q1827377',\n 'DOID:11722': 'http://www.wikidata.org/entity/Q1860507',\n 'DOID:3210': 'http://www.wikidata.org/entity/Q1876206',\n 'DOID:1245': 'http://www.wikidata.org/entity/Q1908194',\n 'DOID:934': 'http://www.wikidata.org/entity/Q1928978',\n 'DOID:8941': 'http://www.wikidata.org/entity/Q1934513',\n 'DOID:13099': 'http://www.wikidata.org/entity/Q1951267',\n 'DOID:10301': 'http://www.wikidata.org/entity/Q1975850',\n 'DOID:2001': 'http://www.wikidata.org/entity/Q1981345',\n 'DOID:288': 'http://www.wikidata.org/entity/Q2012569',\n 'DOID:599': 'http://www.wikidata.org/entity/Q2015728',\n 'DOID:3343': 'http://www.wikidata.org/entity/Q2019832',\n 'DOID:0060878': 'http://www.wikidata.org/entity/Q2027515',\n 'DOID:0050266': 'http://www.wikidata.org/entity/Q2028074',\n 'DOID:5408': 'http://www.wikidata.org/entity/Q2035074',\n 'DOID:2566': 'http://www.wikidata.org/entity/Q2044949',\n 'DOID:0050455': 'http://www.wikidata.org/entity/Q2051565',\n 'DOID:9088': 'http://www.wikidata.org/entity/Q2051832',\n 'DOID:11654': 'http://www.wikidata.org/entity/Q2053690',\n 'DOID:12711': 'http://www.wikidata.org/entity/Q2059411',\n 'DOID:222': 'http://www.wikidata.org/entity/Q2070842',\n 'DOID:4123': 'http://www.wikidata.org/entity/Q2084035',\n 'DOID:11716': 'http://www.wikidata.org/entity/Q2087205',\n 'DOID:14392': 'http://www.wikidata.org/entity/Q2088392',\n 'DOID:12134': 'http://www.wikidata.org/entity/Q2092064',\n 'DOID:10272': 'http://www.wikidata.org/entity/Q2143688',\n 'DOID:6590': 'http://www.wikidata.org/entity/Q2165411',\n 'DOID:3765': 'http://www.wikidata.org/entity/Q2273662',\n 'DOID:2006': 'http://www.wikidata.org/entity/Q2282783',\n 'DOID:3969': 'http://www.wikidata.org/entity/Q2292945',\n 'DOID:2282': 'http://www.wikidata.org/entity/Q2298953',\n 'DOID:2920': 'http://www.wikidata.org/entity/Q2299379',\n 'DOID:319': 'http://www.wikidata.org/entity/Q2303951',\n 'DOID:7468': 'http://www.wikidata.org/entity/Q2311457',\n 'DOID:9821': 'http://www.wikidata.org/entity/Q2397009',\n 'DOID:4730': 'http://www.wikidata.org/entity/Q2403156',\n 'DOID:13369': 'http://www.wikidata.org/entity/Q2435699',\n 'DOID:12386': 'http://www.wikidata.org/entity/Q2447562',\n 'DOID:0070230': 'http://www.wikidata.org/entity/Q2449937',\n 'DOID:9892': 'http://www.wikidata.org/entity/Q2456424',\n 'DOID:2891': 'http://www.wikidata.org/entity/Q2465347',\n 'DOID:4731': 'http://www.wikidata.org/entity/Q2544887',\n 'DOID:4810': 'http://www.wikidata.org/entity/Q2602467',\n 'DOID:14502': 'http://www.wikidata.org/entity/Q2622714',\n 'DOID:0050745': 'http://www.wikidata.org/entity/Q2626074',\n 'DOID:14228': 'http://www.wikidata.org/entity/Q2638851',\n 'DOID:6126': 'http://www.wikidata.org/entity/Q2652259',\n 'DOID:1766': 'http://www.wikidata.org/entity/Q2686385',\n 'DOID:0060321': 'http://www.wikidata.org/entity/Q2737426',\n 'DOID:0050518': 'http://www.wikidata.org/entity/Q2744442',\n 'DOID:11031': 'http://www.wikidata.org/entity/Q2805908',\n 'DOID:2303': 'http://www.wikidata.org/entity/Q2845978',\n 'DOID:0110070': 'http://www.wikidata.org/entity/Q2852241',\n 'DOID:0050990': 'http://www.wikidata.org/entity/Q2868790',\n 'DOID:1891': 'http://www.wikidata.org/entity/Q2879095',\n 'DOID:0060359': 'http://www.wikidata.org/entity/Q2888275',\n 'DOID:10548': 'http://www.wikidata.org/entity/Q2936205',\n 'DOID:0080021': 'http://www.wikidata.org/entity/Q2964434',\n 'DOID:6713': 'http://www.wikidata.org/entity/Q3010352',\n 'DOID:9939': 'http://www.wikidata.org/entity/Q3011658',\n 'DOID:1440': 'http://www.wikidata.org/entity/Q3026441',\n 'DOID:11702': 'http://www.wikidata.org/entity/Q3042106',\n 'DOID:0080036': 'http://www.wikidata.org/entity/Q3042146',\n 'DOID:0090057': 'http://www.wikidata.org/entity/Q3042159',\n 'DOID:5813': 'http://www.wikidata.org/entity/Q3043155',\n 'DOID:612': 'http://www.wikidata.org/entity/Q3043160',\n 'DOID:0060048': 'http://www.wikidata.org/entity/Q3052614',\n 'DOID:93': 'http://www.wikidata.org/entity/Q56003275',\n 'DOID:0050177': 'http://www.wikidata.org/entity/Q1225194',\n 'DOID:10124': 'http://www.wikidata.org/entity/Q10526382',\n 'DOID:0050140': 'http://www.wikidata.org/entity/Q12626662',\n 'DOID:0050072': 'http://www.wikidata.org/entity/Q12761892',\n 'DOID:7146': 'http://www.wikidata.org/entity/Q17024798',\n 'DOID:355': 'http://www.wikidata.org/entity/Q17119512',\n 'DOID:12733': 'http://www.wikidata.org/entity/Q17132235',\n 'DOID:12404': 'http://www.wikidata.org/entity/Q17141201',\n 'DOID:4472': 'http://www.wikidata.org/entity/Q17141310',\n 'DOID:0060291': 'http://www.wikidata.org/entity/Q17148148',\n 'DOID:0080304': 'http://www.wikidata.org/entity/Q17155516',\n 'DOID:0080301': 'http://www.wikidata.org/entity/Q17165460',\n 'DOID:0110117': 'http://www.wikidata.org/entity/Q18217139',\n 'DOID:3299': 'http://www.wikidata.org/entity/Q18371582',\n 'DOID:0050153': 'http://www.wikidata.org/entity/Q18553218',\n 'DOID:0050166': 'http://www.wikidata.org/entity/Q18553225',\n 'DOID:0050250': 'http://www.wikidata.org/entity/Q18553236',\n 'DOID:0050253': 'http://www.wikidata.org/entity/Q18553237',\n 'DOID:0050260': 'http://www.wikidata.org/entity/Q18553240',\n 'DOID:0050338': 'http://www.wikidata.org/entity/Q18553247',\n 'DOID:0050308': 'http://www.wikidata.org/entity/Q18553245',\n 'DOID:0050490': 'http://www.wikidata.org/entity/Q18553278',\n 'DOID:0050515': 'http://www.wikidata.org/entity/Q18553283',\n 'DOID:0050529': 'http://www.wikidata.org/entity/Q18553288',\n 'DOID:0050537': 'http://www.wikidata.org/entity/Q18553292',\n 'DOID:0050556': 'http://www.wikidata.org/entity/Q18553306',\n 'DOID:0050613': 'http://www.wikidata.org/entity/Q18553351',\n 'DOID:0050624': 'http://www.wikidata.org/entity/Q18553363',\n 'DOID:0050640': 'http://www.wikidata.org/entity/Q18553372',\n 'DOID:0050713': 'http://www.wikidata.org/entity/Q18553419',\n 'DOID:0050764': 'http://www.wikidata.org/entity/Q18553460',\n 'DOID:0050792': 'http://www.wikidata.org/entity/Q18553477',\n 'DOID:0050807': 'http://www.wikidata.org/entity/Q18553489',\n 'DOID:0050815': 'http://www.wikidata.org/entity/Q18553495',\n 'DOID:0050825': 'http://www.wikidata.org/entity/Q18553499',\n 'DOID:0050829': 'http://www.wikidata.org/entity/Q18553502',\n 'DOID:0050850': 'http://www.wikidata.org/entity/Q18553513',\n 'DOID:0050857': 'http://www.wikidata.org/entity/Q18553517',\n 'DOID:0050866': 'http://www.wikidata.org/entity/Q18553522',\n 'DOID:0050867': 'http://www.wikidata.org/entity/Q18553523',\n 'DOID:0050907': 'http://www.wikidata.org/entity/Q18553552',\n 'DOID:0050924': 'http://www.wikidata.org/entity/Q18553567',\n 'DOID:0050931': 'http://www.wikidata.org/entity/Q18553573',\n 'DOID:0050937': 'http://www.wikidata.org/entity/Q18553579',\n 'DOID:0060012': 'http://www.wikidata.org/entity/Q18553592',\n 'DOID:0060014': 'http://www.wikidata.org/entity/Q18553593',\n 'DOID:0060019': 'http://www.wikidata.org/entity/Q18553597',\n 'DOID:0060031': 'http://www.wikidata.org/entity/Q18553608',\n 'DOID:0060065': 'http://www.wikidata.org/entity/Q18553629',\n 'DOID:0060073': 'http://www.wikidata.org/entity/Q18553634',\n 'DOID:0060088': 'http://www.wikidata.org/entity/Q18553649',\n 'DOID:0060097': 'http://www.wikidata.org/entity/Q18553657',\n 'DOID:0060116': 'http://www.wikidata.org/entity/Q18553674',\n 'DOID:0060128': 'http://www.wikidata.org/entity/Q18553683',\n 'DOID:0060123': 'http://www.wikidata.org/entity/Q18553680',\n 'DOID:0060129': 'http://www.wikidata.org/entity/Q18553684',\n 'DOID:0060144': 'http://www.wikidata.org/entity/Q18553688',\n 'DOID:0060196': 'http://www.wikidata.org/entity/Q18553715',\n 'DOID:0060201': 'http://www.wikidata.org/entity/Q18553718',\n 'DOID:0080051': 'http://www.wikidata.org/entity/Q18553754',\n 'DOID:10030': 'http://www.wikidata.org/entity/Q18553763',\n 'DOID:10022': 'http://www.wikidata.org/entity/Q18553761',\n 'DOID:10032': 'http://www.wikidata.org/entity/Q18553765',\n 'DOID:10140': 'http://www.wikidata.org/entity/Q18553790',\n 'DOID:10139': 'http://www.wikidata.org/entity/Q18553789',\n 'DOID:10174': 'http://www.wikidata.org/entity/Q18553799',\n 'DOID:10287': 'http://www.wikidata.org/entity/Q18553831',\n 'DOID:10289': 'http://www.wikidata.org/entity/Q18553832',\n 'DOID:10440': 'http://www.wikidata.org/entity/Q18553864',\n 'DOID:10538': 'http://www.wikidata.org/entity/Q18553883',\n 'DOID:10593': 'http://www.wikidata.org/entity/Q18553894',\n 'DOID:10655': 'http://www.wikidata.org/entity/Q18553911',\n 'DOID:10697': 'http://www.wikidata.org/entity/Q18553920',\n 'DOID:10744': 'http://www.wikidata.org/entity/Q18553925',\n 'DOID:11033': 'http://www.wikidata.org/entity/Q18553995',\n 'DOID:11126': 'http://www.wikidata.org/entity/Q18554010',\n 'DOID:11155': 'http://www.wikidata.org/entity/Q18554019',\n 'DOID:11184': 'http://www.wikidata.org/entity/Q18554026',\n 'DOID:11235': 'http://www.wikidata.org/entity/Q18554043',\n 'DOID:11231': 'http://www.wikidata.org/entity/Q18554040',\n 'DOID:11295': 'http://www.wikidata.org/entity/Q18554057',\n 'DOID:11343': 'http://www.wikidata.org/entity/Q18554064',\n 'DOID:11364': 'http://www.wikidata.org/entity/Q18554068',\n 'DOID:11429': 'http://www.wikidata.org/entity/Q18554080',\n 'DOID:11504': 'http://www.wikidata.org/entity/Q18554095',\n 'DOID:11554': 'http://www.wikidata.org/entity/Q18554106',\n 'DOID:11594': 'http://www.wikidata.org/entity/Q18554115',\n 'DOID:11669': 'http://www.wikidata.org/entity/Q18554143',\n 'DOID:11750': 'http://www.wikidata.org/entity/Q18554162',\n 'DOID:11809': 'http://www.wikidata.org/entity/Q18554178',\n 'DOID:11832': 'http://www.wikidata.org/entity/Q18554191',\n 'DOID:11853': 'http://www.wikidata.org/entity/Q18554198',\n 'DOID:11850': 'http://www.wikidata.org/entity/Q18554196',\n 'DOID:11905': 'http://www.wikidata.org/entity/Q18554210',\n 'DOID:120': 'http://www.wikidata.org/entity/Q18554220',\n 'DOID:12064': 'http://www.wikidata.org/entity/Q18554231',\n 'DOID:12084': 'http://www.wikidata.org/entity/Q18554234',\n 'DOID:12125': 'http://www.wikidata.org/entity/Q18554243',\n 'DOID:12161': 'http://www.wikidata.org/entity/Q18554249',\n 'DOID:0050068': 'http://www.wikidata.org/entity/Q61912956',\n 'DOID:4321': 'http://www.wikidata.org/entity/Q6488973',\n 'DOID:3354': 'http://www.wikidata.org/entity/Q18555389',\n 'DOID:3367': 'http://www.wikidata.org/entity/Q18555395',\n 'DOID:3376': 'http://www.wikidata.org/entity/Q18555402',\n 'DOID:3374': 'http://www.wikidata.org/entity/Q18555401',\n 'DOID:3378': 'http://www.wikidata.org/entity/Q18555404',\n 'DOID:3407': 'http://www.wikidata.org/entity/Q18555923',\n 'DOID:3449': 'http://www.wikidata.org/entity/Q18555939',\n 'DOID:3499': 'http://www.wikidata.org/entity/Q18555957',\n 'DOID:3527': 'http://www.wikidata.org/entity/Q18555970',\n 'DOID:3558': 'http://www.wikidata.org/entity/Q18555979',\n 'DOID:3579': 'http://www.wikidata.org/entity/Q18555985',\n 'DOID:3606': 'http://www.wikidata.org/entity/Q18555990',\n 'DOID:3609': 'http://www.wikidata.org/entity/Q18555994',\n 'DOID:3618': 'http://www.wikidata.org/entity/Q18556001',\n 'DOID:3692': 'http://www.wikidata.org/entity/Q18556025',\n 'DOID:3706': 'http://www.wikidata.org/entity/Q18556039',\n 'DOID:3744': 'http://www.wikidata.org/entity/Q18556057',\n 'DOID:3752': 'http://www.wikidata.org/entity/Q18556064',\n 'DOID:3816': 'http://www.wikidata.org/entity/Q18556079',\n 'DOID:3873': 'http://www.wikidata.org/entity/Q18556104',\n 'DOID:3876': 'http://www.wikidata.org/entity/Q18556105',\n 'DOID:3906': 'http://www.wikidata.org/entity/Q18556111',\n 'DOID:3904': 'http://www.wikidata.org/entity/Q18556109',\n 'DOID:3918': 'http://www.wikidata.org/entity/Q18556116',\n 'DOID:3952': 'http://www.wikidata.org/entity/Q18556127',\n 'DOID:3959': 'http://www.wikidata.org/entity/Q18556129',\n 'DOID:4014': 'http://www.wikidata.org/entity/Q18556155',\n 'DOID:4066': 'http://www.wikidata.org/entity/Q18556183',\n 'DOID:4075': 'http://www.wikidata.org/entity/Q18556190',\n 'DOID:4086': 'http://www.wikidata.org/entity/Q18556194',\n 'DOID:4196': 'http://www.wikidata.org/entity/Q18556225',\n 'DOID:4247': 'http://www.wikidata.org/entity/Q18556246',\n 'DOID:4248': 'http://www.wikidata.org/entity/Q18556247',\n 'DOID:4242': 'http://www.wikidata.org/entity/Q18556244',\n 'DOID:4277': 'http://www.wikidata.org/entity/Q18556258',\n 'DOID:4292': 'http://www.wikidata.org/entity/Q18556270',\n 'DOID:4301': 'http://www.wikidata.org/entity/Q18556274',\n 'DOID:4303': 'http://www.wikidata.org/entity/Q18556275',\n 'DOID:4333': 'http://www.wikidata.org/entity/Q18556287',\n 'DOID:4388': 'http://www.wikidata.org/entity/Q18556304',\n 'DOID:4406': 'http://www.wikidata.org/entity/Q18556309',\n 'DOID:4442': 'http://www.wikidata.org/entity/Q18556329',\n 'DOID:4522': 'http://www.wikidata.org/entity/Q18556366',\n 'DOID:4560': 'http://www.wikidata.org/entity/Q18556387',\n 'DOID:4587': 'http://www.wikidata.org/entity/Q18556391',\n 'DOID:4594': 'http://www.wikidata.org/entity/Q18556395',\n 'DOID:4608': 'http://www.wikidata.org/entity/Q18556399',\n 'DOID:4639': 'http://www.wikidata.org/entity/Q18556410',\n 'DOID:4637': 'http://www.wikidata.org/entity/Q18556408',\n 'DOID:469': 'http://www.wikidata.org/entity/Q18556435',\n 'DOID:4686': 'http://www.wikidata.org/entity/Q18556432',\n 'DOID:4690': 'http://www.wikidata.org/entity/Q18556436',\n 'DOID:4719': 'http://www.wikidata.org/entity/Q18556455',\n 'DOID:4716': 'http://www.wikidata.org/entity/Q18556453',\n 'DOID:4743': 'http://www.wikidata.org/entity/Q18556462',\n 'DOID:4767': 'http://www.wikidata.org/entity/Q18556470',\n 'DOID:4773': 'http://www.wikidata.org/entity/Q18556472',\n 'DOID:4838': 'http://www.wikidata.org/entity/Q18556495',\n 'DOID:4847': 'http://www.wikidata.org/entity/Q18556501',\n 'DOID:4858': 'http://www.wikidata.org/entity/Q18556507',\n 'DOID:4875': 'http://www.wikidata.org/entity/Q18556518',\n 'DOID:490': 'http://www.wikidata.org/entity/Q18556532',\n 'DOID:4922': 'http://www.wikidata.org/entity/Q18556551',\n 'DOID:5040': 'http://www.wikidata.org/entity/Q18556595',\n 'DOID:5058': 'http://www.wikidata.org/entity/Q18556606',\n 'DOID:5056': 'http://www.wikidata.org/entity/Q18556604',\n 'DOID:5088': 'http://www.wikidata.org/entity/Q18556615',\n 'DOID:5101': 'http://www.wikidata.org/entity/Q18556620',\n 'DOID:5132': 'http://www.wikidata.org/entity/Q18556636',\n 'DOID:5140': 'http://www.wikidata.org/entity/Q18556642',\n 'DOID:5158': 'http://www.wikidata.org/entity/Q18556654',\n 'DOID:5182': 'http://www.wikidata.org/entity/Q18556666',\n 'DOID:5179': 'http://www.wikidata.org/entity/Q18556664',\n 'DOID:5193': 'http://www.wikidata.org/entity/Q18556670',\n 'DOID:5199': 'http://www.wikidata.org/entity/Q18556674',\n 'DOID:5265': 'http://www.wikidata.org/entity/Q18556703',\n 'DOID:5263': 'http://www.wikidata.org/entity/Q18556701',\n 'DOID:5274': 'http://www.wikidata.org/entity/Q18556709',\n 'DOID:5289': 'http://www.wikidata.org/entity/Q18556721',\n 'DOID:5306': 'http://www.wikidata.org/entity/Q18556734',\n 'DOID:5303': 'http://www.wikidata.org/entity/Q18556732',\n 'DOID:5313': 'http://www.wikidata.org/entity/Q18556738',\n 'DOID:5324': 'http://www.wikidata.org/entity/Q18556739',\n 'DOID:533': 'http://www.wikidata.org/entity/Q18556740',\n 'DOID:5349': 'http://www.wikidata.org/entity/Q18556751',\n 'DOID:5351': 'http://www.wikidata.org/entity/Q18556753',\n 'DOID:5373': 'http://www.wikidata.org/entity/Q18556758',\n 'DOID:5395': 'http://www.wikidata.org/entity/Q18556775',\n 'DOID:5468': 'http://www.wikidata.org/entity/Q18556800',\n 'DOID:5478': 'http://www.wikidata.org/entity/Q18556806',\n 'DOID:5480': 'http://www.wikidata.org/entity/Q18556808',\n 'DOID:5495': 'http://www.wikidata.org/entity/Q18556817',\n 'DOID:5507': 'http://www.wikidata.org/entity/Q18556823',\n 'DOID:5503': 'http://www.wikidata.org/entity/Q18556820',\n 'DOID:5518': 'http://www.wikidata.org/entity/Q18556834',\n 'DOID:5529': 'http://www.wikidata.org/entity/Q18556844',\n 'DOID:5535': 'http://www.wikidata.org/entity/Q18556850',\n 'DOID:5568': 'http://www.wikidata.org/entity/Q18556872',\n 'DOID:5579': 'http://www.wikidata.org/entity/Q18556877',\n 'DOID:5958': 'http://www.wikidata.org/entity/Q3658402',\n 'DOID:5917': 'http://www.wikidata.org/entity/Q13407042',\n 'DOID:5621': 'http://www.wikidata.org/entity/Q18556903',\n 'DOID:5615': 'http://www.wikidata.org/entity/Q18556901',\n 'DOID:5639': 'http://www.wikidata.org/entity/Q18556919',\n 'DOID:565': 'http://www.wikidata.org/entity/Q18556924',\n 'DOID:5677': 'http://www.wikidata.org/entity/Q18556934',\n 'DOID:5675': 'http://www.wikidata.org/entity/Q18556933',\n 'DOID:5690': 'http://www.wikidata.org/entity/Q18556942',\n 'DOID:5691': 'http://www.wikidata.org/entity/Q18556943',\n 'DOID:5684': 'http://www.wikidata.org/entity/Q18556941',\n 'DOID:5703': 'http://www.wikidata.org/entity/Q18556955',\n 'DOID:5714': 'http://www.wikidata.org/entity/Q18556963',\n 'DOID:5716': 'http://www.wikidata.org/entity/Q18556966',\n 'DOID:572': 'http://www.wikidata.org/entity/Q18556969',\n 'DOID:5742': 'http://www.wikidata.org/entity/Q18556983',\n 'DOID:5740': 'http://www.wikidata.org/entity/Q18556980',\n 'DOID:5748': 'http://www.wikidata.org/entity/Q18556988',\n 'DOID:5749': 'http://www.wikidata.org/entity/Q18556989',\n 'DOID:5774': 'http://www.wikidata.org/entity/Q18557003',\n 'DOID:5784': 'http://www.wikidata.org/entity/Q18557009',\n 'DOID:5804': 'http://www.wikidata.org/entity/Q18557014',\n 'DOID:5815': 'http://www.wikidata.org/entity/Q18557018',\n 'DOID:5850': 'http://www.wikidata.org/entity/Q18557038',\n 'DOID:5851': 'http://www.wikidata.org/entity/Q18557039',\n 'DOID:585': 'http://www.wikidata.org/entity/Q18557037',\n 'DOID:5852': 'http://www.wikidata.org/entity/Q18557040',\n 'DOID:5877': 'http://www.wikidata.org/entity/Q18557051',\n 'DOID:5894': 'http://www.wikidata.org/entity/Q18557055',\n 'DOID:5895': 'http://www.wikidata.org/entity/Q18557056',\n 'DOID:5922': 'http://www.wikidata.org/entity/Q18557070',\n 'DOID:5982': 'http://www.wikidata.org/entity/Q18557085',\n 'DOID:6019': 'http://www.wikidata.org/entity/Q18557103',\n 'DOID:6034': 'http://www.wikidata.org/entity/Q18557113',\n 'DOID:6048': 'http://www.wikidata.org/entity/Q18557117',\n 'DOID:6059': 'http://www.wikidata.org/entity/Q18557123',\n 'DOID:6082': 'http://www.wikidata.org/entity/Q18557127',\n 'DOID:6065': 'http://www.wikidata.org/entity/Q18557125',\n 'DOID:6197': 'http://www.wikidata.org/entity/Q18557166',\n 'DOID:6214': 'http://www.wikidata.org/entity/Q18557178',\n 'DOID:6231': 'http://www.wikidata.org/entity/Q18557186',\n 'DOID:6232': 'http://www.wikidata.org/entity/Q18557187',\n 'DOID:6255': 'http://www.wikidata.org/entity/Q18557191',\n 'DOID:6297': 'http://www.wikidata.org/entity/Q18557211',\n 'DOID:6313': 'http://www.wikidata.org/entity/Q18557214',\n 'DOID:6312': 'http://www.wikidata.org/entity/Q18557213',\n 'DOID:6316': 'http://www.wikidata.org/entity/Q18557217',\n 'DOID:6381': 'http://www.wikidata.org/entity/Q18557235',\n 'DOID:6423': 'http://www.wikidata.org/entity/Q18557243',\n 'DOID:6459': 'http://www.wikidata.org/entity/Q18557251',\n 'DOID:6448': 'http://www.wikidata.org/entity/Q18557248',\n 'DOID:6552': 'http://www.wikidata.org/entity/Q18557288',\n 'DOID:6571': 'http://www.wikidata.org/entity/Q18557298',\n 'DOID:6579': 'http://www.wikidata.org/entity/Q18557301',\n 'DOID:6607': 'http://www.wikidata.org/entity/Q18557311',\n 'DOID:6610': 'http://www.wikidata.org/entity/Q18557313',\n 'DOID:6703': 'http://www.wikidata.org/entity/Q18557340',\n 'DOID:6742': 'http://www.wikidata.org/entity/Q18557352',\n 'DOID:6762': 'http://www.wikidata.org/entity/Q18557358',\n 'DOID:6777': 'http://www.wikidata.org/entity/Q18557361',\n 'DOID:6789': 'http://www.wikidata.org/entity/Q18557365',\n 'DOID:6858': 'http://www.wikidata.org/entity/Q18557386',\n 'DOID:6867': 'http://www.wikidata.org/entity/Q18557389',\n 'DOID:6880': 'http://www.wikidata.org/entity/Q18557395',\n 'DOID:6931': 'http://www.wikidata.org/entity/Q18557406',\n 'DOID:6925': 'http://www.wikidata.org/entity/Q18557404',\n 'DOID:6939': 'http://www.wikidata.org/entity/Q18557412',\n 'DOID:6959': 'http://www.wikidata.org/entity/Q18557421',\n 'DOID:7005': 'http://www.wikidata.org/entity/Q18557439',\n 'DOID:7008': 'http://www.wikidata.org/entity/Q18557441',\n 'DOID:7017': 'http://www.wikidata.org/entity/Q18557445',\n 'DOID:7041': 'http://www.wikidata.org/entity/Q18557453',\n 'DOID:7047': 'http://www.wikidata.org/entity/Q18557457',\n 'DOID:713': 'http://www.wikidata.org/entity/Q18557483',\n 'DOID:712': 'http://www.wikidata.org/entity/Q18557481',\n 'DOID:7144': 'http://www.wikidata.org/entity/Q18557494',\n 'DOID:7141': 'http://www.wikidata.org/entity/Q18557492',\n 'DOID:7179': 'http://www.wikidata.org/entity/Q18557503',\n 'DOID:7289': 'http://www.wikidata.org/entity/Q18557541',\n 'DOID:7302': 'http://www.wikidata.org/entity/Q18557545',\n 'DOID:7320': 'http://www.wikidata.org/entity/Q18557551',\n 'DOID:7326': 'http://www.wikidata.org/entity/Q18557552',\n 'DOID:7356': 'http://www.wikidata.org/entity/Q18557561',\n 'DOID:7381': 'http://www.wikidata.org/entity/Q18557570',\n 'DOID:7388': 'http://www.wikidata.org/entity/Q18557571',\n 'DOID:7428': 'http://www.wikidata.org/entity/Q18557583',\n 'DOID:745': 'http://www.wikidata.org/entity/Q18557594',\n 'DOID:7511': 'http://www.wikidata.org/entity/Q18557619',\n 'DOID:7515': 'http://www.wikidata.org/entity/Q18557622',\n 'DOID:7553': 'http://www.wikidata.org/entity/Q18557647',\n 'DOID:7574': 'http://www.wikidata.org/entity/Q18557654',\n 'DOID:7591': 'http://www.wikidata.org/entity/Q18557664',\n 'DOID:7614': 'http://www.wikidata.org/entity/Q18557677',\n 'DOID:7632': 'http://www.wikidata.org/entity/Q18557680',\n 'DOID:7634': 'http://www.wikidata.org/entity/Q18557681',\n 'DOID:7664': 'http://www.wikidata.org/entity/Q18557690',\n 'DOID:7676': 'http://www.wikidata.org/entity/Q18557695',\n 'DOID:7679': 'http://www.wikidata.org/entity/Q18557697',\n 'DOID:7707': 'http://www.wikidata.org/entity/Q18557707',\n 'DOID:7807': 'http://www.wikidata.org/entity/Q18557735',\n 'DOID:13336': 'http://www.wikidata.org/entity/Q5413808',\n 'DOID:2957': 'http://www.wikidata.org/entity/Q13046587',\n 'DOID:1357': 'http://www.wikidata.org/entity/Q17993333',\n 'DOID:12164': 'http://www.wikidata.org/entity/Q18554253',\n 'DOID:12192': 'http://www.wikidata.org/entity/Q18554265',\n 'DOID:12246': 'http://www.wikidata.org/entity/Q18554277',\n 'DOID:12286': 'http://www.wikidata.org/entity/Q18554285',\n 'DOID:12360': 'http://www.wikidata.org/entity/Q18554307',\n 'DOID:12363': 'http://www.wikidata.org/entity/Q18554309',\n 'DOID:1254': 'http://www.wikidata.org/entity/Q18554338',\n 'DOID:12573': 'http://www.wikidata.org/entity/Q18554347',\n 'DOID:12574': 'http://www.wikidata.org/entity/Q18554348',\n 'DOID:12753': 'http://www.wikidata.org/entity/Q18554370',\n 'DOID:12731': 'http://www.wikidata.org/entity/Q18554368',\n 'DOID:12797': 'http://www.wikidata.org/entity/Q18554379',\n 'DOID:12897': 'http://www.wikidata.org/entity/Q18554395',\n 'DOID:13120': 'http://www.wikidata.org/entity/Q18554439',\n 'DOID:13110': 'http://www.wikidata.org/entity/Q18554436',\n 'DOID:13134': 'http://www.wikidata.org/entity/Q18554444',\n 'DOID:13147': 'http://www.wikidata.org/entity/Q18554452',\n 'DOID:13174': 'http://www.wikidata.org/entity/Q18554458',\n 'DOID:13168': 'http://www.wikidata.org/entity/Q18554456',\n 'DOID:13326': 'http://www.wikidata.org/entity/Q18554487',\n 'DOID:13327': 'http://www.wikidata.org/entity/Q18554488',\n 'DOID:13405': 'http://www.wikidata.org/entity/Q18554511',\n 'DOID:13453': 'http://www.wikidata.org/entity/Q18554519',\n 'DOID:13447': 'http://www.wikidata.org/entity/Q18554517',\n 'DOID:13490': 'http://www.wikidata.org/entity/Q18554526',\n 'DOID:13560': 'http://www.wikidata.org/entity/Q18554546',\n 'DOID:13565': 'http://www.wikidata.org/entity/Q18554548',\n 'DOID:13687': 'http://www.wikidata.org/entity/Q18554578',\n 'DOID:13664': 'http://www.wikidata.org/entity/Q18554576',\n 'DOID:13731': 'http://www.wikidata.org/entity/Q18554587',\n 'DOID:13789': 'http://www.wikidata.org/entity/Q18554599',\n 'DOID:13787': 'http://www.wikidata.org/entity/Q18554597',\n 'DOID:13799': 'http://www.wikidata.org/entity/Q18554604',\n 'DOID:13953': 'http://www.wikidata.org/entity/Q18554644',\n 'DOID:1397': 'http://www.wikidata.org/entity/Q18554651',\n 'DOID:14033': 'http://www.wikidata.org/entity/Q18554663',\n 'DOID:14026': 'http://www.wikidata.org/entity/Q18554661',\n 'DOID:14099': 'http://www.wikidata.org/entity/Q18554682',\n 'DOID:14155': 'http://www.wikidata.org/entity/Q18554699',\n 'DOID:14230': 'http://www.wikidata.org/entity/Q18554713',\n 'DOID:14270': 'http://www.wikidata.org/entity/Q18554729',\n 'DOID:1428': 'http://www.wikidata.org/entity/Q18554734',\n 'DOID:14353': 'http://www.wikidata.org/entity/Q18554746',\n 'DOID:1436': 'http://www.wikidata.org/entity/Q18554748',\n 'DOID:14445': 'http://www.wikidata.org/entity/Q18554763',\n 'DOID:14491': 'http://www.wikidata.org/entity/Q18554773',\n 'DOID:14548': 'http://www.wikidata.org/entity/Q18554792',\n 'DOID:1467': 'http://www.wikidata.org/entity/Q18554799',\n 'DOID:14744': 'http://www.wikidata.org/entity/Q18554811',\n 'DOID:14778': 'http://www.wikidata.org/entity/Q18554819',\n 'DOID:1628': 'http://www.wikidata.org/entity/Q18554855',\n 'DOID:1631': 'http://www.wikidata.org/entity/Q18554857',\n 'DOID:1641': 'http://www.wikidata.org/entity/Q18554862',\n 'DOID:170': 'http://www.wikidata.org/entity/Q18554878',\n 'DOID:173': 'http://www.wikidata.org/entity/Q18554886',\n 'DOID:1776': 'http://www.wikidata.org/entity/Q18554900',\n 'DOID:1795': 'http://www.wikidata.org/entity/Q18554907',\n 'DOID:1796': 'http://www.wikidata.org/entity/Q18554908',\n 'DOID:1802': 'http://www.wikidata.org/entity/Q18554914',\n 'DOID:184': 'http://www.wikidata.org/entity/Q18554919',\n 'DOID:1822': 'http://www.wikidata.org/entity/Q18554917',\n 'DOID:1895': 'http://www.wikidata.org/entity/Q18554930',\n 'DOID:1894': 'http://www.wikidata.org/entity/Q18554928',\n 'DOID:1897': 'http://www.wikidata.org/entity/Q18554932',\n 'DOID:1965': 'http://www.wikidata.org/entity/Q18554949',\n 'DOID:1979': 'http://www.wikidata.org/entity/Q18554953',\n 'DOID:2075': 'http://www.wikidata.org/entity/Q18554983',\n 'DOID:2095': 'http://www.wikidata.org/entity/Q18554992',\n 'DOID:2096': 'http://www.wikidata.org/entity/Q18554993',\n 'DOID:2122': 'http://www.wikidata.org/entity/Q18555000',\n 'DOID:214': 'http://www.wikidata.org/entity/Q18555006',\n 'DOID:2150': 'http://www.wikidata.org/entity/Q18555013',\n 'DOID:2156': 'http://www.wikidata.org/entity/Q18555019',\n 'DOID:217': 'http://www.wikidata.org/entity/Q18555021',\n 'DOID:2215': 'http://www.wikidata.org/entity/Q18555032',\n 'DOID:2314': 'http://www.wikidata.org/entity/Q18555052',\n 'DOID:2347': 'http://www.wikidata.org/entity/Q18555059',\n 'DOID:2401': 'http://www.wikidata.org/entity/Q18555071',\n 'DOID:2388': 'http://www.wikidata.org/entity/Q18555068',\n 'DOID:2425': 'http://www.wikidata.org/entity/Q18555073',\n 'DOID:2458': 'http://www.wikidata.org/entity/Q18555086',\n 'DOID:2473': 'http://www.wikidata.org/entity/Q18555090',\n 'DOID:2544': 'http://www.wikidata.org/entity/Q18555113',\n 'DOID:2595': 'http://www.wikidata.org/entity/Q18555125',\n 'DOID:2701': 'http://www.wikidata.org/entity/Q18555167',\n 'DOID:2706': 'http://www.wikidata.org/entity/Q18555170',\n 'DOID:272': 'http://www.wikidata.org/entity/Q18555173',\n 'DOID:2751': 'http://www.wikidata.org/entity/Q18555183',\n 'DOID:2784': 'http://www.wikidata.org/entity/Q18555198',\n 'DOID:2814': 'http://www.wikidata.org/entity/Q18555205',\n 'DOID:294': 'http://www.wikidata.org/entity/Q18555240',\n 'DOID:3024': 'http://www.wikidata.org/entity/Q18555272',\n 'DOID:3096': 'http://www.wikidata.org/entity/Q18555286',\n 'DOID:3196': 'http://www.wikidata.org/entity/Q18555329',\n 'DOID:3201': 'http://www.wikidata.org/entity/Q18555335',\n 'DOID:3303': 'http://www.wikidata.org/entity/Q18555368',\n 'DOID:2678': 'http://www.wikidata.org/entity/Q18573399',\n 'DOID:7818': 'http://www.wikidata.org/entity/Q18557739',\n 'DOID:7927': 'http://www.wikidata.org/entity/Q18557770',\n 'DOID:7926': 'http://www.wikidata.org/entity/Q18557769',\n 'DOID:7941': 'http://www.wikidata.org/entity/Q18557775',\n 'DOID:7968': 'http://www.wikidata.org/entity/Q18557787',\n 'DOID:7969': 'http://www.wikidata.org/entity/Q18557788',\n 'DOID:7996': 'http://www.wikidata.org/entity/Q18557795',\n 'DOID:8003': 'http://www.wikidata.org/entity/Q18557799',\n 'DOID:8022': 'http://www.wikidata.org/entity/Q18557805',\n 'DOID:8036': 'http://www.wikidata.org/entity/Q18557811',\n 'DOID:8029': 'http://www.wikidata.org/entity/Q18557808',\n 'DOID:8058': 'http://www.wikidata.org/entity/Q18557817',\n 'DOID:8106': 'http://www.wikidata.org/entity/Q18557834',\n 'DOID:8110': 'http://www.wikidata.org/entity/Q18557837',\n 'DOID:8161': 'http://www.wikidata.org/entity/Q18557855',\n 'DOID:8167': 'http://www.wikidata.org/entity/Q18557857',\n 'DOID:8207': 'http://www.wikidata.org/entity/Q18557871',\n 'DOID:8225': 'http://www.wikidata.org/entity/Q18557878',\n 'DOID:8223': 'http://www.wikidata.org/entity/Q18557876',\n 'DOID:8400': 'http://www.wikidata.org/entity/Q18557924',\n 'DOID:8448': 'http://www.wikidata.org/entity/Q18557943',\n 'DOID:8500': 'http://www.wikidata.org/entity/Q18557955',\n 'DOID:8498': 'http://www.wikidata.org/entity/Q18557952',\n 'DOID:8512': 'http://www.wikidata.org/entity/Q18557959',\n 'DOID:8630': 'http://www.wikidata.org/entity/Q18557982',\n 'DOID:8634': 'http://www.wikidata.org/entity/Q18557984',\n 'DOID:8661': 'http://www.wikidata.org/entity/Q18557994',\n 'DOID:8660': 'http://www.wikidata.org/entity/Q18557993',\n 'DOID:8681': 'http://www.wikidata.org/entity/Q18558000',\n 'DOID:8850': 'http://www.wikidata.org/entity/Q18558026',\n 'DOID:8937': 'http://www.wikidata.org/entity/Q18558038',\n 'DOID:910': 'http://www.wikidata.org/entity/Q18558063',\n 'DOID:9095': 'http://www.wikidata.org/entity/Q18558060',\n 'DOID:9188': 'http://www.wikidata.org/entity/Q18558079',\n 'DOID:929': 'http://www.wikidata.org/entity/Q18558093',\n 'DOID:9388': 'http://www.wikidata.org/entity/Q18558117',\n 'DOID:9442': 'http://www.wikidata.org/entity/Q18558127',\n 'DOID:949': 'http://www.wikidata.org/entity/Q18558139',\n 'DOID:9544': 'http://www.wikidata.org/entity/Q18558158',\n 'DOID:955': 'http://www.wikidata.org/entity/Q18558161',\n 'DOID:9577': 'http://www.wikidata.org/entity/Q18558168',\n 'DOID:9650': 'http://www.wikidata.org/entity/Q18558185',\n 'DOID:9697': 'http://www.wikidata.org/entity/Q18558192',\n 'DOID:9739': 'http://www.wikidata.org/entity/Q18558207',\n 'DOID:9733': 'http://www.wikidata.org/entity/Q18558204',\n 'DOID:9742': 'http://www.wikidata.org/entity/Q18558211',\n 'DOID:974': 'http://www.wikidata.org/entity/Q18558209',\n 'DOID:9773': 'http://www.wikidata.org/entity/Q18558218',\n 'DOID:9786': 'http://www.wikidata.org/entity/Q18558221',\n 'DOID:9801': 'http://www.wikidata.org/entity/Q18558227',\n 'DOID:9842': 'http://www.wikidata.org/entity/Q18558239',\n 'DOID:9867': 'http://www.wikidata.org/entity/Q18558245',\n 'DOID:9945': 'http://www.wikidata.org/entity/Q18558263',\n 'DOID:9969': 'http://www.wikidata.org/entity/Q18558268',\n 'DOID:0060293': 'http://www.wikidata.org/entity/Q18649173',\n 'DOID:0050164': 'http://www.wikidata.org/entity/Q18928342',\n 'DOID:0050180': 'http://www.wikidata.org/entity/Q18928357',\n 'DOID:0050203': 'http://www.wikidata.org/entity/Q18928381',\n 'DOID:0050231': 'http://www.wikidata.org/entity/Q18928416',\n 'DOID:0050243': 'http://www.wikidata.org/entity/Q18928430',\n 'DOID:0050306': 'http://www.wikidata.org/entity/Q18928494',\n 'DOID:0050337': 'http://www.wikidata.org/entity/Q18928525',\n 'DOID:0050381': 'http://www.wikidata.org/entity/Q18928579',\n 'DOID:0050388': 'http://www.wikidata.org/entity/Q18928587',\n 'DOID:0050386': 'http://www.wikidata.org/entity/Q18928585',\n 'DOID:0050402': 'http://www.wikidata.org/entity/Q18928603',\n 'DOID:0050506': 'http://www.wikidata.org/entity/Q18932728',\n 'DOID:0050783': 'http://www.wikidata.org/entity/Q18965511',\n 'DOID:0060255': 'http://www.wikidata.org/entity/Q18966134',\n 'DOID:0080017': 'http://www.wikidata.org/entity/Q18966174',\n 'DOID:10000': 'http://www.wikidata.org/entity/Q18966199',\n 'DOID:10042': 'http://www.wikidata.org/entity/Q18966220',\n 'DOID:10053': 'http://www.wikidata.org/entity/Q18966226',\n 'DOID:10142': 'http://www.wikidata.org/entity/Q18966249',\n 'DOID:10173': 'http://www.wikidata.org/entity/Q18966257',\n 'DOID:10191': 'http://www.wikidata.org/entity/Q18966263',\n 'DOID:10238': 'http://www.wikidata.org/entity/Q18966282',\n 'DOID:10256': 'http://www.wikidata.org/entity/Q18966294',\n 'DOID:10332': 'http://www.wikidata.org/entity/Q18966336',\n 'DOID:10343': 'http://www.wikidata.org/entity/Q18966343',\n 'DOID:10508': 'http://www.wikidata.org/entity/Q18966397',\n 'DOID:10594': 'http://www.wikidata.org/entity/Q18966452',\n 'DOID:10901': 'http://www.wikidata.org/entity/Q18966552',\n 'DOID:10959': 'http://www.wikidata.org/entity/Q18966583',\n 'DOID:10980': 'http://www.wikidata.org/entity/Q18966595',\n 'DOID:11091': 'http://www.wikidata.org/entity/Q18966634',\n 'DOID:1109': 'http://www.wikidata.org/entity/Q18966632',\n 'DOID:11107': 'http://www.wikidata.org/entity/Q18966647',\n 'DOID:11147': 'http://www.wikidata.org/entity/Q18966661',\n 'DOID:11314': 'http://www.wikidata.org/entity/Q18966754',\n 'DOID:11696': 'http://www.wikidata.org/entity/Q18966878',\n 'DOID:11806': 'http://www.wikidata.org/entity/Q18966921',\n 'DOID:1183': 'http://www.wikidata.org/entity/Q18966931',\n 'DOID:11943': 'http://www.wikidata.org/entity/Q18966969',\n 'DOID:11964': 'http://www.wikidata.org/entity/Q18966980',\n 'DOID:12091': 'http://www.wikidata.org/entity/Q18967024',\n 'DOID:12104': 'http://www.wikidata.org/entity/Q18967031',\n 'DOID:12106': 'http://www.wikidata.org/entity/Q18967032',\n 'DOID:12221': 'http://www.wikidata.org/entity/Q18967087',\n 'DOID:0060280': 'http://www.wikidata.org/entity/Q18987129',\n 'DOID:5115': 'http://www.wikidata.org/entity/Q55013932',\n 'DOID:2620': 'http://www.wikidata.org/entity/Q5311596',\n 'DOID:2943': 'http://www.wikidata.org/entity/Q12353899',\n 'DOID:12284': 'http://www.wikidata.org/entity/Q18967111',\n 'DOID:12551': 'http://www.wikidata.org/entity/Q18967229',\n 'DOID:12634': 'http://www.wikidata.org/entity/Q18967282',\n 'DOID:12723': 'http://www.wikidata.org/entity/Q18967327',\n 'DOID:12722': 'http://www.wikidata.org/entity/Q18967325',\n 'DOID:12773': 'http://www.wikidata.org/entity/Q18967342',\n 'DOID:12779': 'http://www.wikidata.org/entity/Q18967343',\n 'DOID:128': 'http://www.wikidata.org/entity/Q18967349',\n 'DOID:12852': 'http://www.wikidata.org/entity/Q18967364',\n 'DOID:12864': 'http://www.wikidata.org/entity/Q18967375',\n 'DOID:12879': 'http://www.wikidata.org/entity/Q18967376',\n 'DOID:1301': 'http://www.wikidata.org/entity/Q18967413',\n 'DOID:13338': 'http://www.wikidata.org/entity/Q18967532',\n 'DOID:13380': 'http://www.wikidata.org/entity/Q18967552',\n 'DOID:1341': 'http://www.wikidata.org/entity/Q18967566',\n 'DOID:13471': 'http://www.wikidata.org/entity/Q18967580',\n 'DOID:13527': 'http://www.wikidata.org/entity/Q18967595',\n 'DOID:1356': 'http://www.wikidata.org/entity/Q18967607',\n 'DOID:13562': 'http://www.wikidata.org/entity/Q18967610',\n 'DOID:13583': 'http://www.wikidata.org/entity/Q18967622',\n 'DOID:13623': 'http://www.wikidata.org/entity/Q18967633',\n 'DOID:13679': 'http://www.wikidata.org/entity/Q18967652',\n 'DOID:13723': 'http://www.wikidata.org/entity/Q18967672',\n 'DOID:13734': 'http://www.wikidata.org/entity/Q18967678',\n 'DOID:13970': 'http://www.wikidata.org/entity/Q18967748',\n 'DOID:14041': 'http://www.wikidata.org/entity/Q18967769',\n 'DOID:14063': 'http://www.wikidata.org/entity/Q18967779',\n 'DOID:14338': 'http://www.wikidata.org/entity/Q18967880',\n 'DOID:14474': 'http://www.wikidata.org/entity/Q18967919',\n 'DOID:14518': 'http://www.wikidata.org/entity/Q18967937',\n 'DOID:1511': 'http://www.wikidata.org/entity/Q18968013',\n 'DOID:1592': 'http://www.wikidata.org/entity/Q18968052',\n 'DOID:1724': 'http://www.wikidata.org/entity/Q18968110',\n 'DOID:1805': 'http://www.wikidata.org/entity/Q18968146',\n 'DOID:1873': 'http://www.wikidata.org/entity/Q18968166',\n 'DOID:1912': 'http://www.wikidata.org/entity/Q18968179',\n 'DOID:2070': 'http://www.wikidata.org/entity/Q18968252',\n 'DOID:211': 'http://www.wikidata.org/entity/Q18971463',\n 'DOID:2328': 'http://www.wikidata.org/entity/Q18971566',\n 'DOID:2421': 'http://www.wikidata.org/entity/Q18971646',\n 'DOID:2588': 'http://www.wikidata.org/entity/Q18975085',\n 'DOID:2753': 'http://www.wikidata.org/entity/Q18975160',\n 'DOID:2930': 'http://www.wikidata.org/entity/Q18975230',\n 'DOID:2980': 'http://www.wikidata.org/entity/Q18975262',\n 'DOID:3026': 'http://www.wikidata.org/entity/Q18975290',\n 'DOID:3295': 'http://www.wikidata.org/entity/Q18975412',\n 'DOID:3472': 'http://www.wikidata.org/entity/Q18975487',\n 'DOID:3533': 'http://www.wikidata.org/entity/Q18975514',\n 'DOID:3580': 'http://www.wikidata.org/entity/Q18975525',\n 'DOID:3729': 'http://www.wikidata.org/entity/Q18975593',\n 'DOID:3866': 'http://www.wikidata.org/entity/Q18975647',\n 'DOID:3863': 'http://www.wikidata.org/entity/Q18975644',\n 'DOID:3898': 'http://www.wikidata.org/entity/Q18975660',\n 'DOID:4020': 'http://www.wikidata.org/entity/Q18975697',\n 'DOID:4056': 'http://www.wikidata.org/entity/Q18975711',\n 'DOID:410': 'http://www.wikidata.org/entity/Q18975729',\n 'DOID:4235': 'http://www.wikidata.org/entity/Q18975788',\n 'DOID:4282': 'http://www.wikidata.org/entity/Q18975813',\n 'DOID:4299': 'http://www.wikidata.org/entity/Q18975822',\n 'DOID:4351': 'http://www.wikidata.org/entity/Q55013640',\n 'DOID:4375': 'http://www.wikidata.org/entity/Q18975864',\n 'DOID:4478': 'http://www.wikidata.org/entity/Q55013684',\n 'DOID:449': 'http://www.wikidata.org/entity/Q18975915',\n 'DOID:4585': 'http://www.wikidata.org/entity/Q18975946',\n 'DOID:4595': 'http://www.wikidata.org/entity/Q18975951',\n 'DOID:4589': 'http://www.wikidata.org/entity/Q18975948',\n 'DOID:4705': 'http://www.wikidata.org/entity/Q18975997',\n 'DOID:4714': 'http://www.wikidata.org/entity/Q18976002',\n 'DOID:4799': 'http://www.wikidata.org/entity/Q19000399',\n 'DOID:4809': 'http://www.wikidata.org/entity/Q19000404',\n 'DOID:4819': 'http://www.wikidata.org/entity/Q19000408',\n 'DOID:4831': 'http://www.wikidata.org/entity/Q19000412',\n 'DOID:4884': 'http://www.wikidata.org/entity/Q19000425',\n 'DOID:4900': 'http://www.wikidata.org/entity/Q19000428',\n 'DOID:4924': 'http://www.wikidata.org/entity/Q19000432',\n 'DOID:4958': 'http://www.wikidata.org/entity/Q19000441',\n 'DOID:4966': 'http://www.wikidata.org/entity/Q19000445',\n 'DOID:4982': 'http://www.wikidata.org/entity/Q19000452',\n 'DOID:5017': 'http://www.wikidata.org/entity/Q19000461',\n 'DOID:5053': 'http://www.wikidata.org/entity/Q19000466',\n 'DOID:5071': 'http://www.wikidata.org/entity/Q19000470',\n 'DOID:5073': 'http://www.wikidata.org/entity/Q19000472',\n 'DOID:5239': 'http://www.wikidata.org/entity/Q19000499',\n 'DOID:5250': 'http://www.wikidata.org/entity/Q19000506',\n 'DOID:5247': 'http://www.wikidata.org/entity/Q19000504',\n 'DOID:5255': 'http://www.wikidata.org/entity/Q19000508',\n 'DOID:5317': 'http://www.wikidata.org/entity/Q19000521',\n 'DOID:5346': 'http://www.wikidata.org/entity/Q19000528',\n 'DOID:5369': 'http://www.wikidata.org/entity/Q19000538',\n 'DOID:5422': 'http://www.wikidata.org/entity/Q19000548',\n 'DOID:5497': 'http://www.wikidata.org/entity/Q19000567',\n 'DOID:5491': 'http://www.wikidata.org/entity/Q19000564',\n 'DOID:5601': 'http://www.wikidata.org/entity/Q19000586',\n 'DOID:5616': 'http://www.wikidata.org/entity/Q19000591',\n 'DOID:8527': 'http://www.wikidata.org/entity/Q1313618',\n 'DOID:4627': 'http://www.wikidata.org/entity/Q1656793',\n 'DOID:10242': 'http://www.wikidata.org/entity/Q2845432',\n 'DOID:0050026': 'http://www.wikidata.org/entity/Q3049302',\n 'DOID:5339': 'http://www.wikidata.org/entity/Q5198214',\n 'DOID:0060257': 'http://www.wikidata.org/entity/Q5319366',\n 'DOID:4625': 'http://www.wikidata.org/entity/Q5375429',\n 'DOID:12929': 'http://www.wikidata.org/entity/Q5376225',\n ...}"
     },
     "execution_count": 6,
     "metadata": {},
     "output_type": "execute_result"
    }
   ],
   "source": [
    "query = \"\"\"\n",
    "  SELECT DISTINCT ?disease ?doid WHERE {?disease  wdt:P699 ?doid .}\n",
    "\"\"\"\n",
    "df_wd = wdi_core.WDFunctionsEngine.execute_sparql_query(query, as_dataframe=True)\n",
    "\n",
    "doQids = {}\n",
    "inwikidata=wdi_core.WDFunctionsEngine.execute_sparql_query(query, as_dataframe=True)\n",
    "for index, row in inwikidata.iterrows():\n",
    "    doQids[row[\"doid\"]] = row[\"disease\"]\n",
    "\n",
    "QidsDo = dict()\n",
    "for key in doQids.keys():\n",
    "    QidsDo[doQids[key]] = key\n",
    "QidsDo\n",
    "doQids"
   ]
  },
  {
   "cell_type": "code",
   "execution_count": 7,
   "metadata": {},
   "outputs": [],
   "source": [
    "newItems = set(df_doNative[\"doid\"].tolist())-set(df_wd[\"doid\"].tolist())\n",
    "missing = df_doNative[df_doNative[\"doid\"].isin(newItems)]"
   ]
  },
  {
   "cell_type": "code",
   "execution_count": 8,
   "metadata": {},
   "outputs": [
    {
     "name": "stdout",
     "output_type": "stream",
     "text": [
      "1/1\n",
      "SELECT DISTINCT ?disease ?label (GROUP_CONCAT(DISTINCT ?typeLabel) as ?types) (GROUP_CONCAT(DISTINCT ?sclassLabel) as ?subclasses) WHERE {VALUES ?label {\"part_of\"} VALUES ?altLabel {\"part_of\"}  \n",
      "\n",
      "    ?disease rdfs:label ?label .\n",
      "    OPTIONAL {?disease wdt:P31 ?type.  ?type rdfs:label ?typeLabel . FILTER (LANG(?typeLabel) = \"en\")}    \n",
      "    OPTIONAL {?disease wdt:P279 ?sclass .  ?sclass rdfs:label ?sclassLabel . FILTER (LANG(?sclassLabel) = \"en\")}                                                             \n",
      "  } GROUP BY ?disease ?label\n"
     ]
    },
    {
     "data": {
      "text/plain": "Empty DataFrame\nColumns: []\nIndex: []",
      "text/html": "<div>\n<style scoped>\n    .dataframe tbody tr th:only-of-type {\n        vertical-align: middle;\n    }\n\n    .dataframe tbody tr th {\n        vertical-align: top;\n    }\n\n    .dataframe thead th {\n        text-align: right;\n    }\n</style>\n<table border=\"1\" class=\"dataframe\">\n  <thead>\n    <tr style=\"text-align: right;\">\n      <th></th>\n    </tr>\n  </thead>\n  <tbody>\n  </tbody>\n</table>\n</div>"
     },
     "execution_count": 8,
     "metadata": {},
     "output_type": "execute_result"
    }
   ],
   "source": [
    "chunks = df_doNative[df_doNative[\"doid\"].isin(newItems)][\"label\"].to_list()\n",
    "\n",
    "pages = 50\n",
    "loops = [chunks[i:i+pages] for i in range(0, len(chunks), pages)]\n",
    "loops\n",
    "\n",
    "t =1 \n",
    "\n",
    "frames = []\n",
    "for run in loops:\n",
    "    values = \"VALUES ?label {\\\"\" + \"\\\"@en \\\"\".join(run)+\"\\\"} VALUES ?altLabel {\\\"\" + \"\\\"@en \\\"\".join(run)+\"\\\"}\"\n",
    "    sparql = \"SELECT DISTINCT ?disease ?label (GROUP_CONCAT(DISTINCT ?typeLabel) as ?types) (GROUP_CONCAT(DISTINCT ?sclassLabel) as ?subclasses) WHERE {\"\n",
    "    sparql += values \n",
    "    sparql += \"\"\"  \n",
    "\n",
    "    ?disease rdfs:label ?label .\n",
    "    OPTIONAL {?disease wdt:P31 ?type.  ?type rdfs:label ?typeLabel . FILTER (LANG(?typeLabel) = \"en\")}    \n",
    "    OPTIONAL {?disease wdt:P279 ?sclass .  ?sclass rdfs:label ?sclassLabel . FILTER (LANG(?sclassLabel) = \"en\")}                                                             \n",
    "  } GROUP BY ?disease ?label\"\"\"\n",
    "    frames.append(wdi_core.WDFunctionsEngine.execute_sparql_query(sparql, as_dataframe=True))\n",
    "    print(str(t)+\"/\"+str(len(loops)))\n",
    "    t+=1\n",
    "\n",
    "print(sparql)\n",
    "    \n",
    "results = pd.concat(frames)\n",
    "results"
   ]
  },
  {
   "cell_type": "code",
   "execution_count": 9,
   "metadata": {
    "scrolled": false
   },
   "outputs": [
    {
     "ename": "IndentationError",
     "evalue": "unexpected indent (<ipython-input-9-0f921c947c0a>, line 3)",
     "output_type": "error",
     "traceback": [
      "\u001B[0;36m  File \u001B[0;32m\"<ipython-input-9-0f921c947c0a>\"\u001B[0;36m, line \u001B[0;32m3\u001B[0m\n\u001B[0;31m    query = \"\"\"\u001B[0m\n\u001B[0m    ^\u001B[0m\n\u001B[0;31mIndentationError\u001B[0m\u001B[0;31m:\u001B[0m unexpected indent\n"
     ]
    }
   ],
   "source": [
    "pd.set_option('display.max_rows', 10)\n",
    "results = pd.merge(left=missing, right=df_doNative, how='left', left_on='label', right_on='label')\n",
    "    query = \"\"\"\n",
    "    SELECT ?symptom ?soid WHERE {\n",
    "       ?symptom wdt:P8656 ?soid .\n",
    "    }\n",
    "    \"\"\"\n",
    "    soQids = {}\n",
    "    inwikidata=wdi_core.WDFunctionsEngine.execute_sparql_query(query, as_dataframe=True)\n",
    "    for index, row in inwikidata.iterrows():\n",
    "        soQids[\"http://purl.obolibrary.org/obo/SYMP_\"+row[\"soid\"]] = row[\"symptom\"]results"
   ]
  },
  {
   "cell_type": "code",
   "execution_count": null,
   "metadata": {},
   "outputs": [],
   "source": [
    "query = \"\"\"\n",
    "    SELECT ?symptom ?soid WHERE {\n",
    "       ?symptom wdt:P8656 ?soid .\n",
    "    }\n",
    "    \"\"\"\n",
    "    soQids = {}\n",
    "    inwikidata=wdi_core.WDFunctionsEngine.execute_sparql_query(query, as_dataframe=True)\n",
    "    for index, row in inwikidata.iterrows():\n",
    "        soQids[\"http://purl.obolibrary.org/obo/SYMP_\"+row[\"soid\"]] = row[\"symptom\"]\n",
    "\n",
    "for index, row in df_doNative.iterrows():\n",
    "    doid = row[\"doid\"]\n",
    "    do_reference = createDOReference(doid)\n",
    "    identorg_reference = createIORef()\n",
    "    tuple = df_doNative[df_doNative[\"doid\"]==doid]\n",
    "    dorow = tuple.iloc[0]\n",
    "    statements = []\n",
    "    # Disease Ontology ID (P31) \n",
    "    statements.append(wdi_core.WDString(value=dorow[\"doid\"], prop_nr=\"P699\", references=[copy.deepcopy(do_reference)]))\n",
    "    # exact match (P2888)\n",
    "    statements.append(wdi_core.WDUrl(value=dorow[\"do_uri\"], prop_nr=\"P2888\", references=[copy.deepcopy(do_reference)]))\n",
    "    # identifiers.org URI\n",
    "    statements.append(wdi_core.WDUrl(\"http://identifiers.org/doid/\"+dorow[\"doid\"], prop_nr=\"P2888\", references=[copy.deepcopy(identorg_reference)]))\n",
    "    uri = str(dorow[\"do_uri\"])\n",
    "\n",
    "    query=\"\"\"PREFIX obo: <http://www.geneontology.org/formats/oboInOwl#>\n",
    "        PREFIX rdfs: <http://www.w3.org/2000/01/rdf-schema#>\n",
    "        PREFIX oboInOwl: <http://www.geneontology.org/formats/oboInOwl#>\n",
    "\n",
    "        SELECT * WHERE {\"\"\"\n",
    "    query+= \"<\"+uri+\"> rdfs:subClassOf [ owl:onProperty doid:has_symptom ; owl:someValuesFrom ?symptom ] .} \"\n",
    "\n",
    "    for row in doGraph.query(query):\n",
    "        #print(soQids[str(row[0])])\n",
    "        statements.append(wdi_core.WDItemID(value=soQids[str(row[0])].replace(\"http://www.wikidata.org/entity/\", \"\"),\n",
    "                                          prop_nr=\"P780\", references=[copy.deepcopy(do_reference)]))\n",
    "    query=\"\"\"PREFIX obo: <http://www.geneontology.org/formats/oboInOwl#>\n",
    "        PREFIX rdfs: <http://www.w3.org/2000/01/rdf-schema#>\n",
    "        PREFIX oboInOwl: <http://www.geneontology.org/formats/oboInOwl#>\n",
    "\n",
    "        SELECT ?subClassOf WHERE {\"\"\"\n",
    "    query+= \"<\"+uri+\"> rdfs:subClassOf ?subClassOf .  FILTER (REGEX(str(?subClassOf), 'http', 'i'))} \"\n",
    "\n",
    "    for row in doGraph.query(query):\n",
    "        if row[0].replace(\"http://purl.obolibrary.org/obo/DOID_\", \"DOID:\") not in doQids.keys():\n",
    "            doQids[row[0].replace(\"http://purl.obolibrary.org/obo/DOID_\", \"DOID:\")] = create(row[0].replace(\"http://purl.obolibrary.org/obo/DOID_\", \"DOID:\"))\n",
    "        statements.append(wdi_core.WDItemID(value=doQids[row[0].replace(\"http://purl.obolibrary.org/obo/DOID_\", \"DOID:\")].replace(\"http://www.wikidata.org/entity/\", \"\"),\n",
    "                                           prop_nr=\"P279\", references=[copy.deepcopy(do_reference)]))\n",
    "    query=\"\"\"PREFIX skos: <http://www.w3.org/2004/02/skos/core#>\n",
    "\n",
    "        SELECT ?exactMatch WHERE {\"\"\"\n",
    "    query+= \"<\"+uri+\"> skos:exactMatch ?exactMatch .}\"\n",
    "    for row in doGraph.query(query):\n",
    "        extID = row[0]\n",
    "        if \"MESH:\" in extID:\n",
    "            statements.append(wdi_core.WDExternalID(row[\"exactMatch\"].replace(\"MESH\", \"\"), prop_nr=\"P486\", references=[copy.deepcopy(do_reference)]))\n",
    "        if \"NCI:\" in extID:\n",
    "            statements.append(wdi_core.WDExternalID(row[\"exactMatch\"], prop_nr=\"P1748\", references=[copy.deepcopy(do_reference)]))\n",
    "        if \"ICD10CM:\" in extID:\n",
    "            statements.append(wdi_core.WDExternalID(row[\"exactMatch\"], prop_nr=\"P4229\", references=[copy.deepcopy(do_reference)]))\n",
    "        if \"UMLS_CUI:\" in extID:\n",
    "            statements.append(wdi_core.WDExternalID(row[\"exactMatch\"], prop_nr=\"P2892\", references=[copy.deepcopy(do_reference)]))\n",
    "\n",
    "    item = wdi_core.WDItemEngine(wd_item_id=doQids[doid].replace(\"http://www.wikidata.org/entity/\", \"\"), data=statements, keep_good_ref_statements=True)\n",
    "\n",
    "    if item.get_label() == \"\":\n",
    "        item.set_label(dorow[\"label\"], lang=\"en\")\n",
    "        if item.get_description() == \"\":\n",
    "            item.set_description(\"human disease\", lang=\"en\")\n",
    "    elif item.get_label() != dorow[\"label\"]:\n",
    "        aliases = item.get_aliases()\n",
    "        if dorow[\"label\"] not in aliases:\n",
    "            aliases.append(dorow[\"label\"])\n",
    "            item.set_aliases(aliases)\n",
    "\n",
    "    item.get_wd_json_representation()\n",
    "\n",
    "    print(item.write(login))\n",
    "\n"
   ]
  },
  {
   "cell_type": "code",
   "execution_count": null,
   "metadata": {},
   "outputs": [],
   "source": [
    "\n",
    "WDUSER = \"<user name>\"\n",
    "WDPASS = \"<password>\"\n",
    "\n",
    "login = wdi_login.WDLogin(WDUSER, WDPASS)"
   ]
  },
  {
   "cell_type": "code",
   "execution_count": null,
   "metadata": {},
   "outputs": [],
   "source": [
    "doGraph.serialize(destination=\"/tmp/leesdit.ttl\", format=\"turtle\")"
   ]
  },
  {
   "cell_type": "code",
   "execution_count": null,
   "metadata": {},
   "outputs": [],
   "source": [
    "item = wdi_core.WDItemEngine(new_item=True, data=statements, keep_good_ref_statements=True)\n",
    "if item.get_label() == \"\":\n",
    "    item.set_label(dorow[\"label\"], lang=\"en\")\n",
    "    if item.get_description() == \"\":\n",
    "        item.set_description(\"human disease\", lang=\"en\")\n",
    "elif item.get_label() != dorow[\"label\"]:\n",
    "    aliases = item.get_aliases()\n",
    "    if dorow[\"label\"] not in aliases:\n",
    "        aliases.append(dorow[\"label\"])\n",
    "        item.set_aliases(aliases)\n",
    "\n",
    "item.get_wd_json_representation()\n",
    "\n",
    "item.write(login)"
   ]
  },
  {
   "cell_type": "code",
   "execution_count": null,
   "metadata": {},
   "outputs": [],
   "source": [
    "item = wdi_core.WDItemEngine(wd_item_id=\"Q293533\", data=statements, keep_good_ref_statements=True)\n",
    "if item.get_label() == \"\":\n",
    "    item.set_label(dorow[\"label\"], lang=\"en\")\n",
    "    if item.get_description() == \"\":\n",
    "        item.set_description(\"human disease\", lang=\"en\")\n",
    "elif item.get_label() != dorow[\"label\"]:\n",
    "    aliases = item.get_aliases()\n",
    "    if dorow[\"label\"] not in aliases:\n",
    "        aliases.append(dorow[\"label\"])\n",
    "        item.set_aliases(aliases)\n",
    "\n",
    "item.get_wd_json_representation()\n",
    "\n",
    "item.write(login)"
   ]
  },
  {
   "cell_type": "code",
   "execution_count": null,
   "metadata": {},
   "outputs": [],
   "source": [
    "def create(doid):\n",
    "    do_reference = createDOReference(doid)\n",
    "    identorg_reference = createIORef()\n",
    "    tuple = df_doNative[df_doNative[\"doid\"]==doid]\n",
    "    dorow = tuple.iloc[0]\n",
    "    statements = []\n",
    "    # Disease Ontology ID (P31) \n",
    "    statements.append(wdi_core.WDString(value=dorow[\"doid\"], prop_nr=\"P699\", references=[copy.deepcopy(do_reference)]))\n",
    "    # exact match (P2888)\n",
    "    statements.append(wdi_core.WDUrl(value=dorow[\"do_uri\"], prop_nr=\"P2888\", references=[copy.deepcopy(do_reference)]))\n",
    "    # identifiers.org URI\n",
    "    statements.append(wdi_core.WDUrl(\"http://identifiers.org/doid/\"+dorow[\"doid\"], prop_nr=\"P2888\", references=[copy.deepcopy(identorg_reference)]))\n",
    "    uri = str(dorow[\"do_uri\"])\n",
    "    query = \"\"\"\n",
    "    SELECT ?symptom ?soid WHERE {\n",
    "       ?symptom wdt:P8656 ?soid .\n",
    "    }\n",
    "    \"\"\"\n",
    "    soQids = {}\n",
    "    inwikidata=wdi_core.WDFunctionsEngine.execute_sparql_query(query, as_dataframe=True)\n",
    "    for index, row in inwikidata.iterrows():\n",
    "        soQids[\"http://purl.obolibrary.org/obo/SYMP_\"+row[\"soid\"]] = row[\"symptom\"]\n",
    "    query=\"\"\"PREFIX obo: <http://www.geneontology.org/formats/oboInOwl#>\n",
    "        PREFIX rdfs: <http://www.w3.org/2000/01/rdf-schema#>\n",
    "        PREFIX oboInOwl: <http://www.geneontology.org/formats/oboInOwl#>\n",
    "\n",
    "        SELECT * WHERE {\"\"\"\n",
    "    query+= \"<\"+uri+\"> rdfs:subClassOf [ owl:onProperty doid:has_symptom ; owl:someValuesFrom ?symptom ] .} \"\n",
    "\n",
    "    for row in doGraph.query(query):\n",
    "        print(soQids[str(row[0])])\n",
    "        statements.append(wdi_core.WDItemID(value=soQids[str(row[0])].replace(\"http://www.wikidata.org/entity/\", \"\"),\n",
    "                                          prop_nr=\"P780\", references=[copy.deepcopy(do_reference)]))\n",
    "    query=\"\"\"PREFIX obo: <http://www.geneontology.org/formats/oboInOwl#>\n",
    "        PREFIX rdfs: <http://www.w3.org/2000/01/rdf-schema#>\n",
    "        PREFIX oboInOwl: <http://www.geneontology.org/formats/oboInOwl#>\n",
    "\n",
    "        SELECT ?subClassOf WHERE {\"\"\"\n",
    "    query+= \"<\"+uri+\"> rdfs:subClassOf ?subClassOf .  FILTER (REGEX(str(?subClassOf), 'http', 'i'))} \"\n",
    "\n",
    "    for row in doGraph.query(query):\n",
    "            if row[0].replace(\"http://purl.obolibrary.org/obo/DOID_\", \"DOID:\") not in doQids.keys():\n",
    "                doQids[row[0].replace(\"http://purl.obolibrary.org/obo/DOID_\", \"DOID:\")] = create(row[0].replace(\"http://purl.obolibrary.org/obo/DOID_\", \"DOID:\"))\n",
    "            statements.append(wdi_core.WDItemID(value=doQids[row[0].replace(\"http://purl.obolibrary.org/obo/DOID_\", \"DOID:\")].replace(\"http://www.wikidata.org/entity/\", \"\"),\n",
    "                                               prop_nr=\"P279\", references=[copy.deepcopy(do_reference)]))\n",
    "    query=\"\"\"PREFIX skos: <http://www.w3.org/2004/02/skos/core#>\n",
    "\n",
    "        SELECT ?exactMatch WHERE {\"\"\"\n",
    "    query+= \"<\"+uri+\"> skos:exactMatch ?exactMatch .}\"\n",
    "    for row in doGraph.query(query):\n",
    "        extID = row[0]\n",
    "        if \"MESH:\" in extID:\n",
    "            statements.append(wdi_core.WDExternalID(row[\"exactMatch\"].replace(\"MESH\", \"\"), prop_nr=\"P486\", references=[copy.deepcopy(do_reference)]))\n",
    "        if \"NCI:\" in extID:\n",
    "            statements.append(wdi_core.WDExternalID(row[\"exactMatch\"], prop_nr=\"P1748\", references=[copy.deepcopy(do_reference)]))\n",
    "        if \"ICD10CM:\" in extID:\n",
    "            statements.append(wdi_core.WDExternalID(row[\"exactMatch\"], prop_nr=\"P4229\", references=[copy.deepcopy(do_reference)]))\n",
    "        if \"UMLS_CUI:\" in extID:\n",
    "            statements.append(wdi_core.WDExternalID(row[\"exactMatch\"], prop_nr=\"P2892\", references=[copy.deepcopy(do_reference)]))\n",
    "\n",
    "    item = wdi_core.WDItemEngine(data=statements, keep_good_ref_statements=True)\n",
    "\n",
    "    if item.get_label() == \"\":\n",
    "        item.set_label(dorow[\"label\"], lang=\"en\")\n",
    "        if item.get_description() == \"\":\n",
    "            item.set_description(\"human disease\", lang=\"en\")\n",
    "    elif item.get_label() != dorow[\"label\"]:\n",
    "        aliases = item.get_aliases()\n",
    "        if dorow[\"label\"] not in aliases:\n",
    "            aliases.append(dorow[\"label\"])\n",
    "            item.set_aliases(aliases)\n",
    "\n",
    "    item.get_wd_json_representation()\n",
    "\n",
    "    return item.write(login)"
   ]
  },
  {
   "cell_type": "code",
   "execution_count": null,
   "metadata": {},
   "outputs": [],
   "source": [
    "for index, row in missing.iterrows():\n",
    "    print(row[\"doid\"])\n",
    "    print(create(row[\"doid\"]))"
   ]
  },
  {
   "cell_type": "code",
   "execution_count": null,
   "metadata": {},
   "outputs": [],
   "source": [
    "len(missing)"
   ]
  },
  {
   "cell_type": "code",
   "execution_count": null,
   "metadata": {},
   "outputs": [],
   "source": [
    "missing[\"doid\"]"
   ]
  },
  {
   "cell_type": "code",
   "execution_count": null,
   "metadata": {},
   "outputs": [],
   "source": [
    "wdi_core"
   ]
  }
 ],
 "metadata": {
  "kernelspec": {
   "display_name": "PyCharm (scheduled_bots)",
   "language": "python",
   "name": "pycharm-276001b6"
  },
  "language_info": {
   "codemirror_mode": {
    "name": "ipython",
    "version": 3
   },
   "file_extension": ".py",
   "mimetype": "text/x-python",
   "name": "python",
   "nbconvert_exporter": "python",
   "pygments_lexer": "ipython3",
   "version": "3.7.3"
  }
 },
 "nbformat": 4,
 "nbformat_minor": 1
}