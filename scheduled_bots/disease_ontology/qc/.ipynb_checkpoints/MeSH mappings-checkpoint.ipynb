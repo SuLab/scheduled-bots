{
 "cells": [
  {
   "cell_type": "code",
   "execution_count": null,
   "metadata": {},
   "outputs": [
    {
     "name": "stdout",
     "output_type": "stream",
     "text": [
      "\n",
      "Downloading Mondo ...\n"
     ]
    }
   ],
   "source": [
    "from rdflib import Graph, URIRef\n",
    "import pandas as pd\n",
    "\n",
    "## The following section is to download the orginal Disease ontology\n",
    "print(\"\\nDownloading Mondo ...\")\n",
    "url = \"http://purl.obolibrary.org/obo/mondo.owl\"\n",
    "\n",
    "doGraph = Graph()\n",
    "doGraph.parse(url, format=\"xml\")"
   ]
  },
  {
   "cell_type": "code",
   "execution_count": null,
   "metadata": {},
   "outputs": [],
   "source": [
    "qres = doGraph.query(\n",
    "    \"\"\"\n",
    "       PREFIX obo: <http://www.geneontology.org/formats/oboInOwl#>\n",
    "       PREFIX rdfs: <http://www.w3.org/2000/01/rdf-schema#>\n",
    "       PREFIX oboInOwl: <http://www.geneontology.org/formats/oboInOwl#>\n",
    "\n",
    "       SELECT DISTINCT ?mondo_uri ?mondoid ?label (GROUP_CONCAT(?exactMatch;separator=\"|\") as ?exactMatches) (GROUP_CONCAT(?exactsynonym;separator=\"|\") as ?exact_synonyms)\n",
    "       WHERE {\n",
    "          ?mondo_uri obo:id ?mondoid ;\n",
    "                  rdfs:label ?label .\n",
    "         OPTIONAL {?mondo_uri <http://www.w3.org/2004/02/skos/core#exactMatch> ?exactMatch .}\n",
    "         OPTIONAL {?mondo_uri oboInOwl:hasExactSynonym ?exactsynonym}\n",
    "       }\n",
    "       GROUP BY ?mondo_uri \"\"\")\n",
    "\n"
   ]
  },
  {
   "cell_type": "raw",
   "metadata": {},
   "source": []
  }
 ],
 "metadata": {
  "kernelspec": {
   "display_name": "Python 3",
   "language": "python",
   "name": "python3"
  },
  "language_info": {
   "codemirror_mode": {
    "name": "ipython",
    "version": 3
   },
   "file_extension": ".py",
   "mimetype": "text/x-python",
   "name": "python",
   "nbconvert_exporter": "python",
   "pygments_lexer": "ipython3",
   "version": "3.7.3"
  }
 },
 "nbformat": 4,
 "nbformat_minor": 4
}
