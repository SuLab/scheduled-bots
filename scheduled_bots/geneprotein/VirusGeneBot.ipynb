{
 "cells": [
  {
   "cell_type": "markdown",
   "metadata": {
    "colab_type": "text",
    "id": "aT6Ad9cL_pKv"
   },
   "source": [
    "**Authors:**\n",
    "  - Jasper Koehorst (ORCID:0000-0001-8172-8981 )\n",
    "  - Andra Waagmeester (ORCID:0000-0001-9773-4008)\n",
    "  - Egon Willighagen (ORCID:0000-0001-7542-0286)\n",
    "\n",
    "This bot uses of the [WikidataIntegrator](https://github.com/SuLab/WikidataIntegrator).\n",
    "\n",
    "Taxa ran: \n",
    "[2697049](https://www.ncbi.nlm.nih.gov/taxonomy/2697049), \n",
    "[1415852](https://www.ncbi.nlm.nih.gov/taxonomy/1415852), \n",
    "[227859](https://www.ncbi.nlm.nih.gov/taxonomy/227859), \n",
    "[349342](https://www.ncbi.nlm.nih.gov/taxonomy/349342), \n",
    "[305407](https://www.ncbi.nlm.nih.gov/taxonomy/305407), \n",
    "[1335626](https://www.ncbi.nlm.nih.gov/taxonomy/1335626)\n",
    "\n",
    "This bot is a first attempt to automatically maintain genomics data on Wikidata from authoritittive resources on the \n",
    "SARS-CoV-2 virus. SARS-CoV-2 belongs to the broad family of viruses known as coronaviruses. This bot addresses the\n",
    "seven known coronavirus to infect people.\n",
    "\n",
    "The bot roughly works as follows:\n",
    "1. Check if the taxonid of the virus is already covered in Wikidata\n",
    "2. Get list of genes from https://mygene.info/\n",
    "3. Create or check items on Wikidats for each annotated gene\n",
    "\n",
    "The bot aligns with the following schema: https://www.wikidata.org/wiki/EntitySchema:E165"
   ]
  },
  {
   "cell_type": "markdown",
   "metadata": {
    "colab_type": "text",
    "id": "iL39cHiO_pK0"
   },
   "source": [
    "### Dependency installation\n",
    "To add data to wikidata the wikidata integrator application is used.\n",
    "\n",
    "Fetching and parsing protein information is achieved through the BioPython package"
   ]
  },
  {
   "cell_type": "code",
   "execution_count": null,
   "metadata": {
    "colab": {
     "base_uri": "https://localhost:8080/",
     "height": 1000
    },
    "colab_type": "code",
    "id": "8X3UWYyg_pK3",
    "outputId": "55ebff5d-1251-4c7b-dfb1-01d5202733a6"
   },
   "outputs": [],
   "source": [
    "!pip install wikidataintegrator\n",
    "!pip install biopython"
   ]
  },
  {
   "cell_type": "markdown",
   "metadata": {
    "colab_type": "text",
    "id": "LguBBew8_pK_"
   },
   "source": [
    "### Wikidata variables\n",
    "A username and password are required to authenticate with WikiData.org"
   ]
  },
  {
   "cell_type": "code",
   "execution_count": null,
   "metadata": {
    "cellView": "code",
    "colab": {},
    "colab_type": "code",
    "id": "0XX0i-l6_pLA"
   },
   "outputs": [],
   "source": [
    "import os\n",
    "\n",
    "os.environ['WDUSER'] = \"USERNAME\"\n",
    "os.environ['WDPASS'] = \"PASSWORD\""
   ]
  },
  {
   "cell_type": "markdown",
   "metadata": {
    "colab_type": "text",
    "id": "nKN10HScAfXS"
   },
   "source": [
    "### NCBI Taxon identifier\n",
    "The genes and proteins that are to be registered in WikiData are selected based on the taxon identifier provided."
   ]
  },
  {
   "cell_type": "code",
   "execution_count": null,
   "metadata": {
    "colab": {},
    "colab_type": "code",
    "id": "x1n7qIAz_pLG"
   },
   "outputs": [],
   "source": [
    "taxid = \"694009\" # \"NCBI Taxon number here. For example: 694009\""
   ]
  },
  {
   "cell_type": "markdown",
   "metadata": {
    "colab_type": "text",
    "id": "tNMGtgmc_pLQ"
   },
   "source": [
    "## Dependencies and functions"
   ]
  },
  {
   "cell_type": "code",
   "execution_count": null,
   "metadata": {
    "colab": {},
    "colab_type": "code",
    "id": "VFbnA2Vn_pLV"
   },
   "outputs": [],
   "source": [
    "import copy\n",
    "import json\n",
    "import os\n",
    "import pprint\n",
    "from datetime import datetime\n",
    "import requests\n",
    "from wikidataintegrator import wdi_core, wdi_login\n",
    "from rdflib import Graph, URIRef\n",
    "from Bio import Entrez,SeqIO\n",
    "import ftplib\n",
    "import urllib.request\n",
    "import gzip\n",
    "import re\n",
    "\n",
    "retrieved = datetime.now()"
   ]
  },
  {
   "cell_type": "code",
   "execution_count": null,
   "metadata": {
    "colab": {},
    "colab_type": "code",
    "id": "MQZnLXFE_pLb"
   },
   "outputs": [],
   "source": [
    "# Wikidata provenance reference for NCBI Taxonomy\n",
    "def createNCBITaxReference(ncbiTaxId, retrieved):\n",
    "    refStatedIn = wdi_core.WDItemID(value=\"Q13711410\", prop_nr=\"P248\", is_reference=True)\n",
    "    timeStringNow = retrieved.strftime(\"+%Y-%m-%dT00:00:00Z\")\n",
    "    refRetrieved = wdi_core.WDTime(timeStringNow, prop_nr=\"P813\", is_reference=True)\n",
    "    refNcbiTaxID = wdi_core.WDString(value=ncbiTaxId, prop_nr=\"P685\", is_reference=True)\n",
    "    ncbi_reference = [refStatedIn, refRetrieved, refNcbiTaxID]\n",
    "    return ncbi_reference\n",
    "\n",
    "# Wikidata provenance reference for NCBI Gene\n",
    "def createNCBIGeneReference(ncbiGeneId, retrieved):\n",
    "    refStatedIn = wdi_core.WDItemID(value=\"Q20641742\", prop_nr=\"P248\", is_reference=True)\n",
    "    timeStringNow = retrieved.strftime(\"+%Y-%m-%dT00:00:00Z\")\n",
    "    refRetrieved = wdi_core.WDTime(timeStringNow, prop_nr=\"P813\", is_reference=True)\n",
    "    refNcbiGeneID = wdi_core.WDString(value=ncbiGeneId, prop_nr=\"P351\", is_reference=True)\n",
    "\n",
    "    ncbi_reference = [refStatedIn, refRetrieved, refNcbiGeneID]\n",
    "    return ncbi_reference\n",
    "\n",
    "# Wikidata provenance reference for UniProt\n",
    "def createUniprotReference(uniprotId, retrieved):\n",
    "    refStatedIn = wdi_core.WDItemID(value=\"Q905695\", prop_nr=\"P248\", is_reference=True)\n",
    "    timeStringNow = retrieved.strftime(\"+%Y-%m-%dT00:00:00Z\")\n",
    "    refRetrieved = wdi_core.WDTime(timeStringNow, prop_nr=\"P813\", is_reference=True)\n",
    "    refUniprotID = wdi_core.WDString(value=uniprotId, prop_nr=\"P352\", is_reference=True)\n",
    "\n",
    "    reference = [refStatedIn, refRetrieved, refUniprotID]\n",
    "    return reference\n",
    "\n",
    "# Obtaining the Wikidata Gene identifier via the NCBI gene id\n",
    "def getGeneQid(ncbiId, ncbi_reference):\n",
    "    # Parent taxon\n",
    "    gene_statements = [\n",
    "    wdi_core.WDString(value=ncbiId, prop_nr=\"P351\", references=[copy.deepcopy(ncbi_reference)])]\n",
    "    return wdi_core.WDItemEngine(data=gene_statements)\n",
    "\n",
    "# Obtain the WikiData item \n",
    "def getTaxonItem(taxonQid):\n",
    "    return wdi_core.WDItemEngine(wd_item_id=taxonQid)\n",
    "    \n",
    "# Obtaining the item from the taxon id and creat the item\n",
    "def set_taxon(taxid):\n",
    "  ncbiTaxon = json.loads(requests.get(\"https://eutils.ncbi.nlm.nih.gov/entrez/eutils/esummary.fcgi?db=taxonomy&id={}&format=json\".format(taxid)).text)\n",
    "\n",
    "  taxonitemStatements = []\n",
    "  ## instance of\n",
    "  taxonitemStatements.append(wdi_core.WDItemID(value=\"Q16521\", prop_nr=\"P31\", references=[copy.deepcopy(ncbiTaxref)]))\n",
    "  ## NCBI tax id\n",
    "  taxonitemStatements.append(wdi_core.WDExternalID(value=taxid, prop_nr=\"P685\", references=[copy.deepcopy(ncbiTaxref)]))\n",
    "  ## scientificname\n",
    "  scientificName = ncbiTaxon[\"result\"][taxid]['scientificname']\n",
    "  taxonitemStatements.append(wdi_core.WDString(scientificName, prop_nr=\"P225\", references=[copy.deepcopy(ncbiTaxref)]))\n",
    "  item = wdi_core.WDItemEngine(data=taxonitemStatements)\n",
    "  if item.get_label() == \"\":\n",
    "      item.set_label(label=scientificName, lang=\"en\")\n",
    "  if item.get_label() != scientificName:\n",
    "      item.set_aliases(aliases=[scientificName])\n",
    "  if item.get_description(lang=\"en\") == \"\":\n",
    "      item.set_description(description=\"strain of virus\", lang=\"en\")\n",
    "  \n",
    "  pprint.pprint(item.wd_item_id) ## get json for test purposes\n",
    "  return item"
   ]
  },
  {
   "cell_type": "markdown",
   "metadata": {
    "colab_type": "text",
    "id": "LlAUeA4W_pLq"
   },
   "source": [
    "## Start of the code\n",
    "### Authentication\n",
    "Username and password can be set at the beginning of this document for the authentication with WikiData."
   ]
  },
  {
   "cell_type": "code",
   "execution_count": null,
   "metadata": {
    "colab": {
     "base_uri": "https://localhost:8080/",
     "height": 68
    },
    "colab_type": "code",
    "id": "8yd3wrih_pLs",
    "outputId": "8fc78761-1922-46c9-d072-b7910f922e4b"
   },
   "outputs": [],
   "source": [
    "## Login to Wikidata\n",
    "print(\"Logging in...\")\n",
    "if \"WDUSER\" in os.environ and \"WDPASS\" in os.environ:\n",
    "  WDUSER = os.environ['WDUSER']\n",
    "  WDPASS = os.environ['WDPASS']\n",
    "else:\n",
    "  raise ValueError(\"WDUSER and WDPASS must be specified in local.py or as environment variables\")\n",
    "\n",
    "login = wdi_login.WDLogin(WDUSER, WDPASS)\n",
    "\n",
    "global ncbi_reference\n",
    "ncbi_reference = createNCBIGeneReference(\"\",retrieved)\n",
    "global ncbiTaxref\n",
    "ncbiTaxref = createNCBITaxReference(taxid, retrieved)"
   ]
  },
  {
   "cell_type": "markdown",
   "metadata": {
    "colab_type": "text",
    "id": "pAq38kbJNirp"
   },
   "source": [
    "## Creating the taxon instance"
   ]
  },
  {
   "cell_type": "code",
   "execution_count": null,
   "metadata": {
    "colab": {
     "base_uri": "https://localhost:8080/",
     "height": 34
    },
    "colab_type": "code",
    "id": "gvsgR9IVNiI0",
    "outputId": "810af3bc-36f0-434b-dfd1-2128199363e4"
   },
   "outputs": [],
   "source": [
    "wd_item_taxon = set_taxon(taxid)\n",
    "# Obtain scientific name\n"
   ]
  },
  {
   "cell_type": "code",
   "execution_count": null,
   "metadata": {
    "colab": {},
    "colab_type": "code",
    "id": "K_zCE9g-OmVy"
   },
   "outputs": [],
   "source": [
    "for statement in wd_item_taxon.statements:\n",
    "  if statement.get_prop_nr() == \"P225\":\n",
    "    scientificName = statement.value\n",
    "\n",
    "print(\"Scientific name: \" + scientificName)"
   ]
  },
  {
   "cell_type": "markdown",
   "metadata": {
    "colab_type": "text",
    "id": "78QyjrBo_pLw"
   },
   "source": [
    "### Acquiring genes\n",
    "Based on the taxon id provided this section will acquire the genes from mygene.infoscientificName"
   ]
  },
  {
   "cell_type": "code",
   "execution_count": null,
   "metadata": {
    "colab": {
     "base_uri": "https://localhost:8080/",
     "height": 354
    },
    "colab_type": "code",
    "id": "S3eafwGr_pLy",
    "outputId": "dd4f9ba1-7c66-44ee-8a6b-e8f75013d5cc"
   },
   "outputs": [],
   "source": [
    "# Obtain gene list from mygene.info\n",
    "genelist = json.loads(requests.get(\"https://mygene.info/v3/query?q=*&species=\" + taxid).text)\n",
    "# pprint.pprint(genelist)\n",
    "for hit in genelist[\"hits\"]:\n",
    "    ncbi_reference = createNCBIGeneReference(hit[\"entrezgene\"], retrieved)\n",
    "    geneinfo = json.loads(requests.get(\"http://mygene.info/v3/gene/\" + hit[\"entrezgene\"]).text)\n",
    "    # print(geneinfo)\n",
    "    reference = []\n",
    "    statements = []\n",
    "\n",
    "    # ncbi identifer\n",
    "    statements.append(wdi_core.WDString(geneinfo[\"entrezgene\"], prop_nr=\"P351\", references=[copy.deepcopy(ncbi_reference)]))\n",
    "\n",
    "    item = wdi_core.WDItemEngine(data=statements)\n",
    "    # print(item.wd_item_id)\n",
    "    item.set_label(geneinfo[\"name\"], lang=\"en\")\n",
    "    item.set_description(scientificName + \" gene\", lang=\"en\")\n",
    "\n",
    "    # pprint.pprint(item.get_wd_json_representation()) ## get json for test purposes\n",
    "    print(item.write(login))  # write the wikidata item and return the QID"
   ]
  },
  {
   "cell_type": "markdown",
   "metadata": {
    "colab_type": "text",
    "id": "SkAaYtZz_pL0"
   },
   "source": [
    "### Acquiring protein information\n",
    "Functions needed to acquire the protein information"
   ]
  },
  {
   "cell_type": "code",
   "execution_count": null,
   "metadata": {
    "colab": {},
    "colab_type": "code",
    "id": "6Wuyj7-P_pL2"
   },
   "outputs": [],
   "source": [
    "def create_or_update_uniprot_protein_item(geneid, uniprotID):\n",
    "    retrieved = datetime.now()\n",
    "    ncbi_reference = createNCBIGeneReference(hit[\"entrezgene\"], retrieved)\n",
    "    uniprot_reference = createUniprotReference(uniprotID, retrieved)\n",
    "    query = \"\"\"\n",
    "        PREFIX uniprotkb: <http://purl.uniprot.org/uniprot/>\n",
    "        SELECT * WHERE {\n",
    "        SERVICE <https://sparql.uniprot.org/sparql> {\n",
    "            VALUES ?database {<http://purl.uniprot.org/database/PDB> <http://purl.uniprot.org/database/RefSeq>}\n",
    "            uniprotkb:\"\"\" + uniprotID + \"\"\" rdfs:label ?label ;\n",
    "            rdfs:seeAlso ?id .\n",
    "            ?id <http://purl.uniprot.org/core/database> ?database .\n",
    "        }}\"\"\"\n",
    "    print(query)\n",
    "\n",
    "    results = wdi_core.WDItemEngine.execute_sparql_query(query, endpoint=\"https://sparql.uniprot.org/sparql\")\n",
    "    refseq = []\n",
    "    pdb = []\n",
    "    for result in results[\"results\"][\"bindings\"]:\n",
    "        protein_label = result[\"label\"][\"value\"]\n",
    "        if result[\"database\"][\"value\"] == \"http://purl.uniprot.org/database/RefSeq\":\n",
    "            if result[\"id\"][\"value\"].replace(\"http://purl.uniprot.org/refseq/\", \"\") not in refseq:\n",
    "                refseq.append(result[\"id\"][\"value\"].replace(\"http://purl.uniprot.org/refseq/\", \"\"))\n",
    "        if result[\"database\"][\"value\"] == \"http://purl.uniprot.org/database/PDB\":\n",
    "            if result[\"id\"][\"value\"].replace(\"http://rdf.wwpdb.org/pdb/\", \"\") not in pdb:\n",
    "                pdb.append(result[\"id\"][\"value\"].replace(\"http://rdf.wwpdb.org/pdb/\", \"\"))\n",
    "\n",
    "    statements = []\n",
    "\n",
    "    # Instance of protein\n",
    "    statements.append(wdi_core.WDItemID(value=\"Q8054\", prop_nr=\"P31\", references=[copy.deepcopy(uniprot_reference)]))\n",
    "\n",
    "    # encoded by\n",
    "    geneitem = getGeneQid(geneid, ncbi_reference)\n",
    "    geneqid = geneitem.wd_item_id\n",
    "    statements.append(wdi_core.WDItemID(value=geneqid, prop_nr=\"P702\", references=[copy.deepcopy(ncbi_reference)]))\n",
    "\n",
    "    # found in taxon\n",
    "    geneJson = geneitem.get_wd_json_representation()\n",
    "    taxonQID = geneJson['claims'][\"P703\"][0][\"mainsnak\"][\"datavalue\"][\"value\"][\"id\"]\n",
    "    statements.append(wdi_core.WDItemID(taxonQID, prop_nr=\"P703\", references=[copy.deepcopy(ncbi_reference)]))\n",
    "\n",
    "    # exactMatch\n",
    "    statements.append(wdi_core.WDUrl(\"http://purl.uniprot.org/uniprot/\"+uniprotID, prop_nr=\"P2888\",  references=[copy.deepcopy(uniprot_reference)]))\n",
    "    \n",
    "    ## Identifier statements\n",
    "    # uniprot\n",
    "    statements.append(wdi_core.WDString(uniprotID, prop_nr=\"P352\", references=[copy.deepcopy(uniprot_reference)]))\n",
    "    # refseq\n",
    "    for id in refseq:\n",
    "        statements.append(wdi_core.WDString(id, prop_nr=\"P637\", references=[copy.deepcopy(uniprot_reference)]))\n",
    "\n",
    "    # pdb\n",
    "    for id in pdb:\n",
    "        statements.append(wdi_core.WDString(id, prop_nr=\"P638\", references=[copy.deepcopy(uniprot_reference)]))\n",
    "    taxonname = getTaxonItem(geneJson['claims'][\"P703\"][0][\"mainsnak\"][\"datavalue\"][\"value\"][\"id\"]).get_label(lang=\"en\")\n",
    "    protein_item = wdi_core.WDItemEngine(data=statements)\n",
    "    if protein_item.get_label(lang=\"en\") == \"\":\n",
    "        protein_item.set_label(protein_label, lang=\"en\")\n",
    "    if protein_item.get_description(lang=\"en\") == \"\":\n",
    "        protein_item.set_description(\"protein in \"+taxonname, lang=\"en\")\n",
    "    if protein_item.get_description(lang=\"de\") == \"\":\n",
    "        protein_item.set_description(\"Eiweiß in \"+taxonname, lang=\"de\")\n",
    "    if protein_item.get_description(lang=\"nl\") == \"\":\n",
    "        protein_item.set_description(\"eiwit in \"+taxonname, lang=\"nl\")\n",
    "    if protein_item.get_description(lang=\"es\") == \"\":\n",
    "        protein_item.set_description(\"proteína en \"+taxonname, lang=\"es\")\n",
    "    if protein_item.get_description(lang=\"it\") == \"\":\n",
    "        protein_item.set_description(\"Proteina in \" + taxonname, lang=\"it\")\n",
    "\n",
    "    print(protein_item.get_wd_json_representation())\n",
    "    protein_qid = protein_item.write(login)\n",
    "    print(protein_qid)\n",
    "    \n",
    "    ## add the newly create protein item to the gene item\n",
    "    encodes = [wdi_core.WDItemID(protein_qid, prop_nr=\"P688\", references=[copy.deepcopy(ncbi_reference)])]\n",
    "    geneitem = wdi_core.WDItemEngine(wd_item_id=geneqid, data=encodes)\n",
    "    return geneitem.write(login)\n",
    "\n",
    "def create_or_update_refseq_protein_item(geneid, refseqID):\n",
    "    statements = []\n",
    "    retrieved = datetime.now()\n",
    "    ncbi_reference = createNCBIGeneReference(hit[\"entrezgene\"], retrieved)\n",
    "    pdb = []\n",
    "    # Instance of protein\n",
    "    statements.append(wdi_core.WDItemID(value=\"Q8054\", prop_nr=\"P31\", references=[copy.deepcopy(ncbi_reference)]))\n",
    "\n",
    "    # encoded by\n",
    "    geneitem = getGeneQid(geneid, ncbi_reference)\n",
    "    geneqid = geneitem.wd_item_id\n",
    "    statements.append(wdi_core.WDItemID(value=geneqid, prop_nr=\"P702\", references=[copy.deepcopy(ncbi_reference)]))\n",
    "\n",
    "    # found in taxon\n",
    "    geneJson = geneitem.get_wd_json_representation()\n",
    "    taxonQID = geneJson['claims'][\"P703\"][0][\"mainsnak\"][\"datavalue\"][\"value\"][\"id\"]\n",
    "    statements.append(wdi_core.WDItemID(taxonQID, prop_nr=\"P703\", references=[copy.deepcopy(ncbi_reference)]))\n",
    "\n",
    "    # refseq\n",
    "    statements.append(wdi_core.WDString(refseqID, prop_nr=\"P637\", references=[copy.deepcopy(ncbi_reference)]))\n",
    "\n",
    "    handle = Entrez.efetch(id=geneinfo[\"refseq\"][\"protein\"], db='protein', rettype='gb', retmode='text')\n",
    "    record = SeqIO.read(handle, 'genbank')\n",
    "    for feature in record.features:\n",
    "        if feature.type.lower() == \"protein\":\n",
    "            print(feature.qualifiers['product'])\n",
    "            protein_label = feature.qualifiers['product'][0]\n",
    "    taxonname = getTaxonItem(geneJson['claims'][\"P703\"][0][\"mainsnak\"][\"datavalue\"][\"value\"][\"id\"]).get_label(lang=\"en\")\n",
    "\n",
    "    protein_item = wdi_core.WDItemEngine(data=statements)\n",
    "    if protein_item.get_label(lang=\"en\") == \"\":\n",
    "        protein_item.set_label(protein_label, lang=\"en\")\n",
    "    if protein_item.get_description(lang=\"en\") == \"\":\n",
    "        protein_item.set_description(\"protein in \" + taxonname, lang=\"en\")\n",
    "    if protein_item.get_description(lang=\"de\") == \"\":\n",
    "        protein_item.set_description(\"Eiweiß in \" + taxonname, lang=\"de\")\n",
    "    if protein_item.get_description(lang=\"nl\") == \"\":\n",
    "        protein_item.set_description(\"eiwit in \" + taxonname, lang=\"nl\")\n",
    "    if protein_item.get_description(lang=\"es\") == \"\":\n",
    "        protein_item.set_description(\"proteína en \" + taxonname, lang=\"es\")\n",
    "    if protein_item.get_description(lang=\"it\") == \"\":\n",
    "        protein_item.set_description(\"Proteina in \" + taxonname, lang=\"it\")\n",
    "\n",
    "    pprint.pprint(protein_item.get_wd_json_representation())\n",
    "    protein_qid = protein_item.write(login)\n",
    "    print(protein_qid)\n",
    "    \n",
    "    ## add the newly create protein item to the gene item\n",
    "    encodes = [wdi_core.WDItemID(protein_qid, prop_nr=\"P688\", references=[copy.deepcopy(ncbi_reference)])]\n",
    "    geneitem = wdi_core.WDItemEngine(wd_item_id=geneqid, data=encodes)\n",
    "    return geneitem.write(login)"
   ]
  },
  {
   "cell_type": "markdown",
   "metadata": {
    "colab_type": "text",
    "id": "8mJ7SpdR_pL4"
   },
   "source": [
    "## Protein run script"
   ]
  },
  {
   "cell_type": "code",
   "execution_count": null,
   "metadata": {
    "colab": {},
    "colab_type": "code",
    "id": "_HlFQ6fL_pL5"
   },
   "outputs": [],
   "source": [
    "# Obtain gene list from taxonid from mygene.info\n",
    "genelist = json.loads(requests.get(\"https://mygene.info/v3/query?q=*&species=\"+taxid).text)\n",
    "\n",
    "for hit in genelist[\"hits\"]:\n",
    "    print(hit[\"entrezgene\"])\n",
    "    geneinfo = json.loads(requests.get(\"http://mygene.info/v3/gene/\" + hit[\"entrezgene\"]).text)\n",
    "    # uniprot identifer\n",
    "    if \"uniprot\" in geneinfo.keys():\n",
    "        if \"Swiss-Prot\" in geneinfo[\"uniprot\"]:\n",
    "            if isinstance(geneinfo[\"uniprot\"][\"Swiss-Prot\"], list):\n",
    "                for uniprot in geneinfo[\"uniprot\"][\"Swiss-Prot\"]:\n",
    "                    print(uniprot +\": \"+create_or_update_uniprot_protein_item(hit[\"entrezgene\"], uniprot))\n",
    "            else:\n",
    "                print(geneinfo[\"uniprot\"][\"Swiss-Prot\"] +\": \"+create_or_update_uniprot_protein_item(hit[\"entrezgene\"], geneinfo[\"uniprot\"][\"Swiss-Prot\"]))\n",
    "    elif \"refseq\" in geneinfo.keys():\n",
    "        if \"protein\" in geneinfo[\"refseq\"].keys():\n",
    "            if isinstance(geneinfo[\"refseq\"][\"protein\"], list):\n",
    "                for refseqID in geneinfo[\"refseq\"][\"protein\"]:\n",
    "                    try:\n",
    "                       print(create_or_update_refseq_protein_item(hit[\"entrezgene\"], refseqID))\n",
    "                    except:\n",
    "                        pass\n",
    "            else:\n",
    "                try:\n",
    "                    print(create_or_update_refseq_protein_item(hit[\"entrezgene\"], geneinfo[\"refseq\"][\"protein\"]))\n",
    "                except:\n",
    "                    pass\n",
    "\n"
   ]
  },
  {
   "cell_type": "code",
   "execution_count": null,
   "metadata": {},
   "outputs": [],
   "source": []
  }
 ],
 "metadata": {
  "colab": {
   "collapsed_sections": [],
   "name": "VirusGeneBot.ipynb",
   "provenance": [],
   "toc_visible": true
  },
  "kernelspec": {
   "display_name": "Python 3",
   "language": "python",
   "name": "python3"
  },
  "language_info": {
   "codemirror_mode": {
    "name": "ipython",
    "version": 3
   },
   "file_extension": ".py",
   "mimetype": "text/x-python",
   "name": "python",
   "nbconvert_exporter": "python",
   "pygments_lexer": "ipython3",
   "version": "3.7.6"
  }
 },
 "nbformat": 4,
 "nbformat_minor": 4
}
