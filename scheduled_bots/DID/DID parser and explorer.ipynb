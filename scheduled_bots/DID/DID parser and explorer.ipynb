{
 "cells": [
  {
   "cell_type": "markdown",
   "metadata": {},
   "source": [
    "# Merck DID WDI example notebook\n",
    "The Merck DID non-proprietary data is licensed CC0. This is an initial exploration of the data for uploading into Wikidata"
   ]
  },
  {
   "cell_type": "markdown",
   "metadata": {},
   "source": [
    "## Import all necessary modules, data files, and paths"
   ]
  },
  {
   "cell_type": "code",
   "execution_count": 1,
   "metadata": {},
   "outputs": [],
   "source": [
    "from wikidataintegrator import wdi_core, wdi_login\n",
    "from wikidataintegrator.ref_handlers import update_retrieved_if_new_multiple_refs\n",
    "import pandas as pd\n",
    "from pandas import read_csv\n",
    "import requests\n",
    "from tqdm.notebook import trange, tqdm\n",
    "import ipywidgets \n",
    "import widgetsnbextension\n",
    "\n",
    "datasrc = 'https://static-content.springer.com/esm/art%3A10.1186%2Fs13326-016-0110-0/MediaObjects/13326_2016_110_MOESM1_ESM.xlsx'"
   ]
  },
  {
   "cell_type": "code",
   "execution_count": 2,
   "metadata": {},
   "outputs": [
    {
     "data": {
      "application/vnd.jupyter.widget-view+json": {
       "model_id": "07b3294a97f94c98883d7f7af4ac8c82",
       "version_major": 2,
       "version_minor": 0
      },
      "text/plain": [
       "HBox(children=(IntProgress(value=0, max=7), HTML(value='')))"
      ]
     },
     "metadata": {},
     "output_type": "display_data"
    },
    {
     "name": "stdout",
     "output_type": "stream",
     "text": [
      "\n",
      "function successfully loaded and tested\n"
     ]
    }
   ],
   "source": [
    "def check_wd(wd_property, searchlist):\n",
    "    items_in_wd = []\n",
    "    search_failures = []\n",
    "    i=0\n",
    "    for i in tqdm(range(len(search_list))):\n",
    "        each_item = search_list[i]\n",
    "        try:\n",
    "            sparqlQuery = \"SELECT * WHERE {?item wdt:\"+wd_property+\"\\\"\"+each_item+\"\\\"}\"\n",
    "            result = wdi_core.WDItemEngine.execute_sparql_query(sparqlQuery)\n",
    "            k=0\n",
    "            while k < len(result[\"results\"][\"bindings\"]): ## Take into account that there may be one to many mappings\n",
    "                subject_qid = result[\"results\"][\"bindings\"][k][\"item\"][\"value\"].replace(\"http://www.wikidata.org/entity/\", \"\")\n",
    "                tmpdict = {'item':each_item,'WDID':subject_qid}\n",
    "                items_in_wd.append(tmpdict)\n",
    "                k=k+1\n",
    "        except:\n",
    "            search_failures.append(each_item)\n",
    "        i=i+1\n",
    "    items_wd_df = pd.DataFrame(items_in_wd) \n",
    "    return(items_wd_df, search_failures)\n",
    "\n",
    "#### Unit Test\n",
    "search_list = ['C0016157','C0016004','C0021579','C0076425','C0025598','15307-86-5','1474034-05-3']\n",
    "wd_property = 'P2892' ##WD Property for UMLS CUI\n",
    "items_wd_df, search_failures = check_wd(wd_property, search_list)\n",
    "if len(items_wd_df)>0:\n",
    "    print('function successfully loaded and tested')"
   ]
  },
  {
   "cell_type": "code",
   "execution_count": 3,
   "metadata": {},
   "outputs": [],
   "source": [
    "did_raw = pd.read_excel(datasrc, header=[0, 1, 2], sheetname='DID')\n",
    "did_raw.reset_index(inplace=True)\n",
    "did_raw.columns = did_raw.columns.map(lambda h: ' '.join(h).replace(' ', '_'))"
   ]
  },
  {
   "cell_type": "code",
   "execution_count": 4,
   "metadata": {},
   "outputs": [],
   "source": [
    "did_raw.rename(columns={'index__':'DID_ID','source_Unnamed:_0_level_1_source_name':'source_name',\n",
    "                       'source_Unnamed:_1_level_1_source_record_ID_or_other_metadata':'source_record_id',\n",
    "                       'drug_Unnamed:_2_level_1_raw_drug_name':'raw_drug_name',\n",
    "                       'drug_CAS#_Preferred_CAS#':'drug_cas#', 'drug_CAS#_PT':'drug_cas_pt',\n",
    "                       'drug_CAS#_source':'drug_cas_source', 'drug_CAS#_match_type':'drug_cas_match',\n",
    "                       'drug_ChEBI_PT_(\"name\")':'drug_ChEBI_PT_name', 'drug_ChEBI_ChEBI_ID#':'drug_ChEBI_ID', \n",
    "                       'drug_ChEBI_PT_match_type':'drug_ChEBI_PT_match', \n",
    "                       'drug_ChEBI_synonym_if_used_for_match':'drug_ChEBI_match_syn', \n",
    "                       'drug_ChEBI_synonym_match_type':'drug_ChEBI_synonym_match', \n",
    "                       'drug_ChEBI_match_aid_if_any':'drug_ChEBI_match_aid', \n",
    "                       'drug_CHEMID+_PT_(DisplayName[-]_>_DisplayName)':'drug_CHEMID_PT_DisplayName', \n",
    "                       'drug_CHEMID+_DisplayName_if_diff':'drug_CHEMID_DisplayName', \n",
    "                       'drug_CHEMID+_CAS#_or_ID':'drug_CHEMID_ID', 'drug_CHEMID+_PT_match_type':'drug_CHEMID_PT_match', \n",
    "                       'drug_CHEMID+_synonym_if_used_for_match':'drug_CHEMID_match_syn', \n",
    "                       'drug_CHEMID+_synonym_match_type':'drug_CHEMID_synonym_match', \n",
    "                       'drug_CHEMID+_match_aid_if_any':'drug_CHEMID_match_aid', \n",
    "                       'drug_CTD_PT_(ChemicalName)':'drug_CTD_PT_Name', 'drug_CTD_MESH_ID':'drug_CTD_MESH', \n",
    "                       'drug_CTD_CAS#':'drug_CTD_CAS', 'drug_CTD_PT_match_type':'drug_CTD_PT_match', \n",
    "                       'drug_CTD_synonym_if_used_for_match':'drug_CTD_match_syn', \n",
    "                       'drug_CTD_synonym_match_type':'drug_CTD_synonym_match', \n",
    "                       'drug_CTD_match_aid_if_any':'drug_CTD_match_aid', \n",
    "                       'drug_UMLS_PT_match_type':'drug_UMLS_PT_match', \n",
    "                       'drug_UMLS_synonym_if_used_for_match':'drug_UMLS_match_syn', \n",
    "                       'drug_UMLS_synonym_match_type':'drug_UMLS_synonym_match', \n",
    "                       'drug_UMLS_match_aid_if_any':'drug_UMLS_match_aid', \n",
    "                       'drug_UMLS_semantic_type_1':'drug_UMLS_sem_1', 'drug_UMLS_semantic_type_2':'drug_UMLS_sem_2', \n",
    "                       'drug_UMLS_semantic_type_3':'drug_UMLS_sem_3', 'drug_UMLS_semantic_type_4':'drug_UMLS_sem_4', \n",
    "                       'indication_subtype_(predicate)_Unnamed:_38_level_1_raw':'predicate_raw',\n",
    "                       'indication_subtype_(predicate)_Unnamed:_39_level_1_aggregate_1':'predicate_aggregate', \n",
    "                       'indication_subtype_(predicate)_Unnamed:_40_level_1_string_search_[temp]':'predicate_string', \n",
    "                       'indication_raw_value_entire_value/string':'indication_raw_string',\n",
    "                       'indication_raw_value_target/substring':'indication_target_substring', \n",
    "                       'indication_raw_value_target=entire_string?':'indication_entire_string?', \n",
    "                       'indication_UMLS_phenotype_entry_term_match_type':'umls_phen_term_match', \n",
    "                       'indication_UMLS_phenotype_entry_term':'umls_phen_term', \n",
    "                       'indication_UMLS_phenotype_PT':'umls_phen_PT', \n",
    "                       'indication_UMLS_phenotype_CUI':'umls_phen_cui', \n",
    "                       'indication_UMLS_phenotype_entry_term_type':'umls_phen_type', \n",
    "                       'indication_UMLS_phenotype_phenotype?':'umls_phen_phen', \n",
    "                       'indication_UMLS_phenotype_semantic_type_1':'umls_phen_sem_1', \n",
    "                       'indication_UMLS_phenotype_semantic_type_2':'umls_phen_sem_2', \n",
    "                       'indication_UMLS_phenotype_semantic_type_3':'umls_phen_sem_3', \n",
    "                       'indication_UMLS_phenotype_semantic_type_4':'umls_phen_sem_4', \n",
    "                       'indication_UMLS_initial,_if_different_entry_term_match_type':'umls_init_term_match', \n",
    "                       'indication_UMLS_initial,_if_different_entry_term':'umls_init_term', \n",
    "                       'indication_UMLS_initial,_if_different_PT':'umls_init_PT', \n",
    "                       'indication_UMLS_initial,_if_different_CUI':'umls_init_cui', \n",
    "                       'indication_UMLS_initial,_if_different_entry_term_type':'umls_init_type', \n",
    "                       'indication_UMLS_initial,_if_different_semantic_type_1':'umls_init_sem_1', \n",
    "                       'indication_UMLS_initial,_if_different_semantic_type_2':'umls_init_sem_2', \n",
    "                       'indication_UMLS_initial,_if_different_semantic_type_3':'umls_init_sem_3', \n",
    "                       'indication_UMLS_initial,_if_different_semantic_type_4':'umls_init_sem_4'}, inplace=True)"
   ]
  },
  {
   "cell_type": "markdown",
   "metadata": {},
   "source": [
    "### Clean up the results for items with greatest import potential\n",
    "1. Remove entries that don't have any predicates\n",
    "2. Keep only entries where the drug mapping was 'exact' or a synonym for the drug was considered 'exact'\n",
    "3. Keep only entries where the phenotype mapping is exact\n",
    "2. Remove entries where there is a predicate, but the predicate is 'marker or mechanism' (not available in WD)\n",
    "3. Subset entries by availability of more specific identifiers (CAS RNs have one to many mappings in Wikidata)"
   ]
  },
  {
   "cell_type": "code",
   "execution_count": 5,
   "metadata": {},
   "outputs": [
    {
     "name": "stdout",
     "output_type": "stream",
     "text": [
      "40287\n",
      "59038\n"
     ]
    }
   ],
   "source": [
    "## Filter entries down\n",
    "clean_complete_data = did_raw.loc[(did_raw['predicate_raw'].notnull()) & \n",
    "                                  ((did_raw['drug_UMLS_PT_match']=='exact')|(did_raw['drug_UMLS_synonym_match']=='exact')) &\n",
    "                                  ((did_raw['umls_phen_term_match'].str.contains('exact'))|(did_raw['umls_init_term_match'].str.contains('exact')))]\n",
    "\n",
    "clean_complete_less_markers = clean_complete_data[(clean_complete_data['predicate_raw']!='marker/mechanism') &\n",
    "                                                  (clean_complete_data['umls_phen_phen']=='Y')]\n",
    "\n",
    "#print(clean_complete_less_markers[['drug_UMLS_PT','drug_UMLS_CUI','predicate_raw','predicate_aggregate',\n",
    "#                                   'umls_phen_PT','umls_phen_term_match','umls_phen_cui','umls_init_term_match']].head(n=2))\n",
    "\n",
    "## Subset to entries with more specific identifiers\n",
    "clean_complete_chebi = clean_complete_less_markers.loc[clean_complete_less_markers['drug_ChEBI_ID'].notnull()]\n",
    "print(len(clean_complete_chebi))\n",
    "print(len(clean_complete_less_markers))"
   ]
  },
  {
   "cell_type": "markdown",
   "metadata": {
    "collapsed": true
   },
   "source": [
    "## Check for appropriate entities in Wikidata"
   ]
  },
  {
   "cell_type": "code",
   "execution_count": 12,
   "metadata": {},
   "outputs": [
    {
     "data": {
      "application/vnd.jupyter.widget-view+json": {
       "model_id": "23540ddbcc5c4c3291a25c7fc730f6b4",
       "version_major": 2,
       "version_minor": 0
      },
      "text/plain": [
       "HBox(children=(IntProgress(value=0, max=12044), HTML(value='')))"
      ]
     },
     "metadata": {},
     "output_type": "display_data"
    },
    {
     "name": "stdout",
     "output_type": "stream",
     "text": [
      "\n"
     ]
    }
   ],
   "source": [
    "## Check UMLS drug cui coverage in Wikidata\n",
    "drug_umls_cuis_clean = clean_complete_less_markers['drug_UMLS_CUI'].unique().tolist()\n",
    "search_list = drug_umls_cuis_clean\n",
    "wd_property = 'P2892' ##WD Property for UMLS CUI\n",
    "drugs_wd_df_cui, search_failures = check_wd(wd_property, search_list)\n",
    "drugs_wd_df_cui.rename(columns={'item':'drug'},inplace=True)\n",
    "#drugs_wd_df_cui.to_csv('results/drugs_by_cui_wd_df.tsv',sep='\\t',header=True)"
   ]
  },
  {
   "cell_type": "code",
   "execution_count": 13,
   "metadata": {},
   "outputs": [
    {
     "data": {
      "application/vnd.jupyter.widget-view+json": {
       "model_id": "866ad9ba6fc242fe89265fa3f4ff7af9",
       "version_major": 2,
       "version_minor": 0
      },
      "text/plain": [
       "HBox(children=(IntProgress(value=0, max=9664), HTML(value='')))"
      ]
     },
     "metadata": {},
     "output_type": "display_data"
    },
    {
     "name": "stdout",
     "output_type": "stream",
     "text": [
      "\n"
     ]
    }
   ],
   "source": [
    "## Check CAS RN drug coverage in Wikidata\n",
    "drug_cas_clean = clean_complete_less_markers['drug_cas#'].unique().tolist()\n",
    "wd_property = 'P231' ##WD Property for CAS number\n",
    "search_list = drug_cas_clean\n",
    "drugs_wd_df_cas, cas_search_failures = check_wd(wd_property, search_list)\n",
    "drugs_wd_df_cas.rename(columns={'item':'drug'},inplace=True)\n",
    "#drugs_wd_df_cas.to_csv('results/results/drugs_by_cas_wd_df.tsv.tsv',sep='\\t',header=True)"
   ]
  },
  {
   "cell_type": "code",
   "execution_count": 14,
   "metadata": {},
   "outputs": [
    {
     "data": {
      "application/vnd.jupyter.widget-view+json": {
       "model_id": "2cea1ab810544ef69bb0581a4fc7ffd4",
       "version_major": 2,
       "version_minor": 0
      },
      "text/plain": [
       "HBox(children=(IntProgress(value=0, max=4729), HTML(value='')))"
      ]
     },
     "metadata": {},
     "output_type": "display_data"
    },
    {
     "name": "stdout",
     "output_type": "stream",
     "text": [
      "\n"
     ]
    }
   ],
   "source": [
    "## Check for ChEBI drug coverage in Wikidata\n",
    "chebi_list = clean_complete_chebi['drug_ChEBI_ID'].astype(int).astype(str).unique().tolist()\n",
    "wd_property = 'P683' ##WD Property for CHEBI\n",
    "search_list = chebi_list\n",
    "drugs_wd_df_chebi, chebi_search_failures = check_wd(wd_property, search_list)\n",
    "drugs_wd_df_chebi.rename(columns={'item':'drug'},inplace=True)\n",
    "#drugs_wd_df_cui.to_csv('results/drugs_by_chebi_wd_df.tsv',sep='\\t',header=True)"
   ]
  },
  {
   "cell_type": "code",
   "execution_count": 15,
   "metadata": {},
   "outputs": [
    {
     "data": {
      "application/vnd.jupyter.widget-view+json": {
       "model_id": "58e4f199c9024eb9b5a4c3bc6c19c4b2",
       "version_major": 2,
       "version_minor": 0
      },
      "text/plain": [
       "HBox(children=(IntProgress(value=0, max=2920), HTML(value='')))"
      ]
     },
     "metadata": {},
     "output_type": "display_data"
    },
    {
     "name": "stdout",
     "output_type": "stream",
     "text": [
      "\n"
     ]
    }
   ],
   "source": [
    "## Check for Phenotype CUI coverage in Wikidata\n",
    "phen_umls_cuis_clean = clean_complete_less_markers['umls_phen_cui'].unique().tolist()\n",
    "wd_property = 'P2892' ##WD Property for UMLS CUI\n",
    "search_list = phen_umls_cuis_clean\n",
    "phen_wd_df_cui, search_failures = check_wd(wd_property, search_list)\n",
    "phen_wd_df_cui.rename(columns={'item':'phen'},inplace=True)\n",
    "#phen_wd_df_cui.to_csv('results/phen_by_cui_wd_df.tsv',sep='\\t',header=True)"
   ]
  },
  {
   "cell_type": "markdown",
   "metadata": {},
   "source": [
    "## Summary of initial data investigation"
   ]
  },
  {
   "cell_type": "code",
   "execution_count": 6,
   "metadata": {},
   "outputs": [],
   "source": [
    "drugs_wd_df_cas = read_csv('results/drugs_by_cas_wd_df.tsv',delimiter='\\t',header=0)\n",
    "drugs_wd_df_chebi = read_csv('results/drugs_by_chebi_wd_df.tsv',delimiter='\\t',header=0)\n",
    "drugs_wd_df_cui = read_csv('results/drugs_by_cui_wd_df.tsv',delimiter='\\t',header=0)\n",
    "phen_wd_df_cui = read_csv('results/phen_by_cui_wd_df.tsv',delimiter='\\t',header=0)\n",
    "\n",
    "drugs_wd_df_cas.drop('Unnamed: 0',axis=1,inplace=True)\n",
    "drugs_wd_df_chebi.drop('Unnamed: 0',axis=1,inplace=True)\n",
    "drugs_wd_df_cui.drop('Unnamed: 0',axis=1,inplace=True)\n",
    "phen_wd_df_cui.drop('Unnamed: 0',axis=1,inplace=True)"
   ]
  },
  {
   "cell_type": "code",
   "execution_count": 7,
   "metadata": {},
   "outputs": [
    {
     "name": "stdout",
     "output_type": "stream",
     "text": [
      "number of DID_ID:  191111\n",
      "number of unique raw_drug_name:  34137\n",
      "number of unique drug umls_preferred_term: 21807\n",
      "number of raw predicates (not unique, not null): 140181\n",
      "number of unique umls preferred indication term: 6111\n",
      "number of DID entries with a predicate value: 111618\n",
      "number of DID entries where the predicate is a \"marker/mechanism\": 51282\n",
      "number of entries with predicate values that aren't 'marker/mechanism': 59038\n",
      "number of WD entities pulled by CAS number from DIDs with predicates: 9360\n",
      "number of WD entities pulled by UMLS \"drug\" CUIS from DIDs with predicates: 2077\n",
      "number of WD entities pulled by drug ChEBIs from DIDs with predicates: 4305\n",
      "number of WD entities pulled by UMLS \"phenotype\" CUIS from DIDs with predicates:  1717\n"
     ]
    }
   ],
   "source": [
    "#### Summary\n",
    "#print(did_raw.nunique()) ## The number of unique values for each column\n",
    "print('number of DID_ID: ',len(did_raw['DID_ID'].unique()))\n",
    "print('number of unique raw_drug_name: ',len(did_raw['raw_drug_name'].unique()))\n",
    "print('number of unique drug umls_preferred_term:', len(did_raw['drug_UMLS_PT'].unique()))\n",
    "print('number of raw predicates (not unique, not null):', len(did_raw.loc[did_raw['predicate_raw'].notnull()]))\n",
    "print('number of unique umls preferred indication term:', len(did_raw['umls_phen_PT'].unique()))\n",
    "print('number of DID entries with a predicate value:', len(clean_complete_data))\n",
    "print('number of DID entries where the predicate is a \"marker/mechanism\":',len(clean_complete_data[clean_complete_data['predicate_raw']=='marker/mechanism']))\n",
    "print(\"number of entries with predicate values that aren't 'marker/mechanism':\",len(clean_complete_less_markers))\n",
    "print('number of WD entities pulled by CAS number from DIDs with predicates:', len(drugs_wd_df_cas))\n",
    "print('number of WD entities pulled by UMLS \"drug\" CUIS from DIDs with predicates:', len(drugs_wd_df_cui))\n",
    "print('number of WD entities pulled by drug ChEBIs from DIDs with predicates:', len(drugs_wd_df_chebi))\n",
    "print('number of WD entities pulled by UMLS \"phenotype\" CUIS from DIDs with predicates: ', len(phen_wd_df_cui))"
   ]
  },
  {
   "cell_type": "markdown",
   "metadata": {},
   "source": [
    "### Check one-to-many and many-to-one mapping issues with for drugs"
   ]
  },
  {
   "cell_type": "code",
   "execution_count": 8,
   "metadata": {},
   "outputs": [
    {
     "name": "stdout",
     "output_type": "stream",
     "text": [
      "1  drug WDIDs map to at least 2 CAS numbers.\n",
      "70  drug CAS numbers map to at least 2 WDID.\n",
      "0  drug WDIDs map to at least 2 CUIs.\n",
      "3  drug CUIs map to at least 2 WDID.\n",
      "4  drug WDIDs map to at least 2 CUIs.\n",
      "4  drug Chebis map to at least 2 WDIDs.\n",
      "42  phenotype WDIDs map to at least 2 UMLS CUIs.\n",
      "119  phenotype WDIDs map to at least 2 UMLS CUIs.\n"
     ]
    }
   ],
   "source": [
    "chk_wdid = drugs_wd_df_cas.groupby('WDID').size().reset_index(name='count')\n",
    "chk_wdid_cas = drugs_wd_df_cas.groupby('drug').size().reset_index(name='count')\n",
    "\n",
    "chk_cui_wdid = drugs_wd_df_cui.groupby('WDID').size().reset_index(name='count')\n",
    "chk_cui_cui = drugs_wd_df_cui.groupby('drug').size().reset_index(name='count')\n",
    "\n",
    "chk_chebi_wdid = drugs_wd_df_chebi.groupby('WDID').size().reset_index(name='count')\n",
    "chk_chebi_chebi = drugs_wd_df_chebi.groupby('drug').size().reset_index(name='count')\n",
    "\n",
    "chk_wdid_phen = phen_wd_df_cui.groupby('WDID').size().reset_index(name='count')\n",
    "chk_wdid_phen_cui = phen_wd_df_cui.groupby('phen').size().reset_index(name='count')\n",
    "\n",
    "print(len(chk_wdid.loc[chk_wdid['count']>1]),' drug WDIDs map to at least 2 CAS numbers.')\n",
    "print(len(chk_wdid_cas.loc[chk_wdid_cas['count']>1]),' drug CAS numbers map to at least 2 WDID.')\n",
    "\n",
    "print(len(chk_cui_wdid.loc[chk_cui_wdid['count']>1]),' drug WDIDs map to at least 2 CUIs.')\n",
    "print(len(chk_cui_cui.loc[chk_cui_cui['count']>1]),' drug CUIs map to at least 2 WDID.')\n",
    "\n",
    "print(len(chk_chebi_wdid.loc[chk_chebi_wdid['count']>1]),' drug WDIDs map to at least 2 CUIs.')\n",
    "print(len(chk_chebi_chebi.loc[chk_chebi_chebi['count']>1]),' drug Chebis map to at least 2 WDIDs.')\n",
    "\n",
    "print(len(chk_wdid_phen.loc[chk_wdid_phen['count']>1]),' phenotype WDIDs map to at least 2 UMLS CUIs.')\n",
    "print(len(chk_wdid_phen_cui.loc[chk_wdid_phen_cui['count']>1]),' phenotype WDIDs map to at least 2 UMLS CUIs.')"
   ]
  },
  {
   "cell_type": "markdown",
   "metadata": {},
   "source": [
    "### Filter out entries with drugs/phenotypes that don't map to a Wikidata entry or have one-to-many mapping issues"
   ]
  },
  {
   "cell_type": "code",
   "execution_count": 9,
   "metadata": {},
   "outputs": [],
   "source": [
    "multiple_mapping_issues_wdid = set(chk_wdid['WDID'].loc[chk_wdid['count']>1].unique().tolist()+\n",
    "                                   chk_cui_wdid['WDID'].loc[chk_cui_wdid['count']>1].unique().tolist()+\n",
    "                                   chk_wdid_phen['WDID'].loc[chk_wdid_phen['count']>1].unique().tolist()+\n",
    "                                   chk_chebi_wdid['WDID'].loc[chk_chebi_wdid['count']>1].unique().tolist())\n",
    "\n",
    "multiple_mapping_issues_cas = set(chk_wdid_cas['drug'].loc[chk_wdid_cas['count']>1].unique().tolist())\n",
    "multiple_mapping_issues_chebi = set(chk_chebi_chebi['drug'].loc[chk_chebi_chebi['count']>1].unique().tolist())\n",
    "multiple_mapping_issues_cui = set(chk_cui_cui['drug'].loc[chk_cui_cui['count']>1].unique().tolist()+\n",
    "                                   chk_wdid_phen_cui['phen'].loc[chk_wdid_phen_cui['count']>1].unique().tolist())\n",
    "\n",
    "cas_clean = drugs_wd_df_cas.loc[(~drugs_wd_df_cas['WDID'].isin(multiple_mapping_issues_wdid))&\n",
    "                                (~drugs_wd_df_cas['drug'].isin(multiple_mapping_issues_cas))].copy()\n",
    "chebi_clean = drugs_wd_df_chebi.loc[(~drugs_wd_df_chebi['WDID'].isin(multiple_mapping_issues_wdid))&\n",
    "                                    (~drugs_wd_df_chebi['drug'].isin(multiple_mapping_issues_chebi))].copy()\n",
    "cui_drug_clean = drugs_wd_df_cui.loc[(~drugs_wd_df_cui['WDID'].isin(multiple_mapping_issues_wdid))&\n",
    "                                      (~drugs_wd_df_cui['drug'].isin(multiple_mapping_issues_cui))].copy()\n",
    "cui_phen_clean = phen_wd_df_cui.loc[(~phen_wd_df_cui['WDID'].isin(multiple_mapping_issues_wdid))&\n",
    "                                      (~phen_wd_df_cui['phen'].isin(multiple_mapping_issues_cui))].copy()"
   ]
  },
  {
   "cell_type": "markdown",
   "metadata": {},
   "source": [
    "### Subset the data to just items which have Wikidata entities and one-to-one mappings"
   ]
  },
  {
   "cell_type": "code",
   "execution_count": 10,
   "metadata": {},
   "outputs": [
    {
     "name": "stdout",
     "output_type": "stream",
     "text": [
      "24625\n",
      "                      raw_drug_name source_name drug_UMLS_CUI drug_ChEBI_ID  \\\n",
      "7    thiazolidine-4-carboxylic acid     MeSH_PA      C0076425         64564   \n",
      "10  1-hexylcarbamoyl-5-fluorouracil     MeSH_PA      C0044401           NaN   \n",
      "\n",
      "     drug_cas# predicate_raw predicate_aggregate predicate_string  \\\n",
      "7     444-27-9          anti                 NaN              NaN   \n",
      "10  61422-45-5          anti                 NaN              NaN   \n",
      "\n",
      "    indication_raw_string umls_phen_cui         umls_phen_PT drug_cas_wdid  \\\n",
      "7   Antineoplastic Agents      C0006826  Malignant Neoplasms     Q23637400   \n",
      "10  Antineoplastic Agents      C0006826  Malignant Neoplasms      Q5043732   \n",
      "\n",
      "   drug_chebi_wdid drug_cui_wdid phen_cui_wdid  \n",
      "7        Q23637400           NaN        Q12078  \n",
      "10             NaN           NaN        Q12078  \n"
     ]
    }
   ],
   "source": [
    "tmp_slice = clean_complete_less_markers[['raw_drug_name','source_name','drug_UMLS_CUI','drug_ChEBI_ID','drug_cas#',\n",
    "                                         'predicate_raw','predicate_aggregate','predicate_string',\n",
    "                                         'indication_raw_string','umls_phen_cui','umls_phen_PT']]\n",
    "\n",
    "cas_clean.rename(columns={'drug':'drug_cas#','WDID':'drug_cas_wdid'}, inplace=True)\n",
    "chebi_clean.rename(columns={'drug':'drug_ChEBI_ID','WDID':'drug_chebi_wdid'}, inplace=True)\n",
    "cui_drug_clean.rename(columns={'drug':'drug_UMLS_CUI','WDID':'drug_cui_wdid'}, inplace=True)\n",
    "cui_phen_clean.rename(columns={'phen':'umls_phen_cui','WDID':'phen_cui_wdid'}, inplace=True)\n",
    "\n",
    "cas_merged = tmp_slice.merge(cas_clean, on='drug_cas#', how='left')\n",
    "chebi_merged = cas_merged.merge(chebi_clean, on='drug_ChEBI_ID', how='left')\n",
    "drug_cui_merged = chebi_merged.merge(cui_drug_clean, on='drug_UMLS_CUI', how='left')\n",
    "phen_merge = drug_cui_merged.merge(cui_phen_clean, on='umls_phen_cui', how='left')\n",
    "\n",
    "potential_data_to_import = phen_merge.loc[(phen_merge['phen_cui_wdid'].notnull()) & \n",
    "                                         ((phen_merge['drug_cas_wdid'].notnull()) | \n",
    "                                          (phen_merge['drug_chebi_wdid'].notnull()) | \n",
    "                                          (phen_merge['drug_cui_wdid'].notnull()))]\n",
    "print(len(potential_data_to_import))\n",
    "print(potential_data_to_import.head(n=2))"
   ]
  },
  {
   "cell_type": "markdown",
   "metadata": {},
   "source": [
    "## Further subset the data to entries to ensure strict mapping to drug entities\n",
    "1. Determine number of entries where only a single identifier mapped\n",
    "2. Determine number of entries where multiple drug identifiers pulled different WDIDs for the same drug\n",
    "3. Subset the data for entries where a drug mapping was verified by mapping via at least 2 types of identifiers\n",
    "4. Subset the data for entries where a drug mapping was verified by mapping via at least 3 types of identifiers"
   ]
  },
  {
   "cell_type": "code",
   "execution_count": 11,
   "metadata": {},
   "outputs": [
    {
     "name": "stdout",
     "output_type": "stream",
     "text": [
      "Potential DID entries for import with only a single drug WDID mapping: 1058\n",
      "Potential DID entries for import with conflicting WDID mappings: 926\n",
      "Potential DID entries for import with two or more WDID mappings: 17855\n",
      "Potential DID entries for import with three or more WDID mappings: 11091\n"
     ]
    }
   ],
   "source": [
    "## Single identifiers mapped\n",
    "drug_wdid_single = potential_data_to_import.loc[(potential_data_to_import['drug_cas_wdid'].isnull() & \n",
    "                                                 potential_data_to_import['drug_chebi_wdid'].isnull()&\n",
    "                                                 potential_data_to_import['drug_cas_wdid'].notnull())|\n",
    "                                                (potential_data_to_import['drug_cas_wdid'].isnull() & \n",
    "                                                 potential_data_to_import['drug_chebi_wdid'].notnull()&\n",
    "                                                 potential_data_to_import['drug_cas_wdid'].isnull())|\n",
    "                                                (potential_data_to_import['drug_cas_wdid'].notnull() & \n",
    "                                                 potential_data_to_import['drug_chebi_wdid'].isnull()&\n",
    "                                                 potential_data_to_import['drug_cas_wdid'].isnull())]\n",
    "\n",
    "print('Potential DID entries for import with only a single drug WDID mapping:',len(drug_wdid_single))\n",
    "\n",
    "\n",
    "## Identify data where the WDID mappings are contrary\n",
    "drug_wdid_conflicting = potential_data_to_import.loc[((potential_data_to_import['drug_cas_wdid']!=potential_data_to_import['drug_chebi_wdid'])&\n",
    "                                               (potential_data_to_import['drug_cas_wdid'].notnull())&(potential_data_to_import['drug_chebi_wdid'].notnull()))|\n",
    "                                               ((potential_data_to_import['drug_cas_wdid']!=potential_data_to_import['drug_cui_wdid'])&\n",
    "                                               (potential_data_to_import['drug_cas_wdid'].notnull())&(potential_data_to_import['drug_cui_wdid'].notnull()))|\n",
    "                                               ((potential_data_to_import['drug_cui_wdid']!=potential_data_to_import['drug_chebi_wdid'])&\n",
    "                                               (potential_data_to_import['drug_cui_wdid'].notnull())&(potential_data_to_import['drug_chebi_wdid'].notnull()))]\n",
    "print('Potential DID entries for import with conflicting WDID mappings:',len(drug_wdid_conflicting))\n",
    "\n",
    "\n",
    "## Further subset the data to entries where the drug is verified by mapping to the same WDID via two different identifiers\n",
    "drug_wdid_strict = potential_data_to_import.loc[((potential_data_to_import['drug_cas_wdid']==potential_data_to_import['drug_chebi_wdid'])&\n",
    "                                               potential_data_to_import['drug_cas_wdid'].notnull())|\n",
    "                                               ((potential_data_to_import['drug_cas_wdid']==potential_data_to_import['drug_cui_wdid'])&\n",
    "                                               potential_data_to_import['drug_cas_wdid'].notnull())|\n",
    "                                               ((potential_data_to_import['drug_cui_wdid']==potential_data_to_import['drug_chebi_wdid'])&\n",
    "                                               potential_data_to_import['drug_cui_wdid'].notnull())]\n",
    "print('Potential DID entries for import with two or more WDID mappings:',len(drug_wdid_strict))\n",
    "\n",
    "## Further subset the data to entries where the drug is verified by mapping to the same WDID via three different identifiers\n",
    "drug_wdid_strictest = potential_data_to_import.loc[(potential_data_to_import['drug_cas_wdid']==potential_data_to_import['drug_chebi_wdid'])&\n",
    "                                                 potential_data_to_import['drug_cas_wdid'].notnull()&\n",
    "                                                (potential_data_to_import['drug_cas_wdid']==potential_data_to_import['drug_cui_wdid'])]\n",
    "\n",
    "print('Potential DID entries for import with three or more WDID mappings:',len(drug_wdid_strictest))\n",
    "#print(drug_wdid_strictest.head(n=2))\n"
   ]
  },
  {
   "cell_type": "markdown",
   "metadata": {},
   "source": [
    "# Investigate the predicates for mapping to Wikidata properties"
   ]
  },
  {
   "cell_type": "code",
   "execution_count": 12,
   "metadata": {},
   "outputs": [
    {
     "name": "stdout",
     "output_type": "stream",
     "text": [
      "    source_name                    predicate_raw  counts\n",
      "0           CTD                      therapeutic    6088\n",
      "100       NDFRT                        may_treat    1574\n",
      "1           CTD  therapeutic ;; marker/mechanism    1305\n",
      "87      MeSH_PA                             anti     578\n",
      "2         ChEBI                             anti     383\n",
      "112     USAN_TC                             anti     174\n",
      "127     WHO_ATC                             anti     116\n",
      "103         PDR                             anti     108\n",
      "99        NDFRT                may_prevent&treat      74\n",
      "136      WHO_DD                             anti      66\n",
      "98        NDFRT                      may_prevent      65\n",
      "82     DrugBank                        treatment      51\n",
      "122     USAN_TC                        treatment      34\n",
      "3         ChEBI                           causes      30\n",
      "88      MeSH_PA                           causes      20\n",
      "145    evoc_ATC                             anti      19\n",
      "91      MeSH_PA                             hypo      16\n",
      "129     WHO_ATC                              for      16\n",
      "130     WHO_ATC                        relaxants      12\n",
      "126     WHO_ATC                          against      10\n"
     ]
    }
   ],
   "source": [
    "base_dataset = drug_wdid_strictest\n",
    "\n",
    "predicates = base_dataset.groupby(['source_name','predicate_raw']).size().reset_index(name='counts')\n",
    "predicates.sort_values('counts',ascending=False,inplace=True)\n",
    "#predicates.to_csv('results/raw_predicates_less_markers.tsv',sep='\\t',header=True)\n",
    "print(predicates.loc[predicates['counts']>9].head(n=20))"
   ]
  },
  {
   "cell_type": "code",
   "execution_count": 13,
   "metadata": {},
   "outputs": [
    {
     "name": "stdout",
     "output_type": "stream",
     "text": [
      "  source_name predicate_aggregate  counts\n",
      "4    DrugBank                adju      41\n",
      "1    DailyMed                adju      18\n",
      "6     MeSH_PA            inhibits       7\n",
      "0       ChEBI            inhibits       5\n",
      "8     USAN_TC            inhibits       5\n",
      "2    DailyMed              concom       1\n",
      "3    DailyMed             history       1\n",
      "5    DrugBank              concom       1\n",
      "7         PDR                adju       1\n",
      "9     USAN_TC              treats       1\n"
     ]
    }
   ],
   "source": [
    "predicates_aggregate = base_dataset.groupby(['source_name','predicate_aggregate']).size().reset_index(name='counts')\n",
    "predicates_aggregate.sort_values('counts',ascending=False,inplace=True)\n",
    "#predicates_aggregate.to_csv('results/aggregate_predicates_less_markers.tsv',sep='\\t',header=True)\n",
    "print(predicates_aggregate)"
   ]
  },
  {
   "cell_type": "code",
   "execution_count": 14,
   "metadata": {},
   "outputs": [
    {
     "name": "stdout",
     "output_type": "stream",
     "text": [
      "   source_name predicate_string  counts\n",
      "75    DrugBank             1057      23\n",
      "32    DrugBank                9       8\n",
      "76     MeSH_PA       Inhibitors       7\n",
      "45    DrugBank               59       7\n",
      "36    DrugBank               15       7\n"
     ]
    }
   ],
   "source": [
    "predicates_string = base_dataset.groupby(['source_name','predicate_string']).size().reset_index(name='counts')\n",
    "predicates_string.sort_values('counts',ascending=False,inplace=True)\n",
    "print(predicates_string.head(n=5))"
   ]
  },
  {
   "cell_type": "code",
   "execution_count": 15,
   "metadata": {},
   "outputs": [
    {
     "name": "stdout",
     "output_type": "stream",
     "text": [
      "     raw_drug_name predicate_aggregate    indication_raw_string  \\\n",
      "6449    amprenavir            inhibits   HIV protease inhibitor   \n",
      "6456    amprenavir            inhibits  HIV Protease Inhibitors   \n",
      "\n",
      "        umls_phen_PT  \n",
      "6449  Hiv Infections  \n",
      "6456  Hiv Infections  \n",
      "            raw_drug_name predicate_raw predicate_aggregate  \\\n",
      "30023  3-keto-desogestrel   therapeutic                 NaN   \n",
      "30117     4-Aminopyridine   therapeutic                 NaN   \n",
      "30120     4-Aminopyridine   therapeutic                 NaN   \n",
      "30121     4-Aminopyridine   therapeutic                 NaN   \n",
      "30538            abacavir   therapeutic                 NaN   \n",
      "\n",
      "      indication_raw_string        umls_phen_PT  \n",
      "30023          Dysmenorrhea        Dysmenorrhea  \n",
      "30117  Arrhythmias, Cardiac  Cardiac Arrhythmia  \n",
      "30120           Hypotension         Hypotension  \n",
      "30121    Multiple Sclerosis  Multiple Sclerosis  \n",
      "30538           Hepatitis B         Hepatitis B  \n"
     ]
    }
   ],
   "source": [
    "## Investigate difference between predicates_raw and predicates_aggregate\n",
    "predicate_aggregate_sample = base_dataset[['raw_drug_name','predicate_aggregate','indication_raw_string','umls_phen_PT']].loc[base_dataset['predicate_aggregate']=='inhibits']\n",
    "print(predicate_aggregate_sample.head(n=2))\n",
    "\n",
    "predicate_raw_sample = base_dataset[['raw_drug_name','predicate_raw','predicate_aggregate','indication_raw_string','umls_phen_PT']].loc[base_dataset['predicate_raw']=='therapeutic']\n",
    "print(predicate_raw_sample.head(n=5))"
   ]
  },
  {
   "cell_type": "markdown",
   "metadata": {},
   "source": [
    "## Import results to Wikidata based on predicate type\n",
    "1. Set aside DID entries derived from CTD as the mapping of therapeutics is not clear\n",
    "2. Map remaining predicates to Wikidata properties in preparation for conversion and import"
   ]
  },
  {
   "cell_type": "code",
   "execution_count": 20,
   "metadata": {},
   "outputs": [
    {
     "name": "stdout",
     "output_type": "stream",
     "text": [
      "        predicate_raw  counts\n",
      "42          may_treat    1574\n",
      "19               anti    1446\n",
      "82          treatment      99\n",
      "41  may_prevent&treat      74\n",
      "21             causes      67\n",
      "40        may_prevent      65\n",
      "30               hypo      26\n",
      "29                for      24\n",
      "63          relaxants      21\n",
      "80              tonic      20\n",
      "33              lytic      19\n",
      "38         management      18\n",
      "16            against      17\n",
      "32          inhibitor      17\n",
      "24               cide      15\n"
     ]
    }
   ],
   "source": [
    "predicates_no_ctd = base_dataset.loc[base_dataset['source_name']!='CTD']\n",
    "pred_freq_no_ctd = predicates_no_ctd.groupby('predicate_raw').size().reset_index(name='counts')\n",
    "pred_freq_no_ctd.sort_values('counts',ascending=False,inplace=True)\n",
    "print(pred_freq_no_ctd.head(n=15))"
   ]
  },
  {
   "cell_type": "code",
   "execution_count": 16,
   "metadata": {},
   "outputs": [],
   "source": [
    "## Spot check to see coverage of information 'may treats' data loaded to Wikidata\n",
    "may_treats = base_dataset.loc[(base_dataset['predicate_raw']=='may_treat')|(base_dataset['predicate_raw']=='may_prevent&treat')|(base_dataset['predicate_raw']=='treatment')]\n",
    "may_prevent = base_dataset.loc[(base_dataset['predicate_raw']=='may_prevent')|(base_dataset['predicate_raw']=='may_prevent&treat')]\n",
    "causes = base_dataset.loc[base_dataset['predicate_raw']=='causes']\n",
    "may_treats.to_csv('results/may_treat.tsv',sep='\\t',header=True)\n",
    "may_prevent.to_csv('results/may_prevent.tsv',sep='\\t',header=True)\n",
    "causes.to_csv('results/cause.tsv',sep='\\t',header=True)\n",
    "print(may_treats.head(n=10))\n",
    "\n",
    "## Aluminum Hydroxied == no may_treats property, but has property 'has role' antacid\n",
    "## Sodium bicarbonate == has 'medical treatments property' for GRD, cardiac arrest and dyspepsia, not for hyperkalemia, or drug overdose\n",
    "## calcium acetate == has 'medical treatments property' for ckd, osteoporosis, hyperphosphatemia but not for hypocalcemia"
   ]
  },
  {
   "cell_type": "code",
   "execution_count": null,
   "metadata": {},
   "outputs": [],
   "source": [
    "## Note that many 'subject has role' statements have already been imported into Wikidata,\n",
    "## However, there doesn't appear to be any links from the antiagent to it's actual disease effect\n",
    "## this can be imported from DID\n",
    "\n",
    "#print(predicates_no_ctd.loc[predicates_no_ctd['predicate_raw']=='hypo'].head(n=26))\n",
    "## All hypo predicates refer to hypoglycemic (anti-diabetic agents, treat like anti)\n",
    "\n",
    "#print(predicates_no_ctd.loc[predicates_no_ctd['predicate_raw']=='for'].head(n=24))\n",
    "## for predicates use with therapeutic area?\n",
    "\n",
    "#print(predicates_no_ctd.loc[predicates_no_ctd['predicate_raw']=='relaxants'].head(n=21))\n",
    "## subject has role central muscle relaxant (note that these don't include nmj blockers)\n",
    "## use with therapeutic area\n",
    "\n",
    "#print(predicates_no_ctd.loc[predicates_no_ctd['predicate_raw']=='lytic'].head(n=20))\n",
    "## subject has role keratolytic\n",
    "## use with therapeutic area\n",
    "\n",
    "#print(predicates_no_ctd.loc[predicates_no_ctd['predicate_raw']=='management'].head(n=20))\n",
    "## use with therapeutic area\n",
    "\n",
    "print(predicates_no_ctd.loc[predicates_no_ctd['predicate_raw']=='treatment'].head(n=20))"
   ]
  },
  {
   "cell_type": "code",
   "execution_count": 197,
   "metadata": {},
   "outputs": [
    {
     "name": "stdout",
     "output_type": "stream",
     "text": [
      "            raw_drug_name source_name drug_UMLS_CUI drug_ChEBI_ID  \\\n",
      "1338    indole-3-carbinol     MeSH_PA      C0063491         24814   \n",
      "1525  abiraterone acetate       ChEBI      C2607886         68639   \n",
      "\n",
      "        drug_cas# predicate_raw predicate_aggregate predicate_string  \\\n",
      "1338     700-06-1          anti                 NaN              NaN   \n",
      "1525  154229-18-2          anti                 NaN              NaN   \n",
      "\n",
      "      indication_raw_string umls_phen_cui         umls_phen_PT drug_cas_wdid  \\\n",
      "1338  Antineoplastic Agents      C0006826  Malignant Neoplasms      Q1770257   \n",
      "1525   antineoplastic agent      C0006826  Malignant Neoplasms     Q27888393   \n",
      "\n",
      "     drug_chebi_wdid drug_cui_wdid phen_cui_wdid  \n",
      "1338        Q1770257      Q1770257        Q12078  \n",
      "1525       Q27888393     Q27888393        Q12078  \n",
      "['Antineoplastic Agents', 'antineoplastic agent', 'antihypertensive agent', 'antineoplastic', 'Anti-Inflammatory Agents', 'SKIN & MUCUOUS MEMBRANE AGENTS; ANTIPRURITICS', 'non-steroidal anti-inflammatory drug', 'ANTIPARKINSONIAN AGENTS; DOPAMINERGIC AGENTS', 'anti-anginal', 'antiglaucoma drug', 'antidepressant', 'anti-asthmatic drug', 'GASTROINTESTINAL AGENTS; ANTI-INFLAMMATORY AGENTS', 'ANTIPARKINSONIAN AGENTS; ANTICHOLINERGIC AGENTS', 'antiparkinsonian', 'antiparkinson drug', 'antihypertensive (beta-blocker)', 'Anti-Arrhythmia Agents', 'Antihypertensive Agents', 'antifungal agent', 'antifungal', 'PSYCHOTHERAPEUTIC AGENTS; ANTIANXIETY AGENTS; BENZODIAZEPINES & COMBINATIONS', 'PSYCHOTHERAPEUTIC AGENTS; ANTIDEPRESSANTS; SELECTIVE SEROTONIN REUPTAKE INHIBITORS (SSRI)', 'antidepressant (selective serotonin reuptake inhibitor)', 'antipruritic drug', 'anti-inflammatory', 'Anti-Asthmatic Agents', 'Indications and Usage Dexamethasone Sodium Phosphate Injection is indicated as a rapid adrenal glucocorticoid and/or anti-inflammatory agent in horses,', 'ANALGESICS; NONSTEROIDAL ANTI-INFLAMMATORY DRUGS (NSAIDS)', 'OPHTHALMIC PREPARATIONS; ANTI-INFLAMMATORY AGENTS; NONSTEROIDAL ANTI-INFLAMMATORY DRUGS (NSAIDS)', 'antispasmodic drug', 'antihypertensive', 'ANTI-INFECTIVE AGENTS, SYSTEMIC; ANTIPROTOZOAL AGENTS', 'ANTIARRHYTHMICS', 'antipyretic', 'Antipsychotic Agents', 'RESPIRATORY AGENTS; ANTI-INFLAMMATORY AGENTS; STEROIDAL ANTI-INFLAMMATORY AGENTS & COMBINATIONS', 'ANTINEOPLASTICS ; HORMONAL AGONISTS/ANTAGONISTS; GONADOTROPIN RELEASING HORMONE (GNRH) ANALOGUES', 'RESPIRATORY AGENTS; ANTITUSSIVES; NARCOTIC ANTITUSSIVES & COMBINATIONS', 'antitussive', 'ANTINEOPLASTICS ; MISCELLANEOUS ANTINEOPLASTICS', 'Anti-Inflammatory Agents, Non-Steroidal', 'Antidepressive Agents', 'OPHTHALMIC PREPARATIONS; ANTI-INFLAMMATORY AGENTS; STEROIDAL ANTI-INFLAMMATORY AGENTS & COMBINATIONS', 'ANTINEOPLASTICS ; ALKYLATING AGENTS; NITROGEN MUSTARDS', 'Antineoplastic Agents, Hormonal', 'ANTINEOPLASTICS ; STEROIDS & COMBINATIONS', 'antitrichomonal drug', 'Antineoplastic Agents, Alkylating', 'URINARY TRACT AGENTS; ANTISPASMODICS', 'antiprotozoal drug', 'PSYCHOTHERAPEUTIC AGENTS; ANTIDEPRESSANTS; TRICYCLIC ANTIDEPRESSANTS & COMBINATIONS', 'PSYCHOTHERAPEUTIC AGENTS; ANTIPSYCHOTIC AGENTS; MISCELLANEOUS ANTIPSYCHOTIC AGENTS', 'ANTIDIABETIC AGENTS; THIAZOLIDINEDIONES & COMBINATIONS', 'antidiabetic', 'Antifungal Agents', 'ANTIPARKINSONIAN AGENTS; MONOAMINE OXIDASE INHIBITORS (MAOI)', 'PSYCHOTHERAPEUTIC AGENTS; ANTIANXIETY AGENTS; MISCELLANEOUS ANTIANXIETY AGENTS', 'NASAL PREPARATIONS; ANTI-INFLAMMATORY AGENTS; STEROIDAL ANTI-INFLAMMATORY AGENTS', 'PSYCHOTHERAPEUTIC AGENTS; ANTIDEPRESSANTS; MISCELLANEOUS ANTIDEPRESSANTS', 'Anti-HIV Agents', 'Antipyretics', 'Anthelmintics', 'Antiplatyhelmintic Agents', 'Antiprotozoal Agents', 'ANTI-INFECTIVE AGENTS, SYSTEMIC; ANTHELMINTICS', 'anthelmintic', \"antineoplastic used in the treatment of AIDS-related Kaposi's sarcoma and in the treatment of acute promyelocytic leukemia\", 'Anti-Anxiety Agents', 'Anti-Dyskinesia Agents', 'Antiparkinson Agents', 'Antidepressive Agents, Tricyclic', 'antimalarial', 'Antimalarials', 'Antidepressive Agents, Second-Generation', 'ANTINEOPLASTICS ; HORMONAL AGONISTS/ANTAGONISTS; ANTIESTROGENS', 'antifungal used in the treatment of infections caused by Candida (all species), Aspergillus, and Pneumocystis', 'antipsoriatic', 'ANTINEOPLASTICS ; ADJUNCT ANTINEOPLASTIC THERAPY', 'Anticholesteremic Agents', 'antineoplastic, inhibitor of VEGF/PDGF tyrosine kinases', 'Antimetabolites, Antineoplastic', 'antipsychotic agent', 'anti-asthmatic agent', 'antineoplastic (Src kinase inhibitor)', 'ANTINEOPLASTICS ; ALKYLATING AGENTS; MISCELLANEOUS ALKYLATING AGENTS', 'Antitussive Agents', 'ANTINEOPLASTICS ; ANTIMETABOLITES', 'Antipruritics', 'Anti-Infective Agents, Urinary', 'ANTINEOPLASTICS ; ANTIBIOTICS', 'ANTIPARKINSONIAN AGENTS; CATECHOL-O-METHYLTRANSFERASE INHIBITORS', 'Antineoplastic Agents, Phytogenic', 'SKIN & MUCUOUS MEMBRANE AGENTS; ANTINEOPLASTICS', 'ANTINEOPLASTICS ; HORMONAL AGONISTS/ANTAGONISTS; ANTIANDROGENS', 'ANTI-INFECTIVE AGENTS, SYSTEMIC; ANTIFUNGALS', 'Antisickling Agents', 'antihypertensive (angiotensin II receptor antagonist)', 'antineoplastic (blocks PDGF receptor function, inhibiting the growth and survival of human tumor cells when administered intravenously)', 'antithyroid drug', 'Antithyroid Agents', 'pharmaceutic aid (antifungal agent)', 'antihypertensive (beta-blocker, ophthalmic)', 'anti-HIV agent', 'ANTIDIABETIC AGENTS; MEGLITINIDES', 'antidiabetic used in the treatment of type II diabetes mellitus', 'anti-inflammatory agent', 'Anti-Obesity Agents', 'ANTI-INFECTIVE AGENTS, SYSTEMIC; ANTIMALARIAL AGENTS', 'antidiabetic (oral hypoglycemic agent)', 'PSYCHOTHERAPEUTIC AGENTS; ANTIPSYCHOTIC AGENTS; PHENOTHIAZINES & COMBINATIONS', 'Antitrichomonal Agents', 'antiprotozoal', 'Uses Antibacterial hand soap', 'antineoplastic, histone deacetylase inhibitor', 'ANTHELMINTICS', 'ANTIDEPRESSANTS', 'Antidotes', 'ANTIHYPERTENSIVES', 'ANTIMALARIALS', 'ANTIMYCOBACTERIALS', 'ANTIPROTOZOALS', 'ANTIPSORIATICS', 'ANTIPSYCHOTICS', 'OTHER ANALGESICS AND ANTIPYRETICS', 'ANTITHROMBOTIC AGENTS']\n"
     ]
    }
   ],
   "source": [
    "### Best way to Model anti's? The antis are more generic in terms of therapeutic areas\n",
    "### Subject has role(P2686) in Antibiotic | Antineoplastic\n",
    "### Antineoplastic therapeutic area P4044 Malignant Neoplasms\n",
    "\n",
    "#antitypes = predicates_no_ctd['indication_raw_string'].loc[predicates_no_ctd['predicate_raw']=='anti'].unique().tolist()\n",
    "#print(len(antitypes))\n",
    "print(predicates_no_ctd.loc[predicates_no_ctd['predicate_raw']=='anti'].head(n=2))\n",
    "print(antitypes)\n",
    "\n"
   ]
  },
  {
   "cell_type": "code",
   "execution_count": null,
   "metadata": {},
   "outputs": [],
   "source": []
  }
 ],
 "metadata": {
  "kernelspec": {
   "display_name": "Python 3",
   "language": "python",
   "name": "python3"
  },
  "language_info": {
   "codemirror_mode": {
    "name": "ipython",
    "version": 3
   },
   "file_extension": ".py",
   "mimetype": "text/x-python",
   "name": "python",
   "nbconvert_exporter": "python",
   "pygments_lexer": "ipython3",
   "version": "3.6.2"
  }
 },
 "nbformat": 4,
 "nbformat_minor": 2
}
